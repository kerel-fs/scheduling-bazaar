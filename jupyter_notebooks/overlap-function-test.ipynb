{
 "cells": [
  {
   "cell_type": "code",
   "execution_count": 1,
   "metadata": {
    "collapsed": false
   },
   "outputs": [
   ],
   "source": [
    "# To begin finding overlaps between passes for a single gs"
   ]
  },
  {
   "cell_type": "code",
   "execution_count": 4,
   "metadata": {
    "collapsed": false
   },
   "outputs": [
   ],
   "source": [
    "import pickle"
   ]
  },
  {
   "cell_type": "code",
   "execution_count": 5,
   "metadata": {
    "collapsed": false
   },
   "outputs": [
   ],
   "source": [
    "passes_all = pickle.load(open('passes.pkl', 'rb'))"
   ]
  },
  {
   "cell_type": "code",
   "execution_count": 16,
   "metadata": {
    "collapsed": false,
    "scrolled": true
   },
   "outputs": [
    {
     "data": {
      "text/plain": [
       "True"
      ]
     },
     "execution_count": 16,
     "metadata": {
     },
     "output_type": "execute_result"
    }
   ],
   "source": [
    "any(t1 == 'FACT' for (t1, t2) in passes_all)"
   ]
  },
  {
   "cell_type": "code",
   "execution_count": 24,
   "metadata": {
    "collapsed": false
   },
   "outputs": [
    {
     "ename": "SyntaxError",
     "evalue": "unexpected EOF while parsing (<ipython-input-24-9bbced103fc1>, line 4)",
     "output_type": "error",
     "traceback": [
      "\u001b[0;36m  File \u001b[0;32m\"<ipython-input-24-9bbced103fc1>\"\u001b[0;36m, line \u001b[0;32m4\u001b[0m\n\u001b[0;31m    # print(t1, t2)\u001b[0m\n\u001b[0m                   ^\u001b[0m\n\u001b[0;31mSyntaxError\u001b[0m\u001b[0;31m:\u001b[0m unexpected EOF while parsing\n"
     ]
    }
   ],
   "source": [
    "# Prints out all key tuples for gs FACT\n",
    "for (t1, t2) in passes_all:\n",
    "    if t1 == 'FACT':\n",
    "        # print(t1, t2)"
   ]
  },
  {
   "cell_type": "code",
   "execution_count": 11,
   "metadata": {
    "collapsed": false,
    "scrolled": true
   },
   "outputs": [
    {
     "name": "stdout",
     "output_type": "stream",
     "text": [
      "2265004\n"
     ]
    }
   ],
   "source": [
    "N = 0\n",
    "for key, value in passes_all.items():\n",
    "    N += len(value)\n",
    "print(N)"
   ]
  },
  {
   "cell_type": "code",
   "execution_count": 18,
   "metadata": {
    "collapsed": false
   },
   "outputs": [
   ],
   "source": [
    "import intervaltree as iv\n",
    "import datetime"
   ]
  },
  {
   "cell_type": "code",
   "execution_count": 2,
   "metadata": {
    "collapsed": false
   },
   "outputs": [
    {
     "data": {
      "text/plain": [
       "['',\n",
       " '/usr/lib/python3.4',\n",
       " '/usr/lib/python3.4/plat-x86_64-linux-gnu',\n",
       " '/usr/lib/python3.4/lib-dynload',\n",
       " '/projects/a13662ff-609e-48ad-aa2f-2600aad545c8/.local/lib/python3.4/site-packages',\n",
       " '/usr/local/lib/python3.4/dist-packages',\n",
       " '/usr/lib/python3/dist-packages',\n",
       " '/usr/local/lib/python3.4/dist-packages/IPython/extensions',\n",
       " '/projects/a13662ff-609e-48ad-aa2f-2600aad545c8/.ipython']"
      ]
     },
     "execution_count": 2,
     "metadata": {
     },
     "output_type": "execute_result"
    }
   ],
   "source": [
    "import sys\n",
    "sys.path"
   ]
  },
  {
   "cell_type": "code",
   "execution_count": 29,
   "metadata": {
    "collapsed": false
   },
   "outputs": [
    {
     "name": "stdout",
     "output_type": "stream",
     "text": [
      "[Interval(0, 12, 'foo'), Interval(6, 18, 'fooagain')]\n",
      "{Interval(6, 18, 'fooagain'), Interval(0, 12, 'foo')}\n"
     ]
    }
   ],
   "source": [
    "begin = 0\n",
    "#datetime.datetime(2017, 6, 29, 0, 0, 0)\n",
    "end = 12\n",
    "#datetime.datetime(2017, 6, 29, 12, 0, 0)\n",
    "data = 'foo'\n",
    "\n",
    "beginagain = 6\n",
    "#datetime.datetime(2017, 6, 29, 6, 0, 0)\n",
    "endagain = 18\n",
    "#datetime.datetime(2017, 6, 29, 18, 0, 0)\n",
    "dataagain = 'fooagain'\n",
    "\n",
    "tree = iv.IntervalTree()\n",
    "tree.addi(begin, end, data)\n",
    "tree.addi(beginagain, endagain, dataagain)\n",
    "\n",
    "print(sorted(tree[8]))\n",
    "print(tree.search(5,10))"
   ]
  },
  {
   "cell_type": "code",
   "execution_count": 0,
   "metadata": {
    "collapsed": false
   },
   "outputs": [
   ],
   "source": [
   ]
  }
 ],
 "metadata": {
  "kernelspec": {
   "display_name": "Python 3 (Ubuntu Linux)",
   "language": "python",
   "name": "python3"
  },
  "language_info": {
   "codemirror_mode": {
    "name": "ipython",
    "version": 3
   },
   "file_extension": ".py",
   "mimetype": "text/x-python",
   "name": "python",
   "nbconvert_exporter": "python",
   "pygments_lexer": "ipython3",
   "version": "3.4.3+"
  }
 },
 "nbformat": 4,
 "nbformat_minor": 0
}