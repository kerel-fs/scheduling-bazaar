{
 "cells": [
  {
   "cell_type": "code",
   "execution_count": 0,
   "metadata": {
    "collapsed": false
   },
   "outputs": [
   ],
   "source": [
   ]
  },
  {
   "cell_type": "code",
   "execution_count": 3,
   "metadata": {
    "collapsed": false
   },
   "outputs": [
   ],
   "source": [
    "import pickle\n",
    "from datetime import datetime, timedelta, timezone\n",
    "import matplotlib.pyplot as plt\n",
    "import matplotlib.dates as mdates\n",
    "\n",
    "import sys\n",
    "\n",
    "#adds folder to the search path for 'import'\n",
    "sys.path.append('../python-files')\n",
    "sys.path.append('../broker')  #this is where client.py lives\n",
    "\n",
    "import client\n",
    "\n"
   ]
  },
  {
   "cell_type": "code",
   "execution_count": 4,
   "metadata": {
    "collapsed": false
   },
   "outputs": [
    {
     "ename": "AttributeError",
     "evalue": "Can't get attribute 'Utc' on <module 'iso8601.iso8601' from '/home/user/.local/lib/python3.5/site-packages/iso8601/iso8601.py'>",
     "output_type": "error",
     "traceback": [
      "\u001b[0;31m---------------------------------------------------------------------------\u001b[0m",
      "\u001b[0;31mAttributeError\u001b[0m                            Traceback (most recent call last)",
      "\u001b[0;32m<ipython-input-4-0714b0cd6fa7>\u001b[0m in \u001b[0;36m<module>\u001b[0;34m()\u001b[0m\n\u001b[0;32m----> 1\u001b[0;31m \u001b[0mresults\u001b[0m \u001b[0;34m=\u001b[0m \u001b[0mpickle\u001b[0m\u001b[0;34m.\u001b[0m\u001b[0mload\u001b[0m\u001b[0;34m(\u001b[0m\u001b[0mopen\u001b[0m\u001b[0;34m(\u001b[0m\u001b[0;34m'results.pkl'\u001b[0m\u001b[0;34m,\u001b[0m \u001b[0;34m'rb'\u001b[0m\u001b[0;34m)\u001b[0m\u001b[0;34m)\u001b[0m\u001b[0;34m\u001b[0m\u001b[0m\n\u001b[0m",
      "\u001b[0;31mAttributeError\u001b[0m: Can't get attribute 'Utc' on <module 'iso8601.iso8601' from '/home/user/.local/lib/python3.5/site-packages/iso8601/iso8601.py'>"
     ]
    }
   ],
   "source": [
    "results = pickle.load(open('results.pkl', 'rb'))"
   ]
  },
  {
   "cell_type": "code",
   "execution_count": 0,
   "metadata": {
    "collapsed": false,
    "scrolled": true
   },
   "outputs": [
   ],
   "source": [
    "ap = results['Apomahon']\n",
    "print(ap.name)\n",
    "print(ap.lat)\n",
    "print(ap.lon)\n",
    "print(ap.alt)\n",
    "#print(ap.calendar)\n",
    "print(ap.busy_time())"
   ]
  },
  {
   "cell_type": "code",
   "execution_count": 0,
   "metadata": {
    "collapsed": false
   },
   "outputs": [
   ],
   "source": [
    "vu = results['Valparaiso University']\n",
    "print(vu.name)\n",
    "print(vu.busy_time())"
   ]
  },
  {
   "cell_type": "code",
   "execution_count": 0,
   "metadata": {
    "collapsed": false
   },
   "outputs": [
   ],
   "source": [
    "def passlines(ax, y, xstart, xstop, color='b'):\n",
    "    ax.hlines(y, xstart, xstop, color, lw=4)\n",
    "    #plt.vlines(xstart, y+0.03, y-0.03, color, lw=2)\n",
    "    #plt.vlines(xstop, y+0.03, y-0.03, color, lw=2)"
   ]
  },
  {
   "cell_type": "code",
   "execution_count": 0,
   "metadata": {
    "collapsed": false
   },
   "outputs": [
   ],
   "source": [
    "x = vu.calendar_begin()\n",
    "z = vu.calendar_end()"
   ]
  },
  {
   "cell_type": "code",
   "execution_count": 0,
   "metadata": {
    "collapsed": false
   },
   "outputs": [
   ],
   "source": [
    "results['Apomahon'].busy_time()"
   ]
  },
  {
   "cell_type": "code",
   "execution_count": 0,
   "metadata": {
    "collapsed": false
   },
   "outputs": [
   ],
   "source": [
    "starters = []\n",
    "enders = []\n",
    "sats = []\n",
    "for p in sorted(vu.calendar.search(x, x + timedelta(hours=4))):\n",
    "    starters.append(p.begin)\n",
    "    enders.append(p.end)\n",
    "    sats.append(p.data['job']['tle0'])"
   ]
  },
  {
   "cell_type": "code",
   "execution_count": 0,
   "metadata": {
    "collapsed": false
   },
   "outputs": [
   ],
   "source": [
    "from datetime import timedelta\n",
    "oneday = timedelta(days=1)"
   ]
  },
  {
   "cell_type": "code",
   "execution_count": 0,
   "metadata": {
    "collapsed": false
   },
   "outputs": [
   ],
   "source": [
    "import numpy as np\n",
    "\n",
    "plt.close('all')\n",
    "fig = plt.figure(figsize=(10, 4))\n",
    "\n",
    "ax = plt.gca()\n",
    "ax.xaxis_date()\n",
    "ax.set_ylim(0.8,2)\n",
    "#plt.xlim(x,z)\n",
    "#plt.xlim(x,x+oneday)\n",
    "\n",
    "\n",
    "#plt.xlim(x, x + timedelta(hours=4))\n",
    "\n",
    "\n",
    "ax.hlines(np.ones_like(starters), starters, enders, lw=4)\n",
    "ax.vlines(starters, 1+0.03, 1-0.03, 'r', lw=2)\n",
    "ax.vlines(enders, 1+0.03, 1-0.03, 'r', lw=2)\n",
    "for sat, start, end in zip(sats, starters, enders):\n",
    "    midpoint = start + (end-start)/2\n",
    "    ax.text(midpoint, 1.1, sat, rotation=90, ha='center', va='bottom')\n",
    "\n",
    "ax.xaxis.set_major_locator(mdates.HourLocator())\n",
    "ax.xaxis.set_major_formatter(mdates.DateFormatter('%Y-%m-%d %H:%M'))\n",
    "\n",
    "ax.xaxis.set_minor_locator(mdates.MinuteLocator(byminute=range(0, 60, 10)))\n",
    "#ax.xaxis.set_minor_formatter(mdates.DateFormatter('%H:%M'))\n",
    "ax.format_xdata = mdates.DateFormatter('%H:%M')\n",
    "\n",
    "#turn off y numbers\n",
    "ax.set_yticks([])\n",
    "fig.autofmt_xdate() #rotates date labels\n",
    "\n",
    "ax.set_title('Valparaiso University jobs')\n",
    "plt.show()\n"
   ]
  },
  {
   "cell_type": "code",
   "execution_count": 0,
   "metadata": {
    "collapsed": false,
    "scrolled": true
   },
   "outputs": [
   ],
   "source": [
    "def std_calendar_plt(client,hours):\n",
    "    starters = []\n",
    "    enders = []\n",
    "    sats = []\n",
    "    for p in sorted(client.calendar.search(x, x + timedelta(hours=HOURS))):\n",
    "        starters.append(p.begin)\n",
    "        enders.append(p.end)\n",
    "        sats.append(p.data['job']['tle0'])\n",
    "    plt.close('all')\n",
    "    fig = plt.figure(figsize=(25, 4))\n",
    "\n",
    "    ax = plt.gca()\n",
    "    ax.xaxis_date()\n",
    "    ax.set_ylim(0.8,2)\n",
    "\n",
    "    ax.hlines(np.ones_like(starters), starters, enders, lw=4)\n",
    "    ax.vlines(starters, 1+0.03, 1-0.03, 'r', lw=2)\n",
    "    ax.vlines(enders, 1+0.03, 1-0.03, 'r', lw=2)\n",
    "    for sat, start, end in zip(sats, starters, enders):\n",
    "        midpoint = start + (end-start)/2\n",
    "        ax.text(midpoint, 1.1, sat, rotation=90, ha='center', va='bottom')\n",
    "\n",
    "    ax.xaxis.set_major_locator(mdates.HourLocator())\n",
    "    ax.xaxis.set_major_formatter(mdates.DateFormatter('%Y-%m-%d %H:%M'))\n",
    "\n",
    "    ax.xaxis.set_minor_locator(mdates.MinuteLocator(byminute=range(0, 60, 10)))\n",
    "\n",
    "    ax.format_xdata = mdates.DateFormatter('%H:%M')\n",
    "\n",
    "    #turn off y numbers\n",
    "    ax.set_yticks([])\n",
    "    fig.autofmt_xdate() #rotates date labels\n",
    "\n",
    "    ax.set_title('%s Jobs' % (c))\n",
    "    plt.show()\n"
   ]
  },
  {
   "cell_type": "code",
   "execution_count": 0,
   "metadata": {
    "collapsed": false
   },
   "outputs": [
   ],
   "source": [
    "c = results['FACT']\n",
    "HOURS = 23\n",
    "std_calendar_plt(c,HOURS)"
   ]
  },
  {
   "cell_type": "code",
   "execution_count": 0,
   "metadata": {
    "collapsed": false
   },
   "outputs": [
   ],
   "source": [
    "HOURS = 23\n",
    "for c, value in results.items():\n",
    "    std_calendar_plt(results[value.name], HOURS)"
   ]
  }
 ],
 "metadata": {
  "kernelspec": {
   "display_name": "Python 3 (Ubuntu Linux)",
   "language": "python",
   "name": "python3"
  },
  "language_info": {
   "codemirror_mode": {
    "name": "ipython",
    "version": 3
   },
   "file_extension": ".py",
   "mimetype": "text/x-python",
   "name": "python",
   "nbconvert_exporter": "python",
   "pygments_lexer": "ipython3",
   "version": "3.5.2"
  }
 },
 "nbformat": 4,
 "nbformat_minor": 0
}