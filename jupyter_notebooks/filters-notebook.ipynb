{
 "cells": [
  {
   "cell_type": "code",
   "execution_count": 3,
   "metadata": {
    "collapsed": false
   },
   "outputs": [
   ],
   "source": [
    "# Notebook to use for testing filters and extract data relevant for going forward"
   ]
  },
  {
   "cell_type": "code",
   "execution_count": 33,
   "metadata": {
    "collapsed": false
   },
   "outputs": [
   ],
   "source": [
    "import schedulingbazaar\n",
    "\n",
    "import pickle\n",
    "import datetime\n",
    "import collections\n",
    "import intervaltree as iv\n",
    "\n",
    "from itertools import product"
   ]
  },
  {
   "cell_type": "code",
   "execution_count": 7,
   "metadata": {
    "collapsed": false
   },
   "outputs": [
   ],
   "source": [
    "passes = pickle.load(open('passes_new.pkl', 'rb'))"
   ]
  },
  {
   "cell_type": "code",
   "execution_count": 36,
   "metadata": {
    "collapsed": false
   },
   "outputs": [
   ],
   "source": [
    "# All sats for one gs filter\n",
    "def passes_per_gs(passes, gs):\n",
    "    \"\"\"Returns Interval Tree containing all pass intervals over specified ground station\n",
    "    \n",
    "    Arguments:\n",
    "    passes - initial dictionary of all passes for all gs/sat combos\n",
    "    gs - specific ground station name string\n",
    "    \"\"\"\n",
    "    passtree = iv.IntervalTree()\n",
    "    Names = collections.namedtuple('Names', ['gs','sat','pass_data'])\n",
    "    for (t1, t2), value in passes.items():\n",
    "        for satpass in value:\n",
    "            if t1 == gs:\n",
    "                begin = datetime.datetime.timestamp(satpass['start'])\n",
    "                end = datetime.datetime.timestamp(satpass['end'])\n",
    "                data = Names(gs, t2, satpass)\n",
    "                passtree.addi(begin, end, data)\n",
    "    return passtree"
   ]
  },
  {
   "cell_type": "code",
   "execution_count": 37,
   "metadata": {
    "collapsed": false
   },
   "outputs": [
   ],
   "source": [
    "fact = passes_per_gs(passes, 'FACT')"
   ]
  },
  {
   "cell_type": "code",
   "execution_count": 31,
   "metadata": {
    "collapsed": false
   },
   "outputs": [
    {
     "data": {
      "text/plain": [
       "1499789151.60831"
      ]
     },
     "execution_count": 31,
     "metadata": {
     },
     "output_type": "execute_result"
    }
   ],
   "source": [
    "datetime.datetime.timestamp(datetime.datetime.utcnow())"
   ]
  },
  {
   "cell_type": "code",
   "execution_count": 39,
   "metadata": {
    "collapsed": false
   },
   "outputs": [
    {
     "name": "stdout",
     "output_type": "stream",
     "text": [
      "126983\n"
     ]
    },
    {
     "data": {
      "text/plain": [
       "{Interval(1499788667.80871, 1499789193.545675, Names(gs='FACT', sat='GOMX 1', pass_data={'duration': 525.736965, 'set_az': 357.8121365022175, 'start': datetime.datetime(2017, 7, 11, 15, 57, 47, 808710), 'rise_az': 131.00698979056318, 'end': datetime.datetime(2017, 7, 11, 16, 6, 33, 545675)})),\n",
       " Interval(1499788917.918042, 1499789572.242653, Names(gs='FACT', sat='PCSAT (NO-44)', pass_data={'duration': 654.32461, 'set_az': 131.96989619937324, 'start': datetime.datetime(2017, 7, 11, 16, 1, 57, 918042), 'rise_az': 322.1499976379101, 'end': datetime.datetime(2017, 7, 11, 16, 12, 52, 242653)})),\n",
       " Interval(1499789040.572726, 1499789384.210776, Names(gs='FACT', sat='TISAT 1', pass_data={'duration': 343.63805, 'set_az': 261.42947931271334, 'start': datetime.datetime(2017, 7, 11, 16, 4, 0, 572726), 'rise_az': 345.9812106710016, 'end': datetime.datetime(2017, 7, 11, 16, 9, 44, 210776)})),\n",
       " Interval(1499789050.484437, 1499789451.925811, Names(gs='FACT', sat='SOMP', pass_data={'duration': 401.441374, 'set_az': 63.300690586060774, 'start': datetime.datetime(2017, 7, 11, 16, 4, 10, 484437), 'rise_az': 175.1748042094225, 'end': datetime.datetime(2017, 7, 11, 16, 10, 51, 925811)})),\n",
       " Interval(1499789091.259459, 1499789428.747639, Names(gs='FACT', sat='2015-049G', pass_data={'duration': 337.48818, 'set_az': 13.545007907207523, 'start': datetime.datetime(2017, 7, 11, 16, 4, 51, 259459), 'rise_az': 108.21652683225237, 'end': datetime.datetime(2017, 7, 11, 16, 10, 28, 747639)}))}"
      ]
     },
     "execution_count": 39,
     "metadata": {
     },
     "output_type": "execute_result"
    }
   ],
   "source": [
    "print(len(fact))\n",
    "fact.search(1499789151.60831)"
   ]
  },
  {
   "cell_type": "code",
   "execution_count": 40,
   "metadata": {
    "collapsed": false
   },
   "outputs": [
   ],
   "source": [
    "# All gs for one sat filter\n",
    "def passes_per_sat(passes, sat):\n",
    "    \"\"\"Returns Interval Tree containing all pass intervals for specified satellite\n",
    "    \n",
    "    Arguments:\n",
    "    passes - initial dictionary of all passes for all gs/sat combos\n",
    "    sat - specific satellite name string\n",
    "    \"\"\"\n",
    "    passtree = iv.IntervalTree()\n",
    "    Names = collections.namedtuple('Names', ['gs','sat','pass_data'])\n",
    "    for (t1, t2), value in passes.items():\n",
    "        for satpass in value:\n",
    "            if t2 == sat:\n",
    "                begin = datetime.datetime.timestamp(satpass['start'])\n",
    "                end = datetime.datetime.timestamp(satpass['end'])\n",
    "                data = Names(t1, sat, satpass)\n",
    "                passtree.addi(begin, end, data)\n",
    "    return passtree"
   ]
  },
  {
   "cell_type": "code",
   "execution_count": 43,
   "metadata": {
    "collapsed": false
   },
   "outputs": [
   ],
   "source": [
    "oscar = passes_per_sat(passes, 'OSCAR 7 (AO-7)')"
   ]
  },
  {
   "cell_type": "code",
   "execution_count": 45,
   "metadata": {
    "collapsed": false
   },
   "outputs": [
    {
     "name": "stdout",
     "output_type": "stream",
     "text": [
      "29592\n"
     ]
    },
    {
     "data": {
      "text/plain": [
       "set()"
      ]
     },
     "execution_count": 45,
     "metadata": {
     },
     "output_type": "execute_result"
    }
   ],
   "source": [
    "print(len(oscar))\n",
    "oscar.search(1499789151.60831)"
   ]
  },
  {
   "cell_type": "code",
   "execution_count": 46,
   "metadata": {
    "collapsed": false
   },
   "outputs": [
   ],
   "source": [
    "# Passes for one gs and one sat filter\n",
    "def passes_gs_sat(passes, gs, sat):\n",
    "    \"\"\"Returns Interval Tree containing all pass intervals for one gs/sat combo\n",
    "    \n",
    "    Arguments:\n",
    "    passes - initial dictionary of all passes for all gs/sat combos\n",
    "    gs - specific ground station name string\n",
    "    sat - specific satellite name string\n",
    "    \"\"\"\n",
    "    passtree = iv.IntervalTree()\n",
    "    Names = collections.namedtuple('Names', ['gs','sat','pass_data'])\n",
    "    for (t1, t2), value in passes.items():\n",
    "        for satpass in value:\n",
    "            if t1 == gs and t2 == sat:\n",
    "                begin = datetime.datetime.timestamp(satpass['start'])\n",
    "                end = datetime.datetime.timestamp(satpass['end'])\n",
    "                data = Names(gs, sat, satpass)\n",
    "                passtree.addi(begin, end, data)\n",
    "    return passtree"
   ]
  },
  {
   "cell_type": "code",
   "execution_count": 47,
   "metadata": {
    "collapsed": false
   },
   "outputs": [
   ],
   "source": [
    "both = passes_gs_sat(passes, 'FACT', 'OSCAR 7 (AO-7)')"
   ]
  },
  {
   "cell_type": "code",
   "execution_count": 48,
   "metadata": {
    "collapsed": false
   },
   "outputs": [
    {
     "name": "stdout",
     "output_type": "stream",
     "text": [
      "3102\n"
     ]
    },
    {
     "data": {
      "text/plain": [
       "set()"
      ]
     },
     "execution_count": 48,
     "metadata": {
     },
     "output_type": "execute_result"
    }
   ],
   "source": [
    "print(len(both))\n",
    "both.search(1499789151.60831)"
   ]
  }
 ],
 "metadata": {
  "kernelspec": {
   "display_name": "Python 3 (Ubuntu Linux)",
   "language": "python",
   "name": "python3"
  },
  "language_info": {
   "codemirror_mode": {
    "name": "ipython",
    "version": 3
   },
   "file_extension": ".py",
   "mimetype": "text/x-python",
   "name": "python",
   "nbconvert_exporter": "python",
   "pygments_lexer": "ipython3",
   "version": "3.4.3+"
  }
 },
 "nbformat": 4,
 "nbformat_minor": 0
}