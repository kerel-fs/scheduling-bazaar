{
 "cells": [
  {
   "cell_type": "code",
   "execution_count": 3,
   "metadata": {
    "collapsed": false
   },
   "outputs": [
   ],
   "source": [
    "# Notebook to use for testing filters and extract data relevant for going forward"
   ]
  },
  {
   "cell_type": "code",
   "execution_count": 6,
   "metadata": {
    "collapsed": false
   },
   "outputs": [
   ],
   "source": [
    "import schedulingbazaar\n",
    "\n",
    "import pickle\n",
    "import intervaltree as iv\n",
    "\n",
    "from itertools import product"
   ]
  },
  {
   "cell_type": "code",
   "execution_count": 7,
   "metadata": {
    "collapsed": false
   },
   "outputs": [
   ],
   "source": [
    "passes = pickle.load(open('passes_new.pkl', 'rb'))"
   ]
  },
  {
   "cell_type": "code",
   "execution_count": 0,
   "metadata": {
    "collapsed": false
   },
   "outputs": [
   ],
   "source": [
    "# All sats for one gs filter\n",
    "def passes_per_gs(passes, gs):\n",
    "    \"\"\"docstring\"\"\"\n",
    "    passtree = iv.IntervalTree()\n",
    "    for (t1, t2), value in passes.items():\n",
    "        for satpass in value:\n",
    "            if t1 == gs:\n",
    "                begin = \n",
    "                end = \n",
    "                data = \n",
    "                passtree.addi(begin, end, data)\n",
    "            \n",
    "            \n",
    "for key, value in passes_all.items():\n",
    "    for satpass in value:\n",
    "        begin = datetime.datetime.timestamp(datetime.datetime(satpass['start']))\n",
    "        end = satpass['end']\n",
    "        data = 'foo' #collections.namedtuple('Names',['gs','sat'])\n",
    "        passtree.addi(begin, end, data)"
   ]
  }
 ],
 "metadata": {
  "kernelspec": {
   "display_name": "Python 3 (Ubuntu Linux)",
   "language": "python",
   "name": "python3"
  },
  "language_info": {
   "codemirror_mode": {
    "name": "ipython",
    "version": 3
   },
   "file_extension": ".py",
   "mimetype": "text/x-python",
   "name": "python",
   "nbconvert_exporter": "python",
   "pygments_lexer": "ipython3",
   "version": "3.4.3+"
  }
 },
 "nbformat": 4,
 "nbformat_minor": 0
}