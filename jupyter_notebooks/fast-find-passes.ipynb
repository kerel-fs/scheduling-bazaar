{
 "cells": [
  {
   "cell_type": "code",
   "execution_count": 1,
   "metadata": {},
   "outputs": [],
   "source": [
    "%load_ext autoreload\n",
    "%autoreload 2"
   ]
  },
  {
   "cell_type": "code",
   "execution_count": 2,
   "metadata": {},
   "outputs": [
    {
     "name": "stdout",
     "output_type": "stream",
     "text": [
      "Populating the interactive namespace from numpy and matplotlib\n"
     ]
    }
   ],
   "source": [
    "%pylab inline\n",
    "tau = 2.0 * pi"
   ]
  },
  {
   "cell_type": "code",
   "execution_count": 3,
   "metadata": {},
   "outputs": [],
   "source": [
    "from datetime import timedelta\n",
    "\n",
    "from scipy.signal import argrelmax\n",
    "from scipy.optimize import minimize_scalar\n",
    "from scipy.optimize import brentq\n",
    "\n",
    "import ephem\n",
    "from iso8601 import parse_date\n",
    "\n",
    "def datestr(s):\n",
    "    return parse_date(s, default_timezone=None)\n",
    "\n",
    "tle = \"\"\"ISS\n",
    "1 25544U 98067A   18171.89181005  .00001612  00000-0  31509-4 0  9992\n",
    "2 25544  51.6423   0.2419 0002732 207.8583 302.1867 15.54203750119095\n",
    "\"\"\"\n",
    "\n",
    "line0, line1, line2 = tle.split('\\n')[:3]"
   ]
  },
  {
   "cell_type": "code",
   "execution_count": 4,
   "metadata": {},
   "outputs": [],
   "source": [
    "STEPS_PER_ORBIT = 6\n",
    "ORBIT_FRACTION = 1.0 / 4  # fwd/back to guarantee a rise/set event\n",
    "TOL = 0.01\n",
    "HORIZON = 0.0\n",
    "INTERVAL_SECONDS = 60*60*24*90"
   ]
  },
  {
   "cell_type": "code",
   "execution_count": 5,
   "metadata": {},
   "outputs": [],
   "source": [
    "sat = ephem.readtle(line0, line1, line2)\n",
    "\n",
    "gs = ephem.Observer()\n",
    "# vu = ['Valparaiso University', '41.4639', '-87.0439', 245.089]\n",
    "gs.name = 'Valparaisio University'\n",
    "gs.lon = '-87.0439'\n",
    "gs.lat = '41.4639'\n",
    "gs.elevation = 245.1\n",
    "gs.pressure = 0\n",
    "\n",
    "start = datestr('2018-06-20 00:00:00')"
   ]
  },
  {
   "cell_type": "code",
   "execution_count": 6,
   "metadata": {},
   "outputs": [],
   "source": [
    "def _sat_azel(dt):\n",
    "    \"\"\"time in seconds\"\"\"\n",
    "    gs.date = start + timedelta(seconds=dt)\n",
    "    sat.compute(gs)\n",
    "    sat_azel.calls += 1\n",
    "    return (sat.az*180.0/pi, sat.alt*180.0/pi)\n",
    "sat_azel = np.vectorize(_sat_azel, cache=True)\n",
    "sat_azel.calls = 0"
   ]
  },
  {
   "cell_type": "markdown",
   "metadata": {},
   "source": [
    "Compute sat position relative to GS with `STEPS_PER_ORBIT` number of time increments for 90 days."
   ]
  },
  {
   "cell_type": "code",
   "execution_count": 7,
   "metadata": {},
   "outputs": [
    {
     "name": "stdout",
     "output_type": "stream",
     "text": [
      "2.81 s ± 8 ms per loop (mean ± std. dev. of 7 runs, 1 loop each)\n"
     ]
    }
   ],
   "source": [
    "\n",
    "\n",
    "\n",
    "def find_passes(duration):\n",
    "    #instrument function calls\n",
    "    sat_azel.calls = 0\n",
    "\n",
    "    # orbital period in seconds\n",
    "    period = 24.0 * 60.0 * 60.0 / sat._n\n",
    "\n",
    "\n",
    "\n",
    "    # coarse steps to find the points near (enough) to elevation peaks\n",
    "    time_coarse = np.arange(0, INTERVAL_SECONDS, period/STEPS_PER_ORBIT)\n",
    "\n",
    "\n",
    "    el_coarse = np.fromiter((sat_azel(dt)[1] for dt in time_coarse), np.float, time_coarse.size)\n",
    "\n",
    "    peak_coarse_idx = argrelmax(el_coarse)[0]\n",
    "\n",
    "\n",
    "    # find all local elevation maxima\n",
    "    def fneg(dt):\n",
    "        return -sat_azel(dt)[1]\n",
    "\n",
    "    def truepeak(t, tol=0.1):\n",
    "        r = minimize_scalar(\n",
    "                fneg,\n",
    "                bracket=(t-period/STEPS_PER_ORBIT, t+period/STEPS_PER_ORBIT),\n",
    "                tol = tol/t)\n",
    "        return (r.x, -r.fun)\n",
    "\n",
    "    peak_true_times = np.zeros((len(peak_coarse_idx),))\n",
    "    peak_el = np.zeros((len(peak_coarse_idx),))\n",
    "\n",
    "    for i, dt in enumerate(time_coarse[peak_coarse_idx]):\n",
    "        t, el = truepeak(dt)\n",
    "        peak_true_times[i] = t\n",
    "        peak_el[i] = el\n",
    "\n",
    "    # select the visible passes\n",
    "    visible_idx = np.where(peak_el > HORIZON)[0]\n",
    "    visible_el = peak_el[visible_idx]\n",
    "    visible_tca = peak_true_times[visible_idx]\n",
    "\n",
    "    # find AOS events\n",
    "    def f(t):\n",
    "        return sat_azel(t)[1]\n",
    "\n",
    "    def find_aos(t):\n",
    "        a = (t - period*ORBIT_FRACTION)\n",
    "        b = t\n",
    "        return brentq(f, a, b, xtol=TOL)\n",
    "\n",
    "    def find_los(t):\n",
    "        a = t\n",
    "        b = (t + period*ORBIT_FRACTION)\n",
    "        return brentq(f, a, b, xtol=TOL)\n",
    "\n",
    "    visible_aos = np.fromiter((find_aos(t) for t in visible_tca), np.float, len(visible_tca))\n",
    "    visible_los = np.fromiter((find_los(t) for t in visible_tca), np.float, len(visible_tca))\n",
    "    return (visible_aos, visible_tca, visible_los, visible_el, peak_true_times, peak_el)\n",
    "\n",
    "(visible_aos, visible_tca, visible_los, visible_el, peak_true_times, peak_el) = find_passes(INTERVAL_SECONDS)\n",
    "\n",
    "%timeit find_passes(INTERVAL_SECONDS)"
   ]
  },
  {
   "cell_type": "code",
   "execution_count": 8,
   "metadata": {},
   "outputs": [
    {
     "name": "stdout",
     "output_type": "stream",
     "text": [
      "N passes: 618\n",
      "N calls: 38842\n",
      "Avg calls per found pass: 62.85113268608414\n"
     ]
    }
   ],
   "source": [
    "print('N passes:', len(visible_tca))\n",
    "print('N calls:', sat_azel.calls)\n",
    "print('Avg calls per found pass:', sat_azel.calls / len(visible_tca))"
   ]
  },
  {
   "cell_type": "code",
   "execution_count": 9,
   "metadata": {},
   "outputs": [
    {
     "data": {
      "text/plain": [
       "[<matplotlib.lines.Line2D at 0x7f9040b9e940>]"
      ]
     },
     "execution_count": 9,
     "metadata": {},
     "output_type": "execute_result"
    },
    {
     "data": {
      "image/png": "[encoded data removed]",
      "text/plain": [
       "<Figure size 432x288 with 1 Axes>"
      ]
     },
     "metadata": {},
     "output_type": "display_data"
    }
   ],
   "source": [
    "plot(peak_true_times, peak_el, '+')\n",
    "plot(visible_tca, visible_el, '+r')\n",
    "plot(visible_aos, np.zeros_like(visible_tca), '.r')\n",
    "plot(visible_los, np.zeros_like(visible_tca), '.r')"
   ]
  },
  {
   "cell_type": "markdown",
   "metadata": {},
   "source": [
    "# Find time to compute using pyephem.observer.next_pass()"
   ]
  },
  {
   "cell_type": "code",
   "execution_count": 10,
   "metadata": {},
   "outputs": [],
   "source": [
    "import sys\n",
    "sys.path.append('../python-files')\n",
    "\n",
    "import db"
   ]
  },
  {
   "cell_type": "code",
   "execution_count": 11,
   "metadata": {},
   "outputs": [
    {
     "name": "stdout",
     "output_type": "stream",
     "text": [
      "Valparaisio University <--> ISS\n",
      "Valparaisio University <--> ISS\n",
      "2.85 s ± 0 ns per loop (mean ± std. dev. of 1 run, 1 loop each)\n"
     ]
    }
   ],
   "source": [
    "\n",
    "observer = {\n",
    "    'name':gs.name,\n",
    "    'lat':gs.lat,\n",
    "    'lon':gs.lon,\n",
    "    'altitude':gs.elevation,\n",
    "    'min_horizon': 0.0\n",
    "}\n",
    "\n",
    "satellite = {\n",
    "    'name':line0,\n",
    "    'tle':[line0, line1, line2],\n",
    "}\n",
    "\n",
    "passes = db.compute_passes_ephem([observer, satellite, start, len(visible_tca), INTERVAL_SECONDS/60])\n",
    "%timeit -r1 -n1 passes = db.compute_passes_ephem([observer, satellite, start, len(visible_tca), INTERVAL_SECONDS/60])"
   ]
  },
  {
   "cell_type": "code",
   "execution_count": 12,
   "metadata": {},
   "outputs": [],
   "source": [
    "# number of calls from an instrumented pyephem for these conditions\n",
    "obj_cir_calls = 278228"
   ]
  },
  {
   "cell_type": "markdown",
   "metadata": {},
   "source": [
    "Speedup factor and percentage reduction."
   ]
  },
  {
   "cell_type": "code",
   "execution_count": 13,
   "metadata": {},
   "outputs": [
    {
     "data": {
      "text/plain": [
       "-86.03950716678408"
      ]
     },
     "execution_count": 13,
     "metadata": {},
     "output_type": "execute_result"
    }
   ],
   "source": [
    "100 * ((38842 / 278228) - 1)"
   ]
  },
  {
   "cell_type": "code",
   "execution_count": 14,
   "metadata": {},
   "outputs": [
    {
     "data": {
      "text/plain": [
       "7.163070902631173"
      ]
     },
     "execution_count": 14,
     "metadata": {},
     "output_type": "execute_result"
    }
   ],
   "source": [
    "1/(sat_azel.calls / 278228)"
   ]
  },
  {
   "cell_type": "code",
   "execution_count": 15,
   "metadata": {},
   "outputs": [
    {
     "data": {
      "text/plain": [
       "618"
      ]
     },
     "execution_count": 15,
     "metadata": {},
     "output_type": "execute_result"
    }
   ],
   "source": [
    "len(passes)"
   ]
  },
  {
   "cell_type": "code",
   "execution_count": 16,
   "metadata": {},
   "outputs": [],
   "source": [
    "def td(time):\n",
    "    return (time - start).total_seconds()"
   ]
  },
  {
   "cell_type": "code",
   "execution_count": 17,
   "metadata": {},
   "outputs": [
    {
     "data": {
      "image/png": "[encoded data removed]",
      "text/plain": [
       "<Figure size 1440x432 with 1 Axes>"
      ]
     },
     "metadata": {},
     "output_type": "display_data"
    }
   ],
   "source": [
    "\n",
    "figure(figsize=(20, 6))\n",
    "\n",
    "interactive(False)\n",
    "for p in passes:\n",
    "    aos = td(p.start)\n",
    "    tca = td(p.tca)\n",
    "    los = td(p.end)\n",
    "    el = p.max_el\n",
    "    plot(aos, 0.0, '+b')\n",
    "    plot(tca, el, '+b')\n",
    "    plot(los, 0.0, '+b')\n",
    "\n",
    "plot(visible_aos, np.zeros_like(visible_aos), 'xr')\n",
    "plot(visible_los, np.zeros_like(visible_aos), 'xr')\n",
    "plot(visible_tca, visible_el, 'xr')\n",
    "show()"
   ]
  },
  {
   "cell_type": "code",
   "execution_count": null,
   "metadata": {},
   "outputs": [],
   "source": []
  }
 ],
 "metadata": {
  "kernelspec": {
   "display_name": "Python 3",
   "language": "python",
   "name": "python3"
  },
  "language_info": {
   "codemirror_mode": {
    "name": "ipython",
    "version": 3
   },
   "file_extension": ".py",
   "mimetype": "text/x-python",
   "name": "python",
   "nbconvert_exporter": "python",
   "pygments_lexer": "ipython3",
   "version": "3.6.5"
  }
 },
 "nbformat": 4,
 "nbformat_minor": 2
}
