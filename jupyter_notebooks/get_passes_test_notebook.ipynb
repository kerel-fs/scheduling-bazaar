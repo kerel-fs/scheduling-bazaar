{
 "cells": [
  {
   "cell_type": "code",
   "execution_count": 135,
   "metadata": {
    "collapsed": false
   },
   "outputs": [
   ],
   "source": [
    "# Import necessary libraries\n",
    "import ephem\n",
    "import math\n",
    "from datetime import datetime\n",
    "#from time import strftime"
   ]
  },
  {
   "cell_type": "code",
   "execution_count": 143,
   "metadata": {
    "collapsed": false
   },
   "outputs": [
   ],
   "source": [
    "# get_passes() function definition\n",
    "# \n",
    "\n",
    "def get_passes(observer,tle,start_time,num_passes):\n",
    "\n",
    "    obs_name, obs_lat, obs_lon, obs_alt = observer\n",
    "    tle_line0, tle_line1, tle_line2 = tle\n",
    "    start = ephem.date(start_time)\n",
    "\n",
    "    # Set up location of observer\n",
    "    ground_station = ephem.Observer()\n",
    "    ground_station.name = obs_name\n",
    "    ground_station.lon = obs_lon                  # in degrees (+E)\n",
    "    ground_station.lat = obs_lat                  # in degrees (+N)\n",
    "    ground_station.elevation = obs_alt            # in meters\n",
    "    ground_station.date = start                   # in UTC (begin looking for next sat passes)\n",
    "\n",
    "    # Read in most recent satellite TLE data\n",
    "    sat = ephem.readtle(tle_line0, tle_line1,tle_line2)\n",
    "\n",
    "    # Find all passes during duration\n",
    "    i = 0\n",
    "    pass_data = {}\n",
    "    for i in range(num_passes):\n",
    "        sat.compute(ground_station)                              # compute all body attributes for sat\n",
    "        # next pass command yields array with [0]=rise time, [1]=rise azimuth, [2]=max alt time, [3]=max alt, [4]=set time, [5]=set azimuth\n",
    "        info = ground_station.next_pass(sat)\n",
    "        rise_time, rise_az, max_alt_time, max_alt, set_time, set_az = info\n",
    "        deg_per_rad = 180.0/math.pi                              # use to display azimuth in degrees\n",
    "        pass_duration = (set_time-rise_time)                     # (set time - rise time) --> fraction of a day\n",
    "\n",
    "        if set_time > rise_time:                                 # only update if the set time is greater than the rise time\n",
    "            ground_station.date = set_time                       # new observer date & time = previous set time\n",
    "\n",
    "        pass_data[i] = [rise_time, set_time, pass_duration, (rise_az*deg_per_rad), (set_az*deg_per_rad)]\n",
    "        #i = i + 1\n",
    "        ground_station.date = ground_station.date + ephem.minute # increase time by 1 min and look for next pass\n",
    "    return pass_data"
   ]
  },
  {
   "cell_type": "code",
   "execution_count": 144,
   "metadata": {
    "collapsed": false
   },
   "outputs": [
    {
     "name": "stdout",
     "output_type": "stream",
     "text": [
      "2017/5/30 12:00:00\n",
      "(2017, 5, 30, 12, 0, 0.0)\n",
      "2017/5/30 12:00:00\n",
      "42884.000000\n",
      "42884.041666666664\n",
      "2017/5/30 13:00:00\n"
     ]
    }
   ],
   "source": [
    "from datetime import date, datetime\n",
    "now = ephem.date('2017/5/30 12:00:00')\n",
    "print(ephem.date(now))\n",
    "print(now.tuple())\n",
    "print(now)\n",
    "print('%.6f' % now)\n",
    "print(now + ephem.hour)\n",
    "print(ephem.date(now + ephem.hour))"
   ]
  },
  {
   "cell_type": "code",
   "execution_count": 146,
   "metadata": {
    "collapsed": false
   },
   "outputs": [
    {
     "name": "stdout",
     "output_type": "stream",
     "text": [
      "[42884.434691182, 42884.43991920763, 0.005228025627729949, 169.3898798692318, 82.07670985969658]\n",
      "[42884.50003979661, 42884.5076599303, 0.007620133692398667, 224.0069548124835, 57.50470133941467]\n",
      "[42884.5673264383, 42884.57464997139, 0.00732353309285827, 265.9121597857494, 51.11262782352322]\n",
      "[42884.635205144965, 42884.64197067463, 0.00676552966615418, 296.4929111151341, 60.73552425080327]\n",
      "[42884.70261850134, 42884.709823333724, 0.007204832385468762, 308.6423969692394, 89.18613765354696]\n",
      "[42884.76961509613, 42884.77724968808, 0.007634591951500624, 304.12212313501163, 130.06104957165144]\n",
      "[42884.83714153454, 42884.84296395175, 0.005822417209856212, 282.9471979908948, 182.04994968455227]\n",
      "[42885.40006615611, 42885.402609394936, 0.0025432388283661567, 141.46799824032797, 101.89370460435568]\n",
      "[42885.46403380888, 42885.47138834576, 0.00735453687957488, 209.8578764373436, 62.207921790561265]\n",
      "[42885.53090961274, 42885.53843875804, 0.007529145303124096, 254.34143684115426, 51.54580183578001]\n",
      "[42885.598744455754, 42885.60559309455, 0.006848638797237072, 289.10873896192, 55.89650597857849]\n",
      "[42885.666350173495, 42885.67334304691, 0.006992873415583745, 307.0160196448327, 79.04153771708299]\n",
      "[42885.733401703015, 42885.74102798578, 0.007626282764249481, 306.9374178278642, 117.04261339095873]\n",
      "[42885.800608924, 42885.80741434049, 0.006805416487623006, 291.83351998789146, 164.53521363361853]\n",
      "[42886.42821978558, 42886.43501324355, 0.006793457971070893, 194.44675668850374, 68.62931730855958]\n",
      "[42886.494570947514, 42886.502230695725, 0.007659748211153783, 242.0061698416246, 53.2315061833175]\n",
      "[42886.56224794223, 42886.56926925032, 0.007021308090770617, 280.1674749232397, 52.796474359606464]\n",
      "[42886.630017238334, 42886.63685127267, 0.006834034335042816, 303.7631283922358, 70.21938534733854]\n",
      "[42886.697189198305, 42886.704683630574, 0.007494432269595563, 308.5312014895516, 104.72968794020419]\n",
      "[42886.76423687122, 42886.771584902, 0.007348030783759896, 298.1567451969492, 149.1595289061927]\n"
     ]
    }
   ],
   "source": [
    "vu = ['Valparaiso University', '41.4639', '-87.0439', 245.089]\n",
    "tle = ['ISS', '1 25544U 98067A   17144.56334412  .00016717  00000-0  10270-3 0  9002', '2 25544  51.6383 156.0737 0005162 190.1606 169.9443 15.53944016 18074']\n",
    "start_time = '2017/5/30 12:00:00'\n",
    "num_passes = 20\n",
    "\n",
    "pass_data = get_passes(vu,tle,start_time,num_passes)\n",
    "\n",
    "for i in range(num_passes):\n",
    "    print(pass_data[i])\n",
    "#print(pass_data)"
   ]
  },
  {
   "cell_type": "code",
   "execution_count": 0,
   "metadata": {
    "collapsed": false
   },
   "outputs": [
   ],
   "source": [
   ]
  }
 ],
 "metadata": {
  "kernelspec": {
   "display_name": "Python 3 (Anaconda)",
   "language": "python",
   "name": "anaconda3"
  },
  "language_info": {
   "codemirror_mode": {
    "name": "ipython",
    "version": 3
   },
   "file_extension": ".py",
   "mimetype": "text/x-python",
   "name": "python",
   "nbconvert_exporter": "python",
   "pygments_lexer": "ipython3",
   "version": "3.5.3"
  }
 },
 "nbformat": 4,
 "nbformat_minor": 0
}