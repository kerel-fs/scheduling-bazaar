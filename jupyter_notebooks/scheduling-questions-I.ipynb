{
 "cells": [
  {
   "cell_type": "code",
   "execution_count": 8,
   "metadata": {
    "collapsed": false
   },
   "outputs": [
   ],
   "source": [
    "# DO ANY PASSES OVERLAP"
   ]
  },
  {
   "cell_type": "code",
   "execution_count": 9,
   "metadata": {
    "collapsed": false,
    "scrolled": true
   },
   "outputs": [
   ],
   "source": [
    "# Import necessary libraries\n",
    "import ephem\n",
    "import math\n",
    "from datetime import timedelta\n",
    "\n",
    "\n",
    "# get_passes() function definition\n",
    "def new_get_passes(observer, tle, start_time, num_passes=None, duration=None):\n",
    "    \"\"\"Config obs and sat, Return pass data for all passes in given interval.\n",
    "\n",
    "    Arguments:\n",
    "    observer -- 4 element list containing desired [name,lat,lon,alt]\n",
    "    tle -- 3 element list containing desired tle [line0,line1,line2]\n",
    "    start_time -- ephem.date string formatted 'yyyy/mm/dd hr:min:sec'\n",
    "    num_passes -- integer number of desired passes (defualt None)\n",
    "    duration -- float number of hours or fraction of hours (default None)\n",
    "\n",
    "    Specify either num_passes or duration.\n",
    "    If both, use min(num_passes, duration).\n",
    "    If neither, find passes for next 24 hours.\n",
    "    \"\"\"\n",
    "\n",
    "    obs_name, obs_lat, obs_lon, obs_alt = observer\n",
    "    tle_line0, tle_line1, tle_line2 = tle\n",
    "\n",
    "    # Set up location of observer\n",
    "    ground_station = ephem.Observer()\n",
    "    ground_station.name = obs_name                # name string\n",
    "    ground_station.lon = obs_lon                  # in degrees (+E)\n",
    "    ground_station.lat = obs_lat                  # in degrees (+N)\n",
    "    ground_station.elevation = int(obs_alt)       # in meters\n",
    "    ground_station.date = ephem.date(start_time)  # in UTC\n",
    "\n",
    "    # Read in most recent satellite TLE data\n",
    "    sat = ephem.readtle(tle_line0, tle_line1, tle_line2)\n",
    "\n",
    "    contacts = []\n",
    "\n",
    "    if duration is None and num_passes is None:\n",
    "        # get passes for next 24 hrs\n",
    "        duration = 24\n",
    "        # set num_passes > max passes possible in duration.\n",
    "        # duration is in hours, so 4 per hour is large\n",
    "        # enough for duration to break out of loop.\n",
    "        num_passes = 4 * int(duration)\n",
    "        # set end_time longer than suggested length for tle's\n",
    "        end_time = ephem.date(ground_station.date+5*365)\n",
    "    if duration is not None and num_passes is None:\n",
    "        # set num_passes > max passes possible in duration.\n",
    "        # duration is in hours, so 4 per hour is large\n",
    "        # enough for duration to break out of loop.\n",
    "        num_passes = 4 * int(duration)\n",
    "        end_time = ephem.date(ground_station.date+duration*ephem.hour)\n",
    "    if duration is None and num_passes is not None:\n",
    "        # set end_time longer than suggested length for tle's\n",
    "        end_time = ephem.date(ground_station.date+5*365)\n",
    "    if num_passes is not None and duration is not None:\n",
    "        # if both are given, use minimum\n",
    "        end_time = ephem.date(ground_station.date+duration*ephem.hour)\n",
    "\n",
    "    try:\n",
    "        for i in range(num_passes):\n",
    "            if ground_station.date > end_time:\n",
    "                break\n",
    "            sat.compute(ground_station)  # compute all body attributes for sat\n",
    "            # next pass command yields array with [0]=rise time,\n",
    "            # [1]=rise azimuth, [2]=max alt time, [3]=max alt,\n",
    "            # [4]=set time, [5]=set azimuth\n",
    "            info = ground_station.next_pass(sat)\n",
    "            rise_time, rise_az, max_alt_time, max_alt, set_time, set_az = info\n",
    "            deg_per_rad = 180.0/math.pi           # use to conv azimuth to deg\n",
    "            try:\n",
    "                pass_duration = timedelta(days=set_time-rise_time)  # timedelta\n",
    "                r_angle = (rise_az*deg_per_rad)\n",
    "                s_angle = (set_az*deg_per_rad)\n",
    "            except TypeError:\n",
    "                # when no set or rise time\n",
    "                pass\n",
    "            try:\n",
    "                rising = rise_time.datetime().ctime()\n",
    "                setting = set_time.datetime().ctime()\n",
    "                pass_seconds = timedelta.total_seconds(pass_duration)\n",
    "            except AttributeError:\n",
    "                # when no set or rise time\n",
    "                pass\n",
    "\n",
    "            pass_data = {\n",
    "                'start': rising,\n",
    "                'end': setting,\n",
    "                'duration': pass_seconds,\n",
    "                'rise_az': r_angle,\n",
    "                'set_az': s_angle,\n",
    "            }\n",
    "\n",
    "            try:\n",
    "                if set_time > rise_time:  # only update if set time > rise time\n",
    "                    ground_station.date = set_time  # new obs time = prev set time\n",
    "                    if ground_station.date <= end_time:\n",
    "                        contacts.append(pass_data)\n",
    "            except TypeError:\n",
    "                pass\n",
    "\n",
    "            # increase by 1 min and look for next pass\n",
    "            ground_station.date = ground_station.date + ephem.minute\n",
    "    except ValueError:\n",
    "        # No (more) visible passes\n",
    "        pass\n",
    "    return contacts\n"
   ]
  },
  {
   "cell_type": "code",
   "execution_count": 10,
   "metadata": {
    "collapsed": false
   },
   "outputs": [
   ],
   "source": [
    "from itertools import islice\n",
    "data = []\n",
    "with open('amateur.txt') as f:\n",
    "    while True:\n",
    "        #an iterator that returns the next N lines and stops\n",
    "        tripleline = islice(f, 3)\n",
    "        #loop over these N lines, removing trailing spaces and \\n\n",
    "        tle = [x.rstrip() for x in tripleline]\n",
    "\n",
    "        #only accept complete data\n",
    "        #the end of the file *should* have len(tle)==0 but\n",
    "        #this also handles extra junk at the end\n",
    "        if len(tle) == 3:\n",
    "            data.append(tle)\n",
    "        else:\n",
    "            break\n"
   ]
  },
  {
   "cell_type": "code",
   "execution_count": 24,
   "metadata": {
    "collapsed": false
   },
   "outputs": [
   ],
   "source": [
    "vu = ['Valparaiso University', '41.4639', '-87.0439', 245.089]\n",
    "start_time = '2017/6/8 00:00:00'\n",
    "num_passes = None\n",
    "duration = 24.0\n",
    "vu_passes = {}\n",
    "\n",
    "for tle in data:\n",
    "    # use NORAD ID as key for each satellite\n",
    "    # value is list of passes, where each pass is a dictionary of data\n",
    "    noradID = tle[2][2:7]\n",
    "    vu_passes[noradID] = new_get_passes(vu, tle, start_time, num_passes=num_passes, duration=duration)\n",
    "\n",
    "    "
   ]
  },
  {
   "cell_type": "code",
   "execution_count": 12,
   "metadata": {
    "collapsed": false
   },
   "outputs": [
    {
     "data": {
      "text/plain": [
       "[74, 24]"
      ]
     },
     "execution_count": 12,
     "metadata": {
     },
     "output_type": "execute_result"
    }
   ],
   "source": [
    "a = [len(data),int(duration)]\n",
    "a"
   ]
  },
  {
   "cell_type": "code",
   "execution_count": 13,
   "metadata": {
    "collapsed": false,
    "scrolled": true
   },
   "outputs": [
    {
     "name": "stdout",
     "output_type": "stream",
     "text": [
      "NORAD ID: 40908 START: Thu Jun  8 00:48:43 2017 END: Thu Jun  8 00:56:19 2017\n",
      "NORAD ID: 40908 START: Thu Jun  8 10:45:14 2017 END: Thu Jun  8 10:55:08 2017\n",
      "NORAD ID: 40908 START: Thu Jun  8 12:18:44 2017 END: Thu Jun  8 12:30:45 2017\n",
      "NORAD ID: 40908 START: Thu Jun  8 13:54:51 2017 END: Thu Jun  8 14:01:17 2017\n",
      "NORAD ID: 40908 START: Thu Jun  8 21:28:39 2017 END: Thu Jun  8 21:36:44 2017\n",
      "NORAD ID: 40908 START: Thu Jun  8 23:00:04 2017 END: Thu Jun  8 23:12:19 2017\n",
      "NORAD ID: 40025 START: Thu Jun  8 03:51:52 2017 END: Thu Jun  8 03:58:44 2017\n",
      "NORAD ID: 40025 START: Thu Jun  8 05:25:20 2017 END: Thu Jun  8 05:38:28 2017\n",
      "NORAD ID: 40025 START: Thu Jun  8 07:01:42 2017 END: Thu Jun  8 07:12:42 2017\n",
      "NORAD ID: 40025 START: Thu Jun  8 14:46:11 2017 END: Thu Jun  8 14:52:26 2017\n",
      "NORAD ID: 40025 START: Thu Jun  8 16:17:35 2017 END: Thu Jun  8 16:30:17 2017\n",
      "NORAD ID: 40025 START: Thu Jun  8 17:54:06 2017 END: Thu Jun  8 18:05:38 2017\n",
      "NORAD ID: 38340 START: Thu Jun  8 00:03:40 2017 END: Thu Jun  8 00:15:42 2017\n",
      "NORAD ID: 38340 START: Thu Jun  8 10:17:51 2017 END: Thu Jun  8 10:27:35 2017\n",
      "NORAD ID: 38340 START: Thu Jun  8 11:53:02 2017 END: Thu Jun  8 12:06:45 2017\n",
      "NORAD ID: 38340 START: Thu Jun  8 13:30:31 2017 END: Thu Jun  8 13:40:59 2017\n",
      "NORAD ID: 38340 START: Thu Jun  8 21:16:54 2017 END: Thu Jun  8 21:26:40 2017\n",
      "NORAD ID: 38340 START: Thu Jun  8 22:50:44 2017 END: Thu Jun  8 23:04:20 2017\n",
      "NORAD ID: 25544 START: Thu Jun  8 01:08:14 2017 END: Thu Jun  8 01:18:15 2017\n",
      "NORAD ID: 25544 START: Thu Jun  8 02:44:49 2017 END: Thu Jun  8 02:55:47 2017\n",
      "NORAD ID: 25544 START: Thu Jun  8 04:21:31 2017 END: Thu Jun  8 04:31:35 2017\n",
      "NORAD ID: 25544 START: Thu Jun  8 19:25:35 2017 END: Thu Jun  8 19:35:05 2017\n",
      "NORAD ID: 25544 START: Thu Jun  8 21:00:56 2017 END: Thu Jun  8 21:11:59 2017\n",
      "NORAD ID: 25544 START: Thu Jun  8 22:38:18 2017 END: Thu Jun  8 22:48:30 2017\n",
      "NORAD ID: 39446 START: Thu Jun  8 00:17:38 2017 END: Thu Jun  8 00:30:00 2017\n",
      "NORAD ID: 39446 START: Thu Jun  8 01:53:39 2017 END: Thu Jun  8 02:06:36 2017\n",
      "NORAD ID: 39446 START: Thu Jun  8 12:08:11 2017 END: Thu Jun  8 12:15:33 2017\n",
      "NORAD ID: 39446 START: Thu Jun  8 13:42:16 2017 END: Thu Jun  8 13:56:15 2017\n",
      "NORAD ID: 39446 START: Thu Jun  8 15:19:12 2017 END: Thu Jun  8 15:31:26 2017\n",
      "NORAD ID: 39446 START: Thu Jun  8 23:07:13 2017 END: Thu Jun  8 23:13:49 2017\n",
      "NORAD ID: 37839 START: Thu Jun  8 02:23:20 2017 END: Thu Jun  8 02:33:18 2017\n",
      "NORAD ID: 37839 START: Thu Jun  8 04:10:29 2017 END: Thu Jun  8 04:21:56 2017\n",
      "NORAD ID: 37839 START: Thu Jun  8 05:58:59 2017 END: Thu Jun  8 06:09:15 2017\n",
      "NORAD ID: 37839 START: Thu Jun  8 07:50:20 2017 END: Thu Jun  8 07:53:37 2017\n",
      "NORAD ID: 32791 START: Thu Jun  8 01:09:18 2017 END: Thu Jun  8 01:22:12 2017\n",
      "NORAD ID: 32791 START: Thu Jun  8 02:50:12 2017 END: Thu Jun  8 02:54:37 2017\n",
      "NORAD ID: 32791 START: Thu Jun  8 12:52:48 2017 END: Thu Jun  8 13:05:12 2017\n",
      "NORAD ID: 32791 START: Thu Jun  8 14:28:37 2017 END: Thu Jun  8 14:40:28 2017\n",
      "NORAD ID: 32791 START: Thu Jun  8 23:44:34 2017 END: Thu Jun  8 23:56:29 2017\n",
      "NORAD ID: 40928 START: Thu Jun  8 00:29:52 2017 END: Thu Jun  8 00:40:30 2017\n",
      "NORAD ID: 40928 START: Thu Jun  8 02:02:57 2017 END: Thu Jun  8 02:13:15 2017\n",
      "NORAD ID: 40928 START: Thu Jun  8 13:25:07 2017 END: Thu Jun  8 13:35:51 2017\n",
      "NORAD ID: 40928 START: Thu Jun  8 14:58:15 2017 END: Thu Jun  8 15:08:11 2017\n",
      "NORAD ID: 39436 START: Thu Jun  8 05:06:04 2017 END: Thu Jun  8 05:16:31 2017\n",
      "NORAD ID: 39436 START: Thu Jun  8 06:39:02 2017 END: Thu Jun  8 06:49:10 2017\n",
      "NORAD ID: 39436 START: Thu Jun  8 18:00:57 2017 END: Thu Jun  8 18:11:25 2017\n",
      "NORAD ID: 39436 START: Thu Jun  8 19:33:53 2017 END: Thu Jun  8 19:43:52 2017\n",
      "NORAD ID: 40903 START: Thu Jun  8 00:29:31 2017 END: Thu Jun  8 00:40:41 2017\n",
      "NORAD ID: 40903 START: Thu Jun  8 02:05:03 2017 END: Thu Jun  8 02:11:41 2017\n",
      "NORAD ID: 40903 START: Thu Jun  8 11:52:26 2017 END: Thu Jun  8 11:59:44 2017\n",
      "NORAD ID: 40903 START: Thu Jun  8 13:23:40 2017 END: Thu Jun  8 13:34:55 2017\n",
      "NORAD ID: 40903 START: Thu Jun  8 14:57:45 2017 END: Thu Jun  8 15:04:55 2017\n",
      "NORAD ID: 41338 START: Thu Jun  8 02:35:10 2017 END: Thu Jun  8 02:43:38 2017\n",
      "NORAD ID: 41338 START: Thu Jun  8 04:14:25 2017 END: Thu Jun  8 04:25:59 2017\n",
      "NORAD ID: 41338 START: Thu Jun  8 05:55:05 2017 END: Thu Jun  8 06:07:19 2017\n",
      "NORAD ID: 41338 START: Thu Jun  8 07:36:25 2017 END: Thu Jun  8 07:47:57 2017\n",
      "NORAD ID: 41338 START: Thu Jun  8 09:18:52 2017 END: Thu Jun  8 09:27:03 2017\n",
      "NORAD ID: 14781 START: Thu Jun  8 01:28:49 2017 END: Thu Jun  8 01:42:03 2017\n",
      "NORAD ID: 14781 START: Thu Jun  8 03:06:18 2017 END: Thu Jun  8 03:17:30 2017\n",
      "NORAD ID: 14781 START: Thu Jun  8 13:16:36 2017 END: Thu Jun  8 13:26:56 2017\n",
      "NORAD ID: 14781 START: Thu Jun  8 14:51:43 2017 END: Thu Jun  8 15:05:01 2017\n",
      "NORAD ID: 14781 START: Thu Jun  8 16:29:08 2017 END: Thu Jun  8 16:38:11 2017\n",
      "NORAD ID: 40958 START: Thu Jun  8 02:00:11 2017 END: Thu Jun  8 02:09:23 2017\n",
      "NORAD ID: 40958 START: Thu Jun  8 03:33:52 2017 END: Thu Jun  8 03:47:26 2017\n",
      "NORAD ID: 40958 START: Thu Jun  8 05:12:27 2017 END: Thu Jun  8 05:23:14 2017\n",
      "NORAD ID: 40958 START: Thu Jun  8 15:26:03 2017 END: Thu Jun  8 15:37:33 2017\n",
      "NORAD ID: 40958 START: Thu Jun  8 17:02:09 2017 END: Thu Jun  8 17:15:34 2017\n",
      "NORAD ID: 40958 START: Thu Jun  8 18:40:29 2017 END: Thu Jun  8 18:48:40 2017\n",
      "NORAD ID: 41339 START: Thu Jun  8 02:29:23 2017 END: Thu Jun  8 02:37:40 2017\n",
      "NORAD ID: 41339 START: Thu Jun  8 04:08:33 2017 END: Thu Jun  8 04:20:03 2017\n",
      "NORAD ID: 41339 START: Thu Jun  8 05:49:10 2017 END: Thu Jun  8 06:01:23 2017\n",
      "NORAD ID: 41339 START: Thu Jun  8 07:30:29 2017 END: Thu Jun  8 07:42:02 2017\n",
      "NORAD ID: 41339 START: Thu Jun  8 09:12:51 2017 END: Thu Jun  8 09:21:11 2017\n",
      "NORAD ID: 32785 START: Thu Jun  8 00:46:43 2017 END: Thu Jun  8 00:59:49 2017\n",
      "NORAD ID: 32785 START: Thu Jun  8 02:27:03 2017 END: Thu Jun  8 02:32:58 2017\n",
      "NORAD ID: 32785 START: Thu Jun  8 12:31:25 2017 END: Thu Jun  8 12:43:48 2017\n",
      "NORAD ID: 32785 START: Thu Jun  8 14:07:18 2017 END: Thu Jun  8 14:19:25 2017\n",
      "NORAD ID: 32785 START: Thu Jun  8 23:24:14 2017 END: Thu Jun  8 23:36:08 2017\n",
      "NORAD ID: 40927 START: Thu Jun  8 00:55:06 2017 END: Thu Jun  8 01:05:49 2017\n",
      "NORAD ID: 40927 START: Thu Jun  8 02:28:25 2017 END: Thu Jun  8 02:37:55 2017\n",
      "NORAD ID: 40927 START: Thu Jun  8 13:47:48 2017 END: Thu Jun  8 13:58:29 2017\n",
      "NORAD ID: 40927 START: Thu Jun  8 15:20:49 2017 END: Thu Jun  8 15:30:04 2017\n",
      "NORAD ID: 39134 START: Thu Jun  8 06:14:00 2017 END: Thu Jun  8 06:25:26 2017\n",
      "NORAD ID: 39134 START: Thu Jun  8 07:50:53 2017 END: Thu Jun  8 08:03:15 2017\n",
      "NORAD ID: 39134 START: Thu Jun  8 09:31:26 2017 END: Thu Jun  8 09:40:08 2017\n",
      "NORAD ID: 39134 START: Thu Jun  8 11:15:02 2017 END: Thu Jun  8 11:16:38 2017\n",
      "NORAD ID: 39134 START: Thu Jun  8 12:53:16 2017 END: Thu Jun  8 12:59:10 2017\n",
      "NORAD ID: 39134 START: Thu Jun  8 14:29:58 2017 END: Thu Jun  8 14:41:11 2017\n",
      "NORAD ID: 39134 START: Thu Jun  8 16:07:14 2017 END: Thu Jun  8 16:19:47 2017\n",
      "NORAD ID: 39134 START: Thu Jun  8 17:46:39 2017 END: Thu Jun  8 17:53:44 2017\n",
      "NORAD ID: 41460 START: Thu Jun  8 00:26:48 2017 END: Thu Jun  8 00:38:23 2017\n",
      "NORAD ID: 41460 START: Thu Jun  8 02:01:38 2017 END: Thu Jun  8 02:13:02 2017\n",
      "NORAD ID: 41460 START: Thu Jun  8 12:05:49 2017 END: Thu Jun  8 12:11:44 2017\n",
      "NORAD ID: 41460 START: Thu Jun  8 13:37:40 2017 END: Thu Jun  8 13:51:20 2017\n",
      "NORAD ID: 41460 START: Thu Jun  8 15:12:44 2017 END: Thu Jun  8 15:25:13 2017\n",
      "NORAD ID: 42017 START: Thu Jun  8 01:05:43 2017 END: Thu Jun  8 01:12:08 2017\n",
      "NORAD ID: 42017 START: Thu Jun  8 02:35:52 2017 END: Thu Jun  8 02:47:33 2017\n",
      "NORAD ID: 42017 START: Thu Jun  8 04:11:07 2017 END: Thu Jun  8 04:20:19 2017\n",
      "NORAD ID: 42017 START: Thu Jun  8 14:06:08 2017 END: Thu Jun  8 14:12:52 2017\n",
      "NORAD ID: 42017 START: Thu Jun  8 15:37:54 2017 END: Thu Jun  8 15:49:41 2017\n",
      "NORAD ID: 42017 START: Thu Jun  8 17:12:34 2017 END: Thu Jun  8 17:21:11 2017\n",
      "NORAD ID: 40905 START: Thu Jun  8 00:20:28 2017 END: Thu Jun  8 00:30:26 2017\n",
      "NORAD ID: 40905 START: Thu Jun  8 10:19:12 2017 END: Thu Jun  8 10:26:41 2017\n",
      "NORAD ID: 40905 START: Thu Jun  8 11:51:43 2017 END: Thu Jun  8 12:03:53 2017\n",
      "NORAD ID: 40905 START: Thu Jun  8 13:26:58 2017 END: Thu Jun  8 13:35:54 2017\n",
      "NORAD ID: 40905 START: Thu Jun  8 21:03:36 2017 END: Thu Jun  8 21:08:21 2017\n",
      "NORAD ID: 40905 START: Thu Jun  8 22:33:11 2017 END: Thu Jun  8 22:45:03 2017\n",
      "NORAD ID: 36799 START: Thu Jun  8 05:17:34 2017 END: Thu Jun  8 05:26:49 2017\n",
      "NORAD ID: 36799 START: Thu Jun  8 06:50:36 2017 END: Thu Jun  8 07:03:33 2017\n",
      "NORAD ID: 36799 START: Thu Jun  8 08:28:36 2017 END: Thu Jun  8 08:37:53 2017\n",
      "NORAD ID: 36799 START: Thu Jun  8 18:34:37 2017 END: Thu Jun  8 18:45:32 2017\n",
      "NORAD ID: 36799 START: Thu Jun  8 20:09:32 2017 END: Thu Jun  8 20:22:29 2017\n",
      "NORAD ID: 36799 START: Thu Jun  8 21:46:45 2017 END: Thu Jun  8 21:54:33 2017\n",
      "NORAD ID: 35933 START: Thu Jun  8 06:19:49 2017 END: Thu Jun  8 06:30:31 2017\n",
      "NORAD ID: 35933 START: Thu Jun  8 07:54:57 2017 END: Thu Jun  8 08:09:19 2017\n",
      "NORAD ID: 35933 START: Thu Jun  8 09:34:57 2017 END: Thu Jun  8 09:46:01 2017\n",
      "NORAD ID: 35933 START: Thu Jun  8 19:55:06 2017 END: Thu Jun  8 20:08:08 2017\n",
      "NORAD ID: 35933 START: Thu Jun  8 21:32:34 2017 END: Thu Jun  8 21:46:34 2017\n",
      "NORAD ID: 35933 START: Thu Jun  8 23:12:09 2017 END: Thu Jun  8 23:20:04 2017\n",
      "NORAD ID: 33499 START: Thu Jun  8 00:13:10 2017 END: Thu Jun  8 00:23:45 2017\n",
      "NORAD ID: 33499 START: Thu Jun  8 07:59:53 2017 END: Thu Jun  8 08:09:16 2017\n",
      "NORAD ID: 33499 START: Thu Jun  8 09:33:32 2017 END: Thu Jun  8 09:47:03 2017\n",
      "NORAD ID: 33499 START: Thu Jun  8 11:12:04 2017 END: Thu Jun  8 11:22:35 2017\n",
      "NORAD ID: 33499 START: Thu Jun  8 21:24:42 2017 END: Thu Jun  8 21:36:09 2017\n",
      "NORAD ID: 33499 START: Thu Jun  8 23:00:35 2017 END: Thu Jun  8 23:14:04 2017\n",
      "NORAD ID: 40910 START: Thu Jun  8 11:11:55 2017 END: Thu Jun  8 11:23:03 2017\n",
      "NORAD ID: 40910 START: Thu Jun  8 12:45:56 2017 END: Thu Jun  8 12:57:16 2017\n",
      "NORAD ID: 40910 START: Thu Jun  8 21:53:37 2017 END: Thu Jun  8 22:03:23 2017\n",
      "NORAD ID: 40910 START: Thu Jun  8 23:26:07 2017 END: Thu Jun  8 23:38:13 2017\n",
      "NORAD ID: 40900 START: Thu Jun  8 00:30:52 2017 END: Thu Jun  8 00:40:46 2017\n",
      "NORAD ID: 40900 START: Thu Jun  8 10:27:51 2017 END: Thu Jun  8 10:34:09 2017\n",
      "NORAD ID: 40900 START: Thu Jun  8 11:59:36 2017 END: Thu Jun  8 12:11:32 2017\n",
      "NORAD ID: 40900 START: Thu Jun  8 13:34:21 2017 END: Thu Jun  8 13:43:31 2017\n",
      "NORAD ID: 40900 START: Thu Jun  8 21:11:08 2017 END: Thu Jun  8 21:12:32 2017\n",
      "NORAD ID: 40900 START: Thu Jun  8 22:38:49 2017 END: Thu Jun  8 22:50:11 2017\n",
      "NORAD ID: 40012 START: Thu Jun  8 03:01:31 2017 END: Thu Jun  8 03:14:48 2017\n",
      "NORAD ID: 40012 START: Thu Jun  8 04:38:07 2017 END: Thu Jun  8 04:51:38 2017\n",
      "NORAD ID: 40012 START: Thu Jun  8 06:17:12 2017 END: Thu Jun  8 06:23:13 2017\n",
      "NORAD ID: 40012 START: Thu Jun  8 14:00:47 2017 END: Thu Jun  8 14:13:07 2017\n",
      "NORAD ID: 40012 START: Thu Jun  8 15:36:52 2017 END: Thu Jun  8 15:50:03 2017\n",
      "NORAD ID: 40012 START: Thu Jun  8 17:20:33 2017 END: Thu Jun  8 17:22:04 2017\n",
      "NORAD ID: 35932 START: Thu Jun  8 06:37:03 2017 END: Thu Jun  8 06:49:19 2017\n",
      "NORAD ID: 35932 START: Thu Jun  8 08:13:21 2017 END: Thu Jun  8 08:27:40 2017\n",
      "NORAD ID: 35932 START: Thu Jun  8 09:55:02 2017 END: Thu Jun  8 10:03:22 2017\n",
      "NORAD ID: 35932 START: Thu Jun  8 18:39:56 2017 END: Thu Jun  8 18:42:26 2017\n",
      "NORAD ID: 35932 START: Thu Jun  8 20:13:14 2017 END: Thu Jun  8 20:27:10 2017\n",
      "NORAD ID: 35932 START: Thu Jun  8 21:51:11 2017 END: Thu Jun  8 22:04:29 2017\n",
      "NORAD ID: 35932 START: Thu Jun  8 23:32:09 2017 END: Thu Jun  8 23:35:53 2017\n",
      "NORAD ID: 27844 START: Thu Jun  8 00:01:50 2017 END: Thu Jun  8 00:16:52 2017\n",
      "NORAD ID: 27844 START: Thu Jun  8 01:48:56 2017 END: Thu Jun  8 01:52:40 2017\n",
      "NORAD ID: 27844 START: Thu Jun  8 10:39:09 2017 END: Thu Jun  8 10:51:23 2017\n",
      "NORAD ID: 27844 START: Thu Jun  8 12:18:07 2017 END: Thu Jun  8 12:33:52 2017\n",
      "NORAD ID: 27844 START: Thu Jun  8 13:59:05 2017 END: Thu Jun  8 14:11:27 2017\n",
      "NORAD ID: 27844 START: Thu Jun  8 22:01:30 2017 END: Thu Jun  8 22:15:13 2017\n",
      "NORAD ID: 27844 START: Thu Jun  8 23:40:15 2017 END: Thu Jun  8 23:55:45 2017\n",
      "NORAD ID: 39153 START: Thu Jun  8 02:38:15 2017 END: Thu Jun  8 02:42:20 2017\n",
      "NORAD ID: 39153 START: Thu Jun  8 04:08:55 2017 END: Thu Jun  8 04:21:30 2017\n",
      "NORAD ID: 39153 START: Thu Jun  8 05:45:18 2017 END: Thu Jun  8 05:57:41 2017\n",
      "NORAD ID: 39153 START: Thu Jun  8 15:58:37 2017 END: Thu Jun  8 16:06:02 2017\n",
      "NORAD ID: 39153 START: Thu Jun  8 17:32:46 2017 END: Thu Jun  8 17:46:05 2017\n",
      "NORAD ID: 39153 START: Thu Jun  8 19:09:43 2017 END: Thu Jun  8 19:20:42 2017\n",
      "NORAD ID: 27939 START: Thu Jun  8 07:11:01 2017 END: Thu Jun  8 07:23:10 2017\n",
      "NORAD ID: 27939 START: Thu Jun  8 08:46:54 2017 END: Thu Jun  8 09:00:49 2017\n",
      "NORAD ID: 27939 START: Thu Jun  8 10:28:27 2017 END: Thu Jun  8 10:35:31 2017\n",
      "NORAD ID: 27939 START: Thu Jun  8 19:08:32 2017 END: Thu Jun  8 19:11:38 2017\n",
      "NORAD ID: 27939 START: Thu Jun  8 20:41:37 2017 END: Thu Jun  8 20:55:13 2017\n",
      "NORAD ID: 27939 START: Thu Jun  8 22:19:00 2017 END: Thu Jun  8 22:31:44 2017\n",
      "NORAD ID: 28895 START: Thu Jun  8 00:47:44 2017 END: Thu Jun  8 00:54:06 2017\n",
      "NORAD ID: 28895 START: Thu Jun  8 08:34:25 2017 END: Thu Jun  8 08:47:18 2017\n",
      "NORAD ID: 28895 START: Thu Jun  8 10:11:08 2017 END: Thu Jun  8 10:24:55 2017\n",
      "NORAD ID: 28895 START: Thu Jun  8 11:54:39 2017 END: Thu Jun  8 11:58:28 2017\n",
      "NORAD ID: 28895 START: Thu Jun  8 20:32:10 2017 END: Thu Jun  8 20:39:20 2017\n",
      "NORAD ID: 28895 START: Thu Jun  8 22:07:09 2017 END: Thu Jun  8 22:20:59 2017\n",
      "NORAD ID: 28895 START: Thu Jun  8 23:45:03 2017 END: Thu Jun  8 23:57:00 2017\n",
      "NORAD ID: 22825 START: Thu Jun  8 07:54:11 2017 END: Thu Jun  8 08:06:49 2017\n",
      "NORAD ID: 22825 START: Thu Jun  8 09:32:50 2017 END: Thu Jun  8 09:48:13 2017\n",
      "NORAD ID: 22825 START: Thu Jun  8 11:13:23 2017 END: Thu Jun  8 11:24:49 2017\n",
      "NORAD ID: 22825 START: Thu Jun  8 17:40:55 2017 END: Thu Jun  8 17:43:06 2017\n",
      "NORAD ID: 22825 START: Thu Jun  8 19:12:46 2017 END: Thu Jun  8 19:26:29 2017\n",
      "NORAD ID: 22825 START: Thu Jun  8 20:51:15 2017 END: Thu Jun  8 21:06:21 2017\n",
      "NORAD ID: 22825 START: Thu Jun  8 22:35:35 2017 END: Thu Jun  8 22:43:16 2017\n",
      "NORAD ID: 27848 START: Thu Jun  8 01:44:05 2017 END: Thu Jun  8 01:49:39 2017\n",
      "NORAD ID: 27848 START: Thu Jun  8 10:35:37 2017 END: Thu Jun  8 10:47:24 2017\n",
      "NORAD ID: 27848 START: Thu Jun  8 12:14:28 2017 END: Thu Jun  8 12:30:13 2017\n",
      "NORAD ID: 27848 START: Thu Jun  8 13:55:21 2017 END: Thu Jun  8 14:08:03 2017\n",
      "NORAD ID: 27848 START: Thu Jun  8 21:58:10 2017 END: Thu Jun  8 22:11:40 2017\n",
      "NORAD ID: 27848 START: Thu Jun  8 23:36:45 2017 END: Thu Jun  8 23:52:18 2017\n",
      "NORAD ID: 41783 START: Thu Jun  8 01:37:56 2017 END: Thu Jun  8 01:50:30 2017\n",
      "NORAD ID: 41783 START: Thu Jun  8 03:14:08 2017 END: Thu Jun  8 03:28:18 2017\n",
      "NORAD ID: 41783 START: Thu Jun  8 04:56:03 2017 END: Thu Jun  8 05:03:08 2017\n",
      "NORAD ID: 41783 START: Thu Jun  8 13:37:10 2017 END: Thu Jun  8 13:40:59 2017\n",
      "NORAD ID: 41783 START: Thu Jun  8 15:10:48 2017 END: Thu Jun  8 15:24:21 2017"
     ]
    },
    {
     "name": "stderr",
     "output_type": "stream",
     "text": [
      "WARNING: Some output was deleted.\n"
     ]
    }
   ],
   "source": [
    "for sat, passes in vu_passes.items():\n",
    "    for obs in passes:\n",
    "        print('NORAD ID:', sat, 'START:', obs['start'], 'END:', obs['end'])\n"
   ]
  },
  {
   "cell_type": "code",
   "execution_count": 14,
   "metadata": {
    "collapsed": false
   },
   "outputs": [
   ],
   "source": [
    "year = 365\n",
    "start_time = ephem.date('2017/6/8 00:00:00')\n",
    "access_list = []\n",
    "day_list = []\n",
    "for days in range(year):\n",
    "    vu = ['Valparaiso University', '41.4639', '-87.0439', 245.089]\n",
    "    num_passes = None\n",
    "    duration = 24.0\n",
    "    vu_passes = {}\n",
    "\n",
    "    #print(start_time)\n",
    "\n",
    "    for tle in data:\n",
    "        # use NORAD ID as key for each satellite\n",
    "        # value is list of passes, where each pass is a dictionary of data\n",
    "        noradID = tle[2][2:7]\n",
    "        vu_passes[noradID] = new_get_passes(vu, tle, start_time, num_passes=num_passes, duration=duration)\n",
    "\n",
    "    access_time = 0\n",
    "    for sat, passes in vu_passes.items():\n",
    "        for obs in passes:\n",
    "            access_time = access_time + obs['duration']\n",
    "    access_list.append(access_time)\n",
    "    day_list.append(days)\n",
    "    start_time = start_time + 1\n",
    "\n"
   ]
  },
  {
   "cell_type": "code",
   "execution_count": 15,
   "metadata": {
    "collapsed": false
   },
   "outputs": [
    {
     "data": {
      "image/png": "[encoded data removed]"
     },
     "metadata": {
      "image/png": {
       "height": 440,
       "width": 744
      }
     }
    }
   ],
   "source": [
    "import matplotlib.pyplot as plt\n",
    "\n",
    "\n",
    "plt.plot(day_list, access_list, 'ro')\n",
    "plt.title('Access time for VU GS')\n",
    "plt.xlabel('Days from 8 June 2017')\n",
    "plt.ylabel('Access time (s/day)')\n",
    "plt.axis([0,365,270000,300000])\n",
    "plt.show()"
   ]
  },
  {
   "cell_type": "code",
   "execution_count": 16,
   "metadata": {
    "collapsed": false
   },
   "outputs": [
    {
     "data": {
      "image/png": "[encoded data removed]"
     },
     "metadata": {
      "image/png": {
       "height": 440,
       "width": 744
      }
     }
    }
   ],
   "source": [
    "plt.plot(day_list, access_list, 'r-')\n",
    "plt.title('Access time for VU GS')\n",
    "plt.xlabel('Days from 8 June 2017')\n",
    "plt.ylabel('Access time (s/day)')\n",
    "plt.axis([0,365,270000,300000])\n",
    "plt.show()"
   ]
  },
  {
   "cell_type": "code",
   "execution_count": 17,
   "metadata": {
    "collapsed": false
   },
   "outputs": [
   ],
   "source": [
    "year = 365\n",
    "start_time = ephem.date('2017/6/8 00:00:00')\n",
    "access_list = []\n",
    "day_list = []\n",
    "for days in range(year):\n",
    "    vu = ['Valparaiso University', '41.4639', '-87.0439', 245.089]\n",
    "    num_passes = None\n",
    "    duration = 24.0\n",
    "    vu_passes = {}\n",
    "    tle = ['ISS (ZARYA)', '1 25544U 98067A   17157.94655197  .00002630  00000-0  47191-4 0  9994', '2 25544  51.6418  89.3693 0004703 241.3496 157.2990 15.53992000 60168']\n",
    "    noradID = tle[2][2:7]\n",
    "    vu_passes[noradID] = new_get_passes(vu, tle, start_time, num_passes=num_passes, duration=duration)\n",
    "\n",
    "    access_time = 0\n",
    "    for sat, passes in vu_passes.items():\n",
    "        for obs in passes:\n",
    "            access_time = access_time + obs['duration']\n",
    "    access_list.append(access_time)\n",
    "    day_list.append(days)\n",
    "    start_time = start_time + 1\n"
   ]
  },
  {
   "cell_type": "code",
   "execution_count": 18,
   "metadata": {
    "collapsed": false
   },
   "outputs": [
    {
     "data": {
      "image/png": "[encoded data removed]"
     },
     "metadata": {
      "image/png": {
       "height": 232,
       "width": 731
      }
     }
    }
   ],
   "source": [
    "plt.figure(1)\n",
    "\n",
    "plt.subplot(221)\n",
    "plt.plot(day_list, access_list, 'bo')\n",
    "plt.title('ISS Access time for VU GS')\n",
    "plt.xlabel('Days from 8 June 2017')\n",
    "plt.ylabel('Access time (s/day)')\n",
    "plt.axis([0,365,3000,5000])\n",
    "\n",
    "plt.subplot(222)\n",
    "plt.plot(day_list, access_list, 'b-')\n",
    "plt.title('ISS Access time for VU GS')\n",
    "plt.xlabel('Days from 8 June 2017')\n",
    "plt.ylabel('Access time (s/day)')\n",
    "plt.axis([0,365,3000,5000])\n",
    "\n",
    "plt.show()"
   ]
  },
  {
   "cell_type": "code",
   "execution_count": 23,
   "metadata": {
    "collapsed": false
   },
   "outputs": [
   ],
   "source": [
    "class TLE:\n",
    "    def __init__(self, tle):\n",
    "        self.tle = tle\n",
    "        self.tle0 = tle[0]\n",
    "        self.tle1 = tle[1]\n",
    "        self.tle2 = tle[2]\n",
    "        self.name = tle[0].rstrip()\n",
    "        self.noradid = tle[1][2:7]\n",
    "        self.epoch = tle[1][18:32]\n",
    "        self.inclination = tle[2][8:16]\n",
    "\n",
    "    def __str__(self):\n",
    "        return '%s\\n%s\\n%s' % (self.tle0, self.tle1, self.tle2)\n",
    "\n"
   ]
  },
  {
   "cell_type": "code",
   "execution_count": 20,
   "metadata": {
    "collapsed": false
   },
   "outputs": [
   ],
   "source": [
    "def plot_access_time(start, gs, tle):\n",
    "    \"\"\"Plots Access Time in seconds/day.\n",
    "\n",
    "    Arguments:\n",
    "    start -- string formatted 'yyyy/mm/dd HH:MM:SS'\n",
    "    gs -- 4 element list containing desired [name,lat,lon,alt]\n",
    "    tle -- 3 element list containing desired tle [line0,line1,line2]\n",
    "    \"\"\"\n",
    "    year = 365\n",
    "    start_time = ephem.date(start)\n",
    "    access_list = []\n",
    "    day_list = []\n",
    "    tle = TLE(tle)\n",
    "\n",
    "    for days in range(year):\n",
    "        num_passes = None\n",
    "        duration = 24.0\n",
    "        gs_passes = {}\n",
    "\n",
    "        gs_passes[tle.noradid] = new_get_passes(gs, tle.tle, start_time, num_passes=num_passes, duration=duration)\n",
    "\n",
    "        access_time = 0\n",
    "        for sat, passes in gs_passes.items():\n",
    "            for obs in passes:\n",
    "                access_time = access_time + obs['duration']\n",
    "        access_list.append(access_time)\n",
    "        day_list.append(days)\n",
    "        start_time = start_time + 1\n",
    "\n",
    "    fig = plt.figure(1)\n",
    "    fig.suptitle('%s Access time for %s GS' % (tle.name, gs[0]))\n",
    "\n",
    "    s1 = plt.subplot(221)\n",
    "    s1.plot(day_list, access_list, 'b.')\n",
    "    plt.xlabel('Days from %s' % (start))\n",
    "    plt.ylabel('Access time (sec/day)')\n",
    "\n",
    "    plt.subplot(222)\n",
    "    plt.plot(day_list, access_list, 'b-')\n",
    "    plt.xlabel('Days from %s' % (start))\n",
    "\n",
    "    plt.show()"
   ]
  },
  {
   "cell_type": "code",
   "execution_count": 21,
   "metadata": {
    "collapsed": false
   },
   "outputs": [
    {
     "data": {
      "image/png": "[encoded data removed]"
     },
     "metadata": {
      "image/png": {
       "height": 267,
       "width": 731
      }
     }
    }
   ],
   "source": [
    "vu = ['Valparaiso University', '41.4639', '-87.0439', 245.089]\n",
    "tle = ['ISS (ZARYA)', '1 25544U 98067A   17157.94655197  .00002630  00000-0  47191-4 0  9994', '2 25544  51.6418  89.3693 0004703 241.3496 157.2990 15.53992000 60168']\n",
    "start = '2017/6/8 00:00:00'\n",
    "\n",
    "plot_access_time(start, vu, tle)"
   ]
  },
  {
   "cell_type": "code",
   "execution_count": 22,
   "metadata": {
    "collapsed": false
   },
   "outputs": [
    {
     "data": {
      "image/png": "[encoded data removed]"
     },
     "metadata": {
      "image/png": {
       "height": 220,
       "width": 504
      }
     }
    }
   ],
   "source": [
    "cs = ['Corey Shields', '39.236', '-86.305', 280]\n",
    "tle = ['UPSAT                   ','1 42716U 98067LX  17166.72694047  .00011068  00000-0  16523-3 0  9996','2 42716  51.6407  45.3505 0004198 326.8454  33.2274 15.55584668  4414']\n",
    "start = '2017/6/8 00:00:00'\n",
    "\n",
    "import seaborn\n",
    "plot_access_time(start, cs, tle)"
   ]
  },
  {
   "cell_type": "code",
   "execution_count": 25,
   "metadata": {
    "collapsed": false,
    "scrolled": true
   },
   "outputs": [
    {
     "name": "stderr",
     "output_type": "stream",
     "text": [
      "WARNING: Some output was deleted.\n"
     ]
    }
   ],
   "source": [
    "vu_passes"
   ]
  },
  {
   "cell_type": "code",
   "execution_count": 27,
   "metadata": {
    "collapsed": false
   },
   "outputs": [
   ],
   "source": [
    "import pickle\n"
   ]
  },
  {
   "cell_type": "code",
   "execution_count": 32,
   "metadata": {
    "collapsed": false
   },
   "outputs": [
   ],
   "source": [
    "pickle.dump(vu_passes, open('vu_passes.pkl','wb'))"
   ]
  },
  {
   "cell_type": "code",
   "execution_count": 33,
   "metadata": {
    "collapsed": false
   },
   "outputs": [
    {
     "name": "stdout",
     "output_type": "stream",
     "text": [
      "amateur.txt                     pyephem-learning.ipynb\r\n",
      "get_passes_rewrites.ipynb       request-tle-get-passes.ipynb\r\n",
      "get_passes_test_notebook.ipynb  scheduling-questions-I.ipynb\r\n",
      "ISS_VU_PassTracker.ipynb        tle-requests-practice.ipynb\r\n",
      "pyephem-learning.html           vu_passes.pkl\r\n"
     ]
    }
   ],
   "source": [
    "%ls"
   ]
  },
  {
   "cell_type": "code",
   "execution_count": 36,
   "metadata": {
    "collapsed": false,
    "scrolled": true
   },
   "outputs": [
   ],
   "source": [
    "new_passes = pickle.load(open('vu_passes.pkl', 'rb'))"
   ]
  },
  {
   "cell_type": "code",
   "execution_count": 38,
   "metadata": {
    "collapsed": false,
    "scrolled": true
   },
   "outputs": [
    {
     "data": {
      "text/plain": [
       "dict_keys(['39430', '40908', '40958', '38340', '25544', '39446', '37839', '32791', '40928', '39436', '40903', '41338', '14781', '39427', '41339', '32785', '39134', '41460', '42017', '36799', '35933', '41789', '40910', '40900', '40012', '41459', '35932', '27844', '40927', '27939', '28895', '27607', '22825', '27848', '41783', '26931', '39770', '40926', '40911', '33493', '24278', '37855', '39136', '32789', '36122', '39153', '40021', '32953', '25397', '40907', '35935', '37841', '40300', '40901', '39444', '40906', '40025', '41458', '41619', '22826', '39090', '40931', '41557', '23439', '40904', '40905', '40912', '39433', '39440', '33499', '40902', '20442', '07530', '39417'])"
      ]
     },
     "execution_count": 38,
     "metadata": {
     },
     "output_type": "execute_result"
    }
   ],
   "source": [
    "new_passes.keys()"
   ]
  },
  {
   "cell_type": "code",
   "execution_count": 52,
   "metadata": {
    "collapsed": false
   },
   "outputs": [
    {
     "name": "stdout",
     "output_type": "stream",
     "text": [
      "1 5\n",
      "1 6\n",
      "1 7\n",
      "1 8\n",
      "1 9\n",
      "2 5\n",
      "2 6\n",
      "2 7\n",
      "2 8\n",
      "2 9\n",
      "3 5\n",
      "3 6\n",
      "3 7\n",
      "3 8\n",
      "3 9\n",
      "4 5\n",
      "4 6\n",
      "4 7\n",
      "4 8\n",
      "4 9\n"
     ]
    }
   ],
   "source": [
    "from itertools import product\n",
    "\n",
    "A = [1,2,3,4]\n",
    "B = [5,6,7,8,9]\n",
    "\n",
    "for gs, sat in product(A,B):\n",
    "    passes[(gs,sat)] = get_passes(gs, sat, duration)"
   ]
  },
  {
   "cell_type": "code",
   "execution_count": 45,
   "metadata": {
    "collapsed": false
   },
   "outputs": [
    {
     "data": {
      "text/plain": [
       "itertools.product"
      ]
     },
     "execution_count": 45,
     "metadata": {
     },
     "output_type": "execute_result"
    }
   ],
   "source": [
    "p = product(A,B)\n",
    "type(p)"
   ]
  },
  {
   "cell_type": "code",
   "execution_count": 49,
   "metadata": {
    "collapsed": false
   },
   "outputs": [
   ],
   "source": [
    "g = iter(p)"
   ]
  },
  {
   "cell_type": "code",
   "execution_count": 48,
   "metadata": {
    "collapsed": false
   },
   "outputs": [
    {
     "name": "stdout",
     "output_type": "stream",
     "text": [
      "(1, 5)\n",
      "(1, 6)\n",
      "(1, 7)\n",
      "(1, 8)\n",
      "(1, 9)\n",
      "(2, 5)\n",
      "(2, 6)\n",
      "(2, 7)\n",
      "(2, 8)\n",
      "(2, 9)\n",
      "(3, 5)\n",
      "(3, 6)\n",
      "(3, 7)\n",
      "(3, 8)\n",
      "(3, 9)\n",
      "(4, 5)\n",
      "(4, 6)\n",
      "(4, 7)\n",
      "(4, 8)\n",
      "(4, 9)\n"
     ]
    }
   ],
   "source": [
    "for i in g:\n",
    "    print(i)"
   ]
  },
  {
   "cell_type": "code",
   "execution_count": 54,
   "metadata": {
    "collapsed": false
   },
   "outputs": [
   ],
   "source": [
    "from itertools import islice\n",
    "stations = []\n",
    "with open('groundstations.txt') as f:\n",
    "    while True:\n",
    "        #an iterator that returns the next N lines and stops\n",
    "        fourline = islice(f, 4)\n",
    "        #loop over these N lines, removing trailing spaces and \\n\n",
    "        gs = [x.rstrip() for x in fourline]\n",
    "\n",
    "        #only accept complete data\n",
    "        #the end of the file *should* have len(tle)==0 but\n",
    "        #this also handles extra junk at the end\n",
    "        if len(gs) == 4:\n",
    "            stations.append(gs)\n",
    "        else:\n",
    "            break\n"
   ]
  }
 ],
 "metadata": {
  "kernelspec": {
   "display_name": "Python 3 (Anaconda)",
   "language": "python",
   "name": "anaconda3"
  }
 },
 "nbformat": 4,
 "nbformat_minor": 0
}