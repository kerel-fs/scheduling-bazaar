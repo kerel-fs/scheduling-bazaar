{
 "cells": [
  {
   "cell_type": "code",
   "execution_count": 6,
   "metadata": {
    "collapsed": false
   },
   "outputs": [
   ],
   "source": [
    "# To begin finding overlaps between passes for a single gs"
   ]
  },
  {
   "cell_type": "code",
   "execution_count": 7,
   "metadata": {
    "collapsed": false
   },
   "outputs": [
   ],
   "source": [
    "import schedulingbazaar\n",
    "\n",
    "import pickle\n",
    "\n",
    "from itertools import product"
   ]
  },
  {
   "cell_type": "code",
   "execution_count": 8,
   "metadata": {
    "collapsed": false
   },
   "outputs": [
   ],
   "source": [
    "data = schedulingbazaar.load_tles('amateur.txt')\n",
    "stations = schedulingbazaar.load_gs('groundstations.txt')"
   ]
  },
  {
   "cell_type": "code",
   "execution_count": 9,
   "metadata": {
    "collapsed": false
   },
   "outputs": [
   ],
   "source": [
    "passes = {}\n",
    "start_time = '2017/6/8 00:00:00'\n",
    "num_passes = None\n",
    "duration = 8760\n",
    "horizon = '10:00'\n",
    "for gs, sat in product(stations, data):\n",
    "    passkey = (gs[0],sat[0].rstrip())\n",
    "    passes[passkey] = schedulingbazaar.get_passes(gs, sat, start_time, num_passes=num_passes, duration=duration, horizon=horizon)\n",
    "pickle.dump(passes, open('passes_new.pkl','wb'))"
   ]
  },
  {
   "cell_type": "code",
   "execution_count": 0,
   "metadata": {
    "collapsed": false
   },
   "outputs": [
   ],
   "source": [
    "passes_new = pickle.load(open('passes_new.pkl', 'rb'))"
   ]
  },
  {
   "cell_type": "code",
   "execution_count": 0,
   "metadata": {
    "collapsed": false,
    "scrolled": true
   },
   "outputs": [
   ],
   "source": [
    "# Prints out all key tuples for gs FACT\n",
    "for (t1, t2) in passes_all:\n",
    "    if t1 == 'FACT':\n",
    "        print(t1, t2)"
   ]
  },
  {
   "cell_type": "code",
   "execution_count": 0,
   "metadata": {
    "collapsed": false,
    "scrolled": true
   },
   "outputs": [
   ],
   "source": [
    "N = 0\n",
    "for key, value in passes_all.items():\n",
    "    N += len(value)\n",
    "print(N)"
   ]
  },
  {
   "cell_type": "code",
   "execution_count": 1,
   "metadata": {
    "collapsed": false
   },
   "outputs": [
   ],
   "source": [
    "import intervaltree as iv\n",
    "import datetime\n",
    "import collections"
   ]
  },
  {
   "cell_type": "code",
   "execution_count": 0,
   "metadata": {
    "collapsed": false
   },
   "outputs": [
   ],
   "source": [
    "import sys\n",
    "sys.path"
   ]
  },
  {
   "cell_type": "code",
   "execution_count": 18,
   "metadata": {
    "collapsed": false
   },
   "outputs": [
    {
     "name": "stdout",
     "output_type": "stream",
     "text": [
      "IntervalTree([Interval(datetime.datetime(2017, 6, 29, 0, 0), datetime.datetime(2017, 6, 29, 12, 0), 'a'), Interval(datetime.datetime(2017, 6, 29, 6, 0), datetime.datetime(2017, 6, 29, 18, 0), 'b')])\n",
      "IntervalTree([Interval(datetime.datetime(2017, 6, 29, 0, 0), datetime.datetime(2017, 6, 29, 6, 0), 'a'), Interval(datetime.datetime(2017, 6, 29, 6, 0), datetime.datetime(2017, 6, 29, 12, 0), 'a'), Interval(datetime.datetime(2017, 6, 29, 6, 0), datetime.datetime(2017, 6, 29, 12, 0), 'b'), Interval(datetime.datetime(2017, 6, 29, 12, 0), datetime.datetime(2017, 6, 29, 18, 0), 'b')])\n"
     ]
    }
   ],
   "source": [
    "begin = datetime.datetime(2017, 6, 29, 0, 0, 0)\n",
    "end = datetime.datetime(2017, 6, 29, 12, 0, 0)\n",
    "data = 'a'\n",
    "\n",
    "beginagain = datetime.datetime(2017, 6, 29, 6, 0, 0)\n",
    "endagain = datetime.datetime(2017, 6, 29, 18, 0, 0)\n",
    "dataagain = 'b'\n",
    "\n",
    "tree = iv.IntervalTree()\n",
    "tree.addi(begin, end, data)\n",
    "tree.addi(beginagain, endagain, dataagain)\n",
    "\n",
    "\n",
    "#print(sorted(tree[8]))\n",
    "#print(tree.search(datetime.datetime(2017, 6, 29, 2, 0, 0), datetime.datetime(2017, 6, 29, 7, 0, 0)))\n",
    "\n",
    "#print(tree[datetime.datetime(2017, 6, 29, 2, 0, 0) : datetime.datetime(2017, 6, 29, 7, 0, 0)])\n",
    "\n",
    "#tree.intersection(tree) == tree\n",
    "print(tree)\n",
    "tree.split_overlaps()\n",
    "print(tree)"
   ]
  },
  {
   "cell_type": "code",
   "execution_count": 0,
   "metadata": {
    "collapsed": false
   },
   "outputs": [
   ],
   "source": [
    "passtree = iv.IntervalTree()\n",
    "for key, value in passes_all.items():\n",
    "    for satpass in value:\n",
    "        begin = datetime.datetime.timestamp(datetime.datetime(satpass['start']))\n",
    "        end = satpass['end']\n",
    "        data = 'foo' #collections.namedtuple('Names',['gs','sat'])\n",
    "        passtree.addi(begin, end, data)"
   ]
  }
 ],
 "metadata": {
  "kernelspec": {
   "display_name": "Python 3 (Ubuntu Linux)",
   "language": "python",
   "name": "python3"
  },
  "language_info": {
   "codemirror_mode": {
    "name": "ipython",
    "version": 3
   },
   "file_extension": ".py",
   "mimetype": "text/x-python",
   "name": "python",
   "nbconvert_exporter": "python",
   "pygments_lexer": "ipython3",
   "version": "3.4.3+"
  }
 },
 "nbformat": 4,
 "nbformat_minor": 0
}