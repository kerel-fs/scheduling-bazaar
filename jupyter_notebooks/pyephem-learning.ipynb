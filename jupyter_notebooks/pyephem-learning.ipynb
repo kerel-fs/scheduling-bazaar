{
 "cells": [
  {
   "cell_type": "code",
   "execution_count": 8,
   "metadata": {
    "collapsed": false
   },
   "outputs": [
    {
     "name": "stdout",
     "output_type": "stream",
     "text": [
      "hello world\n"
     ]
    }
   ],
   "source": [
    "print(\"hello world\")"
   ]
  },
  {
   "cell_type": "code",
   "execution_count": 9,
   "metadata": {
    "collapsed": false
   },
   "outputs": [
    {
     "data": {
      "text/plain": [
       "Type help() for interactive help, or help(object) for help about object."
      ]
     },
     "execution_count": 9,
     "metadata": {
     },
     "output_type": "execute_result"
    }
   ],
   "source": [
    "help"
   ]
  },
  {
   "cell_type": "code",
   "execution_count": 10,
   "metadata": {
    "collapsed": false
   },
   "outputs": [
   ],
   "source": [
    "import ephem"
   ]
  },
  {
   "cell_type": "code",
   "execution_count": 11,
   "metadata": {
    "collapsed": false
   },
   "outputs": [
    {
     "name": "stdout",
     "output_type": "stream",
     "text": [
      "('Aqr', 'Aquarius')\n"
     ]
    }
   ],
   "source": [
    "m = ephem.Mars('1970')\n",
    "print(ephem.constellation(m))"
   ]
  },
  {
   "cell_type": "code",
   "execution_count": 12,
   "metadata": {
    "collapsed": false
   },
   "outputs": [
    {
     "data": {
      "text/plain": [
       "'Mars'"
      ]
     },
     "execution_count": 12,
     "metadata": {
     },
     "output_type": "execute_result"
    }
   ],
   "source": [
    "m = ephem.Mars()\n",
    "m.name"
   ]
  },
  {
   "cell_type": "code",
   "execution_count": 13,
   "metadata": {
    "collapsed": false
   },
   "outputs": [
    {
     "data": {
      "text/plain": [
       "'Arcturus'"
      ]
     },
     "execution_count": 13,
     "metadata": {
     },
     "output_type": "execute_result"
    }
   ],
   "source": [
    "a = ephem.star('Arcturus')\n",
    "a.name"
   ]
  },
  {
   "cell_type": "code",
   "execution_count": 15,
   "metadata": {
    "collapsed": false
   },
   "outputs": [
    {
     "name": "stdout",
     "output_type": "stream",
     "text": [
      "Mars -173:00:34.2 25.1121063232\n"
     ]
    }
   ],
   "source": [
    "m = ephem.Mars('2003/8/27')\n",
    "print('%s %s %.10f' % (m.name, m.elong, m.size))"
   ]
  },
  {
   "cell_type": "code",
   "execution_count": 16,
   "metadata": {
    "collapsed": false
   },
   "outputs": [
    {
     "name": "stdout",
     "output_type": "stream",
     "text": [
      "21:57:50.46 -13:17:37.2\n"
     ]
    }
   ],
   "source": [
    "j = ephem.Jupiter()\n",
    "j.compute('1986/2/8')\n",
    "print('%s %s' % (j.ra, j.dec))"
   ]
  },
  {
   "cell_type": "code",
   "execution_count": 17,
   "metadata": {
    "collapsed": false
   },
   "outputs": [
    {
     "name": "stdout",
     "output_type": "stream",
     "text": [
      "21:56:50.83 -13:22:54.3\n"
     ]
    }
   ],
   "source": [
    "j.compute('1986/2/9', epoch='1950')\n",
    "print('%s %s' % (j.a_ra, j.a_dec))"
   ]
  },
  {
   "cell_type": "code",
   "execution_count": 18,
   "metadata": {
    "collapsed": false
   },
   "outputs": [
    {
     "name": "stdout",
     "output_type": "stream",
     "text": [
      "72:19:44.8 134:14:25.3\n"
     ]
    }
   ],
   "source": [
    "gatech = ephem.Observer()\n",
    "gatech.lon = '-84.39733'\n",
    "gatech.lat = '33.775867'\n",
    "gatech.elevation = 320\n",
    "gatech.date = '1984/5/30 16:22:56'\n",
    "v = ephem.Venus(gatech)\n",
    "print('%s %s' % (v.alt, v.az))\n",
    "#returns the altitude and azimuth angle of venus from the observation point (here I believe it is gorgia tech)"
   ]
  },
  {
   "cell_type": "code",
   "execution_count": 19,
   "metadata": {
    "collapsed": false
   },
   "outputs": [
    {
     "name": "stdout",
     "output_type": "stream",
     "text": [
      "14.8046731949\n"
     ]
    }
   ],
   "source": [
    "line = \"C/2002 Y1 (Juels-Holvorcem),e,103.7816,166.2194,128.8232,242.5695,0.0002609,0.99705756,0.0000,04/13.2508/2003,2000,g  6.5,4.0\"\n",
    "yh = ephem.readdb(line)\n",
    "yh.compute('2007/10/1')\n",
    "print('%.10f' % yh.earth_distance)\n",
    "#reads in XEphem format"
   ]
  },
  {
   "cell_type": "code",
   "execution_count": 20,
   "metadata": {
    "collapsed": false
   },
   "outputs": [
    {
     "name": "stdout",
     "output_type": "stream",
     "text": [
      "23.96\n"
     ]
    }
   ],
   "source": [
    "print(yh.mag)"
   ]
  },
  {
   "cell_type": "code",
   "execution_count": 21,
   "metadata": {
    "collapsed": false
   },
   "outputs": [
    {
     "name": "stdout",
     "output_type": "stream",
     "text": [
      "C/2002 Y1 (Juels-Hol,e,103.7816,166.2194,128.8232,242.5695,0,0.9970576,0, 4/13.2508/2003, 1/01/2000,g6.5,4,0\n"
     ]
    }
   ],
   "source": [
    "print(yh.writedb())\n",
    "#XEphem format generated"
   ]
  },
  {
   "cell_type": "code",
   "execution_count": 23,
   "metadata": {
    "collapsed": false
   },
   "outputs": [
    {
     "name": "stdout",
     "output_type": "stream",
     "text": [
      "('Sgr', 'Sagittarius')\n"
     ]
    }
   ],
   "source": [
    "moon = ephem.Moon('1980/6/1')\n",
    "print(ephem.constellation(moon))\n",
    "# constellation returns the abrv and full name of constellation that the body (in this case moon) is a part of at the epoch"
   ]
  },
  {
   "cell_type": "code",
   "execution_count": 24,
   "metadata": {
    "collapsed": false
   },
   "outputs": [
    {
     "name": "stdout",
     "output_type": "stream",
     "text": [
      "-76:24:18.3 13:05:31.1\n"
     ]
    }
   ],
   "source": [
    "# read in ISS TLE and return the effective lat and long of position above earth\n",
    "line1 = \"ISS (ZARYA)\"\n",
    "line2 = \"1 25544U 98067A   03097.78853147  .00021906  00000-0  28403-3 0  8652\"\n",
    "line3 = \"2 25544  51.6361  13.7980 0004256  35.6671  59.2566 15.58778559250029\"\n",
    "iss = ephem.readtle(line1, line2, line3)\n",
    "iss.compute('2003/3/23')\n",
    "print('%s %s' % (iss.sublong, iss.sublat))"
   ]
  },
  {
   "cell_type": "code",
   "execution_count": 25,
   "metadata": {
    "collapsed": false
   },
   "outputs": [
    {
     "name": "stdout",
     "output_type": "stream",
     "text": [
      "In one day the Moon moved 12:33:28.5\n"
     ]
    }
   ],
   "source": [
    "#returns the angle that separates two positions on a sphere\n",
    "m1 = ephem.Moon('1970/1/16')\n",
    "m2 = ephem.Moon('1970/1/17')\n",
    "s = ephem.separation(m1, m2)\n",
    "print(\"In one day the Moon moved %s\" % s)"
   ]
  },
  {
   "cell_type": "code",
   "execution_count": 28,
   "metadata": {
    "collapsed": false
   },
   "outputs": [
    {
     "name": "stdout",
     "output_type": "stream",
     "text": [
      "False\n",
      "False\n",
      "0:57:44.7 256:41:01.3\n"
     ]
    }
   ],
   "source": [
    "#Tutorial example for setting up an \"observer\"\n",
    "lowell = ephem.Observer()\n",
    "lowell.lon = '-111:32.1'\n",
    "lowell.lat = '35:05.8'\n",
    "lowell.elevation = 2198\n",
    "lowell.date = '1986/3/13'\n",
    "j = ephem.Jupiter()\n",
    "j.compute(lowell)\n",
    "print(j.circumpolar)\n",
    "print(j.neverup)\n",
    "print('%s %s' %(j.alt, j.az))\n",
    "#warning generated said certain attributes are deprecated, convert to Observer functions"
   ]
  },
  {
   "cell_type": "code",
   "execution_count": 29,
   "metadata": {
    "collapsed": false
   },
   "outputs": [
    {
     "name": "stdout",
     "output_type": "stream",
     "text": [
      "42:21:30.4 -71:03:35.2\n"
     ]
    }
   ],
   "source": [
    "#XEphem has small database of cities\n",
    "#when called, city() generates a new observer\n",
    "#only includes lat, lon, and elevation\n",
    "boston = ephem.city('Boston')\n",
    "print('%s %s' % (boston.lat, boston.lon))"
   ]
  },
  {
   "cell_type": "code",
   "execution_count": 32,
   "metadata": {
    "collapsed": false
   },
   "outputs": [
    {
     "name": "stdout",
     "output_type": "stream",
     "text": [
      "1999/6/27 04:22:45\n",
      "21:18:33.6 180:00:00.0\n",
      "1999/6/28 23:28:25\n",
      "-0:00:05.8 111:10:41.6\n"
     ]
    }
   ],
   "source": [
    "#For celestial bodies (not satellites) \n",
    "sitka = ephem.Observer()\n",
    "sitka.date = '1999/6/27'\n",
    "sitka.lat = '57:10'\n",
    "sitka.lon = '-135:15'\n",
    "m = ephem.Mars()\n",
    "print(sitka.next_transit(m))\n",
    "print('%s %s' % (m.alt, m.az))\n",
    "print(sitka.next_rising(m, start='1999/6/28'))\n",
    "print('%s %s' % (m.alt, m.az))"
   ]
  },
  {
   "cell_type": "code",
   "execution_count": 34,
   "metadata": {
    "collapsed": false
   },
   "outputs": [
    {
     "name": "stdout",
     "output_type": "stream",
     "text": [
      "Rise time: 2009/5/1 00:22:15 azimuth: 104:36:16.0\n"
     ]
    }
   ],
   "source": [
    "# read in TLE for IRIDIUM\n",
    "line1 = \"IRIDIUM 80 [+]\"\n",
    "line2 = \"1 25469U 98051C   09119.61415140 -.00000218  00000-0 -84793-4 0  4781\"\n",
    "line3 = \"2 25469  86.4029 183.4052 0002522  86.7221 273.4294 14.34215064557061\"\n",
    "iridium_80 = ephem.readtle(line1, line2, line3)\n",
    "boston.date = '2009/5/1'\n",
    "#next_pass() returns six-element tuple where:\n",
    "# 0 Rise time\n",
    "# 1 Rise azimuth\n",
    "# 2 Max altitude time\n",
    "# 3 Max altitude\n",
    "# 4 Set time\n",
    "# 5 Set azimuth\n",
    "info = boston.next_pass(iridium_80)\n",
    "print(\"Rise time: %s azimuth: %s\" % (info[0], info[1]))"
   ]
  },
  {
   "cell_type": "code",
   "execution_count": 36,
   "metadata": {
    "collapsed": false
   },
   "outputs": [
    {
     "name": "stdout",
     "output_type": "stream",
     "text": [
      "5:35:45.28 23:32:54.1 5.6\n",
      "('Tau', 'Taurus')\n"
     ]
    }
   ],
   "source": [
    "#the location and brightness of Uranus on the night it was discovered (march 13, 1781)\n",
    "u = ephem.Uranus()\n",
    "u.compute('1781/3/13')\n",
    "print('%s %s %s' % (u.ra, u.dec, u.mag))\n",
    "print(ephem.constellation(u))"
   ]
  },
  {
   "cell_type": "code",
   "execution_count": 38,
   "metadata": {
    "collapsed": false
   },
   "outputs": [
    {
     "name": "stdout",
     "output_type": "stream",
     "text": [
      "11:48:20.52 2:41:13.6 -1.96\n",
      "11:49:15.77 2:37:04.5 7.92\n",
      "0:14:24.6\n"
     ]
    }
   ],
   "source": [
    "#when Galileo missed discovering Neptune in 1612...\n",
    "#Neptune and Jupiter were only 14' apart\n",
    "j = ephem.Jupiter('1612/12/28')\n",
    "n = ephem.Neptune('1612/12/28')\n",
    "print(\"%s %s %s\" % (j.ra, j.dec, j.mag))\n",
    "print(\"%s %s %s\" % (n.ra, n.dec, n.mag))\n",
    "print(ephem.separation(j, n))"
   ]
  },
  {
   "cell_type": "code",
   "execution_count": 40,
   "metadata": {
    "collapsed": false
   },
   "outputs": [
    {
     "name": "stdout",
     "output_type": "stream",
     "text": [
      "0:26:11.4\n",
      "0:38:05.2\n"
     ]
    }
   ],
   "source": [
    "# showing that mars moves faster when closer to the sun\n",
    "def hpos(body): return body.hlon, body.hlat\n",
    "ma0 = ephem.Mars('1976/05/21')    # ma: mars near aphelion\n",
    "ma1 = ephem.Mars('1976/05/22')\n",
    "print(ephem.separation(hpos(ma0), hpos(ma1)))\n",
    "mp0 = ephem.Mars('1975/06/13')    # mp: mars near perihelion\n",
    "mp1 = ephem.Mars('1975/06/14')\n",
    "print(ephem.separation(hpos(mp0), hpos(mp1)))"
   ]
  },
  {
   "cell_type": "code",
   "execution_count": 45,
   "metadata": {
    "collapsed": false
   },
   "outputs": [
    {
     "name": "stdout",
     "output_type": "stream",
     "text": [
      "22:04:47.4\n",
      "22:04:47.4\n",
      "0.385365877213\n",
      "1.38536587721\n",
      "as a string: 22:04:47.4, as a float: 0.385366\n"
     ]
    }
   ],
   "source": [
    "u = ephem.Uranus('1871/3/13')\n",
    "print(u.dec)       #no specification defaults to string for angles\n",
    "print(str(u.dec))\n",
    "print('%.12f' % float(u.dec))   #angles actually computed in radians\n",
    "print('%.11f' % float(u.dec +1))\n",
    "print(\"as a string: %s, as a float: %f\" % (u.dec, u.dec))"
   ]
  },
  {
   "cell_type": "code",
   "execution_count": 0,
   "metadata": {
    "collapsed": false
   },
   "outputs": [
   ],
   "source": [
   ]
  }
 ],
 "metadata": {
  "kernelspec": {
   "display_name": "Python 3 (Anaconda)",
   "language": "python",
   "name": "anaconda3"
  },
  "language_info": {
   "codemirror_mode": {
    "name": "ipython",
    "version": 3
   },
   "file_extension": ".py",
   "mimetype": "text/x-python",
   "name": "python",
   "nbconvert_exporter": "python",
   "pygments_lexer": "ipython3",
   "version": "3.5.3"
  }
 },
 "nbformat": 4,
 "nbformat_minor": 0
}