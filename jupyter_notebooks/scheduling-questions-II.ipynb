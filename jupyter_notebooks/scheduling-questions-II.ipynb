{
 "cells": [
  {
   "cell_type": "code",
   "execution_count": 2,
   "metadata": {
    "collapsed": false
   },
   "outputs": [
   ],
   "source": [
    "import schedulingbazaar\n",
    "\n",
    "import pickle\n",
    "\n",
    "from itertools import product"
   ]
  },
  {
   "cell_type": "code",
   "execution_count": 8,
   "metadata": {
    "collapsed": false
   },
   "outputs": [
   ],
   "source": [
    "data = schedulingbazaar.get_tles('amateur.txt')"
   ]
  },
  {
   "cell_type": "code",
   "execution_count": 9,
   "metadata": {
    "collapsed": false
   },
   "outputs": [
   ],
   "source": [
    "stations = schedulingbazaar.get_gs('groundstations.txt')"
   ]
  },
  {
   "cell_type": "code",
   "execution_count": 10,
   "metadata": {
    "collapsed": false
   },
   "outputs": [
   ],
   "source": [
    "passes = {}\n",
    "start_time = '2017/6/8 00:00:00'\n",
    "num_passes = None\n",
    "duration = 8760\n",
    "for gs, sat in product(stations, data):\n",
    "    passkey = (gs[0],sat[0].rstrip())\n",
    "    passes[passkey] = schedulingbazaar.get_passes(gs, sat, start_time, num_passes=num_passes, duration=duration)"
   ]
  },
  {
   "cell_type": "code",
   "execution_count": 0,
   "metadata": {
    "collapsed": false
   },
   "outputs": [
   ],
   "source": [
   ]
  },
  {
   "cell_type": "code",
   "execution_count": 11,
   "metadata": {
    "collapsed": false
   },
   "outputs": [
   ],
   "source": [
    "pickle.dump(passes, open('passes.pkl','wb'))"
   ]
  },
  {
   "cell_type": "code",
   "execution_count": 4,
   "metadata": {
    "collapsed": false
   },
   "outputs": [
   ],
   "source": [
    "new_passes = pickle.load(open('passes.pkl', 'rb'))"
   ]
  },
  {
   "cell_type": "code",
   "execution_count": 6,
   "metadata": {
    "collapsed": false,
    "scrolled": true
   },
   "outputs": [
    {
     "data": {
      "text/plain": [
       "1036"
      ]
     },
     "execution_count": 6,
     "metadata": {
     },
     "output_type": "execute_result"
    }
   ],
   "source": [
    "len(new_passes)"
   ]
  },
  {
   "cell_type": "code",
   "execution_count": 8,
   "metadata": {
    "collapsed": false
   },
   "outputs": [
    {
     "name": "stdout",
     "output_type": "stream",
     "text": [
      "[['Stony', '37.970', '23.714', '65'], ['Hackerspace.gr1', '38.017', '23.731', '104'], ['Apomahon', '38.048', '23.739', '150'], ['OZ9AEC-VHF1', '55.510', '11.740', '48'], ['W2BFJ', '42.744', '-71.538', '67'], ['FACT', '53.402', '-2.978', '70'], ['Talos', '35.307', '25.084', '70'], ['KB9JHU', '39.236', '-86.305', '280'], ['oe6xug', '47.059', '15.460', '370'], ['YFK', '37.956', '23.765', '183'], ['SV1IYO', '38.024', '23.733', '120'], ['Doukissis Plakentias [static]', '38.022', '23.828', '208'], ['SZ1SV', '38.005', '23.701', '60'], ['Valparaiso University', '41.4639', '-87.0439', '245']]\n"
     ]
    }
   ],
   "source": [
    "stations = schedulingbazaar.get_gs('groundstations.txt')\n",
    "print(stations)"
   ]
  },
  {
   "cell_type": "code",
   "execution_count": 26,
   "metadata": {
    "collapsed": false
   },
   "outputs": [
   ],
   "source": [
    "import requests\n",
    "r = requests.get('https://network.satnogs.org/stations_all')\n",
    "stations = r.json()"
   ]
  },
  {
   "cell_type": "code",
   "execution_count": 42,
   "metadata": {
    "collapsed": false
   },
   "outputs": [
    {
     "name": "stdout",
     "output_type": "stream",
     "text": [
      "{'name': 'Hackerspace.gr 1', 'lng': 23.7314, 'lat': 38.01697}\n",
      "{'name': 'Apomahon', 'lng': 23.739312, 'lat': 38.048444}\n",
      "{'name': 'W2BFJ', 'lng': -71.538, 'lat': 42.744}\n",
      "{'name': 'Stony', 'lng': 23.71394, 'lat': 37.97034}\n",
      "{'name': 'OZ9AEC-VHF1', 'lng': 11.74, 'lat': 55.51}\n",
      "{'name': 'FACT', 'lng': -2.977684, 'lat': 53.40234}\n",
      "{'name': 'Talos', 'lng': 25.0843861, 'lat': 35.3074558}\n",
      "{'name': 'KB9JHU', 'lng': -86.305, 'lat': 39.236}\n",
      "{'name': 'oe6xug', 'lng': 15.460038, 'lat': 47.058979}\n",
      "{'name': 'YFK', 'lng': 23.765, 'lat': 37.956}\n",
      "{'name': 'SV1IYO', 'lng': 23.733066, 'lat': 38.024474}\n",
      "{'name': 'Doukissis Plakentias [static]', 'lng': 23.828, 'lat': 38.022}\n"
     ]
    }
   ],
   "source": [
    "for s in stations:\n",
    "    print(s)"
   ]
  },
  {
   "cell_type": "code",
   "execution_count": 41,
   "metadata": {
    "collapsed": false
   },
   "outputs": [
    {
     "data": {
      "text/plain": [
       "dict"
      ]
     },
     "execution_count": 41,
     "metadata": {
     },
     "output_type": "execute_result"
    }
   ],
   "source": [
    "type(stations[-1])"
   ]
  },
  {
   "cell_type": "code",
   "execution_count": 0,
   "metadata": {
    "collapsed": false
   },
   "outputs": [
   ],
   "source": [
   ]
  },
  {
   "cell_type": "code",
   "execution_count": 38,
   "metadata": {
    "collapsed": false
   },
   "outputs": [
   ],
   "source": [
    "import json\n",
    "\n",
    "json.dump(stations, open('gs.json', 'w'), indent=2)\n"
   ]
  },
  {
   "cell_type": "code",
   "execution_count": 0,
   "metadata": {
    "collapsed": false
   },
   "outputs": [
   ],
   "source": [
    "json.dump?"
   ]
  }
 ],
 "metadata": {
  "kernelspec": {
   "display_name": "Python 3 (Anaconda)",
   "language": "python",
   "name": "anaconda3"
  },
  "language_info": {
   "codemirror_mode": {
    "name": "ipython",
    "version": 3
   },
   "file_extension": ".py",
   "mimetype": "text/x-python",
   "name": "python",
   "nbconvert_exporter": "python",
   "pygments_lexer": "ipython3",
   "version": "3.5.3"
  }
 },
 "nbformat": 4,
 "nbformat_minor": 0
}