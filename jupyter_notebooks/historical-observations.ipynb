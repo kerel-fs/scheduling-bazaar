{
 "cells": [
  {
   "cell_type": "code",
   "execution_count": 1,
   "metadata": {},
   "outputs": [],
   "source": [
    "from datetime import timedelta\n",
    "import json\n",
    "\n",
    "from intervaltree import IntervalTree, Interval\n",
    "from iso8601 import parse_date"
   ]
  },
  {
   "cell_type": "code",
   "execution_count": 17,
   "metadata": {},
   "outputs": [],
   "source": [
    "observations = json.load(open('observations.json'))"
   ]
  },
  {
   "cell_type": "code",
   "execution_count": 18,
   "metadata": {},
   "outputs": [
    {
     "name": "stdout",
     "output_type": "stream",
     "text": [
      "66 zero duration\n",
      "28 start > end\n"
     ]
    }
   ],
   "source": [
    "tree = IntervalTree()\n",
    "\n",
    "# count the bad obs start/end times\n",
    "non_causal = 0\n",
    "zero_duration = 0\n",
    "for o in observations.values():\n",
    "    start = parse_date(o['start'], default_timezone=None)\n",
    "    end = parse_date(o['end'], default_timezone=None)\n",
    "    \n",
    "    # ignore bogus start/end times\n",
    "    if end < start:\n",
    "        non_causal += 1\n",
    "        continue\n",
    "    elif end == start:\n",
    "        zero_duration += 1\n",
    "        continue\n",
    "    tree.addi(start, end, o)\n",
    "\n",
    "print(zero_duration, 'zero duration')\n",
    "print(non_causal, 'start > end')"
   ]
  },
  {
   "cell_type": "code",
   "execution_count": 19,
   "metadata": {},
   "outputs": [
    {
     "data": {
      "text/plain": [
       "167815"
      ]
     },
     "execution_count": 19,
     "metadata": {},
     "output_type": "execute_result"
    }
   ],
   "source": [
    "len(tree)"
   ]
  },
  {
   "cell_type": "code",
   "execution_count": 20,
   "metadata": {},
   "outputs": [],
   "source": [
    "firstday = tree.begin().replace(hour=0, minute=0, second=0)\n",
    "\n",
    "days = [firstday + timedelta(days=i) for i in range(len(tree))]"
   ]
  },
  {
   "cell_type": "code",
   "execution_count": null,
   "metadata": {},
   "outputs": [],
   "source": [
    "counts = []\n",
    "\n",
    "oneday = timedelta(days=1)\n",
    "for day in days:\n",
    "    obs = observations[day : day + oneday]\n",
    "    for o in obs:\n",
    "        pass"
   ]
  }
 ],
 "metadata": {
  "kernelspec": {
   "display_name": "Python 3",
   "language": "python",
   "name": "python3"
  },
  "language_info": {
   "codemirror_mode": {
    "name": "ipython",
    "version": 3
   },
   "file_extension": ".py",
   "mimetype": "text/x-python",
   "name": "python",
   "nbconvert_exporter": "python",
   "pygments_lexer": "ipython3",
   "version": "3.6.5"
  }
 },
 "nbformat": 4,
 "nbformat_minor": 2
}
