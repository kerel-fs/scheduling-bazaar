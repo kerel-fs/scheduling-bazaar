{
 "cells": [
  {
   "cell_type": "code",
   "execution_count": 1,
   "metadata": {},
   "outputs": [],
   "source": [
    "import datetime\n",
    "\n",
    "import intervaltree\n",
    "\n",
    "import db"
   ]
  },
  {
   "cell_type": "code",
   "execution_count": 2,
   "metadata": {},
   "outputs": [],
   "source": [
    "ephem = db.getpasses('ephem-passes.db', gs='KB9JHU')\n",
    "orbital = db.getpasses('orbital-passes.db', gs='KB9JHU')"
   ]
  },
  {
   "cell_type": "code",
   "execution_count": 3,
   "metadata": {},
   "outputs": [
    {
     "data": {
      "text/plain": [
       "IntervalTree([Interval(datetime.datetime(2017, 6, 8, 1, 12, 10, 960466), datetime.datetime(2017, 6, 8, 1, 14, 53, 187586), PassTuple(start=datetime.datetime(2017, 6, 8, 1, 12, 10, 960466), end=datetime.datetime(2017, 6, 8, 1, 14, 53, 187586), duration=162.22712, rise_az=348.20099483049904, set_az=36.51784545409412, tca=datetime.datetime(2017, 6, 8, 1, 13, 32, 60951), max_el=11.892975538504555, gs='KB9JHU', sat='ISS (ZARYA)')), Interval(datetime.datetime(2017, 6, 8, 2, 47, 39, 855197), datetime.datetime(2017, 6, 8, 2, 53, 51, 728298), PassTuple(start=datetime.datetime(2017, 6, 8, 2, 47, 39, 855197), end=datetime.datetime(2017, 6, 8, 2, 53, 51, 728298), duration=371.873101, rise_az=321.90878267718193, set_az=101.0396304297806, tca=datetime.datetime(2017, 6, 8, 2, 50, 46, 345622), max_el=36.36530683936023, gs='KB9JHU', sat='ISS (ZARYA)')), Interval(datetime.datetime(2017, 6, 8, 4, 24, 26, 622261), datetime.datetime(2017, 6, 8, 4, 29, 47, 168816), PassTuple(start=datetime.datetime(2017, 6, 8, 4, 24, 26, 622261), end=datetime.datetime(2017, 6, 8, 4, 29, 47, 168816), duration=320.546555, rise_az=281.9634048636028, set_az=173.15916074383836, tca=datetime.datetime(2017, 6, 8, 4, 27, 7, 372965), max_el=22.810652997497353, gs='KB9JHU', sat='ISS (ZARYA)'))])"
      ]
     },
     "execution_count": 3,
     "metadata": {},
     "output_type": "execute_result"
    }
   ],
   "source": [
    "ephem"
   ]
  },
  {
   "cell_type": "code",
   "execution_count": 4,
   "metadata": {},
   "outputs": [
    {
     "data": {
      "text/plain": [
       "IntervalTree([Interval(datetime.datetime(2017, 6, 8, 2, 50, 9, 229572), datetime.datetime(2017, 6, 8, 2, 51, 23, 4999), PassTuple(start=datetime.datetime(2017, 6, 8, 2, 50, 9, 229572), end=datetime.datetime(2017, 6, 8, 2, 51, 23, 4999), duration=73.775427, rise_az=4.145137839760012, set_az=58.483800835882924, tca=datetime.datetime(2017, 6, 8, 2, 50, 46, 117285), max_el=11.75032394366002, gs='KB9JHU', sat='ISS (ZARYA)'))])"
      ]
     },
     "execution_count": 4,
     "metadata": {},
     "output_type": "execute_result"
    }
   ],
   "source": [
    "orbital"
   ]
  },
  {
   "cell_type": "code",
   "execution_count": 31,
   "metadata": {},
   "outputs": [
    {
     "data": {
      "text/plain": [
       "set()"
      ]
     },
     "execution_count": 31,
     "metadata": {},
     "output_type": "execute_result"
    }
   ],
   "source": [
    "orbital[orbital.begin()+datetime.timedelta(minutes=10)]"
   ]
  },
  {
   "cell_type": "code",
   "execution_count": 50,
   "metadata": {},
   "outputs": [],
   "source": [
    "import ephem\n",
    "from math import degrees\n",
    "import pyorbital.orbital\n",
    "import datetime\n",
    "\n",
    "\n",
    "satellite_name = \"ISS (ZARYA)\"\n",
    "line1 = \"1 25544U 98067A   18172.31512506  .00016717  00000-0  10270-3 0  9032\"\n",
    "line2 = \"2 25544  51.6424 358.1382 0003248 238.2382 121.8454 15.53975871 39153\"\n",
    "start_time = datetime.datetime(2018, 6, 20, 14, 0, 0)\n",
    "\n",
    "\n",
    "(lon, lat, ele) = (-87.0383, 41.4631, 100)"
   ]
  },
  {
   "cell_type": "code",
   "execution_count": 51,
   "metadata": {},
   "outputs": [
    {
     "name": "stdout",
     "output_type": "stream",
     "text": [
      "PyEphem result:   2018-06-20 14:00:00 -85.38464560681462 356.4038334576309\n",
      "PyOrbital result: 2018-06-20 14:00:00 -85.41967282961288 356.4057832621286\n"
     ]
    }
   ],
   "source": [
    "def sim_pyephem():\n",
    "    observer = ephem.Observer()\n",
    "    observer.lon = str(lon)\n",
    "    observer.lat = str(lat)\n",
    "    observer.elevation = ele\n",
    "    #observer.date = (start_time + 2440587.5 * 86400) / 86400 - 2415020\n",
    "    observer.date = start_time\n",
    "    satellite = ephem.readtle(satellite_name, line1, line2)\n",
    "    satellite.compute(observer)\n",
    "\n",
    "    alt1 = float(repr(satellite.alt))\n",
    "    alt1 = degrees(alt1)\n",
    "    az1 = float(repr(satellite.az))\n",
    "    az1 = degrees(az1)\n",
    "\n",
    "    print(\"PyEphem result:  \", start_time, alt1, az1)\n",
    "\n",
    "\n",
    "def sim_pyorbital():\n",
    "    satellite = pyorbital.orbital.Orbital(satellite_name, line1=line1, line2=line2)\n",
    "    #time1 = datetime.datetime.utcfromtimestamp(start_time)\n",
    "    az1, alt1 = satellite.get_observer_look(start_time, lon, lat, ele)\n",
    "    print(\"PyOrbital result:\", start_time, alt1, az1)\n",
    "\n",
    "sim_pyephem()\n",
    "sim_pyorbital()"
   ]
  },
  {
   "cell_type": "code",
   "execution_count": 52,
   "metadata": {},
   "outputs": [],
   "source": [
    "sat = pyorbital.orbital.Orbital(satellite_name, line1=line1, line2=line2)"
   ]
  },
  {
   "cell_type": "code",
   "execution_count": 64,
   "metadata": {},
   "outputs": [
    {
     "data": {
      "text/plain": [
       "(datetime.datetime(2018, 6, 20, 14, 46, 57, 768273),\n",
       " datetime.datetime(2018, 6, 20, 14, 52, 18, 610562),\n",
       " datetime.datetime(2018, 6, 20, 14, 49, 37, 682368))"
      ]
     },
     "execution_count": 64,
     "metadata": {},
     "output_type": "execute_result"
    }
   ],
   "source": [
    "sat.get_next_passes(start_time, 24, lon, lat, ele, tol=0.1, horizon=10)[0]"
   ]
  },
  {
   "cell_type": "code",
   "execution_count": 57,
   "metadata": {},
   "outputs": [],
   "source": [
    "import schedulingbazaar"
   ]
  },
  {
   "cell_type": "code",
   "execution_count": 60,
   "metadata": {},
   "outputs": [
    {
     "data": {
      "text/plain": [
       "(datetime.datetime(2018, 6, 20, 14, 46, 19, 973362),\n",
       " datetime.datetime(2018, 6, 20, 14, 52, 56, 531628),\n",
       " datetime.datetime(2018, 6, 20, 14, 49, 37, 661854))"
      ]
     },
     "execution_count": 60,
     "metadata": {},
     "output_type": "execute_result"
    }
   ],
   "source": [
    "d = schedulingbazaar.get_passes({'name':'foo', 'lat':lat, 'lon':lon, 'altitude':ele}, [satellite_name, line1, line2], start_time, duration=24)[0]\n",
    "(d['start'], d['end'], d['tca'])"
   ]
  },
  {
   "cell_type": "code",
   "execution_count": null,
   "metadata": {},
   "outputs": [],
   "source": []
  }
 ],
 "metadata": {
  "kernelspec": {
   "display_name": "Python 3",
   "language": "python",
   "name": "python3"
  },
  "language_info": {
   "codemirror_mode": {
    "name": "ipython",
    "version": 3
   },
   "file_extension": ".py",
   "mimetype": "text/x-python",
   "name": "python",
   "nbconvert_exporter": "python",
   "pygments_lexer": "ipython3",
   "version": "3.6.5"
  }
 },
 "nbformat": 4,
 "nbformat_minor": 2
}
