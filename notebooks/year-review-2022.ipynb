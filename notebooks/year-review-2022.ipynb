{
 "cells": [
  {
   "cell_type": "markdown",
   "id": "fd778f4e",
   "metadata": {},
   "source": [
    "# Year in Review &ndash; 2022\n",
    "\n",
    "Interesting stats about ground stations on the [SatNOGS Network](https://network.satnogs.org)."
   ]
  },
  {
   "cell_type": "markdown",
   "id": "44183aed",
   "metadata": {},
   "source": [
    "&rarr; Skip past the setup to the [Statistics](#Statistics) section."
   ]
  },
  {
   "cell_type": "markdown",
   "id": "db4b76fd",
   "metadata": {},
   "source": [
    "**Work in Progress**"
   ]
  },
  {
   "cell_type": "markdown",
   "id": "7a0c3c97",
   "metadata": {},
   "source": [
    "# Ground Stations database setup"
   ]
  },
  {
   "cell_type": "code",
   "execution_count": 1,
   "id": "d05fc880",
   "metadata": {},
   "outputs": [],
   "source": [
    "%load_ext sql"
   ]
  },
  {
   "cell_type": "code",
   "execution_count": 2,
   "id": "aa058310",
   "metadata": {},
   "outputs": [
    {
     "data": {
      "text/plain": [
       "'Connected: @../data/stations.db'"
      ]
     },
     "execution_count": 2,
     "metadata": {},
     "output_type": "execute_result"
    }
   ],
   "source": [
    "%sql sqlite:///../data/stations.db"
   ]
  },
  {
   "cell_type": "markdown",
   "id": "2d026c33",
   "metadata": {},
   "source": [
    "First thing is to see whuzzup with this (SQlite) database."
   ]
  },
  {
   "cell_type": "code",
   "execution_count": 3,
   "id": "beb1a187",
   "metadata": {},
   "outputs": [
    {
     "name": "stdout",
     "output_type": "stream",
     "text": [
      " * sqlite:///../data/stations.db\n",
      "Done.\n",
      "Done.\n"
     ]
    },
    {
     "data": {
      "text/plain": [
       "[]"
      ]
     },
     "execution_count": 3,
     "metadata": {},
     "output_type": "execute_result"
    }
   ],
   "source": [
    "%%sql\n",
    "CREATE TABLE IF NOT EXISTS stations (\n",
    "    id PRIMARY KEY,\n",
    "    altitude REAL,\n",
    "    antenna TEXT CHECK(json_valid(antenna)),  -- array of objects\n",
    "    client_version TEXT,\n",
    "    created TEXT,       --  YYYY-mm-ddTHH:MMZ\n",
    "    description TEXT,\n",
    "    last_seen TEXT,     --  YYYY-mm-ddTHH:MMZ\n",
    "    lat REAL,\n",
    "    lng REAL,\n",
    "    min_horizon REAL,\n",
    "    name TEXT,\n",
    "    observations INT,\n",
    "    qthlocator TEXT,\n",
    "    status TEXT,\n",
    "    target_utilization INT,\n",
    "    rotator INT         -- 0, 1, or 2 axis rotation\n",
    "    );\n",
    "\n",
    "-- Then, add rows from the stations.json.  This was done via CSV import, but it should\n",
    "-- be configured to directly ingest from the JSON in order to keep the DB up to date.\n"
   ]
  },
  {
   "cell_type": "markdown",
   "id": "dc5268db",
   "metadata": {},
   "source": [
    "The main table `stations` is just a copy of the data returned by the SatNOGS Network API endpoint https://network.satnogs.org/api/stations\n"
   ]
  },
  {
   "cell_type": "markdown",
   "id": "ba317341",
   "metadata": {},
   "source": [
    "TODO: Automatically update the database from the API."
   ]
  },
  {
   "cell_type": "markdown",
   "id": "a2c9b07e",
   "metadata": {},
   "source": [
    "## Rotator information\n",
    "\n",
    "The configuration for a ground station does not include machine-readable information about the antenna _mount_ -- how many axes of motion the antenna is moved about.\n",
    "An omni-directional antenna affixed to a mast has 0 axes, while an azimuth + elevation rotator has 2 axes.\n",
    "A single axis is also possible."
   ]
  },
  {
   "cell_type": "markdown",
   "id": "01de7d3f",
   "metadata": {},
   "source": [
    "Notice from the schema for `stations` that there is one extra column, `rotator`, which will hold this information.\n",
    "The problem is that we need to figure out the proper value to place in that field."
   ]
  },
  {
   "cell_type": "markdown",
   "id": "684c7b82",
   "metadata": {},
   "source": [
    "The `antenna` field holds a JSON array of objects holding information about the antennas attached to the particular station.\n",
    "\n",
    "For example, the [main Valpo !WIREDlab station #834](https://network.satnogs.org/stations/834/) is configured with two antennas combined by a duplexer into a single RTL-SDR Blog v3 receiver.\n",
    "The JSON array is then:\n",
    "\n",
    "```json\n",
    "\"antenna\": [\n",
    "        {\n",
    "            \"frequency\": 430000000,\n",
    "            \"frequency_max\": 470000000,\n",
    "            \"band\": \"UHF\",\n",
    "            \"antenna_type\": \"cross-yagi\",\n",
    "            \"antenna_type_name\": \"Cross Yagi\"\n",
    "        },\n",
    "        {\n",
    "            \"frequency\": 135000000,\n",
    "            \"frequency_max\": 150000000,\n",
    "            \"band\": \"VHF\",\n",
    "            \"antenna_type\": \"cross-yagi\",\n",
    "            \"antenna_type_name\": \"Cross Yagi\"\n",
    "        }\n",
    "    ]\n",
    "```\n",
    "\n",
    "For our purposes here (inferring a correct `rotator` value), we focus on the object key `antenna_type`.\n",
    "\n",
    "Extract the first item of the `antenna` array and summarize how many stations are using each type."
   ]
  },
  {
   "cell_type": "code",
   "execution_count": 4,
   "id": "7750cea4",
   "metadata": {},
   "outputs": [
    {
     "name": "stdout",
     "output_type": "stream",
     "text": [
      " * sqlite:///../data/stations.db\n",
      "Done.\n"
     ]
    },
    {
     "data": {
      "text/html": [
       "<table>\n",
       "    <thead>\n",
       "        <tr>\n",
       "            <th>type</th>\n",
       "            <th>num_type</th>\n",
       "        </tr>\n",
       "    </thead>\n",
       "    <tbody>\n",
       "        <tr>\n",
       "            <td>turnstile</td>\n",
       "            <td>358</td>\n",
       "        </tr>\n",
       "        <tr>\n",
       "            <td>yagi</td>\n",
       "            <td>316</td>\n",
       "        </tr>\n",
       "        <tr>\n",
       "            <td>quadrafilar</td>\n",
       "            <td>290</td>\n",
       "        </tr>\n",
       "        <tr>\n",
       "            <td>vertical</td>\n",
       "            <td>249</td>\n",
       "        </tr>\n",
       "        <tr>\n",
       "            <td>cross-yagi</td>\n",
       "            <td>229</td>\n",
       "        </tr>\n",
       "        <tr>\n",
       "            <td>None</td>\n",
       "            <td>204</td>\n",
       "        </tr>\n",
       "        <tr>\n",
       "            <td>dipole</td>\n",
       "            <td>180</td>\n",
       "        </tr>\n",
       "        <tr>\n",
       "            <td>v-dipole</td>\n",
       "            <td>153</td>\n",
       "        </tr>\n",
       "        <tr>\n",
       "            <td>discone</td>\n",
       "            <td>140</td>\n",
       "        </tr>\n",
       "        <tr>\n",
       "            <td>eggbeater</td>\n",
       "            <td>139</td>\n",
       "        </tr>\n",
       "        <tr>\n",
       "            <td>other omni</td>\n",
       "            <td>91</td>\n",
       "        </tr>\n",
       "        <tr>\n",
       "            <td>helical</td>\n",
       "            <td>80</td>\n",
       "        </tr>\n",
       "        <tr>\n",
       "            <td>ground</td>\n",
       "            <td>69</td>\n",
       "        </tr>\n",
       "        <tr>\n",
       "            <td>lindenblad</td>\n",
       "            <td>38</td>\n",
       "        </tr>\n",
       "        <tr>\n",
       "            <td>other direct</td>\n",
       "            <td>35</td>\n",
       "        </tr>\n",
       "        <tr>\n",
       "            <td>parabolic</td>\n",
       "            <td>18</td>\n",
       "        </tr>\n",
       "        <tr>\n",
       "            <td>patch</td>\n",
       "            <td>10</td>\n",
       "        </tr>\n",
       "        <tr>\n",
       "            <td>paralindy</td>\n",
       "            <td>5</td>\n",
       "        </tr>\n",
       "    </tbody>\n",
       "</table>"
      ],
      "text/plain": [
       "[('turnstile', 358),\n",
       " ('yagi', 316),\n",
       " ('quadrafilar', 290),\n",
       " ('vertical', 249),\n",
       " ('cross-yagi', 229),\n",
       " (None, 204),\n",
       " ('dipole', 180),\n",
       " ('v-dipole', 153),\n",
       " ('discone', 140),\n",
       " ('eggbeater', 139),\n",
       " ('other omni', 91),\n",
       " ('helical', 80),\n",
       " ('ground', 69),\n",
       " ('lindenblad', 38),\n",
       " ('other direct', 35),\n",
       " ('parabolic', 18),\n",
       " ('patch', 10),\n",
       " ('paralindy', 5)]"
      ]
     },
     "execution_count": 4,
     "metadata": {},
     "output_type": "execute_result"
    }
   ],
   "source": [
    "%%sql\n",
    "-- Histogram of antenna types\n",
    "SELECT\n",
    "    json_extract(antenna, \"$[0].antenna_type\") as type,\n",
    "    count(antenna) as num_type\n",
    "FROM stations\n",
    "GROUP BY type\n",
    "ORDER BY num_type DESC;"
   ]
  },
  {
   "cell_type": "markdown",
   "id": "f74a67fd",
   "metadata": {},
   "source": [
    "Given these types of antennas, we can make a pretty good guess at which stations will have a rotator or not.\n",
    "Omni-directional antenna types, e.g. turnstile and vertical, have no use for a rotator, while directional antennas such as yagi and helical likely would have a rotator.\n",
    "\n",
    "Update the database to add these guesses."
   ]
  },
  {
   "cell_type": "code",
   "execution_count": 5,
   "id": "ecb79cf6",
   "metadata": {},
   "outputs": [
    {
     "name": "stdout",
     "output_type": "stream",
     "text": [
      " * sqlite:///../data/stations.db\n",
      "358 rows affected.\n",
      " * sqlite:///../data/stations.db\n",
      "316 rows affected.\n",
      " * sqlite:///../data/stations.db\n",
      "290 rows affected.\n",
      " * sqlite:///../data/stations.db\n",
      "249 rows affected.\n",
      " * sqlite:///../data/stations.db\n",
      "229 rows affected.\n",
      " * sqlite:///../data/stations.db\n",
      "180 rows affected.\n",
      " * sqlite:///../data/stations.db\n",
      "153 rows affected.\n",
      " * sqlite:///../data/stations.db\n",
      "140 rows affected.\n",
      " * sqlite:///../data/stations.db\n",
      "139 rows affected.\n",
      " * sqlite:///../data/stations.db\n",
      "91 rows affected.\n",
      " * sqlite:///../data/stations.db\n",
      "80 rows affected.\n",
      " * sqlite:///../data/stations.db\n",
      "69 rows affected.\n",
      " * sqlite:///../data/stations.db\n",
      "38 rows affected.\n",
      " * sqlite:///../data/stations.db\n",
      "35 rows affected.\n",
      " * sqlite:///../data/stations.db\n",
      "18 rows affected.\n",
      " * sqlite:///../data/stations.db\n",
      "10 rows affected.\n",
      " * sqlite:///../data/stations.db\n",
      "5 rows affected.\n"
     ]
    }
   ],
   "source": [
    "guesses = (\n",
    "    (0, \"turnstile\"),\n",
    "    (2, \"yagi\"),\n",
    "    (0, \"quadrafilar\"),\n",
    "    (0, \"vertical\"),\n",
    "    (2, \"cross-yagi\"),\n",
    "    (0, \"dipole\"),\n",
    "    (0, \"v-dipole\"),\n",
    "    (0, \"discone\"),\n",
    "    (0, \"eggbeater\"),\n",
    "    (0, \"other omni\"),\n",
    "    (2, \"helical\"),\n",
    "    (0, \"ground\"),\n",
    "    (0, \"lindenblad\"),\n",
    "    (2, \"other direct\"),\n",
    "    (2, \"parabolic\"),\n",
    "    (0, \"patch\"),\n",
    "    (0, \"paralindy\"),\n",
    ")\n",
    "\n",
    "for r, name in guesses:\n",
    "    %sql UPDATE stations SET rotator = {r} \\\n",
    "         WHERE json_extract(antenna, \"$[0].antenna_type\") = \"{name}\";\n"
   ]
  },
  {
   "cell_type": "markdown",
   "id": "b9115343",
   "metadata": {},
   "source": [
    "Next up, recall that the station's name can contain useful information (FooName - fixed) along with the free-form Description text.\n",
    "\n",
    "Set up a text search virtual table so we can look for text patterns:"
   ]
  },
  {
   "cell_type": "code",
   "execution_count": 6,
   "id": "2ef2c11a",
   "metadata": {},
   "outputs": [
    {
     "name": "stdout",
     "output_type": "stream",
     "text": [
      " * sqlite:///../data/stations.db\n",
      "Done.\n",
      "2604 rows affected.\n"
     ]
    },
    {
     "data": {
      "text/plain": [
       "[]"
      ]
     },
     "execution_count": 6,
     "metadata": {},
     "output_type": "execute_result"
    }
   ],
   "source": [
    "%%sql\n",
    "-- Setup for searching name, description fields for various text.\n",
    "-- This is to find stations with different rotators than what may\n",
    "-- be implied by their declared antenna_type(s)\n",
    "CREATE VIRTUAL TABLE IF NOT EXISTS text \n",
    "USING FTS5(id, name, description);\n",
    "\n",
    "INSERT OR REPLACE INTO text\n",
    "SELECT id, name, description from stations;"
   ]
  },
  {
   "cell_type": "markdown",
   "id": "61b07908",
   "metadata": {},
   "source": [
    "Now let's look for stations where the **name** or **description** contain \"fixed\"."
   ]
  },
  {
   "cell_type": "code",
   "execution_count": 7,
   "id": "828e0975",
   "metadata": {},
   "outputs": [
    {
     "name": "stdout",
     "output_type": "stream",
     "text": [
      " * sqlite:///../data/stations.db\n",
      "Done.\n"
     ]
    },
    {
     "data": {
      "text/html": [
       "<table>\n",
       "    <thead>\n",
       "        <tr>\n",
       "            <th>id</th>\n",
       "            <th>name</th>\n",
       "            <th>description</th>\n",
       "            <th>antenna</th>\n",
       "        </tr>\n",
       "    </thead>\n",
       "    <tbody>\n",
       "        <tr>\n",
       "            <td>66</td>\n",
       "            <td>KE8FZT - UHF</td>\n",
       "            <td>Arrow UHF Corner Reflector, Fixed 20 Deg Elevation &amp; Pointed 45 Deg NorthEast,  AMSAT LNA,, MFJ Duplexer, <br> Raspberry Pi3b</td>\n",
       "            <td>[{&quot;antenna_type&quot;:&quot;yagi&quot;,&quot;antenna_type_name&quot;:&quot;Yagi&quot;,&quot;band&quot;:&quot;VHF&quot;,&quot;frequency&quot;:135000000,&quot;frequency_max&quot;:148000000},{&quot;antenna_type&quot;:&quot;yagi&quot;,&quot;antenna_type_name&quot;:&quot;Yagi&quot;,&quot;band&quot;:&quot;UHF&quot;,&quot;frequency&quot;:430000000,&quot;frequency_max&quot;:470000000}]</td>\n",
       "        </tr>\n",
       "        <tr>\n",
       "            <td>212</td>\n",
       "            <td>KE8FZT - VHF</td>\n",
       "            <td>Arrow VHF Corner Reflector, Fixed 20 Deg Elevation &amp; Pointed  45 Deg NorthEast, LNA, Raspberry Pi3b</td>\n",
       "            <td>[{&quot;antenna_type&quot;:&quot;yagi&quot;,&quot;antenna_type_name&quot;:&quot;Yagi&quot;,&quot;band&quot;:&quot;VHF&quot;,&quot;frequency&quot;:135000000,&quot;frequency_max&quot;:146000000}]</td>\n",
       "        </tr>\n",
       "        <tr>\n",
       "            <td>1351</td>\n",
       "            <td>7el 70cm fixed Yagi</td>\n",
       "            <td>Restricted viewing angle is approximately 230 to 330 degrees.</td>\n",
       "            <td>[{&quot;antenna_type&quot;:&quot;yagi&quot;,&quot;antenna_type_name&quot;:&quot;Yagi&quot;,&quot;band&quot;:&quot;UHF&quot;,&quot;frequency&quot;:430000000,&quot;frequency_max&quot;:470000000}]</td>\n",
       "        </tr>\n",
       "        <tr>\n",
       "            <td>1787</td>\n",
       "            <td>NCG</td>\n",
       "            <td>Double bi-quad (13.46 dB) fixed position directional antenna looking e (W passes will not be seen well), altitude 48 deg, LNA (gain 20 dB noise 0.36dB), Lime, RPi 4</td>\n",
       "            <td>[{&quot;antenna_type&quot;:&quot;other direct&quot;,&quot;antenna_type_name&quot;:&quot;Other Directional&quot;,&quot;band&quot;:&quot;VHF, UHF&quot;,&quot;frequency&quot;:130000000,&quot;frequency_max&quot;:600000000}]</td>\n",
       "        </tr>\n",
       "        <tr>\n",
       "            <td>1810</td>\n",
       "            <td>NCG2</td>\n",
       "            <td>V-dipole fixed, looking 90 deg E, LNA (gain 20dB noise 0.8dB), Lime, RPi</td>\n",
       "            <td>[{&quot;antenna_type&quot;:&quot;other direct&quot;,&quot;antenna_type_name&quot;:&quot;Other Directional&quot;,&quot;band&quot;:&quot;VHF&quot;,&quot;frequency&quot;:135000000,&quot;frequency_max&quot;:148000000}]</td>\n",
       "        </tr>\n",
       "        <tr>\n",
       "            <td>1868</td>\n",
       "            <td>HB9FXX S-Band</td>\n",
       "            <td>My little s-band station: 4G feed on fixed dish pointing roughly at 300° (WNW) and 30-45° elevation-&gt; VLNA13 -&gt; Coax -&gt; 1.5GHz LPF -&gt; HackRF SDR -&gt; RPi 4 8GB. The HackRF uses a Leo Bodnar GPSDO mini reference. On a first floor balcony with mostly west opening. Not a terrible location but the best I can do living in a flat.</td>\n",
       "            <td>[{&quot;antenna_type&quot;:&quot;parabolic&quot;,&quot;antenna_type_name&quot;:&quot;Parabolic&quot;,&quot;band&quot;:&quot;L, S&quot;,&quot;frequency&quot;:1650000000,&quot;frequency_max&quot;:2400000000}]</td>\n",
       "        </tr>\n",
       "        <tr>\n",
       "            <td>1950</td>\n",
       "            <td>KG7ZVV Satnogs</td>\n",
       "            <td>Fixed (no rotator) 10 element UHF Yagi. Visibility to only portion of sky towards Southwest. Apartments and building on other side.</td>\n",
       "            <td>[{&quot;antenna_type&quot;:&quot;yagi&quot;,&quot;antenna_type_name&quot;:&quot;Yagi&quot;,&quot;band&quot;:&quot;UHF&quot;,&quot;frequency&quot;:430000000,&quot;frequency_max&quot;:470000000}]</td>\n",
       "        </tr>\n",
       "        <tr>\n",
       "            <td>2080</td>\n",
       "            <td>USU GAS Yagi Fixed SW</td>\n",
       "            <td>Utah State University Get Away Special Team&#x27;s second ground station. Wimo X-Quad (linear), No LNA currently. Fixed pointing SW at 45 deg elevation.</td>\n",
       "            <td>[{&quot;antenna_type&quot;:&quot;yagi&quot;,&quot;antenna_type_name&quot;:&quot;Yagi&quot;,&quot;band&quot;:&quot;UHF&quot;,&quot;frequency&quot;:430000000,&quot;frequency_max&quot;:440000000}]</td>\n",
       "        </tr>\n",
       "        <tr>\n",
       "            <td>2107</td>\n",
       "            <td>JH4XSY-pi</td>\n",
       "            <td>Pi4 + Airspy Mini +  3ele(145MHz)/6ele(435MHz) YAGI Fixed beam to the SouthWest.+ LNA</td>\n",
       "            <td>[{&quot;antenna_type&quot;:&quot;yagi&quot;,&quot;antenna_type_name&quot;:&quot;Yagi&quot;,&quot;band&quot;:&quot;VHF&quot;,&quot;frequency&quot;:135000000,&quot;frequency_max&quot;:148000000},{&quot;antenna_type&quot;:&quot;yagi&quot;,&quot;antenna_type_name&quot;:&quot;Yagi&quot;,&quot;band&quot;:&quot;UHF&quot;,&quot;frequency&quot;:420000000,&quot;frequency_max&quot;:450000000}]</td>\n",
       "        </tr>\n",
       "        <tr>\n",
       "            <td>2246</td>\n",
       "            <td>HB9FXX S-Band 2</td>\n",
       "            <td>Fixed dish at 300°, pointing like 30-40° up</td>\n",
       "            <td>[{&quot;antenna_type&quot;:&quot;parabolic&quot;,&quot;antenna_type_name&quot;:&quot;Parabolic&quot;,&quot;band&quot;:&quot;L, S&quot;,&quot;frequency&quot;:1650000000,&quot;frequency_max&quot;:2500000000}]</td>\n",
       "        </tr>\n",
       "        <tr>\n",
       "            <td>2263</td>\n",
       "            <td>KO4BHX - Rougemont - NC - USA</td>\n",
       "            <td>Arrow 146/437-10  Fixed AZ:180, EL:90</td>\n",
       "            <td>[{&quot;antenna_type&quot;:&quot;yagi&quot;,&quot;antenna_type_name&quot;:&quot;Yagi&quot;,&quot;band&quot;:&quot;VHF&quot;,&quot;frequency&quot;:135000000,&quot;frequency_max&quot;:148000000},{&quot;antenna_type&quot;:&quot;yagi&quot;,&quot;antenna_type_name&quot;:&quot;Yagi&quot;,&quot;band&quot;:&quot;UHF&quot;,&quot;frequency&quot;:430000000,&quot;frequency_max&quot;:470000000}]</td>\n",
       "        </tr>\n",
       "        <tr>\n",
       "            <td>2372</td>\n",
       "            <td>FCNA2021-2</td>\n",
       "            <td>NOT IN SERVICE<br><br>FIXED 90 ELEVATION</td>\n",
       "            <td>[{&quot;antenna_type&quot;:&quot;yagi&quot;,&quot;antenna_type_name&quot;:&quot;Yagi&quot;,&quot;band&quot;:&quot;UHF&quot;,&quot;frequency&quot;:430000000,&quot;frequency_max&quot;:470000000}]</td>\n",
       "        </tr>\n",
       "        <tr>\n",
       "            <td>2430</td>\n",
       "            <td>SPACECLUB_TO1</td>\n",
       "            <td>Fixed Yagi 70cm 7dbi  <br>Nooelec LANA LNA <br>Nooelec rtlsdr clone - NESDR SMArTee v2</td>\n",
       "            <td>[{&quot;antenna_type&quot;:&quot;cross-yagi&quot;,&quot;antenna_type_name&quot;:&quot;Cross Yagi&quot;,&quot;band&quot;:&quot;UHF&quot;,&quot;frequency&quot;:400000000,&quot;frequency_max&quot;:480000000}]</td>\n",
       "        </tr>\n",
       "        <tr>\n",
       "            <td>2501</td>\n",
       "            <td>CRD</td>\n",
       "            <td>UHF: Fixed 7 elements LFA Yagi Antenna<br>VHF: LFA antenna</td>\n",
       "            <td>[{&quot;antenna_type&quot;:&quot;other direct&quot;,&quot;antenna_type_name&quot;:&quot;Other Directional&quot;,&quot;band&quot;:&quot;VHF&quot;,&quot;frequency&quot;:135000000,&quot;frequency_max&quot;:148000000}]</td>\n",
       "        </tr>\n",
       "        <tr>\n",
       "            <td>2650</td>\n",
       "            <td>9V1KG</td>\n",
       "            <td>Fixed 3/5 el Dual band Yagi beaming 210 deg (SW) 20 deg elevation</td>\n",
       "            <td>[{&quot;antenna_type&quot;:&quot;yagi&quot;,&quot;antenna_type_name&quot;:&quot;Yagi&quot;,&quot;band&quot;:&quot;VHF&quot;,&quot;frequency&quot;:144000000,&quot;frequency_max&quot;:146000000},{&quot;antenna_type&quot;:&quot;yagi&quot;,&quot;antenna_type_name&quot;:&quot;Yagi&quot;,&quot;band&quot;:&quot;UHF&quot;,&quot;frequency&quot;:430000000,&quot;frequency_max&quot;:440000000}]</td>\n",
       "        </tr>\n",
       "    </tbody>\n",
       "</table>"
      ],
      "text/plain": [
       "[(66, 'KE8FZT - UHF', 'Arrow UHF Corner Reflector, Fixed 20 Deg Elevation & Pointed 45 Deg NorthEast,  AMSAT LNA,, MFJ Duplexer, \\n Raspberry Pi3b', '[{\"antenna_type\":\"yagi\",\"antenna_type_name\":\"Yagi\",\"band\":\"VHF\",\"frequency\":135000000,\"frequency_max\":148000000},{\"antenna_type\":\"yagi\",\"antenna_type_name\":\"Yagi\",\"band\":\"UHF\",\"frequency\":430000000,\"frequency_max\":470000000}]'),\n",
       " (212, 'KE8FZT - VHF', 'Arrow VHF Corner Reflector, Fixed 20 Deg Elevation & Pointed  45 Deg NorthEast, LNA, Raspberry Pi3b', '[{\"antenna_type\":\"yagi\",\"antenna_type_name\":\"Yagi\",\"band\":\"VHF\",\"frequency\":135000000,\"frequency_max\":146000000}]'),\n",
       " (1351, '7el 70cm fixed Yagi', 'Restricted viewing angle is approximately 230 to 330 degrees.', '[{\"antenna_type\":\"yagi\",\"antenna_type_name\":\"Yagi\",\"band\":\"UHF\",\"frequency\":430000000,\"frequency_max\":470000000}]'),\n",
       " (1787, 'NCG', 'Double bi-quad (13.46 dB) fixed position directional antenna looking e (W passes will not be seen well), altitude 48 deg, LNA (gain 20 dB noise 0.36dB), Lime, RPi 4', '[{\"antenna_type\":\"other direct\",\"antenna_type_name\":\"Other Directional\",\"band\":\"VHF, UHF\",\"frequency\":130000000,\"frequency_max\":600000000}]'),\n",
       " (1810, 'NCG2', 'V-dipole fixed, looking 90 deg E, LNA (gain 20dB noise 0.8dB), Lime, RPi', '[{\"antenna_type\":\"other direct\",\"antenna_type_name\":\"Other Directional\",\"band\":\"VHF\",\"frequency\":135000000,\"frequency_max\":148000000}]'),\n",
       " (1868, 'HB9FXX S-Band', 'My little s-band station: 4G feed on fixed dish pointing roughly at 300° (WNW) and 30-45° elevation-> VLNA13 -> Coax -> 1.5GHz LPF -> HackRF SDR -> R ... (26 characters truncated) ... a Leo Bodnar GPSDO mini reference. On a first floor balcony with mostly west opening. Not a terrible location but the best I can do living in a flat.', '[{\"antenna_type\":\"parabolic\",\"antenna_type_name\":\"Parabolic\",\"band\":\"L, S\",\"frequency\":1650000000,\"frequency_max\":2400000000}]'),\n",
       " (1950, 'KG7ZVV Satnogs', 'Fixed (no rotator) 10 element UHF Yagi. Visibility to only portion of sky towards Southwest. Apartments and building on other side.', '[{\"antenna_type\":\"yagi\",\"antenna_type_name\":\"Yagi\",\"band\":\"UHF\",\"frequency\":430000000,\"frequency_max\":470000000}]'),\n",
       " (2080, 'USU GAS Yagi Fixed SW', \"Utah State University Get Away Special Team's second ground station. Wimo X-Quad (linear), No LNA currently. Fixed pointing SW at 45 deg elevation.\", '[{\"antenna_type\":\"yagi\",\"antenna_type_name\":\"Yagi\",\"band\":\"UHF\",\"frequency\":430000000,\"frequency_max\":440000000}]'),\n",
       " (2107, 'JH4XSY-pi', 'Pi4 + Airspy Mini +  3ele(145MHz)/6ele(435MHz) YAGI Fixed beam to the SouthWest.+ LNA', '[{\"antenna_type\":\"yagi\",\"antenna_type_name\":\"Yagi\",\"band\":\"VHF\",\"frequency\":135000000,\"frequency_max\":148000000},{\"antenna_type\":\"yagi\",\"antenna_type_name\":\"Yagi\",\"band\":\"UHF\",\"frequency\":420000000,\"frequency_max\":450000000}]'),\n",
       " (2246, 'HB9FXX S-Band 2', 'Fixed dish at 300°, pointing like 30-40° up', '[{\"antenna_type\":\"parabolic\",\"antenna_type_name\":\"Parabolic\",\"band\":\"L, S\",\"frequency\":1650000000,\"frequency_max\":2500000000}]'),\n",
       " (2263, 'KO4BHX - Rougemont - NC - USA', 'Arrow 146/437-10  Fixed AZ:180, EL:90', '[{\"antenna_type\":\"yagi\",\"antenna_type_name\":\"Yagi\",\"band\":\"VHF\",\"frequency\":135000000,\"frequency_max\":148000000},{\"antenna_type\":\"yagi\",\"antenna_type_name\":\"Yagi\",\"band\":\"UHF\",\"frequency\":430000000,\"frequency_max\":470000000}]'),\n",
       " (2372, 'FCNA2021-2', 'NOT IN SERVICE\\n\\nFIXED 90 ELEVATION', '[{\"antenna_type\":\"yagi\",\"antenna_type_name\":\"Yagi\",\"band\":\"UHF\",\"frequency\":430000000,\"frequency_max\":470000000}]'),\n",
       " (2430, 'SPACECLUB_TO1', 'Fixed Yagi 70cm 7dbi  \\nNooelec LANA LNA \\nNooelec rtlsdr clone - NESDR SMArTee v2', '[{\"antenna_type\":\"cross-yagi\",\"antenna_type_name\":\"Cross Yagi\",\"band\":\"UHF\",\"frequency\":400000000,\"frequency_max\":480000000}]'),\n",
       " (2501, 'CRD', 'UHF: Fixed 7 elements LFA Yagi Antenna\\nVHF: LFA antenna', '[{\"antenna_type\":\"other direct\",\"antenna_type_name\":\"Other Directional\",\"band\":\"VHF\",\"frequency\":135000000,\"frequency_max\":148000000}]'),\n",
       " (2650, '9V1KG', 'Fixed 3/5 el Dual band Yagi beaming 210 deg (SW) 20 deg elevation', '[{\"antenna_type\":\"yagi\",\"antenna_type_name\":\"Yagi\",\"band\":\"VHF\",\"frequency\":144000000,\"frequency_max\":146000000},{\"antenna_type\":\"yagi\",\"antenna_type_name\":\"Yagi\",\"band\":\"UHF\",\"frequency\":430000000,\"frequency_max\":440000000}]')]"
      ]
     },
     "execution_count": 7,
     "metadata": {},
     "output_type": "execute_result"
    }
   ],
   "source": [
    "%%sql\n",
    "-- Modify the rotator column to better reflect what the description claims\n",
    "SELECT DISTINCT\n",
    "    text.id,\n",
    "    text.name,\n",
    "    text.description,\n",
    "    stations.antenna\n",
    "FROM text, stations\n",
    "WHERE text.id = stations.id\n",
    "AND stations.rotator = 2\n",
    "AND text MATCH 'fixed'\n",
    "ORDER BY text.id;"
   ]
  },
  {
   "cell_type": "markdown",
   "id": "ed9a9068",
   "metadata": {},
   "source": [
    "It looks like all the stations matching the query have directional antennas but have them mounted in various fixed orientations.\n",
    "Eyeballing the descriptions, the antennas are at 20 to 45 degree elevation angles.\n",
    "\n",
    "Update the `stations` table with this new information."
   ]
  },
  {
   "cell_type": "code",
   "execution_count": 8,
   "id": "c752edfd",
   "metadata": {},
   "outputs": [
    {
     "name": "stdout",
     "output_type": "stream",
     "text": [
      " * sqlite:///../data/stations.db\n",
      "15 rows affected.\n"
     ]
    },
    {
     "data": {
      "text/plain": [
       "[]"
      ]
     },
     "execution_count": 8,
     "metadata": {},
     "output_type": "execute_result"
    }
   ],
   "source": [
    "%%sql\n",
    "UPDATE stations\n",
    "SET rotator = 0\n",
    "WHERE id IN (66, 212, 1351, 1787, 1810, 1868, 1950, 2080, 2107, 2246, 2263,     \n",
    "             2372, 2430, 2501, 2650);"
   ]
  },
  {
   "cell_type": "markdown",
   "id": "9c49d275",
   "metadata": {},
   "source": [
    "Now look for text that indicates a rotator model.\n",
    "Popular units are the Yaesu G-5500 and the Alfa SPID."
   ]
  },
  {
   "cell_type": "code",
   "execution_count": 9,
   "id": "ed5a51b8",
   "metadata": {},
   "outputs": [
    {
     "name": "stdout",
     "output_type": "stream",
     "text": [
      " * sqlite:///../data/stations.db\n",
      "Done.\n"
     ]
    },
    {
     "data": {
      "text/html": [
       "<table>\n",
       "    <thead>\n",
       "        <tr>\n",
       "            <th>id</th>\n",
       "            <th>name</th>\n",
       "            <th>description</th>\n",
       "            <th>antenna</th>\n",
       "            <th>rotator</th>\n",
       "        </tr>\n",
       "    </thead>\n",
       "    <tbody>\n",
       "        <tr>\n",
       "            <td>888</td>\n",
       "            <td>CCERES</td>\n",
       "            <td>Directionnal WIMO VHF 10 elements and WIMO UHF 18 elements crossed yagi antennas + circular polarization coupler + UHF MVV70cm LNA + Diplexer 2m/70cm + SDR Airspy R2. Rotator : Yaesu G-5500 + GS-232B.<br><br>Actually no have LNA for VHF antenna.</td>\n",
       "            <td>[{&quot;antenna_type&quot;:&quot;quadrafilar&quot;,&quot;antenna_type_name&quot;:&quot;Quadrafilar&quot;,&quot;band&quot;:&quot;UHF&quot;,&quot;frequency&quot;:430000000,&quot;frequency_max&quot;:440000000},{&quot;antenna_type&quot;:&quot;cross-yagi&quot;,&quot;antenna_type_name&quot;:&quot;Cross Yagi&quot;,&quot;band&quot;:&quot;VHF&quot;,&quot;frequency&quot;:135000000,&quot;frequency_max&quot;:150000000}]</td>\n",
       "            <td>0</td>\n",
       "        </tr>\n",
       "        <tr>\n",
       "            <td>2500</td>\n",
       "            <td>Wolfgang HB9RYZ</td>\n",
       "            <td>Swiss Amateur Radio Station (JN47FE). Building up a brand new Ground Station in Q1/2022 with two Wimo X-Quad Antennas for 2m and 70cm including pre-amps and a SPID-RAS rotor.<br><br>Temp.: running a Diamond vertical X-50NA (2m/70cm) on top of my roof.<br>www.hb9ryz.ch</td>\n",
       "            <td>[{&quot;antenna_type&quot;:&quot;vertical&quot;,&quot;antenna_type_name&quot;:&quot;Vertical&quot;,&quot;band&quot;:&quot;VHF&quot;,&quot;frequency&quot;:135000000,&quot;frequency_max&quot;:148000000},{&quot;antenna_type&quot;:&quot;vertical&quot;,&quot;antenna_type_name&quot;:&quot;Vertical&quot;,&quot;band&quot;:&quot;UHF&quot;,&quot;frequency&quot;:430000000,&quot;frequency_max&quot;:470000000}]</td>\n",
       "            <td>0</td>\n",
       "        </tr>\n",
       "    </tbody>\n",
       "</table>"
      ],
      "text/plain": [
       "[(888, 'CCERES', 'Directionnal WIMO VHF 10 elements and WIMO UHF 18 elements crossed yagi antennas + circular polarization coupler + UHF MVV70cm LNA + Diplexer 2m/70cm + SDR Airspy R2. Rotator : Yaesu G-5500 + GS-232B.\\n\\nActually no have LNA for VHF antenna.', '[{\"antenna_type\":\"quadrafilar\",\"antenna_type_name\":\"Quadrafilar\",\"band\":\"UHF\",\"frequency\":430000000,\"frequency_max\":440000000},{\"antenna_type\":\"cross-yagi\",\"antenna_type_name\":\"Cross Yagi\",\"band\":\"VHF\",\"frequency\":135000000,\"frequency_max\":150000000}]', 0),\n",
       " (2500, 'Wolfgang HB9RYZ', 'Swiss Amateur Radio Station (JN47FE). Building up a brand new Ground Station in Q1/2022 with two Wimo X-Quad Antennas for 2m and 70cm including pre-amps and a SPID-RAS rotor.\\n\\nTemp.: running a Diamond vertical X-50NA (2m/70cm) on top of my roof.\\nwww.hb9ryz.ch', '[{\"antenna_type\":\"vertical\",\"antenna_type_name\":\"Vertical\",\"band\":\"VHF\",\"frequency\":135000000,\"frequency_max\":148000000},{\"antenna_type\":\"vertical\",\"antenna_type_name\":\"Vertical\",\"band\":\"UHF\",\"frequency\":430000000,\"frequency_max\":470000000}]', 0)]"
      ]
     },
     "execution_count": 9,
     "metadata": {},
     "output_type": "execute_result"
    }
   ],
   "source": [
    "%%sql\n",
    "-- Find another pattern that implies a rotator\n",
    "SELECT DISTINCT\n",
    "    text.id,\n",
    "    text.name,\n",
    "    text.description,\n",
    "    stations.antenna,\n",
    "    stations.rotator\n",
    "FROM text, stations\n",
    "WHERE text.id = stations.id\n",
    "AND text MATCH '5500 OR spid'\n",
    "AND rotator <> 2\n",
    "ORDER BY text.id;\n"
   ]
  },
  {
   "cell_type": "markdown",
   "id": "95dd498b",
   "metadata": {},
   "source": [
    "And update the `rotator` field.\n",
    "Note that this was tagged with `rotator = 0` since we only looked at the _first_ item in the `antenna` JSON array."
   ]
  },
  {
   "cell_type": "code",
   "execution_count": 10,
   "id": "4cbbd0d0",
   "metadata": {},
   "outputs": [
    {
     "name": "stdout",
     "output_type": "stream",
     "text": [
      " * sqlite:///../data/stations.db\n",
      "1 rows affected.\n"
     ]
    },
    {
     "data": {
      "text/plain": [
       "[]"
      ]
     },
     "execution_count": 10,
     "metadata": {},
     "output_type": "execute_result"
    }
   ],
   "source": [
    "%%sql\n",
    "UPDATE stations SET rotator = 2 WHERE id IN (888);"
   ]
  },
  {
   "cell_type": "markdown",
   "id": "58645d53",
   "metadata": {},
   "source": [
    "Keep searching for keywords in the descriptions."
   ]
  },
  {
   "cell_type": "code",
   "execution_count": 11,
   "id": "019a64d2",
   "metadata": {},
   "outputs": [
    {
     "name": "stdout",
     "output_type": "stream",
     "text": [
      " * sqlite:///../data/stations.db\n",
      "Done.\n"
     ]
    },
    {
     "data": {
      "text/html": [
       "<table>\n",
       "    <thead>\n",
       "        <tr>\n",
       "            <th>id</th>\n",
       "            <th>name</th>\n",
       "            <th>description</th>\n",
       "            <th>antenna</th>\n",
       "            <th>rotator</th>\n",
       "        </tr>\n",
       "    </thead>\n",
       "    <tbody>\n",
       "        <tr>\n",
       "            <td>357</td>\n",
       "            <td>ce3vna</td>\n",
       "            <td>estacion completa de radioaficionados con rotor de azimuth y elevacion</td>\n",
       "            <td>[{&quot;antenna_type&quot;:&quot;ground&quot;,&quot;antenna_type_name&quot;:&quot;Ground Plane&quot;,&quot;band&quot;:&quot;VHF&quot;,&quot;frequency&quot;:135000000,&quot;frequency_max&quot;:148000000},{&quot;antenna_type&quot;:&quot;ground&quot;,&quot;antenna_type_name&quot;:&quot;Ground Plane&quot;,&quot;band&quot;:&quot;UHF&quot;,&quot;frequency&quot;:430000000,&quot;frequency_max&quot;:440000000}]</td>\n",
       "            <td>0</td>\n",
       "        </tr>\n",
       "        <tr>\n",
       "            <td>1146</td>\n",
       "            <td>Ham Radio Ground Station</td>\n",
       "            <td>Ground station project  specifically designed for communication with small satellites in Low Earth Orbit using VHF and UHF amateur radio frequencies and provide hands-on educational projects in the world<br>The ground station can autonomously track satellites by using these equipments :<br> VHF / UHF amateur radio transceiver (Amateur bands 144-16 MHZ and 430-440 MHZ)<br>Rotator Controller<br>Azimuth and elevation rotators <br>UHF and VHF Yagi antennas (Amateur bands 144-16 MHZ and 430-440 MHZ)<br>Modems...</td>\n",
       "            <td>[]</td>\n",
       "            <td>2</td>\n",
       "        </tr>\n",
       "        <tr>\n",
       "            <td>1775</td>\n",
       "            <td>Vi3w Roy4l</td>\n",
       "            <td>Dual-Band Log Periodic Antenna or LPDA  (log-periodic dipole array) VHF/UHF. 2 Meter gain is 6.8 dbd (8.9 dBi) and 440 Gain is 7 dBd (9 dBi). Set up on a 360° Rotator, Azimuth only with a set angle of 30°. The Azimuth changes from time to time when manually scheduling for Satellites on the Polar Plot. Rpi 3B+, RTL-SDR + RTL-LNA. Trying this all out and we&#x27;ll see what happens, 1st Station on the Island.<br>July: Added a Rotator Wifi controller on the LAN/WAN to control the Rotator on/off site.</td>\n",
       "            <td>[{&quot;antenna_type&quot;:&quot;other direct&quot;,&quot;antenna_type_name&quot;:&quot;Other Directional&quot;,&quot;band&quot;:&quot;VHF&quot;,&quot;frequency&quot;:136000000,&quot;frequency_max&quot;:148000000},{&quot;antenna_type&quot;:&quot;other direct&quot;,&quot;antenna_type_name&quot;:&quot;Other Directional&quot;,&quot;band&quot;:&quot;UHF&quot;,&quot;frequency&quot;:400000000,&quot;frequency_max&quot;:429000000},{&quot;antenna_type&quot;:&quot;other direct&quot;,&quot;antenna_type_name&quot;:&quot;Other Directional&quot;,&quot;band&quot;:&quot;UHF&quot;,&quot;frequency&quot;:430000000,&quot;frequency_max&quot;:470000000}]</td>\n",
       "            <td>2</td>\n",
       "        </tr>\n",
       "        <tr>\n",
       "            <td>2221</td>\n",
       "            <td>Francis Ground Station</td>\n",
       "            <td>Antenna array of 2 elements yagi for UHF <br>Antenna dish and  S-Band <br>The Antenna array is attached to the edge of the dish of the  S-Band Antenna <br>The Antenna has a servo motor that controls azimuth  and another for elevation</td>\n",
       "            <td>[]</td>\n",
       "            <td>2</td>\n",
       "        </tr>\n",
       "    </tbody>\n",
       "</table>"
      ],
      "text/plain": [
       "[(357, 'ce3vna', 'estacion completa de radioaficionados con rotor de azimuth y elevacion', '[{\"antenna_type\":\"ground\",\"antenna_type_name\":\"Ground Plane\",\"band\":\"VHF\",\"frequency\":135000000,\"frequency_max\":148000000},{\"antenna_type\":\"ground\",\"antenna_type_name\":\"Ground Plane\",\"band\":\"UHF\",\"frequency\":430000000,\"frequency_max\":440000000}]', 0),\n",
       " (1146, 'Ham Radio Ground Station', 'Ground station project  specifically designed for communication with small satellites in Low Earth Orbit using VHF and UHF amateur radio frequencies  ... (202 characters truncated) ... nd 430-440 MHZ)\\nRotator Controller\\nAzimuth and elevation rotators \\nUHF and VHF Yagi antennas (Amateur bands 144-16 MHZ and 430-440 MHZ)\\nModems...', '[]', 2),\n",
       " (1775, 'Vi3w Roy4l', \"Dual-Band Log Periodic Antenna or LPDA  (log-periodic dipole array) VHF/UHF. 2 Meter gain is 6.8 dbd (8.9 dBi) and 440 Gain is 7 dBd (9 dBi). Set up  ... (197 characters truncated) ...  out and we'll see what happens, 1st Station on the Island.\\nJuly: Added a Rotator Wifi controller on the LAN/WAN to control the Rotator on/off site.\", '[{\"antenna_type\":\"other direct\",\"antenna_type_name\":\"Other Directional\",\"band\":\"VHF\",\"frequency\":136000000,\"frequency_max\":148000000},{\"antenna_type\" ... (102 characters truncated) ... max\":429000000},{\"antenna_type\":\"other direct\",\"antenna_type_name\":\"Other Directional\",\"band\":\"UHF\",\"frequency\":430000000,\"frequency_max\":470000000}]', 2),\n",
       " (2221, 'Francis Ground Station', 'Antenna array of 2 elements yagi for UHF \\nAntenna dish and  S-Band \\nThe Antenna array is attached to the edge of the dish of the  S-Band Antenna \\nThe Antenna has a servo motor that controls azimuth  and another for elevation', '[]', 2)]"
      ]
     },
     "execution_count": 11,
     "metadata": {},
     "output_type": "execute_result"
    }
   ],
   "source": [
    "%%sql\n",
    "SELECT DISTINCT\n",
    "    text.id,\n",
    "    text.name,\n",
    "    text.description,\n",
    "    stations.antenna,\n",
    "    stations.rotator\n",
    "FROM text, stations\n",
    "WHERE text.id = stations.id\n",
    "AND text MATCH 'azimuth'\n",
    "ORDER BY text.id;\n"
   ]
  },
  {
   "cell_type": "markdown",
   "id": "2666f73d",
   "metadata": {},
   "source": [
    "Two more stations with rotators.\n",
    "\n",
    "AND a station with an azimuth-only axis!"
   ]
  },
  {
   "cell_type": "code",
   "execution_count": 12,
   "id": "8c0aa3d4",
   "metadata": {},
   "outputs": [
    {
     "name": "stdout",
     "output_type": "stream",
     "text": [
      " * sqlite:///../data/stations.db\n",
      "3 rows affected.\n",
      "1 rows affected.\n"
     ]
    },
    {
     "data": {
      "text/plain": [
       "[]"
      ]
     },
     "execution_count": 12,
     "metadata": {},
     "output_type": "execute_result"
    }
   ],
   "source": [
    "%%sql\n",
    "UPDATE stations SET rotator = 2 WHERE id IN (357, 1146, 2221);\n",
    "\n",
    "-- And an azimuth-only station!\n",
    "UPDATE stations SET rotator = 1 WHERE id IN (1775);"
   ]
  },
  {
   "cell_type": "markdown",
   "id": "caa58de5",
   "metadata": {},
   "source": [
    "Keep looking.  Searching for \"azimuth\" yielded nice results, so search for \"elevation\" next."
   ]
  },
  {
   "cell_type": "code",
   "execution_count": 13,
   "id": "8272870e",
   "metadata": {},
   "outputs": [
    {
     "name": "stdout",
     "output_type": "stream",
     "text": [
      " * sqlite:///../data/stations.db\n",
      "Done.\n"
     ]
    },
    {
     "data": {
      "text/html": [
       "<table>\n",
       "    <thead>\n",
       "        <tr>\n",
       "            <th>id</th>\n",
       "            <th>name</th>\n",
       "            <th>description</th>\n",
       "            <th>antenna</th>\n",
       "            <th>rotator</th>\n",
       "        </tr>\n",
       "    </thead>\n",
       "    <tbody>\n",
       "        <tr>\n",
       "            <td>146</td>\n",
       "            <td>RIYADH2</td>\n",
       "            <td>31 Oct 2020 moved down street - 90 degree elevation crossed Yagi+LNA<br>13 feb 2021 - wire antenna back - UHF LNA<br>27 feb 2021 - short cross yagi looking up<br>25 Sep 2022 - new location down the road - just monopole and no LNA - 3 stories<br>22 Oct 2022 - UHF Yagi looking straight up with LNA</td>\n",
       "            <td>[{&quot;antenna_type&quot;:&quot;cross-yagi&quot;,&quot;antenna_type_name&quot;:&quot;Cross Yagi&quot;,&quot;band&quot;:&quot;UHF&quot;,&quot;frequency&quot;:400000000,&quot;frequency_max&quot;:470000000}]</td>\n",
       "            <td>2</td>\n",
       "        </tr>\n",
       "        <tr>\n",
       "            <td>484</td>\n",
       "            <td>DParabole</td>\n",
       "            <td>Paris La Villette.<br>Antenna is currently blocked at 90deg elevation</td>\n",
       "            <td>[{&quot;antenna_type&quot;:&quot;helical&quot;,&quot;antenna_type_name&quot;:&quot;Helical&quot;,&quot;band&quot;:&quot;L&quot;,&quot;frequency&quot;:1500000000,&quot;frequency_max&quot;:1750000000}]</td>\n",
       "            <td>2</td>\n",
       "        </tr>\n",
       "        <tr>\n",
       "            <td>1146</td>\n",
       "            <td>Ham Radio Ground Station</td>\n",
       "            <td>Ground station project  specifically designed for communication with small satellites in Low Earth Orbit using VHF and UHF amateur radio frequencies and provide hands-on educational projects in the world<br>The ground station can autonomously track satellites by using these equipments :<br> VHF / UHF amateur radio transceiver (Amateur bands 144-16 MHZ and 430-440 MHZ)<br>Rotator Controller<br>Azimuth and elevation rotators <br>UHF and VHF Yagi antennas (Amateur bands 144-16 MHZ and 430-440 MHZ)<br>Modems...</td>\n",
       "            <td>[]</td>\n",
       "            <td>2</td>\n",
       "        </tr>\n",
       "        <tr>\n",
       "            <td>1312</td>\n",
       "            <td>ESOC UHF</td>\n",
       "            <td>437MHz Wimo cross yagi, phasing cable combiner, NooElec NESDR SMArt SMA 100700 RTL-SDR. V3.01 Satnogs Rotator, 3D printed elevation shafts, Raspberry Pi 3b.  Radio Club + Cybernetics Club at ESA Space Operation Centre, Darmstadt.</td>\n",
       "            <td>[{&quot;antenna_type&quot;:&quot;cross-yagi&quot;,&quot;antenna_type_name&quot;:&quot;Cross Yagi&quot;,&quot;band&quot;:&quot;UHF&quot;,&quot;frequency&quot;:430000000,&quot;frequency_max&quot;:470000000}]</td>\n",
       "            <td>2</td>\n",
       "        </tr>\n",
       "        <tr>\n",
       "            <td>1423</td>\n",
       "            <td>OLIVIER F6OBT</td>\n",
       "            <td>Rpi 4 + 1 Yagis antenna VHF 3 elements direction N-E, 1 Yagis antenna VHF 3 elements direction N-W and 1 Yagis antenna UHF 5 elements direction N-W, 1 Yagis antenna UHF 5 elements direction N-E. All antennas have an elevation angle of 40°.</td>\n",
       "            <td>[{&quot;antenna_type&quot;:&quot;yagi&quot;,&quot;antenna_type_name&quot;:&quot;Yagi&quot;,&quot;band&quot;:&quot;VHF&quot;,&quot;frequency&quot;:135000000,&quot;frequency_max&quot;:152000000},{&quot;antenna_type&quot;:&quot;yagi&quot;,&quot;antenna_type_name&quot;:&quot;Yagi&quot;,&quot;band&quot;:&quot;UHF&quot;,&quot;frequency&quot;:400000000,&quot;frequency_max&quot;:500000000}]</td>\n",
       "            <td>2</td>\n",
       "        </tr>\n",
       "        <tr>\n",
       "            <td>1466</td>\n",
       "            <td>PE0SAT-12</td>\n",
       "            <td>HP NC6400 Laptop, Intel T7200 | Debian Bullseye (amd64) | SDR RX: AirSPY R2 | Antenna: DK7ZB 9 Element Yagi Pointing bearing 315 / elevation 75.</td>\n",
       "            <td>[{&quot;antenna_type&quot;:&quot;yagi&quot;,&quot;antenna_type_name&quot;:&quot;Yagi&quot;,&quot;band&quot;:&quot;UHF&quot;,&quot;frequency&quot;:400000000,&quot;frequency_max&quot;:470000000}]</td>\n",
       "            <td>2</td>\n",
       "        </tr>\n",
       "        <tr>\n",
       "            <td>1640</td>\n",
       "            <td>VA7EEX - UHF</td>\n",
       "            <td>Log periodic antenna with a 60 degree elevation, pointed southwest.</td>\n",
       "            <td>[{&quot;antenna_type&quot;:&quot;other direct&quot;,&quot;antenna_type_name&quot;:&quot;Other Directional&quot;,&quot;band&quot;:&quot;UHF&quot;,&quot;frequency&quot;:400000000,&quot;frequency_max&quot;:512000000}]</td>\n",
       "            <td>2</td>\n",
       "        </tr>\n",
       "        <tr>\n",
       "            <td>1710</td>\n",
       "            <td>EU1AEM</td>\n",
       "            <td>In maintenance now!<br>3-element yagi, vertical polarization, directed to east (100°), elevation 25° -&gt; Uputronix 433-438 MHz filtred preamp -&gt; RTL-SDR v3 -&gt; Raspberry Pi 4.<br><br>Please, do not use this station for west passes. Antenna is directed to east.<br>Use station #2029 for west passes.</td>\n",
       "            <td>[{&quot;antenna_type&quot;:&quot;yagi&quot;,&quot;antenna_type_name&quot;:&quot;Yagi&quot;,&quot;band&quot;:&quot;UHF&quot;,&quot;frequency&quot;:433000000,&quot;frequency_max&quot;:439000000}]</td>\n",
       "            <td>2</td>\n",
       "        </tr>\n",
       "        <tr>\n",
       "            <td>1789</td>\n",
       "            <td>jchem</td>\n",
       "            <td>RPi4 + preamp 20dB + sdrrtl-v3, with VHF-4el.-horizontal-yagi pointing NE at 35° elevation.<br><br>(if UHF: )two UHF-Yagi_6-el, 180d apart at 40d elevation, di. NE-SW.</td>\n",
       "            <td>[{&quot;antenna_type&quot;:&quot;yagi&quot;,&quot;antenna_type_name&quot;:&quot;Yagi&quot;,&quot;band&quot;:&quot;VHF&quot;,&quot;frequency&quot;:135000000,&quot;frequency_max&quot;:148000000}]</td>\n",
       "            <td>2</td>\n",
       "        </tr>\n",
       "        <tr>\n",
       "            <td>2029</td>\n",
       "            <td>EU1AEM</td>\n",
       "            <td>In maintenance now!<br>3-element yagi, vertical polarization, directed to west (270°), elevation 30° -&gt; Uputronix 433-438 MHz filtred preamp -&gt; RTL-SDR v3 -&gt; Raspberry Pi 4.<br><br>Please, do not use this station for east passes. Antenna is directed to west.<br>Use station #1710 for east passes.</td>\n",
       "            <td>[{&quot;antenna_type&quot;:&quot;yagi&quot;,&quot;antenna_type_name&quot;:&quot;Yagi&quot;,&quot;band&quot;:&quot;UHF&quot;,&quot;frequency&quot;:433000000,&quot;frequency_max&quot;:439000000}]</td>\n",
       "            <td>2</td>\n",
       "        </tr>\n",
       "        <tr>\n",
       "            <td>2221</td>\n",
       "            <td>Francis Ground Station</td>\n",
       "            <td>Antenna array of 2 elements yagi for UHF <br>Antenna dish and  S-Band <br>The Antenna array is attached to the edge of the dish of the  S-Band Antenna <br>The Antenna has a servo motor that controls azimuth  and another for elevation</td>\n",
       "            <td>[]</td>\n",
       "            <td>2</td>\n",
       "        </tr>\n",
       "    </tbody>\n",
       "</table>"
      ],
      "text/plain": [
       "[(146, 'RIYADH2', '31 Oct 2020 moved down street - 90 degree elevation crossed Yagi+LNA\\n13 feb 2021 - wire antenna back - UHF LNA\\n27 feb 2021 - short cross yagi looking up\\n25 Sep 2022 - new location down the road - just monopole and no LNA - 3 stories\\n22 Oct 2022 - UHF Yagi looking straight up with LNA', '[{\"antenna_type\":\"cross-yagi\",\"antenna_type_name\":\"Cross Yagi\",\"band\":\"UHF\",\"frequency\":400000000,\"frequency_max\":470000000}]', 2),\n",
       " (484, 'DParabole', 'Paris La Villette.\\nAntenna is currently blocked at 90deg elevation', '[{\"antenna_type\":\"helical\",\"antenna_type_name\":\"Helical\",\"band\":\"L\",\"frequency\":1500000000,\"frequency_max\":1750000000}]', 2),\n",
       " (1146, 'Ham Radio Ground Station', 'Ground station project  specifically designed for communication with small satellites in Low Earth Orbit using VHF and UHF amateur radio frequencies  ... (202 characters truncated) ... nd 430-440 MHZ)\\nRotator Controller\\nAzimuth and elevation rotators \\nUHF and VHF Yagi antennas (Amateur bands 144-16 MHZ and 430-440 MHZ)\\nModems...', '[]', 2),\n",
       " (1312, 'ESOC UHF', '437MHz Wimo cross yagi, phasing cable combiner, NooElec NESDR SMArt SMA 100700 RTL-SDR. V3.01 Satnogs Rotator, 3D printed elevation shafts, Raspberry Pi 3b.  Radio Club + Cybernetics Club at ESA Space Operation Centre, Darmstadt.', '[{\"antenna_type\":\"cross-yagi\",\"antenna_type_name\":\"Cross Yagi\",\"band\":\"UHF\",\"frequency\":430000000,\"frequency_max\":470000000}]', 2),\n",
       " (1423, 'OLIVIER F6OBT', 'Rpi 4 + 1 Yagis antenna VHF 3 elements direction N-E, 1 Yagis antenna VHF 3 elements direction N-W and 1 Yagis antenna UHF 5 elements direction N-W, 1 Yagis antenna UHF 5 elements direction N-E. All antennas have an elevation angle of 40°.', '[{\"antenna_type\":\"yagi\",\"antenna_type_name\":\"Yagi\",\"band\":\"VHF\",\"frequency\":135000000,\"frequency_max\":152000000},{\"antenna_type\":\"yagi\",\"antenna_type_name\":\"Yagi\",\"band\":\"UHF\",\"frequency\":400000000,\"frequency_max\":500000000}]', 2),\n",
       " (1466, 'PE0SAT-12', 'HP NC6400 Laptop, Intel T7200 | Debian Bullseye (amd64) | SDR RX: AirSPY R2 | Antenna: DK7ZB 9 Element Yagi Pointing bearing 315 / elevation 75.', '[{\"antenna_type\":\"yagi\",\"antenna_type_name\":\"Yagi\",\"band\":\"UHF\",\"frequency\":400000000,\"frequency_max\":470000000}]', 2),\n",
       " (1640, 'VA7EEX - UHF', 'Log periodic antenna with a 60 degree elevation, pointed southwest.', '[{\"antenna_type\":\"other direct\",\"antenna_type_name\":\"Other Directional\",\"band\":\"UHF\",\"frequency\":400000000,\"frequency_max\":512000000}]', 2),\n",
       " (1710, 'EU1AEM', 'In maintenance now!\\n3-element yagi, vertical polarization, directed to east (100°), elevation 25° -> Uputronix 433-438 MHz filtred preamp -> RTL-SDR v3 -> Raspberry Pi 4.\\n\\nPlease, do not use this station for west passes. Antenna is directed to east.\\nUse station #2029 for west passes.', '[{\"antenna_type\":\"yagi\",\"antenna_type_name\":\"Yagi\",\"band\":\"UHF\",\"frequency\":433000000,\"frequency_max\":439000000}]', 2),\n",
       " (1789, 'jchem', 'RPi4 + preamp 20dB + sdrrtl-v3, with VHF-4el.-horizontal-yagi pointing NE at 35° elevation.\\n\\n(if UHF: )two UHF-Yagi_6-el, 180d apart at 40d elevation, di. NE-SW.', '[{\"antenna_type\":\"yagi\",\"antenna_type_name\":\"Yagi\",\"band\":\"VHF\",\"frequency\":135000000,\"frequency_max\":148000000}]', 2),\n",
       " (2029, 'EU1AEM', 'In maintenance now!\\n3-element yagi, vertical polarization, directed to west (270°), elevation 30° -> Uputronix 433-438 MHz filtred preamp -> RTL-SDR v3 -> Raspberry Pi 4.\\n\\nPlease, do not use this station for east passes. Antenna is directed to west.\\nUse station #1710 for east passes.', '[{\"antenna_type\":\"yagi\",\"antenna_type_name\":\"Yagi\",\"band\":\"UHF\",\"frequency\":433000000,\"frequency_max\":439000000}]', 2),\n",
       " (2221, 'Francis Ground Station', 'Antenna array of 2 elements yagi for UHF \\nAntenna dish and  S-Band \\nThe Antenna array is attached to the edge of the dish of the  S-Band Antenna \\nThe Antenna has a servo motor that controls azimuth  and another for elevation', '[]', 2)]"
      ]
     },
     "execution_count": 13,
     "metadata": {},
     "output_type": "execute_result"
    }
   ],
   "source": [
    "%%sql\n",
    "SELECT DISTINCT\n",
    "    text.id,\n",
    "    text.name,\n",
    "    text.description,\n",
    "    stations.antenna,\n",
    "    stations.rotator\n",
    "FROM text, stations\n",
    "WHERE text.id = stations.id\n",
    "AND text MATCH 'elevation'\n",
    "AND stations.rotator <> 0\n",
    "ORDER BY text.id;\n"
   ]
  },
  {
   "cell_type": "markdown",
   "id": "28982858",
   "metadata": {},
   "source": [
    "... and found some more stations with directional antennas but with fixed pointing."
   ]
  },
  {
   "cell_type": "code",
   "execution_count": 14,
   "id": "01c20a45",
   "metadata": {},
   "outputs": [
    {
     "name": "stdout",
     "output_type": "stream",
     "text": [
      " * sqlite:///../data/stations.db\n",
      "8 rows affected.\n"
     ]
    },
    {
     "data": {
      "text/plain": [
       "[]"
      ]
     },
     "execution_count": 14,
     "metadata": {},
     "output_type": "execute_result"
    }
   ],
   "source": [
    "%%sql\n",
    "-- More no-rotator stations\n",
    "UPDATE stations SET rotator = 0 WHERE id IN (146, 484, 1423, 1466, 1640, 1710, 1789, 2029)"
   ]
  },
  {
   "cell_type": "markdown",
   "id": "e734ca3f",
   "metadata": {},
   "source": [
    "It is interesting to note the stations with capabilites that are different than presumed.\n",
    "Such a diversity of setups!\n",
    "\n",
    "How about looking for a word meaning an exception such as \"only\"?"
   ]
  },
  {
   "cell_type": "code",
   "execution_count": 15,
   "id": "0e572622",
   "metadata": {},
   "outputs": [
    {
     "name": "stdout",
     "output_type": "stream",
     "text": [
      " * sqlite:///../data/stations.db\n",
      "Done.\n"
     ]
    },
    {
     "data": {
      "text/html": [
       "<table>\n",
       "    <thead>\n",
       "        <tr>\n",
       "            <th>id</th>\n",
       "            <th>name</th>\n",
       "            <th>description</th>\n",
       "            <th>antenna</th>\n",
       "            <th>rotator</th>\n",
       "        </tr>\n",
       "    </thead>\n",
       "    <tbody>\n",
       "        <tr>\n",
       "            <td>36</td>\n",
       "            <td>oe8rke</td>\n",
       "            <td>2022-04-03: station close being reopend after rotor replacement<br>2019-12-19: Still experiance issues with rotor - PLEASE ONLY EMERGENCY RECEPTIONS UNTIL ROTOR IS BACK, TNX!<br>2019-12-10: Shutdown to service rotor again (stall issue), <br><br>offsite location in the alps with low noise, operating with pstrotator hamlib interface</td>\n",
       "            <td>[{&quot;antenna_type&quot;:&quot;yagi&quot;,&quot;antenna_type_name&quot;:&quot;Yagi&quot;,&quot;band&quot;:&quot;UHF&quot;,&quot;frequency&quot;:430000000,&quot;frequency_max&quot;:470000000},{&quot;antenna_type&quot;:&quot;yagi&quot;,&quot;antenna_type_name&quot;:&quot;Yagi&quot;,&quot;band&quot;:&quot;VHF&quot;,&quot;frequency&quot;:144000000,&quot;frequency_max&quot;:146000000},{&quot;antenna_type&quot;:&quot;helical&quot;,&quot;antenna_type_name&quot;:&quot;Helical&quot;,&quot;band&quot;:&quot;S&quot;,&quot;frequency&quot;:2300000000,&quot;frequency_max&quot;:2450000000},{&quot;antenna_type&quot;:&quot;helical&quot;,&quot;antenna_type_name&quot;:&quot;Helical&quot;,&quot;band&quot;:&quot;L&quot;,&quot;frequency&quot;:1230000000,&quot;frequency_max&quot;:1290000000}]</td>\n",
       "            <td>2</td>\n",
       "        </tr>\n",
       "        <tr>\n",
       "            <td>87</td>\n",
       "            <td>M0IEB/M</td>\n",
       "            <td>15.04.2018, Testing software with temporary home rig location, 23.04.2018, Home rig set, added LNA and filter for 145M band. Enjoy! 26.04.2018, Rig won&#x27;t get 137M, 07.05.2018, Updated to 0.6.1, In case it was not clear, this station will not receive NOAA. 29.08.2018, now sitting in Surrey Space Centre temporarily. 14.12.2018: Tracking ESEO only on UHF, no tracking available for other sats. 08.02.2019: Added ISS for ARISS SSTV Event. 27.06.2019: Tracking ESA ESEO. From Nov 2019, tracking OPS-SAT.</td>\n",
       "            <td>[{&quot;antenna_type&quot;:&quot;yagi&quot;,&quot;antenna_type_name&quot;:&quot;Yagi&quot;,&quot;band&quot;:&quot;UHF&quot;,&quot;frequency&quot;:430000000,&quot;frequency_max&quot;:470000000},{&quot;antenna_type&quot;:&quot;yagi&quot;,&quot;antenna_type_name&quot;:&quot;Yagi&quot;,&quot;band&quot;:&quot;VHF&quot;,&quot;frequency&quot;:135000000,&quot;frequency_max&quot;:146000000}]</td>\n",
       "            <td>2</td>\n",
       "        </tr>\n",
       "        <tr>\n",
       "            <td>254</td>\n",
       "            <td>SP2ZIE - 70cm</td>\n",
       "            <td>Rotator damaged. PW-SAT2 Satellite only. 435.275MHz+/-25kHz bandpass filter.<br>AZ-EL Wimo WX7036. High noise environment. 437-438MHz strong QRMs from LoRa like transmissions. Band limited to 435MHz-440MHz (bandpass filter). Test setup.</td>\n",
       "            <td>[{&quot;antenna_type&quot;:&quot;cross-yagi&quot;,&quot;antenna_type_name&quot;:&quot;Cross Yagi&quot;,&quot;band&quot;:&quot;UHF&quot;,&quot;frequency&quot;:432000000,&quot;frequency_max&quot;:439000000}]</td>\n",
       "            <td>2</td>\n",
       "        </tr>\n",
       "        <tr>\n",
       "            <td>527</td>\n",
       "            <td>Test1</td>\n",
       "            <td>This is only a test for a system later on</td>\n",
       "            <td>[{&quot;antenna_type&quot;:&quot;helical&quot;,&quot;antenna_type_name&quot;:&quot;Helical&quot;,&quot;band&quot;:&quot;L&quot;,&quot;frequency&quot;:1600000000,&quot;frequency_max&quot;:1800000000},{&quot;antenna_type&quot;:&quot;helical&quot;,&quot;antenna_type_name&quot;:&quot;Helical&quot;,&quot;band&quot;:&quot;L&quot;,&quot;frequency&quot;:1500000000,&quot;frequency_max&quot;:1750000000}]</td>\n",
       "            <td>2</td>\n",
       "        </tr>\n",
       "        <tr>\n",
       "            <td>751</td>\n",
       "            <td>VK2BYF</td>\n",
       "            <td>This station is not in use. Created for testing only</td>\n",
       "            <td>[]</td>\n",
       "            <td></td>\n",
       "        </tr>\n",
       "        <tr>\n",
       "            <td>959</td>\n",
       "            <td>CE3VRT - VHF - UHF</td>\n",
       "            <td>Station on rural area (limited internet access). Please try to schedule Fox series sats only. <br><br>Gear:<br>- VHF Turnstile<br>- FM Filter + LNA4ALL<br>- Nooelec RTLSDR</td>\n",
       "            <td>[{&quot;antenna_type&quot;:&quot;yagi&quot;,&quot;antenna_type_name&quot;:&quot;Yagi&quot;,&quot;band&quot;:&quot;UHF&quot;,&quot;frequency&quot;:430000000,&quot;frequency_max&quot;:470000000}]</td>\n",
       "            <td>2</td>\n",
       "        </tr>\n",
       "        <tr>\n",
       "            <td>1287</td>\n",
       "            <td>FOSSA-STATION</td>\n",
       "            <td>Test Tape Measure Yagi, Only North/West Passes</td>\n",
       "            <td>[{&quot;antenna_type&quot;:&quot;yagi&quot;,&quot;antenna_type_name&quot;:&quot;Yagi&quot;,&quot;band&quot;:&quot;UHF&quot;,&quot;frequency&quot;:430000000,&quot;frequency_max&quot;:470000000}]</td>\n",
       "            <td>2</td>\n",
       "        </tr>\n",
       "        <tr>\n",
       "            <td>1526</td>\n",
       "            <td>Budapest UHF (west only)</td>\n",
       "            <td>2*3el UHF cross yagi facing 270deg AZ 45deg EL. <br><br>Setup:<br>Orange Pi Zero 256M, <br>LimeSDR Mini, <br>diy filter with ~2dB loss, <br>SPF5043Z ~0.6NF 20dB LNA, <br>diy antenna. <br><br>Contact me on the community forms if you have any questions.</td>\n",
       "            <td>[{&quot;antenna_type&quot;:&quot;cross-yagi&quot;,&quot;antenna_type_name&quot;:&quot;Cross Yagi&quot;,&quot;band&quot;:&quot;UHF&quot;,&quot;frequency&quot;:430000000,&quot;frequency_max&quot;:440000000}]</td>\n",
       "            <td>2</td>\n",
       "        </tr>\n",
       "        <tr>\n",
       "            <td>1594</td>\n",
       "            <td>VK2PET #2 Trial Station</td>\n",
       "            <td>This station is a Trial to play around with antennas &amp; SDR&#x27;s. It will NOT be online all the time. Limited by myself entering the Satellite passes into PST-Rotator.  Back online for testing only as I&#x27;m having a lot of issues with this station. For all others please use my other station.</td>\n",
       "            <td>[{&quot;antenna_type&quot;:&quot;other direct&quot;,&quot;antenna_type_name&quot;:&quot;Other Directional&quot;,&quot;band&quot;:&quot;VHF&quot;,&quot;frequency&quot;:135000000,&quot;frequency_max&quot;:148000000},{&quot;antenna_type&quot;:&quot;other direct&quot;,&quot;antenna_type_name&quot;:&quot;Other Directional&quot;,&quot;band&quot;:&quot;UHF&quot;,&quot;frequency&quot;:430000000,&quot;frequency_max&quot;:450000000}]</td>\n",
       "            <td>2</td>\n",
       "        </tr>\n",
       "        <tr>\n",
       "            <td>1687</td>\n",
       "            <td>DL6KBG-AZEL</td>\n",
       "            <td>SPID RAS Rotator with 1 degree resolution. Still on the ground and only for testing. Wimo X-Quad for 2M. No LNA so far.</td>\n",
       "            <td>[{&quot;antenna_type&quot;:&quot;cross-yagi&quot;,&quot;antenna_type_name&quot;:&quot;Cross Yagi&quot;,&quot;band&quot;:&quot;VHF&quot;,&quot;frequency&quot;:130000000,&quot;frequency_max&quot;:148000000}]</td>\n",
       "            <td>2</td>\n",
       "        </tr>\n",
       "        <tr>\n",
       "            <td>1775</td>\n",
       "            <td>Vi3w Roy4l</td>\n",
       "            <td>Dual-Band Log Periodic Antenna or LPDA  (log-periodic dipole array) VHF/UHF. 2 Meter gain is 6.8 dbd (8.9 dBi) and 440 Gain is 7 dBd (9 dBi). Set up on a 360° Rotator, Azimuth only with a set angle of 30°. The Azimuth changes from time to time when manually scheduling for Satellites on the Polar Plot. Rpi 3B+, RTL-SDR + RTL-LNA. Trying this all out and we&#x27;ll see what happens, 1st Station on the Island.<br>July: Added a Rotator Wifi controller on the LAN/WAN to control the Rotator on/off site.</td>\n",
       "            <td>[{&quot;antenna_type&quot;:&quot;other direct&quot;,&quot;antenna_type_name&quot;:&quot;Other Directional&quot;,&quot;band&quot;:&quot;VHF&quot;,&quot;frequency&quot;:136000000,&quot;frequency_max&quot;:148000000},{&quot;antenna_type&quot;:&quot;other direct&quot;,&quot;antenna_type_name&quot;:&quot;Other Directional&quot;,&quot;band&quot;:&quot;UHF&quot;,&quot;frequency&quot;:400000000,&quot;frequency_max&quot;:429000000},{&quot;antenna_type&quot;:&quot;other direct&quot;,&quot;antenna_type_name&quot;:&quot;Other Directional&quot;,&quot;band&quot;:&quot;UHF&quot;,&quot;frequency&quot;:430000000,&quot;frequency_max&quot;:470000000}]</td>\n",
       "            <td>1</td>\n",
       "        </tr>\n",
       "        <tr>\n",
       "            <td>1824</td>\n",
       "            <td>Budapest UHF2 (west only)</td>\n",
       "            <td>Test station running on a Nexus 5 Android phone, antenna: ATK-10.</td>\n",
       "            <td>[{&quot;antenna_type&quot;:&quot;yagi&quot;,&quot;antenna_type_name&quot;:&quot;Yagi&quot;,&quot;band&quot;:&quot;UHF&quot;,&quot;frequency&quot;:430000000,&quot;frequency_max&quot;:470000000}]</td>\n",
       "            <td>2</td>\n",
       "        </tr>\n",
       "        <tr>\n",
       "            <td>2153</td>\n",
       "            <td>Langhecke</td>\n",
       "            <td>ON TRIAL AND INTERMITTENT !<br>RPi3B, Adalm Pluto: currently testing rotator and S-band reception chain ... <br>Only passes between NE thru SE to SW - antenna has no sky view from west to north.</td>\n",
       "            <td>[{&quot;antenna_type&quot;:&quot;parabolic&quot;,&quot;antenna_type_name&quot;:&quot;Parabolic&quot;,&quot;band&quot;:&quot;S&quot;,&quot;frequency&quot;:2200000000,&quot;frequency_max&quot;:2435000000}]</td>\n",
       "            <td>2</td>\n",
       "        </tr>\n",
       "        <tr>\n",
       "            <td>2368</td>\n",
       "            <td>MyHomeDemoStation01</td>\n",
       "            <td>Test station only</td>\n",
       "            <td>[]</td>\n",
       "            <td></td>\n",
       "        </tr>\n",
       "        <tr>\n",
       "            <td>2482</td>\n",
       "            <td>JO52-L</td>\n",
       "            <td>Helix pointing straight up | sawbird GOES with ~3m of coax between feed and LNA, free for the satnogs station when not in use for HRPT | only east passes</td>\n",
       "            <td>[{&quot;antenna_type&quot;:&quot;helical&quot;,&quot;antenna_type_name&quot;:&quot;Helical&quot;,&quot;band&quot;:&quot;L&quot;,&quot;frequency&quot;:1650000000,&quot;frequency_max&quot;:1720000000}]</td>\n",
       "            <td>2</td>\n",
       "        </tr>\n",
       "        <tr>\n",
       "            <td>2736</td>\n",
       "            <td>OH2AGS-1: Aalto Satellites</td>\n",
       "            <td>Aalto Satellites ground station is a station hosted and maintained by Aalto University&#x27;s small satellites team. The station is also used for small satellites operations and thus it is not always available for the SatNOGS network.<br>This station is a &quot;co-station&quot; of station #2708 (OH2AGS-0 - Aalto Satellites) meaning that they share the antenna and radio equipment. Both station can track simultaneously different satellites but only the primary station can turn the antenna rotator.</td>\n",
       "            <td>[{&quot;antenna_type&quot;:&quot;yagi&quot;,&quot;antenna_type_name&quot;:&quot;Yagi&quot;,&quot;band&quot;:&quot;UHF&quot;,&quot;frequency&quot;:435000000,&quot;frequency_max&quot;:438000000}]</td>\n",
       "            <td>2</td>\n",
       "        </tr>\n",
       "        <tr>\n",
       "            <td>2837</td>\n",
       "            <td>KB7KY-UHF-EXPERIMENTAL</td>\n",
       "            <td>Building first ground station - note AZ rotator only - EL set at about 30 degrees</td>\n",
       "            <td>[{&quot;antenna_type&quot;:&quot;yagi&quot;,&quot;antenna_type_name&quot;:&quot;Yagi&quot;,&quot;band&quot;:&quot;UHF&quot;,&quot;frequency&quot;:430000000,&quot;frequency_max&quot;:450000000}]</td>\n",
       "            <td>2</td>\n",
       "        </tr>\n",
       "    </tbody>\n",
       "</table>"
      ],
      "text/plain": [
       "[(36, 'oe8rke', '2022-04-03: station close being reopend after rotor replacement\\n2019-12-19: Still experiance issues with rotor - PLEASE ONLY EMERGENCY RECEPTIONS UN ... (26 characters truncated) ... 019-12-10: Shutdown to service rotor again (stall issue), \\n\\noffsite location in the alps with low noise, operating with pstrotator hamlib interface', '[{\"antenna_type\":\"yagi\",\"antenna_type_name\":\"Yagi\",\"band\":\"UHF\",\"frequency\":430000000,\"frequency_max\":470000000},{\"antenna_type\":\"yagi\",\"antenna_type ... (163 characters truncated) ... 00,\"frequency_max\":2450000000},{\"antenna_type\":\"helical\",\"antenna_type_name\":\"Helical\",\"band\":\"L\",\"frequency\":1230000000,\"frequency_max\":1290000000}]', 2),\n",
       " (87, 'M0IEB/M', \"15.04.2018, Testing software with temporary home rig location, 23.04.2018, Home rig set, added LNA and filter for 145M band. Enjoy! 26.04.2018, Rig w ... (202 characters truncated) ... HF, no tracking available for other sats. 08.02.2019: Added ISS for ARISS SSTV Event. 27.06.2019: Tracking ESA ESEO. From Nov 2019, tracking OPS-SAT.\", '[{\"antenna_type\":\"yagi\",\"antenna_type_name\":\"Yagi\",\"band\":\"UHF\",\"frequency\":430000000,\"frequency_max\":470000000},{\"antenna_type\":\"yagi\",\"antenna_type_name\":\"Yagi\",\"band\":\"VHF\",\"frequency\":135000000,\"frequency_max\":146000000}]', 2),\n",
       " (254, 'SP2ZIE - 70cm', 'Rotator damaged. PW-SAT2 Satellite only. 435.275MHz+/-25kHz bandpass filter.\\nAZ-EL Wimo WX7036. High noise environment. 437-438MHz strong QRMs from LoRa like transmissions. Band limited to 435MHz-440MHz (bandpass filter). Test setup.', '[{\"antenna_type\":\"cross-yagi\",\"antenna_type_name\":\"Cross Yagi\",\"band\":\"UHF\",\"frequency\":432000000,\"frequency_max\":439000000}]', 2),\n",
       " (527, 'Test1', 'This is only a test for a system later on', '[{\"antenna_type\":\"helical\",\"antenna_type_name\":\"Helical\",\"band\":\"L\",\"frequency\":1600000000,\"frequency_max\":1800000000},{\"antenna_type\":\"helical\",\"antenna_type_name\":\"Helical\",\"band\":\"L\",\"frequency\":1500000000,\"frequency_max\":1750000000}]', 2),\n",
       " (751, 'VK2BYF', 'This station is not in use. Created for testing only', '[]', ''),\n",
       " (959, 'CE3VRT - VHF - UHF', 'Station on rural area (limited internet access). Please try to schedule Fox series sats only. \\n\\nGear:\\n- VHF Turnstile\\n- FM Filter + LNA4ALL\\n- Nooelec RTLSDR', '[{\"antenna_type\":\"yagi\",\"antenna_type_name\":\"Yagi\",\"band\":\"UHF\",\"frequency\":430000000,\"frequency_max\":470000000}]', 2),\n",
       " (1287, 'FOSSA-STATION', 'Test Tape Measure Yagi, Only North/West Passes', '[{\"antenna_type\":\"yagi\",\"antenna_type_name\":\"Yagi\",\"band\":\"UHF\",\"frequency\":430000000,\"frequency_max\":470000000}]', 2),\n",
       " (1526, 'Budapest UHF (west only)', '2*3el UHF cross yagi facing 270deg AZ 45deg EL. \\n\\nSetup:\\nOrange Pi Zero 256M, \\nLimeSDR Mini, \\ndiy filter with ~2dB loss, \\nSPF5043Z ~0.6NF 20dB LNA, \\ndiy antenna. \\n\\nContact me on the community forms if you have any questions.', '[{\"antenna_type\":\"cross-yagi\",\"antenna_type_name\":\"Cross Yagi\",\"band\":\"UHF\",\"frequency\":430000000,\"frequency_max\":440000000}]', 2),\n",
       " (1594, 'VK2PET #2 Trial Station', \"This station is a Trial to play around with antennas & SDR's. It will NOT be online all the time. Limited by myself entering the Satellite passes into PST-Rotator.  Back online for testing only as I'm having a lot of issues with this station. For all others please use my other station.\", '[{\"antenna_type\":\"other direct\",\"antenna_type_name\":\"Other Directional\",\"band\":\"VHF\",\"frequency\":135000000,\"frequency_max\":148000000},{\"antenna_type\":\"other direct\",\"antenna_type_name\":\"Other Directional\",\"band\":\"UHF\",\"frequency\":430000000,\"frequency_max\":450000000}]', 2),\n",
       " (1687, 'DL6KBG-AZEL', 'SPID RAS Rotator with 1 degree resolution. Still on the ground and only for testing. Wimo X-Quad for 2M. No LNA so far.', '[{\"antenna_type\":\"cross-yagi\",\"antenna_type_name\":\"Cross Yagi\",\"band\":\"VHF\",\"frequency\":130000000,\"frequency_max\":148000000}]', 2),\n",
       " (1775, 'Vi3w Roy4l', \"Dual-Band Log Periodic Antenna or LPDA  (log-periodic dipole array) VHF/UHF. 2 Meter gain is 6.8 dbd (8.9 dBi) and 440 Gain is 7 dBd (9 dBi). Set up  ... (197 characters truncated) ...  out and we'll see what happens, 1st Station on the Island.\\nJuly: Added a Rotator Wifi controller on the LAN/WAN to control the Rotator on/off site.\", '[{\"antenna_type\":\"other direct\",\"antenna_type_name\":\"Other Directional\",\"band\":\"VHF\",\"frequency\":136000000,\"frequency_max\":148000000},{\"antenna_type\" ... (102 characters truncated) ... max\":429000000},{\"antenna_type\":\"other direct\",\"antenna_type_name\":\"Other Directional\",\"band\":\"UHF\",\"frequency\":430000000,\"frequency_max\":470000000}]', 1),\n",
       " (1824, 'Budapest UHF2 (west only)', 'Test station running on a Nexus 5 Android phone, antenna: ATK-10.', '[{\"antenna_type\":\"yagi\",\"antenna_type_name\":\"Yagi\",\"band\":\"UHF\",\"frequency\":430000000,\"frequency_max\":470000000}]', 2),\n",
       " (2153, 'Langhecke', 'ON TRIAL AND INTERMITTENT !\\nRPi3B, Adalm Pluto: currently testing rotator and S-band reception chain ... \\nOnly passes between NE thru SE to SW - antenna has no sky view from west to north.', '[{\"antenna_type\":\"parabolic\",\"antenna_type_name\":\"Parabolic\",\"band\":\"S\",\"frequency\":2200000000,\"frequency_max\":2435000000}]', 2),\n",
       " (2368, 'MyHomeDemoStation01', 'Test station only', '[]', ''),\n",
       " (2482, 'JO52-L', 'Helix pointing straight up | sawbird GOES with ~3m of coax between feed and LNA, free for the satnogs station when not in use for HRPT | only east passes', '[{\"antenna_type\":\"helical\",\"antenna_type_name\":\"Helical\",\"band\":\"L\",\"frequency\":1650000000,\"frequency_max\":1720000000}]', 2),\n",
       " (2736, 'OH2AGS-1: Aalto Satellites', 'Aalto Satellites ground station is a station hosted and maintained by Aalto University\\'s small satellites team. The station is also used for small s ... (186 characters truncated) ... he antenna and radio equipment. Both station can track simultaneously different satellites but only the primary station can turn the antenna rotator.', '[{\"antenna_type\":\"yagi\",\"antenna_type_name\":\"Yagi\",\"band\":\"UHF\",\"frequency\":435000000,\"frequency_max\":438000000}]', 2),\n",
       " (2837, 'KB7KY-UHF-EXPERIMENTAL', 'Building first ground station - note AZ rotator only - EL set at about 30 degrees', '[{\"antenna_type\":\"yagi\",\"antenna_type_name\":\"Yagi\",\"band\":\"UHF\",\"frequency\":430000000,\"frequency_max\":450000000}]', 2)]"
      ]
     },
     "execution_count": 15,
     "metadata": {},
     "output_type": "execute_result"
    }
   ],
   "source": [
    "%%sql\n",
    "SELECT DISTINCT\n",
    "    text.id,\n",
    "    text.name,\n",
    "    text.description,\n",
    "    stations.antenna,\n",
    "    stations.rotator\n",
    "FROM text, stations\n",
    "WHERE text.id = stations.id\n",
    "AND text MATCH 'only'\n",
    "AND stations.rotator <> 0\n",
    "ORDER BY text.id;\n"
   ]
  },
  {
   "cell_type": "markdown",
   "id": "e97b62bd",
   "metadata": {},
   "source": [
    "Jackpot!\n",
    "A few more stations with directional antennas but no rotation.\n",
    "\n",
    "And a bonus azimuth-only station!"
   ]
  },
  {
   "cell_type": "code",
   "execution_count": 16,
   "id": "4536e020",
   "metadata": {},
   "outputs": [
    {
     "name": "stdout",
     "output_type": "stream",
     "text": [
      " * sqlite:///../data/stations.db\n",
      "3 rows affected.\n",
      "1 rows affected.\n"
     ]
    },
    {
     "data": {
      "text/plain": [
       "[]"
      ]
     },
     "execution_count": 16,
     "metadata": {},
     "output_type": "execute_result"
    }
   ],
   "source": [
    "%%sql\n",
    "-- More no-rotator stations\n",
    "UPDATE stations SET rotator = 0 WHERE id IN (1526, 1824, 2482);\n",
    "\n",
    "-- And another azimuth-only station!\n",
    "UPDATE stations SET rotator = 1 WHERE id IN (2837);"
   ]
  },
  {
   "cell_type": "markdown",
   "id": "e425f804",
   "metadata": {},
   "source": [
    "That's good enough for now.\n",
    "Note to self to consider filing an issue against the ground station information endpoint to add a field to capture this number of axes directly from the owner.\n",
    "\n",
    "What about the stations with an empty `antenna` field?"
   ]
  },
  {
   "cell_type": "code",
   "execution_count": 17,
   "id": "3f4e0cb9",
   "metadata": {},
   "outputs": [
    {
     "name": "stdout",
     "output_type": "stream",
     "text": [
      " * sqlite:///../data/stations.db\n",
      "Done.\n"
     ]
    },
    {
     "data": {
      "text/html": [
       "<table>\n",
       "    <thead>\n",
       "        <tr>\n",
       "            <th>count(*)</th>\n",
       "            <th>sum(observations)</th>\n",
       "        </tr>\n",
       "    </thead>\n",
       "    <tbody>\n",
       "        <tr>\n",
       "            <td>199</td>\n",
       "            <td>47</td>\n",
       "        </tr>\n",
       "    </tbody>\n",
       "</table>"
      ],
      "text/plain": [
       "[(199, 47)]"
      ]
     },
     "execution_count": 17,
     "metadata": {},
     "output_type": "execute_result"
    }
   ],
   "source": [
    "%%sql\n",
    "SELECT\n",
    "    count(*),\n",
    "    sum(observations)\n",
    "FROM stations\n",
    "WHERE rotator NOT IN (0, 1, 2);"
   ]
  },
  {
   "cell_type": "markdown",
   "id": "38bab686",
   "metadata": {},
   "source": [
    "So there are 199 stations with a blank `antenna` field, which have scheduled a total of only 47 observations across them.\n",
    "It is not statistically useful to attempt to classify the number of rotation axes for these stations."
   ]
  },
  {
   "cell_type": "markdown",
   "id": "e42f4591",
   "metadata": {},
   "source": [
    "# Statistics"
   ]
  },
  {
   "cell_type": "markdown",
   "id": "57b40939",
   "metadata": {},
   "source": [
    "## Popular antenna types"
   ]
  },
  {
   "cell_type": "code",
   "execution_count": 18,
   "id": "4fc68883",
   "metadata": {},
   "outputs": [
    {
     "name": "stdout",
     "output_type": "stream",
     "text": [
      " * sqlite:///../data/stations.db\n",
      "Done.\n"
     ]
    },
    {
     "data": {
      "text/html": [
       "<table>\n",
       "    <thead>\n",
       "        <tr>\n",
       "            <th>type</th>\n",
       "            <th>num_type</th>\n",
       "        </tr>\n",
       "    </thead>\n",
       "    <tbody>\n",
       "        <tr>\n",
       "            <td>turnstile</td>\n",
       "            <td>358</td>\n",
       "        </tr>\n",
       "        <tr>\n",
       "            <td>yagi</td>\n",
       "            <td>316</td>\n",
       "        </tr>\n",
       "        <tr>\n",
       "            <td>quadrafilar</td>\n",
       "            <td>290</td>\n",
       "        </tr>\n",
       "        <tr>\n",
       "            <td>vertical</td>\n",
       "            <td>249</td>\n",
       "        </tr>\n",
       "        <tr>\n",
       "            <td>cross-yagi</td>\n",
       "            <td>229</td>\n",
       "        </tr>\n",
       "        <tr>\n",
       "            <td>None</td>\n",
       "            <td>204</td>\n",
       "        </tr>\n",
       "        <tr>\n",
       "            <td>dipole</td>\n",
       "            <td>180</td>\n",
       "        </tr>\n",
       "        <tr>\n",
       "            <td>v-dipole</td>\n",
       "            <td>153</td>\n",
       "        </tr>\n",
       "        <tr>\n",
       "            <td>discone</td>\n",
       "            <td>140</td>\n",
       "        </tr>\n",
       "        <tr>\n",
       "            <td>eggbeater</td>\n",
       "            <td>139</td>\n",
       "        </tr>\n",
       "        <tr>\n",
       "            <td>other omni</td>\n",
       "            <td>91</td>\n",
       "        </tr>\n",
       "        <tr>\n",
       "            <td>helical</td>\n",
       "            <td>80</td>\n",
       "        </tr>\n",
       "        <tr>\n",
       "            <td>ground</td>\n",
       "            <td>69</td>\n",
       "        </tr>\n",
       "        <tr>\n",
       "            <td>lindenblad</td>\n",
       "            <td>38</td>\n",
       "        </tr>\n",
       "        <tr>\n",
       "            <td>other direct</td>\n",
       "            <td>35</td>\n",
       "        </tr>\n",
       "        <tr>\n",
       "            <td>parabolic</td>\n",
       "            <td>18</td>\n",
       "        </tr>\n",
       "        <tr>\n",
       "            <td>patch</td>\n",
       "            <td>10</td>\n",
       "        </tr>\n",
       "        <tr>\n",
       "            <td>paralindy</td>\n",
       "            <td>5</td>\n",
       "        </tr>\n",
       "    </tbody>\n",
       "</table>"
      ],
      "text/plain": [
       "[('turnstile', 358),\n",
       " ('yagi', 316),\n",
       " ('quadrafilar', 290),\n",
       " ('vertical', 249),\n",
       " ('cross-yagi', 229),\n",
       " (None, 204),\n",
       " ('dipole', 180),\n",
       " ('v-dipole', 153),\n",
       " ('discone', 140),\n",
       " ('eggbeater', 139),\n",
       " ('other omni', 91),\n",
       " ('helical', 80),\n",
       " ('ground', 69),\n",
       " ('lindenblad', 38),\n",
       " ('other direct', 35),\n",
       " ('parabolic', 18),\n",
       " ('patch', 10),\n",
       " ('paralindy', 5)]"
      ]
     },
     "execution_count": 18,
     "metadata": {},
     "output_type": "execute_result"
    }
   ],
   "source": [
    "%%sql\n",
    "SELECT\n",
    "    json_extract(antenna, \"$[0].antenna_type\") as type,\n",
    "    count(antenna) as num_type\n",
    "FROM stations\n",
    "GROUP BY type\n",
    "ORDER BY num_type DESC;"
   ]
  },
  {
   "cell_type": "markdown",
   "id": "50cefef9",
   "metadata": {},
   "source": [
    "## Number of rotation axes"
   ]
  },
  {
   "cell_type": "code",
   "execution_count": 19,
   "id": "3273fb4b",
   "metadata": {},
   "outputs": [
    {
     "name": "stdout",
     "output_type": "stream",
     "text": [
      " * sqlite:///../data/stations.db\n",
      "(sqlite3.OperationalError) near \"FROM\": syntax error\n",
      "[SQL: -- Number of stations by motion axes\n",
      "SELECT\n",
      "    rotator,\n",
      "    count(rotator) as num,\n",
      "FROM stations\n",
      "GROUP BY rotator\n",
      "ORDER BY rotator;]\n",
      "(Background on this error at: https://sqlalche.me/e/14/e3q8)\n"
     ]
    }
   ],
   "source": [
    "%%sql\n",
    "-- Number of stations by motion axes\n",
    "SELECT\n",
    "    rotator,\n",
    "    count(rotator) as num,\n",
    "FROM stations\n",
    "GROUP BY rotator\n",
    "ORDER BY rotator;"
   ]
  },
  {
   "cell_type": "code",
   "execution_count": 20,
   "id": "3a6027cf",
   "metadata": {},
   "outputs": [
    {
     "name": "stdout",
     "output_type": "stream",
     "text": [
      "axes   N   %\n",
      "  0   358 37.1\n",
      "  1   316 32.8\n",
      "  2   290 30.1\n"
     ]
    }
   ],
   "source": [
    "# switch to python\n",
    "result = _\n",
    "num_axes = [r[1] for r in result[:3]]\n",
    "total = sum(num_axes)\n",
    "\n",
    "print(\"axes   N   %\")\n",
    "for i, n in enumerate(num_axes):\n",
    "    print(f\"{i:3d}  {n:4d} {n/total*100:4.1f}\")"
   ]
  },
  {
   "cell_type": "markdown",
   "id": "16d7c313",
   "metadata": {},
   "source": [
    "Of the registered ground stations, the ratio of locations with no rotator versus some rotator is about 70 % to 30 %.\n",
    "\n",
    "What if we restrict this to stations which are presently operating as either \"Online\" or \"Testing\"?"
   ]
  },
  {
   "cell_type": "code",
   "execution_count": 21,
   "id": "7085f65f",
   "metadata": {},
   "outputs": [
    {
     "name": "stdout",
     "output_type": "stream",
     "text": [
      " * sqlite:///../data/stations.db\n",
      "Done.\n"
     ]
    },
    {
     "data": {
      "text/html": [
       "<table>\n",
       "    <thead>\n",
       "        <tr>\n",
       "            <th>rotator</th>\n",
       "            <th>num</th>\n",
       "        </tr>\n",
       "    </thead>\n",
       "    <tbody>\n",
       "        <tr>\n",
       "            <td>0</td>\n",
       "            <td>307</td>\n",
       "        </tr>\n",
       "        <tr>\n",
       "            <td>1</td>\n",
       "            <td>2</td>\n",
       "        </tr>\n",
       "        <tr>\n",
       "            <td>2</td>\n",
       "            <td>90</td>\n",
       "        </tr>\n",
       "        <tr>\n",
       "            <td></td>\n",
       "            <td>1</td>\n",
       "        </tr>\n",
       "    </tbody>\n",
       "</table>"
      ],
      "text/plain": [
       "[(0, 307), (1, 2), (2, 90), ('', 1)]"
      ]
     },
     "execution_count": 21,
     "metadata": {},
     "output_type": "execute_result"
    }
   ],
   "source": [
    "%%sql\n",
    "-- Number of stations by motion axes\n",
    "SELECT\n",
    "    rotator,\n",
    "    count(rotator) as num\n",
    "FROM stations\n",
    "WHERE status IN (\"Online\", \"Testing\")  -- Only other option is \"Offline\"\n",
    "GROUP BY rotator\n",
    "ORDER BY rotator;"
   ]
  },
  {
   "cell_type": "code",
   "execution_count": 22,
   "id": "c4fded9b",
   "metadata": {},
   "outputs": [
    {
     "name": "stdout",
     "output_type": "stream",
     "text": [
      "axes   N   %\n",
      "  0   307 76.9\n",
      "  1     2  0.5\n",
      "  2    90 22.6\n"
     ]
    }
   ],
   "source": [
    "result = _\n",
    "num_axes = [r[1] for r in result[:3]]\n",
    "total = sum(num_axes)\n",
    "\n",
    "print(\"axes   N   %\")\n",
    "for i, n in enumerate(num_axes):\n",
    "    print(f\"{i:3d}  {n:4d} {n/total*100:4.1f}\")"
   ]
  },
  {
   "cell_type": "markdown",
   "id": "de3295ac",
   "metadata": {},
   "source": [
    "The ratio increases in favor of no rotator for the antenna (or merely omni-directional)."
   ]
  },
  {
   "cell_type": "markdown",
   "id": "8ec0f9c2",
   "metadata": {},
   "source": [
    "## Online status"
   ]
  },
  {
   "cell_type": "code",
   "execution_count": 23,
   "id": "1152360a",
   "metadata": {},
   "outputs": [
    {
     "name": "stdout",
     "output_type": "stream",
     "text": [
      " * sqlite:///../data/stations.db\n",
      "Done.\n"
     ]
    },
    {
     "data": {
      "text/html": [
       "<table>\n",
       "    <thead>\n",
       "        <tr>\n",
       "            <th>status</th>\n",
       "            <th>num</th>\n",
       "        </tr>\n",
       "    </thead>\n",
       "    <tbody>\n",
       "        <tr>\n",
       "            <td>Offline</td>\n",
       "            <td>2204</td>\n",
       "        </tr>\n",
       "        <tr>\n",
       "            <td>Online</td>\n",
       "            <td>263</td>\n",
       "        </tr>\n",
       "        <tr>\n",
       "            <td>Testing</td>\n",
       "            <td>137</td>\n",
       "        </tr>\n",
       "    </tbody>\n",
       "</table>"
      ],
      "text/plain": [
       "[('Offline', 2204), ('Online', 263), ('Testing', 137)]"
      ]
     },
     "execution_count": 23,
     "metadata": {},
     "output_type": "execute_result"
    }
   ],
   "source": [
    "%%sql\n",
    "-- Number of stations by motion axes\n",
    "SELECT\n",
    "    status,\n",
    "    count(status) as num\n",
    "FROM stations\n",
    "GROUP BY status\n",
    "ORDER BY num DESC;"
   ]
  },
  {
   "cell_type": "code",
   "execution_count": 24,
   "id": "db626ffc",
   "metadata": {},
   "outputs": [
    {
     "name": "stdout",
     "output_type": "stream",
     "text": [
      "Offline  2204 84.6%\n",
      "Online    263 10.1%\n",
      "Testing   137  5.3%\n"
     ]
    }
   ],
   "source": [
    "result = _\n",
    "total = sum([r[1] for r in result])\n",
    "\n",
    "for s, n in result:\n",
    "    print(f\"{s:8s} {n:4d} {n/total*100:4.1f}%\")"
   ]
  },
  {
   "cell_type": "markdown",
   "id": "c05c0223",
   "metadata": {},
   "source": [
    "About 15% of registered ground stations are presently operating and ready to accept observation jobs."
   ]
  },
  {
   "cell_type": "markdown",
   "id": "6a34436d",
   "metadata": {},
   "source": [
    "## Ground stations created by year"
   ]
  },
  {
   "cell_type": "code",
   "execution_count": 25,
   "id": "2a42e6d6",
   "metadata": {},
   "outputs": [
    {
     "name": "stdout",
     "output_type": "stream",
     "text": [
      " * sqlite:///../data/stations.db\n",
      "Done.\n"
     ]
    },
    {
     "data": {
      "text/html": [
       "<table>\n",
       "    <thead>\n",
       "        <tr>\n",
       "            <th>year</th>\n",
       "            <th>num_new</th>\n",
       "        </tr>\n",
       "    </thead>\n",
       "    <tbody>\n",
       "        <tr>\n",
       "            <td>2015</td>\n",
       "            <td>4</td>\n",
       "        </tr>\n",
       "        <tr>\n",
       "            <td>2016</td>\n",
       "            <td>1</td>\n",
       "        </tr>\n",
       "        <tr>\n",
       "            <td>2017</td>\n",
       "            <td>25</td>\n",
       "        </tr>\n",
       "        <tr>\n",
       "            <td>2018</td>\n",
       "            <td>349</td>\n",
       "        </tr>\n",
       "        <tr>\n",
       "            <td>2019</td>\n",
       "            <td>700</td>\n",
       "        </tr>\n",
       "        <tr>\n",
       "            <td>2020</td>\n",
       "            <td>608</td>\n",
       "        </tr>\n",
       "        <tr>\n",
       "            <td>2021</td>\n",
       "            <td>498</td>\n",
       "        </tr>\n",
       "        <tr>\n",
       "            <td>2022</td>\n",
       "            <td>419</td>\n",
       "        </tr>\n",
       "    </tbody>\n",
       "</table>"
      ],
      "text/plain": [
       "[('2015', 4),\n",
       " ('2016', 1),\n",
       " ('2017', 25),\n",
       " ('2018', 349),\n",
       " ('2019', 700),\n",
       " ('2020', 608),\n",
       " ('2021', 498),\n",
       " ('2022', 419)]"
      ]
     },
     "execution_count": 25,
     "metadata": {},
     "output_type": "execute_result"
    }
   ],
   "source": [
    "%%sql\n",
    "SELECT\n",
    "    strftime(\"%Y\", created) as year,\n",
    "    count(id) as num_new\n",
    "FROM stations\n",
    "WHERE strftime(\"%s\", created) >= strftime(\"%s\", printf(\"%d-01-01\", year))\n",
    "  AND strftime(\"%s\", created) <  strftime(\"%s\", printf(\"%d-01-01\", year+1))\n",
    "GROUP BY year\n",
    "ORDER BY year;\n"
   ]
  },
  {
   "cell_type": "code",
   "execution_count": null,
   "id": "53b14a22",
   "metadata": {},
   "outputs": [],
   "source": []
  }
 ],
 "metadata": {
  "kernelspec": {
   "display_name": "Python 3 (ipykernel)",
   "language": "python",
   "name": "python3"
  },
  "language_info": {
   "codemirror_mode": {
    "name": "ipython",
    "version": 3
   },
   "file_extension": ".py",
   "mimetype": "text/x-python",
   "name": "python",
   "nbconvert_exporter": "python",
   "pygments_lexer": "ipython3",
   "version": "3.10.8"
  }
 },
 "nbformat": 4,
 "nbformat_minor": 5
}
