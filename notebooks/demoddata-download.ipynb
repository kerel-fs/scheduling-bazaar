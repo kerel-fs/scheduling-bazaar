{
 "cells": [
  {
   "cell_type": "code",
   "execution_count": null,
   "id": "8b4fac80-de9b-410d-be9d-9f25d39aa505",
   "metadata": {},
   "outputs": [],
   "source": [
    "import json\n",
    "\n",
    "import requests"
   ]
  },
  {
   "cell_type": "markdown",
   "id": "d4e7289d-7233-4711-be87-8cd992d3caea",
   "metadata": {},
   "source": [
    "# References"
   ]
  },
  {
   "cell_type": "markdown",
   "id": "5d9ed2c2-8b3b-482b-a862-0fa0d2966ba2",
   "metadata": {},
   "source": [
    "- https://github.com/catherinedevlin/ipython-sql\n"
   ]
  },
  {
   "cell_type": "markdown",
   "id": "e4648c2c-312b-4bf2-8b92-1962033b2d4d",
   "metadata": {},
   "source": [
    "# Observations db setup"
   ]
  },
  {
   "cell_type": "code",
   "execution_count": null,
   "id": "e6f8e48f-5826-4dc9-816c-b8b265f9dd80",
   "metadata": {},
   "outputs": [],
   "source": [
    "%load_ext sql"
   ]
  },
  {
   "cell_type": "code",
   "execution_count": null,
   "id": "24331264-ea18-47da-8f38-6fd05311dfc6",
   "metadata": {},
   "outputs": [],
   "source": [
    "%sql sqlite:///../data/observations_2023-07-01_rotators.db"
   ]
  },
  {
   "cell_type": "markdown",
   "id": "c2c0c064-831d-4625-83df-679c6c965fc2",
   "metadata": {},
   "source": [
    "Re-build the indexes if they don't exist."
   ]
  },
  {
   "cell_type": "code",
   "execution_count": null,
   "id": "e1b24bfd-6957-4610-af9e-92ea4bc0bf7e",
   "metadata": {},
   "outputs": [],
   "source": [
    "%%sql\n",
    "-- Indexes make the world go 'round ... faster.\n",
    "CREATE INDEX IF NOT EXISTS gs_norad_index\n",
    "ON observations(ground_station, norad_cat_id);\n",
    "\n",
    "CREATE INDEX IF NOT EXISTS gs_index\n",
    "ON observations(ground_station);\n",
    "\n",
    "CREATE INDEX IF NOT EXISTS norad_index\n",
    "ON observations(norad_cat_id);\n",
    "\n",
    "CREATE INDEX IF NOT EXISTS observer_index\n",
    "ON observations(observer);\n",
    "\n",
    "CREATE INDEX IF NOT EXISTS observer_gs_index\n",
    "ON observations(observer, ground_station);\n",
    "\n",
    "CREATE INDEX IF NOT EXISTS gs_observer_index\n",
    "ON observations(ground_station, observer);\n"
   ]
  },
  {
   "cell_type": "markdown",
   "id": "c1eecb94-9d4e-4803-b4b9-10a323226d36",
   "metadata": {},
   "source": [
    "# Misc poking around"
   ]
  },
  {
   "cell_type": "code",
   "execution_count": null,
   "id": "01929868-5807-4277-89d8-8fa013332337",
   "metadata": {},
   "outputs": [],
   "source": [
    "results = %sql select * from observations where id=7765459;"
   ]
  },
  {
   "cell_type": "code",
   "execution_count": null,
   "id": "1b8ac4c7-7d71-4d9a-bc81-898af421ed18",
   "metadata": {},
   "outputs": [],
   "source": [
    "result = results.dict()"
   ]
  },
  {
   "cell_type": "code",
   "execution_count": null,
   "id": "32d8a370-530d-4eca-bf71-97e44f3a5e82",
   "metadata": {},
   "outputs": [],
   "source": [
    "decodes = result['demoddata'][0]"
   ]
  },
  {
   "cell_type": "code",
   "execution_count": null,
   "id": "35971455-6790-44a3-a28b-6148b079a27a",
   "metadata": {},
   "outputs": [],
   "source": [
    "type(decodes)"
   ]
  },
  {
   "cell_type": "code",
   "execution_count": null,
   "id": "9a6ca780-a169-4dc6-af84-d38d48a62a25",
   "metadata": {},
   "outputs": [],
   "source": [
    "row = results[0]"
   ]
  },
  {
   "cell_type": "code",
   "execution_count": null,
   "id": "32af20c0-664a-4b4a-a8c9-1d24929fbf89",
   "metadata": {},
   "outputs": [],
   "source": [
    "demoddata = row['demoddata']"
   ]
  },
  {
   "cell_type": "code",
   "execution_count": null,
   "id": "b679ecf4-d744-4c82-9793-685513a529ea",
   "metadata": {},
   "outputs": [],
   "source": [
    "# Stored as a string, we get the double and single quotes mixed up in translation\n",
    "# ensure we can read the data as JSON\n",
    "dd = demoddata.replace(\"'\", \"\\\"\")\n"
   ]
  },
  {
   "cell_type": "code",
   "execution_count": null,
   "id": "3795ed03-5597-4cda-94b1-e27de2dedd47",
   "metadata": {},
   "outputs": [],
   "source": [
    "d = json.loads(dd)\n",
    "len(d)"
   ]
  },
  {
   "cell_type": "code",
   "execution_count": null,
   "id": "49205e2f-36a2-4525-b891-07ba5eb9e537",
   "metadata": {},
   "outputs": [],
   "source": [
    "d"
   ]
  },
  {
   "cell_type": "markdown",
   "id": "2125bcad-0ddd-436d-bddd-f7b44ac8bf7a",
   "metadata": {},
   "source": [
    "# Observations with demoddata"
   ]
  },
  {
   "cell_type": "markdown",
   "id": "72147c49-0adc-4259-9293-85d6acea84da",
   "metadata": {},
   "source": [
    "The `demoddata` field is a list of dicts.  If there are no demodulated data frames, then the field will store an empty list.\n",
    "\n",
    "This field is stored in the SQlite db as a string, so no frames will show up as the string \"[]\"."
   ]
  },
  {
   "cell_type": "code",
   "execution_count": null,
   "id": "c12f3ec6-9c7f-4d2c-8e50-434b0da3fa4e",
   "metadata": {},
   "outputs": [],
   "source": [
    "results = %sql select * from observations where id=776545;\n",
    "demoddata = results[0]['demoddata']\n",
    "demoddata"
   ]
  },
  {
   "cell_type": "code",
   "execution_count": null,
   "id": "6e03e38b-ee5a-46e5-898d-351c4fdccd67",
   "metadata": {},
   "outputs": [],
   "source": [
    "%%sql\n",
    "select count(*) from observations\n",
    "where length(demoddata) > 2;"
   ]
  },
  {
   "cell_type": "markdown",
   "id": "10a893d2-55c1-4f15-87f9-e70f403e25ff",
   "metadata": {},
   "source": [
    "So, presently about 2.2M observations with some sort of data.\n",
    "\n",
    "Since we will be only asking about this set from here on out, create a new table with only these observations."
   ]
  },
  {
   "cell_type": "code",
   "execution_count": null,
   "id": "a43d3db4-d84b-44d0-8792-f1165a44adea",
   "metadata": {},
   "outputs": [],
   "source": [
    "%%sql\n",
    "CREATE TABLE obs_with_data AS\n",
    "SELECT *\n",
    "FROM observations\n",
    "WHERE length(demoddata) > 2;"
   ]
  },
  {
   "cell_type": "code",
   "execution_count": null,
   "id": "dc62f4da-7c8d-43aa-b2b7-81785b41e925",
   "metadata": {},
   "outputs": [],
   "source": [
    "# get the size of a file without downloading it\n",
    "import requests\n",
    "\n",
    "URL = 'https://s3.eu-central-1.wasabisys.com/satnogs-network/data_obs/2023/6/25/16/7765459/data_7765459_2023-06-25T16-34-20'\n",
    "with requests.get(URL, stream=True) as r:\n",
    "    size = int(r.headers['content-length'])\n",
    "size"
   ]
  },
  {
   "cell_type": "code",
   "execution_count": null,
   "id": "0ac55a94-1ad3-4624-8a8f-ed57dd597627",
   "metadata": {},
   "outputs": [],
   "source": [
    "from os.path import basename\n",
    "\n",
    "basename('https://s3.eu-central-1.wasabisys.com/satnogs-network/data_obs/2023/6/25/16/7765459/data_7765459_2023-06-25T16-34-20')"
   ]
  },
  {
   "cell_type": "markdown",
   "id": "b06e3fa2-26bc-4398-8a06-3744ba3fb16a",
   "metadata": {},
   "source": [
    "## Make a local copy of the data frames?"
   ]
  },
  {
   "cell_type": "markdown",
   "id": "a8454c1b-0d1d-4e37-a84b-946c66e61576",
   "metadata": {},
   "source": [
    "Table with\n",
    "\n",
    "- id\n",
    "- datetime\n",
    "- blob\n"
   ]
  },
  {
   "cell_type": "code",
   "execution_count": null,
   "id": "dfbfb66f-e8db-4d8a-976d-a594bd3d27a4",
   "metadata": {},
   "outputs": [],
   "source": [
    "%%sql\n",
    "--DROP TABLE obs_demoddata;\n",
    "\n",
    "CREATE TABLE obs_demoddata (\n",
    "    id INTEGER,\n",
    "    datetime TEXT,\n",
    "    name TEXT UNIQUE,\n",
    "    data BLOB);\n",
    "\n",
    "CREATE INDEX idx_obs_demoddata ON obs_demoddata(id);"
   ]
  },
  {
   "cell_type": "markdown",
   "id": "0e00e7fd-d95c-4a46-8de7-3fb32f08d2db",
   "metadata": {},
   "source": [
    "- Get the data from the observations"
   ]
  },
  {
   "cell_type": "code",
   "execution_count": null,
   "id": "7a7083a9-f202-465b-9452-ac1cc3cccf70",
   "metadata": {},
   "outputs": [],
   "source": [
    "# extract the data frames from each obs\n",
    "results = %sql select id,demoddata from obs_with_data ORDER BY id DESC;"
   ]
  },
  {
   "cell_type": "code",
   "execution_count": null,
   "id": "540e4176-86ee-4d3c-b784-19a04e1a0540",
   "metadata": {},
   "outputs": [],
   "source": [
    "from os.path import basename, splitext\n",
    "from collections import Counter\n",
    "\n",
    "extensions = Counter()\n",
    "\n",
    "# count the extensions\n",
    "for obs, demoddata in results:\n",
    "    dd = demoddata.replace(\"'\", \"\\\"\")\n",
    "    frames = json.loads(dd)\n",
    "    \n",
    "    for f in frames:\n",
    "        d = f['payload_demod']\n",
    "        name, ext = splitext(basename(d))\n",
    "        extensions[ext] += 1\n",
    "\n",
    "extensions.most_common()"
   ]
  },
  {
   "cell_type": "code",
   "execution_count": null,
   "id": "0bc6b940-a64c-4702-b31f-becfbdb547a0",
   "metadata": {
    "tags": []
   },
   "outputs": [],
   "source": [
    "extensions.total()"
   ]
  },
  {
   "cell_type": "code",
   "execution_count": null,
   "id": "8e1d2e20-45a0-4aff-89b1-6ab378ebf2db",
   "metadata": {
    "tags": []
   },
   "outputs": [],
   "source": [
    "56383592 / 57172304"
   ]
  },
  {
   "cell_type": "markdown",
   "id": "07e99c61-7a54-412d-9ac6-11aa726356e4",
   "metadata": {},
   "source": [
    "For the moment, ignore all frame data with extensions, which is less than 2% of the total number."
   ]
  },
  {
   "cell_type": "code",
   "execution_count": null,
   "id": "cb618cf8-d505-42c5-9c2c-d2f8247d4f7a",
   "metadata": {
    "tags": []
   },
   "outputs": [],
   "source": [
    "import sqlite3\n",
    "\n",
    "conn = sqlite3.connect('../data/observations_2023-07-01_rotators.db')\n",
    "\n",
    "def add_frame(id, dt, name, data):\n",
    "    things = {'id':id, 'dt':dt, 'name':name, 'data':data}\n",
    "\n",
    "    with conn:\n",
    "        conn.execute('INSERT OR IGNORE INTO obs_demoddata VALUES(:id, :dt, :name, :data);', things)\n",
    "        "
   ]
  },
  {
   "cell_type": "code",
   "execution_count": null,
   "id": "01347dfd-0e07-43b0-b757-2884ede19a85",
   "metadata": {
    "tags": []
   },
   "outputs": [],
   "source": [
    "import requests\n",
    "import requests_cache\n",
    "\n",
    "# no expiration\n",
    "requests_cache.install_cache()\n",
    "\n",
    "\n",
    "sequences = Counter()\n",
    "lengths = Counter()\n",
    "\n",
    "# get the data content\n",
    "for obs, demoddata in results:\n",
    "    dd = demoddata.replace(\"'\", \"\\\"\")\n",
    "    frames = json.loads(dd)\n",
    "    \n",
    "    print(obs, end='')\n",
    "    \n",
    "    for f in frames:\n",
    "        path = f['payload_demod']\n",
    "        filename = basename(path)\n",
    "        name, ext = splitext(filename)\n",
    "        \n",
    "        # ignore files with extensions\n",
    "        if len(ext) > 0:\n",
    "            continue\n",
    "        \n",
    "        try:\n",
    "            prefix, obsid, datestr, *sequence = name.split('_')\n",
    "        except:\n",
    "            print(name)\n",
    "            continue\n",
    "        \n",
    "        sequence = '' if not sequence else sequence[0]\n",
    "        \n",
    "        sequences[sequence] += 1\n",
    "        \n",
    "        year, month, dayhour, minute, second = datestr.split('-')\n",
    "        dt = f'{year}-{month}-{dayhour}:{minute}:{second}'\n",
    "        #print([obs, dt, sequence])\n",
    "        \n",
    "        # TODO: what to do with the sequence suffix?\n",
    "        #print(sequence)\n",
    "\n",
    "        # fetch the data content\n",
    "        with requests.get(path) as r:\n",
    "            n = int(r.headers['content-length'])\n",
    "            lengths[n] += 1\n",
    "            data = r.content\n",
    "        \n",
    "        print('.', end='')\n",
    "        \n",
    "        add_frame(obs, dt, filename, data)\n",
    "    print()\n",
    "\n",
    "sequences.most_common()\n",
    "\n",
    "\n",
    "\n",
    "# put into the db table"
   ]
  },
  {
   "cell_type": "code",
   "execution_count": null,
   "id": "a35ec98e-cde8-468a-92f4-9403503e3710",
   "metadata": {},
   "outputs": [],
   "source": [
    "import requests\n",
    "import requests_cache\n",
    "import concurrent.futures\n",
    "import threading\n",
    "\n",
    "# no expiration\n",
    "requests_cache.install_cache()\n",
    "\n",
    "\n",
    "thread_local = threading.local()\n",
    "\n",
    "def get_session():\n",
    "    if not hasattr(thread_local, \"session\"):\n",
    "        thread_local.session = requests.Session()\n",
    "    return thread_local.session\n",
    "\n",
    "\n",
    "\n",
    "def get_frame_content(obs, dt, filename, path):\n",
    "    session = get_session()\n",
    "    with session.get(path) as r:\n",
    "        data = r.content\n",
    "    return (obs, dt, filename, data)\n",
    "\n",
    "\n",
    "def stuff_demoddata_table(id_low, id_high):\n",
    "    # get the data content\n",
    "    for obs, demoddata in results:\n",
    "        dd = demoddata.replace(\"'\", \"\\\"\")\n",
    "        frames = json.loads(dd)\n",
    "\n",
    "        # only deal with ids in the range\n",
    "        if (obs < id_low) or (obs > id_high):\n",
    "            continue\n",
    "\n",
    "        print(obs, end=' ')\n",
    "        with concurrent.futures.ThreadPoolExecutor(max_workers=20) as pool:\n",
    "            futures = []\n",
    "\n",
    "            for f in frames:\n",
    "                path = f['payload_demod']\n",
    "                filename = basename(path)\n",
    "                name, ext = splitext(filename)\n",
    "\n",
    "                # ignore files with extensions\n",
    "                if len(ext) > 0:\n",
    "                    continue\n",
    "\n",
    "                try:\n",
    "                    prefix, obsid, datestr, *sequence = name.split('_')\n",
    "                except:\n",
    "                    print(name)\n",
    "                    continue\n",
    "\n",
    "                sequence = '' if not sequence else sequence[0]\n",
    "\n",
    "                sequences[sequence] += 1\n",
    "\n",
    "                year, month, dayhour, minute, second = datestr.split('-')\n",
    "                dt = f'{year}-{month}-{dayhour}:{minute}:{second}'\n",
    "                #print([obs, dt, sequence])\n",
    "\n",
    "                # TODO: what to do with the sequence suffix?\n",
    "                #print(sequence)\n",
    "\n",
    "                futures.append(pool.submit(get_frame_content, obs, dt, filename, path))\n",
    "\n",
    "\n",
    "            for future in concurrent.futures.as_completed(futures):\n",
    "                (obs, dt, filename, data) = future.result()\n",
    "                add_frame(obs, dt, filename, data)\n",
    "                print('.', end='')\n",
    "            print()\n"
   ]
  },
  {
   "cell_type": "code",
   "execution_count": null,
   "id": "0790562c-e2fb-4397-8025-0168f64601c4",
   "metadata": {
    "tags": []
   },
   "outputs": [],
   "source": [
    "stuff_demoddata_table(7_600_000, 7_737_381)"
   ]
  },
  {
   "cell_type": "code",
   "execution_count": null,
   "id": "bd2faa94-5936-46bd-9ace-e03f2f6a9ada",
   "metadata": {
    "tags": []
   },
   "outputs": [],
   "source": [
    "%%sql\n",
    "select id, name from obs_demoddata order by id asc limit 10;"
   ]
  },
  {
   "cell_type": "code",
   "execution_count": null,
   "id": "9c00af7b-65fb-4ed8-bdac-7739e57db462",
   "metadata": {
    "tags": []
   },
   "outputs": [],
   "source": [
    "with open('demoddata_urls.txt', 'w') as urlfile:\n",
    "    for obs, demoddata in results:\n",
    "        dd = demoddata.replace(\"'\", \"\\\"\")\n",
    "        frames = json.loads(dd)\n",
    "\n",
    "        for f in frames:\n",
    "            path = f['payload_demod']\n",
    "            urlfile.write(path + '\\n')"
   ]
  },
  {
   "cell_type": "code",
   "execution_count": null,
   "id": "ee82a88c-90ac-41d0-992d-e1739be16e8c",
   "metadata": {
    "tags": []
   },
   "outputs": [],
   "source": [
    "from itertools import islice\n",
    "import time\n",
    "\n",
    "def batched(iterable, n):\n",
    "    \"Batch data into tuples of length n. The last batch may be shorter.\"\n",
    "    # batched('ABCDEFG', 3) --> ABC DEF G\n",
    "    if n < 1:\n",
    "        raise ValueError('n must be at least one')\n",
    "    it = iter(iterable)\n",
    "    while batch := tuple(islice(it, n)):\n",
    "        yield batch\n",
    "\n",
    "\n",
    "with open('demoddata_urls.txt', 'r') as urls:\n",
    "    with concurrent.futures.ThreadPoolExecutor(max_workers=40) as pool:\n",
    "        futures = []\n",
    "\n",
    "        \n",
    "        \n",
    "        for batch in batched(urls, 1000):\n",
    "            t1 = time.perf_counter()\n",
    "            for pathline in batch:\n",
    "                path = pathline.rstrip()\n",
    "                filename = basename(path)\n",
    "                name, ext = splitext(filename)\n",
    "\n",
    "                # ignore files with extensions\n",
    "                if len(ext) > 0:\n",
    "                    continue\n",
    "\n",
    "                try:\n",
    "                    prefix, obsid, datestr, *sequence = name.split('_')\n",
    "                except:\n",
    "                    print(name)\n",
    "                    continue\n",
    "\n",
    "                obs = int(obsid)\n",
    "                sequence = '' if not sequence else sequence[0]\n",
    "\n",
    "                # skip things already touched\n",
    "                if obs > 7656518:\n",
    "                    continue\n",
    "                    \n",
    "                year, month, dayhour, minute, second = datestr.split('-')\n",
    "                dt = f'{year}-{month}-{dayhour}:{minute}:{second}'\n",
    "                #print([obs, dt, sequence])\n",
    "\n",
    "                # TODO: what to do with the sequence suffix?\n",
    "                #print(sequence)\n",
    "\n",
    "                futures.append(pool.submit(get_frame_content, obs, dt, filename, path))\n",
    "\n",
    "                if pathline == batch[0]:\n",
    "                    print(obs, end=' -> ')\n",
    "                elif pathline == batch[-1]:\n",
    "                    print(obs, end=' ')\n",
    "\n",
    "            for future in concurrent.futures.as_completed(futures):\n",
    "                (obs, dt, filename, data) = future.result()\n",
    "                add_frame(obs, dt, filename, data)\n",
    "            \n",
    "            if len(futures):\n",
    "                t2 = time.perf_counter()\n",
    "                print(f\"{t2-t1:0.2f} seconds / batch\")\n"
   ]
  },
  {
   "cell_type": "code",
   "execution_count": null,
   "id": "032cdb98-b539-4491-b71e-d1d5184a7397",
   "metadata": {
    "tags": []
   },
   "outputs": [],
   "source": [
    "conn.close()"
   ]
  },
  {
   "cell_type": "code",
   "execution_count": null,
   "id": "0efb7a62-b70a-490a-9a2d-e3e89de0354f",
   "metadata": {},
   "outputs": [],
   "source": []
  }
 ],
 "metadata": {
  "kernelspec": {
   "display_name": "Python 3 (ipykernel)",
   "language": "python",
   "name": "python3"
  },
  "language_info": {
   "codemirror_mode": {
    "name": "ipython",
    "version": 3
   },
   "file_extension": ".py",
   "mimetype": "text/x-python",
   "name": "python",
   "nbconvert_exporter": "python",
   "pygments_lexer": "ipython3",
   "version": "3.10.11"
  }
 },
 "nbformat": 4,
 "nbformat_minor": 5
}
