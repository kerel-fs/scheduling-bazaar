{
 "cells": [
  {
   "cell_type": "markdown",
   "id": "fd778f4e",
   "metadata": {},
   "source": [
    "# Year in Review &ndash; 2022  <a class=\"tocSkip\">\n",
    "\n",
    "Dan White < dan.white at libre.space >\n",
    "\n",
    "Interesting stats about ground stations, satellites, and observations on the [SatNOGS Network](https://network.satnogs.org).\n",
    "\n",
    "Source notebook at [github/wiredlab/scheduling-bazaar/notebooks](https://github.com/wiredlab/scheduling-bazaar/blob/master/notebooks/year-review-2022.ipynb)"
   ]
  },
  {
   "cell_type": "markdown",
   "id": "03f7eef8-db37-4092-9ff2-b7c5f30202e4",
   "metadata": {},
   "source": [
    "TODO by request:\n",
    "\n",
    "- [ ] sa2kng: how many stations has udp-dump-host set to other than null or unset (:\n",
    "- [ ] "
   ]
  },
  {
   "cell_type": "markdown",
   "id": "36904eff-c8f9-4c97-bc41-56fbde7f7cd3",
   "metadata": {
    "tags": [],
    "toc": 1
   },
   "source": [
    "<h1>Table of Contents<span class=\"tocSkip\"></span></h1>\n",
    "<div class=\"toc\"><ul class=\"toc-item\"><li><span><a href=\"#Ground-Stations-database-setup\" data-toc-modified-id=\"Ground-Stations-database-setup-1\"><span class=\"toc-item-num\">1&nbsp;&nbsp;</span>Ground Stations database setup</a></span><ul class=\"toc-item\"><li><span><a href=\"#Rotator-information\" data-toc-modified-id=\"Rotator-information-1.1\"><span class=\"toc-item-num\">1.1&nbsp;&nbsp;</span>Rotator information</a></span></li></ul></li><li><span><a href=\"#Ground-Stations-Statistics\" data-toc-modified-id=\"Ground-Stations-Statistics-2\"><span class=\"toc-item-num\">2&nbsp;&nbsp;</span>Ground Stations Statistics</a></span><ul class=\"toc-item\"><li><span><a href=\"#Popular-antenna-types\" data-toc-modified-id=\"Popular-antenna-types-2.1\"><span class=\"toc-item-num\">2.1&nbsp;&nbsp;</span>Popular antenna types</a></span></li><li><span><a href=\"#Number-of-rotation-axes\" data-toc-modified-id=\"Number-of-rotation-axes-2.2\"><span class=\"toc-item-num\">2.2&nbsp;&nbsp;</span>Number of rotation axes</a></span></li><li><span><a href=\"#Online-status\" data-toc-modified-id=\"Online-status-2.3\"><span class=\"toc-item-num\">2.3&nbsp;&nbsp;</span>Online status</a></span></li><li><span><a href=\"#Ground-stations-created-by-year\" data-toc-modified-id=\"Ground-stations-created-by-year-2.4\"><span class=\"toc-item-num\">2.4&nbsp;&nbsp;</span>Ground stations created by year</a></span></li></ul></li><li><span><a href=\"#Observations-database-setup\" data-toc-modified-id=\"Observations-database-setup-3\"><span class=\"toc-item-num\">3&nbsp;&nbsp;</span>Observations database setup</a></span></li><li><span><a href=\"#Observations-Statistics\" data-toc-modified-id=\"Observations-Statistics-4\"><span class=\"toc-item-num\">4&nbsp;&nbsp;</span>Observations Statistics</a></span><ul class=\"toc-item\"><li><span><a href=\"#Most-active-Observers\" data-toc-modified-id=\"Most-active-Observers-4.1\"><span class=\"toc-item-num\">4.1&nbsp;&nbsp;</span>Most active Observers</a></span></li><li><span><a href=\"#High-utilization-and-large-averages\" data-toc-modified-id=\"High-utilization-and-large-averages-4.2\"><span class=\"toc-item-num\">4.2&nbsp;&nbsp;</span>High utilization and large averages</a></span></li><li><span><a href=\"#Popular-ground-stations\" data-toc-modified-id=\"Popular-ground-stations-4.3\"><span class=\"toc-item-num\">4.3&nbsp;&nbsp;</span>Popular ground stations</a></span></li><li><span><a href=\"#Observer-diversity\" data-toc-modified-id=\"Observer-diversity-4.4\"><span class=\"toc-item-num\">4.4&nbsp;&nbsp;</span>Observer diversity</a></span></li><li><span><a href=\"#Popular-satellites-this-year\" data-toc-modified-id=\"Popular-satellites-this-year-4.5\"><span class=\"toc-item-num\">4.5&nbsp;&nbsp;</span>Popular satellites this year</a></span></li><li><span><a href=\"#Observers-with-satellite-fever\" data-toc-modified-id=\"Observers-with-satellite-fever-4.6\"><span class=\"toc-item-num\">4.6&nbsp;&nbsp;</span>Observers with satellite fever</a></span></li><li><span><a href=\"#Stations-watching-all-the-sats\" data-toc-modified-id=\"Stations-watching-all-the-sats-4.7\"><span class=\"toc-item-num\">4.7&nbsp;&nbsp;</span>Stations watching all-the-sats</a></span></li></ul></li><li><span><a href=\"#More-stats\" data-toc-modified-id=\"More-stats-5\"><span class=\"toc-item-num\">5&nbsp;&nbsp;</span>More stats</a></span><ul class=\"toc-item\"><li><span><a href=\"#Your-turn!\" data-toc-modified-id=\"Your-turn!-5.1\"><span class=\"toc-item-num\">5.1&nbsp;&nbsp;</span>Your turn!</a></span></li><li><span><a href=\"#Housekeeping\" data-toc-modified-id=\"Housekeeping-5.2\"><span class=\"toc-item-num\">5.2&nbsp;&nbsp;</span>Housekeeping</a></span></li></ul></li></ul></div>"
   ]
  },
  {
   "cell_type": "markdown",
   "id": "7a0c3c97",
   "metadata": {},
   "source": [
    "# Ground Stations database setup"
   ]
  },
  {
   "cell_type": "code",
   "execution_count": 1,
   "id": "d05fc880",
   "metadata": {},
   "outputs": [],
   "source": [
    "%load_ext sql"
   ]
  },
  {
   "cell_type": "code",
   "execution_count": 2,
   "id": "aa058310",
   "metadata": {},
   "outputs": [
    {
     "data": {
      "text/plain": [
       "'Connected: @../data/stations.db'"
      ]
     },
     "execution_count": 2,
     "metadata": {},
     "output_type": "execute_result"
    }
   ],
   "source": [
    "%sql sqlite:///../data/stations.db"
   ]
  },
  {
   "cell_type": "markdown",
   "id": "2d026c33",
   "metadata": {},
   "source": [
    "First thing is to see whuzzup with this (SQlite) database."
   ]
  },
  {
   "cell_type": "code",
   "execution_count": 3,
   "id": "beb1a187",
   "metadata": {},
   "outputs": [
    {
     "name": "stdout",
     "output_type": "stream",
     "text": [
      " * sqlite:///../data/stations.db\n",
      "Done.\n",
      "Done.\n"
     ]
    },
    {
     "data": {
      "text/plain": [
       "[]"
      ]
     },
     "execution_count": 3,
     "metadata": {},
     "output_type": "execute_result"
    }
   ],
   "source": [
    "%%sql\n",
    "CREATE TABLE IF NOT EXISTS stations (\n",
    "    id PRIMARY KEY,\n",
    "    altitude REAL,\n",
    "    antenna TEXT CHECK(json_valid(antenna)),  -- array of objects\n",
    "    client_version TEXT,\n",
    "    created TEXT,       --  YYYY-mm-ddTHH:MMZ\n",
    "    description TEXT,\n",
    "    last_seen TEXT,     --  YYYY-mm-ddTHH:MMZ\n",
    "    lat REAL,\n",
    "    lng REAL,\n",
    "    min_horizon REAL,\n",
    "    name TEXT,\n",
    "    observations INT,\n",
    "    qthlocator TEXT,\n",
    "    status TEXT,\n",
    "    target_utilization INT,\n",
    "    rotator INT         -- 0, 1, or 2 axis rotation\n",
    "    );\n",
    "\n",
    "-- Then, add rows from the stations.json.  This was done via CSV import, but it should\n",
    "-- be configured to directly ingest from the JSON in order to keep the DB up to date.\n"
   ]
  },
  {
   "cell_type": "markdown",
   "id": "dc5268db",
   "metadata": {},
   "source": [
    "The main table `stations` is just a copy of the data returned by the SatNOGS Network API endpoint https://network.satnogs.org/api/stations\n"
   ]
  },
  {
   "cell_type": "markdown",
   "id": "ba317341",
   "metadata": {},
   "source": [
    "<del>TODO: Automatically update the database from the API.</del> &rarr; See `python-files/update-stations`, which is called in the `data/do-updates.sh` script."
   ]
  },
  {
   "cell_type": "markdown",
   "id": "a2c9b07e",
   "metadata": {},
   "source": [
    "## Rotator information\n",
    "\n",
    "The configuration for a ground station does not include machine-readable information about the antenna _mount_ -- how many axes of motion the antenna is moved about.\n",
    "An omni-directional antenna affixed to a mast has 0 axes, while an azimuth + elevation rotator has 2 axes.\n",
    "A single axis is also possible."
   ]
  },
  {
   "cell_type": "markdown",
   "id": "01de7d3f",
   "metadata": {},
   "source": [
    "Notice from the schema for `stations` that there is one extra column, `rotator`, which will hold this information.\n",
    "The problem is that we need to figure out the proper value to place in that field."
   ]
  },
  {
   "cell_type": "markdown",
   "id": "684c7b82",
   "metadata": {},
   "source": [
    "The `antenna` field holds a JSON array of objects holding information about the antennas attached to the particular station.\n",
    "\n",
    "For example, the [main Valpo !WIREDlab station #834](https://network.satnogs.org/stations/834/) is configured with two antennas combined by a duplexer into a single RTL-SDR Blog v3 receiver.\n",
    "The JSON array is then:\n",
    "\n",
    "```json\n",
    "\"antenna\": [\n",
    "        {\n",
    "            \"frequency\": 430000000,\n",
    "            \"frequency_max\": 470000000,\n",
    "            \"band\": \"UHF\",\n",
    "            \"antenna_type\": \"cross-yagi\",\n",
    "            \"antenna_type_name\": \"Cross Yagi\"\n",
    "        },\n",
    "        {\n",
    "            \"frequency\": 135000000,\n",
    "            \"frequency_max\": 150000000,\n",
    "            \"band\": \"VHF\",\n",
    "            \"antenna_type\": \"cross-yagi\",\n",
    "            \"antenna_type_name\": \"Cross Yagi\"\n",
    "        }\n",
    "    ]\n",
    "```\n",
    "\n",
    "For our purposes here (inferring a correct `rotator` value), we focus on the object key `antenna_type`.\n",
    "\n",
    "Extract the first item of the `antenna` array and summarize how many stations are using each type."
   ]
  },
  {
   "cell_type": "code",
   "execution_count": 4,
   "id": "7750cea4",
   "metadata": {},
   "outputs": [
    {
     "name": "stdout",
     "output_type": "stream",
     "text": [
      " * sqlite:///../data/stations.db\n",
      "Done.\n"
     ]
    },
    {
     "data": {
      "text/html": [
       "<table>\n",
       "    <thead>\n",
       "        <tr>\n",
       "            <th>type</th>\n",
       "            <th>num_type</th>\n",
       "        </tr>\n",
       "    </thead>\n",
       "    <tbody>\n",
       "        <tr>\n",
       "            <td>turnstile</td>\n",
       "            <td>358</td>\n",
       "        </tr>\n",
       "        <tr>\n",
       "            <td>yagi</td>\n",
       "            <td>315</td>\n",
       "        </tr>\n",
       "        <tr>\n",
       "            <td>quadrafilar</td>\n",
       "            <td>291</td>\n",
       "        </tr>\n",
       "        <tr>\n",
       "            <td>vertical</td>\n",
       "            <td>251</td>\n",
       "        </tr>\n",
       "        <tr>\n",
       "            <td>cross-yagi</td>\n",
       "            <td>229</td>\n",
       "        </tr>\n",
       "        <tr>\n",
       "            <td>None</td>\n",
       "            <td>207</td>\n",
       "        </tr>\n",
       "        <tr>\n",
       "            <td>dipole</td>\n",
       "            <td>181</td>\n",
       "        </tr>\n",
       "        <tr>\n",
       "            <td>v-dipole</td>\n",
       "            <td>153</td>\n",
       "        </tr>\n",
       "        <tr>\n",
       "            <td>eggbeater</td>\n",
       "            <td>140</td>\n",
       "        </tr>\n",
       "        <tr>\n",
       "            <td>discone</td>\n",
       "            <td>140</td>\n",
       "        </tr>\n",
       "        <tr>\n",
       "            <td>other omni</td>\n",
       "            <td>92</td>\n",
       "        </tr>\n",
       "        <tr>\n",
       "            <td>helical</td>\n",
       "            <td>80</td>\n",
       "        </tr>\n",
       "        <tr>\n",
       "            <td>ground</td>\n",
       "            <td>69</td>\n",
       "        </tr>\n",
       "        <tr>\n",
       "            <td>lindenblad</td>\n",
       "            <td>38</td>\n",
       "        </tr>\n",
       "        <tr>\n",
       "            <td>other direct</td>\n",
       "            <td>35</td>\n",
       "        </tr>\n",
       "        <tr>\n",
       "            <td>parabolic</td>\n",
       "            <td>18</td>\n",
       "        </tr>\n",
       "        <tr>\n",
       "            <td>patch</td>\n",
       "            <td>10</td>\n",
       "        </tr>\n",
       "        <tr>\n",
       "            <td>paralindy</td>\n",
       "            <td>5</td>\n",
       "        </tr>\n",
       "    </tbody>\n",
       "</table>"
      ],
      "text/plain": [
       "[('turnstile', 358),\n",
       " ('yagi', 315),\n",
       " ('quadrafilar', 291),\n",
       " ('vertical', 251),\n",
       " ('cross-yagi', 229),\n",
       " (None, 207),\n",
       " ('dipole', 181),\n",
       " ('v-dipole', 153),\n",
       " ('eggbeater', 140),\n",
       " ('discone', 140),\n",
       " ('other omni', 92),\n",
       " ('helical', 80),\n",
       " ('ground', 69),\n",
       " ('lindenblad', 38),\n",
       " ('other direct', 35),\n",
       " ('parabolic', 18),\n",
       " ('patch', 10),\n",
       " ('paralindy', 5)]"
      ]
     },
     "execution_count": 4,
     "metadata": {},
     "output_type": "execute_result"
    }
   ],
   "source": [
    "%%sql\n",
    "-- Histogram of antenna types\n",
    "SELECT\n",
    "    json_extract(antenna, \"$[0].antenna_type\") as type,\n",
    "    count(antenna) as num_type\n",
    "FROM stations\n",
    "GROUP BY type\n",
    "ORDER BY num_type DESC;"
   ]
  },
  {
   "cell_type": "markdown",
   "id": "f74a67fd",
   "metadata": {},
   "source": [
    "Given these types of antennas, we can make a pretty good guess at which stations will have a rotator or not.\n",
    "Omni-directional antenna types, e.g. turnstile and vertical, have no use for a rotator, while directional antennas such as yagi and helical likely would have a rotator.\n",
    "\n",
    "Update the database to add these guesses."
   ]
  },
  {
   "cell_type": "code",
   "execution_count": 5,
   "id": "ecb79cf6",
   "metadata": {},
   "outputs": [
    {
     "name": "stdout",
     "output_type": "stream",
     "text": [
      " * sqlite:///../data/stations.db\n",
      "358 rows affected.\n",
      " * sqlite:///../data/stations.db\n",
      "315 rows affected.\n",
      " * sqlite:///../data/stations.db\n",
      "291 rows affected.\n",
      " * sqlite:///../data/stations.db\n",
      "251 rows affected.\n",
      " * sqlite:///../data/stations.db\n",
      "229 rows affected.\n",
      " * sqlite:///../data/stations.db\n",
      "181 rows affected.\n",
      " * sqlite:///../data/stations.db\n",
      "153 rows affected.\n",
      " * sqlite:///../data/stations.db\n",
      "140 rows affected.\n",
      " * sqlite:///../data/stations.db\n",
      "140 rows affected.\n",
      " * sqlite:///../data/stations.db\n",
      "92 rows affected.\n",
      " * sqlite:///../data/stations.db\n",
      "80 rows affected.\n",
      " * sqlite:///../data/stations.db\n",
      "69 rows affected.\n",
      " * sqlite:///../data/stations.db\n",
      "38 rows affected.\n",
      " * sqlite:///../data/stations.db\n",
      "35 rows affected.\n",
      " * sqlite:///../data/stations.db\n",
      "18 rows affected.\n",
      " * sqlite:///../data/stations.db\n",
      "10 rows affected.\n",
      " * sqlite:///../data/stations.db\n",
      "5 rows affected.\n"
     ]
    }
   ],
   "source": [
    "guesses = (\n",
    "    (0, \"turnstile\"),\n",
    "    (2, \"yagi\"),\n",
    "    (0, \"quadrafilar\"),\n",
    "    (0, \"vertical\"),\n",
    "    (2, \"cross-yagi\"),\n",
    "    (0, \"dipole\"),\n",
    "    (0, \"v-dipole\"),\n",
    "    (0, \"discone\"),\n",
    "    (0, \"eggbeater\"),\n",
    "    (0, \"other omni\"),\n",
    "    (2, \"helical\"),\n",
    "    (0, \"ground\"),\n",
    "    (0, \"lindenblad\"),\n",
    "    (2, \"other direct\"),\n",
    "    (2, \"parabolic\"),\n",
    "    (0, \"patch\"),\n",
    "    (0, \"paralindy\"),\n",
    ")\n",
    "\n",
    "for r, name in guesses:\n",
    "    %sql UPDATE stations SET rotator = {r} \\\n",
    "         WHERE json_extract(antenna, \"$[0].antenna_type\") = \"{name}\";\n"
   ]
  },
  {
   "cell_type": "markdown",
   "id": "b9115343",
   "metadata": {},
   "source": [
    "Next up, recall that the station's name can contain useful information (FooName - fixed) along with the free-form Description text.\n",
    "\n",
    "Set up a text search virtual table so we can look for text patterns:"
   ]
  },
  {
   "cell_type": "code",
   "execution_count": 6,
   "id": "2ef2c11a",
   "metadata": {},
   "outputs": [
    {
     "name": "stdout",
     "output_type": "stream",
     "text": [
      " * sqlite:///../data/stations.db\n",
      "Done.\n",
      "2612 rows affected.\n"
     ]
    },
    {
     "data": {
      "text/plain": [
       "[]"
      ]
     },
     "execution_count": 6,
     "metadata": {},
     "output_type": "execute_result"
    }
   ],
   "source": [
    "%%sql\n",
    "-- Setup for searching name, description fields for various text.\n",
    "-- This is to find stations with different rotators than what may\n",
    "-- be implied by their declared antenna_type(s)\n",
    "CREATE VIRTUAL TABLE IF NOT EXISTS text \n",
    "USING FTS5(id, name, description);\n",
    "\n",
    "INSERT OR REPLACE INTO text\n",
    "SELECT id, name, description from stations;"
   ]
  },
  {
   "cell_type": "markdown",
   "id": "61b07908",
   "metadata": {},
   "source": [
    "Now let's look for stations where the **name** or **description** contain \"fixed\"."
   ]
  },
  {
   "cell_type": "code",
   "execution_count": 7,
   "id": "828e0975",
   "metadata": {},
   "outputs": [
    {
     "name": "stdout",
     "output_type": "stream",
     "text": [
      " * sqlite:///../data/stations.db\n",
      "Done.\n"
     ]
    },
    {
     "data": {
      "text/html": [
       "<table>\n",
       "    <thead>\n",
       "        <tr>\n",
       "            <th>id</th>\n",
       "            <th>name</th>\n",
       "            <th>description</th>\n",
       "            <th>antenna</th>\n",
       "        </tr>\n",
       "    </thead>\n",
       "    <tbody>\n",
       "        <tr>\n",
       "            <td>66</td>\n",
       "            <td>KE8FZT - UHF</td>\n",
       "            <td>Arrow UHF Corner Reflector, Fixed 20 Deg Elevation &amp; Pointed 45 Deg NorthEast,  AMSAT LNA,, MFJ Duplexer, \r",
       "<br> Raspberry Pi3b</td>\n",
       "            <td>[{&quot;antenna_type&quot;: &quot;yagi&quot;, &quot;antenna_type_name&quot;: &quot;Yagi&quot;, &quot;band&quot;: &quot;VHF&quot;, &quot;frequency&quot;: 135000000, &quot;frequency_max&quot;: 148000000}, {&quot;antenna_type&quot;: &quot;yagi&quot;, &quot;antenna_type_name&quot;: &quot;Yagi&quot;, &quot;band&quot;: &quot;UHF&quot;, &quot;frequency&quot;: 430000000, &quot;frequency_max&quot;: 470000000}]</td>\n",
       "        </tr>\n",
       "        <tr>\n",
       "            <td>212</td>\n",
       "            <td>KE8FZT - VHF</td>\n",
       "            <td>Arrow VHF Corner Reflector, Fixed 20 Deg Elevation &amp; Pointed  45 Deg NorthEast, LNA, Raspberry Pi3b</td>\n",
       "            <td>[{&quot;antenna_type&quot;: &quot;yagi&quot;, &quot;antenna_type_name&quot;: &quot;Yagi&quot;, &quot;band&quot;: &quot;VHF&quot;, &quot;frequency&quot;: 135000000, &quot;frequency_max&quot;: 146000000}]</td>\n",
       "        </tr>\n",
       "        <tr>\n",
       "            <td>1351</td>\n",
       "            <td>7el 70cm fixed Yagi</td>\n",
       "            <td>Restricted viewing angle is approximately 230 to 330 degrees.</td>\n",
       "            <td>[{&quot;antenna_type&quot;: &quot;yagi&quot;, &quot;antenna_type_name&quot;: &quot;Yagi&quot;, &quot;band&quot;: &quot;UHF&quot;, &quot;frequency&quot;: 430000000, &quot;frequency_max&quot;: 470000000}]</td>\n",
       "        </tr>\n",
       "        <tr>\n",
       "            <td>1787</td>\n",
       "            <td>NCG</td>\n",
       "            <td>Double bi-quad (13.46 dB) fixed position directional antenna looking e (W passes will not be seen well), altitude 48 deg, LNA (gain 20 dB noise 0.36dB), Lime, RPi 4</td>\n",
       "            <td>[{&quot;antenna_type&quot;: &quot;other direct&quot;, &quot;antenna_type_name&quot;: &quot;Other Directional&quot;, &quot;band&quot;: &quot;VHF, UHF&quot;, &quot;frequency&quot;: 130000000, &quot;frequency_max&quot;: 600000000}]</td>\n",
       "        </tr>\n",
       "        <tr>\n",
       "            <td>1810</td>\n",
       "            <td>NCG2</td>\n",
       "            <td>V-dipole fixed, looking 90 deg E, LNA (gain 20dB noise 0.8dB), Lime, RPi</td>\n",
       "            <td>[{&quot;antenna_type&quot;: &quot;other direct&quot;, &quot;antenna_type_name&quot;: &quot;Other Directional&quot;, &quot;band&quot;: &quot;VHF&quot;, &quot;frequency&quot;: 135000000, &quot;frequency_max&quot;: 148000000}]</td>\n",
       "        </tr>\n",
       "        <tr>\n",
       "            <td>1868</td>\n",
       "            <td>HB9FXX S-Band</td>\n",
       "            <td>My little s-band station: 4G feed on fixed dish pointing roughly at 300° (WNW) and 30-45° elevation-&gt; VLNA13 -&gt; Coax -&gt; 1.5GHz LPF -&gt; HackRF SDR -&gt; RPi 4 8GB. The HackRF uses a Leo Bodnar GPSDO mini reference. On a first floor balcony with mostly west opening. Not a terrible location but the best I can do living in a flat.</td>\n",
       "            <td>[{&quot;antenna_type&quot;: &quot;parabolic&quot;, &quot;antenna_type_name&quot;: &quot;Parabolic&quot;, &quot;band&quot;: &quot;L, S&quot;, &quot;frequency&quot;: 1650000000, &quot;frequency_max&quot;: 2400000000}]</td>\n",
       "        </tr>\n",
       "        <tr>\n",
       "            <td>1950</td>\n",
       "            <td>KG7ZVV Satnogs</td>\n",
       "            <td>Fixed (no rotator) 10 element UHF Yagi. Visibility to only portion of sky towards Southwest. Apartments and building on other side.</td>\n",
       "            <td>[{&quot;antenna_type&quot;: &quot;yagi&quot;, &quot;antenna_type_name&quot;: &quot;Yagi&quot;, &quot;band&quot;: &quot;UHF&quot;, &quot;frequency&quot;: 430000000, &quot;frequency_max&quot;: 470000000}]</td>\n",
       "        </tr>\n",
       "        <tr>\n",
       "            <td>2080</td>\n",
       "            <td>USU GAS Yagi Fixed SW</td>\n",
       "            <td>Utah State University Get Away Special Team&#x27;s second ground station. Wimo X-Quad (linear), No LNA currently. Fixed pointing SW at 45 deg elevation.</td>\n",
       "            <td>[{&quot;antenna_type&quot;: &quot;yagi&quot;, &quot;antenna_type_name&quot;: &quot;Yagi&quot;, &quot;band&quot;: &quot;UHF&quot;, &quot;frequency&quot;: 430000000, &quot;frequency_max&quot;: 440000000}]</td>\n",
       "        </tr>\n",
       "        <tr>\n",
       "            <td>2107</td>\n",
       "            <td>JH4XSY-pi</td>\n",
       "            <td>Pi4 + Airspy Mini +  3ele(145MHz)/6ele(435MHz) YAGI Fixed beam to the SouthWest.+ LNA</td>\n",
       "            <td>[{&quot;antenna_type&quot;: &quot;yagi&quot;, &quot;antenna_type_name&quot;: &quot;Yagi&quot;, &quot;band&quot;: &quot;VHF&quot;, &quot;frequency&quot;: 135000000, &quot;frequency_max&quot;: 148000000}, {&quot;antenna_type&quot;: &quot;yagi&quot;, &quot;antenna_type_name&quot;: &quot;Yagi&quot;, &quot;band&quot;: &quot;UHF&quot;, &quot;frequency&quot;: 420000000, &quot;frequency_max&quot;: 450000000}]</td>\n",
       "        </tr>\n",
       "        <tr>\n",
       "            <td>2246</td>\n",
       "            <td>HB9FXX S-Band 2</td>\n",
       "            <td>Fixed dish at 300°, pointing like 30-40° up</td>\n",
       "            <td>[{&quot;antenna_type&quot;: &quot;parabolic&quot;, &quot;antenna_type_name&quot;: &quot;Parabolic&quot;, &quot;band&quot;: &quot;L, S&quot;, &quot;frequency&quot;: 1650000000, &quot;frequency_max&quot;: 2500000000}]</td>\n",
       "        </tr>\n",
       "        <tr>\n",
       "            <td>2263</td>\n",
       "            <td>KO4BHX - Rougemont - NC - USA</td>\n",
       "            <td>Arrow 146/437-10  Fixed AZ:180, EL:90</td>\n",
       "            <td>[{&quot;antenna_type&quot;: &quot;yagi&quot;, &quot;antenna_type_name&quot;: &quot;Yagi&quot;, &quot;band&quot;: &quot;VHF&quot;, &quot;frequency&quot;: 135000000, &quot;frequency_max&quot;: 148000000}, {&quot;antenna_type&quot;: &quot;yagi&quot;, &quot;antenna_type_name&quot;: &quot;Yagi&quot;, &quot;band&quot;: &quot;UHF&quot;, &quot;frequency&quot;: 430000000, &quot;frequency_max&quot;: 470000000}]</td>\n",
       "        </tr>\n",
       "        <tr>\n",
       "            <td>2372</td>\n",
       "            <td>FCNA2021-2</td>\n",
       "            <td>NOT IN SERVICE\r",
       "<br>\r",
       "<br>FIXED 90 ELEVATION</td>\n",
       "            <td>[{&quot;antenna_type&quot;: &quot;yagi&quot;, &quot;antenna_type_name&quot;: &quot;Yagi&quot;, &quot;band&quot;: &quot;UHF&quot;, &quot;frequency&quot;: 430000000, &quot;frequency_max&quot;: 470000000}]</td>\n",
       "        </tr>\n",
       "        <tr>\n",
       "            <td>2430</td>\n",
       "            <td>SPACECLUB_TO1</td>\n",
       "            <td>Fixed Yagi 70cm 7dbi  \r",
       "<br>Nooelec LANA LNA \r",
       "<br>Nooelec rtlsdr clone - NESDR SMArTee v2</td>\n",
       "            <td>[{&quot;antenna_type&quot;: &quot;cross-yagi&quot;, &quot;antenna_type_name&quot;: &quot;Cross Yagi&quot;, &quot;band&quot;: &quot;UHF&quot;, &quot;frequency&quot;: 400000000, &quot;frequency_max&quot;: 480000000}]</td>\n",
       "        </tr>\n",
       "        <tr>\n",
       "            <td>2501</td>\n",
       "            <td>CRD</td>\n",
       "            <td>UHF: Fixed 7 elements LFA Yagi Antenna\r",
       "<br>VHF: LFA antenna</td>\n",
       "            <td>[{&quot;antenna_type&quot;: &quot;other direct&quot;, &quot;antenna_type_name&quot;: &quot;Other Directional&quot;, &quot;band&quot;: &quot;VHF&quot;, &quot;frequency&quot;: 135000000, &quot;frequency_max&quot;: 148000000}]</td>\n",
       "        </tr>\n",
       "        <tr>\n",
       "            <td>2650</td>\n",
       "            <td>9V1KG</td>\n",
       "            <td>Fixed 3/5 el Dual band Yagi beaming 210 deg (SW) 20 deg elevation</td>\n",
       "            <td>[{&quot;antenna_type&quot;: &quot;yagi&quot;, &quot;antenna_type_name&quot;: &quot;Yagi&quot;, &quot;band&quot;: &quot;VHF&quot;, &quot;frequency&quot;: 144000000, &quot;frequency_max&quot;: 146000000}, {&quot;antenna_type&quot;: &quot;yagi&quot;, &quot;antenna_type_name&quot;: &quot;Yagi&quot;, &quot;band&quot;: &quot;UHF&quot;, &quot;frequency&quot;: 430000000, &quot;frequency_max&quot;: 440000000}]</td>\n",
       "        </tr>\n",
       "    </tbody>\n",
       "</table>"
      ],
      "text/plain": [
       "[(66, 'KE8FZT - UHF', 'Arrow UHF Corner Reflector, Fixed 20 Deg Elevation & Pointed 45 Deg NorthEast,  AMSAT LNA,, MFJ Duplexer, \\r\\n Raspberry Pi3b', '[{\"antenna_type\": \"yagi\", \"antenna_type_name\": \"Yagi\", \"band\": \"VHF\", \"frequency\": 135000000, \"frequency_max\": 148000000}, {\"antenna_type\": \"yagi\", \"antenna_type_name\": \"Yagi\", \"band\": \"UHF\", \"frequency\": 430000000, \"frequency_max\": 470000000}]'),\n",
       " (212, 'KE8FZT - VHF', 'Arrow VHF Corner Reflector, Fixed 20 Deg Elevation & Pointed  45 Deg NorthEast, LNA, Raspberry Pi3b', '[{\"antenna_type\": \"yagi\", \"antenna_type_name\": \"Yagi\", \"band\": \"VHF\", \"frequency\": 135000000, \"frequency_max\": 146000000}]'),\n",
       " (1351, '7el 70cm fixed Yagi', 'Restricted viewing angle is approximately 230 to 330 degrees.', '[{\"antenna_type\": \"yagi\", \"antenna_type_name\": \"Yagi\", \"band\": \"UHF\", \"frequency\": 430000000, \"frequency_max\": 470000000}]'),\n",
       " (1787, 'NCG', 'Double bi-quad (13.46 dB) fixed position directional antenna looking e (W passes will not be seen well), altitude 48 deg, LNA (gain 20 dB noise 0.36dB), Lime, RPi 4', '[{\"antenna_type\": \"other direct\", \"antenna_type_name\": \"Other Directional\", \"band\": \"VHF, UHF\", \"frequency\": 130000000, \"frequency_max\": 600000000}]'),\n",
       " (1810, 'NCG2', 'V-dipole fixed, looking 90 deg E, LNA (gain 20dB noise 0.8dB), Lime, RPi', '[{\"antenna_type\": \"other direct\", \"antenna_type_name\": \"Other Directional\", \"band\": \"VHF\", \"frequency\": 135000000, \"frequency_max\": 148000000}]'),\n",
       " (1868, 'HB9FXX S-Band', 'My little s-band station: 4G feed on fixed dish pointing roughly at 300° (WNW) and 30-45° elevation-> VLNA13 -> Coax -> 1.5GHz LPF -> HackRF SDR -> R ... (26 characters truncated) ... a Leo Bodnar GPSDO mini reference. On a first floor balcony with mostly west opening. Not a terrible location but the best I can do living in a flat.', '[{\"antenna_type\": \"parabolic\", \"antenna_type_name\": \"Parabolic\", \"band\": \"L, S\", \"frequency\": 1650000000, \"frequency_max\": 2400000000}]'),\n",
       " (1950, 'KG7ZVV Satnogs', 'Fixed (no rotator) 10 element UHF Yagi. Visibility to only portion of sky towards Southwest. Apartments and building on other side.', '[{\"antenna_type\": \"yagi\", \"antenna_type_name\": \"Yagi\", \"band\": \"UHF\", \"frequency\": 430000000, \"frequency_max\": 470000000}]'),\n",
       " (2080, 'USU GAS Yagi Fixed SW', \"Utah State University Get Away Special Team's second ground station. Wimo X-Quad (linear), No LNA currently. Fixed pointing SW at 45 deg elevation.\", '[{\"antenna_type\": \"yagi\", \"antenna_type_name\": \"Yagi\", \"band\": \"UHF\", \"frequency\": 430000000, \"frequency_max\": 440000000}]'),\n",
       " (2107, 'JH4XSY-pi', 'Pi4 + Airspy Mini +  3ele(145MHz)/6ele(435MHz) YAGI Fixed beam to the SouthWest.+ LNA', '[{\"antenna_type\": \"yagi\", \"antenna_type_name\": \"Yagi\", \"band\": \"VHF\", \"frequency\": 135000000, \"frequency_max\": 148000000}, {\"antenna_type\": \"yagi\", \"antenna_type_name\": \"Yagi\", \"band\": \"UHF\", \"frequency\": 420000000, \"frequency_max\": 450000000}]'),\n",
       " (2246, 'HB9FXX S-Band 2', 'Fixed dish at 300°, pointing like 30-40° up', '[{\"antenna_type\": \"parabolic\", \"antenna_type_name\": \"Parabolic\", \"band\": \"L, S\", \"frequency\": 1650000000, \"frequency_max\": 2500000000}]'),\n",
       " (2263, 'KO4BHX - Rougemont - NC - USA', 'Arrow 146/437-10  Fixed AZ:180, EL:90', '[{\"antenna_type\": \"yagi\", \"antenna_type_name\": \"Yagi\", \"band\": \"VHF\", \"frequency\": 135000000, \"frequency_max\": 148000000}, {\"antenna_type\": \"yagi\", \"antenna_type_name\": \"Yagi\", \"band\": \"UHF\", \"frequency\": 430000000, \"frequency_max\": 470000000}]'),\n",
       " (2372, 'FCNA2021-2', 'NOT IN SERVICE\\r\\n\\r\\nFIXED 90 ELEVATION', '[{\"antenna_type\": \"yagi\", \"antenna_type_name\": \"Yagi\", \"band\": \"UHF\", \"frequency\": 430000000, \"frequency_max\": 470000000}]'),\n",
       " (2430, 'SPACECLUB_TO1', 'Fixed Yagi 70cm 7dbi  \\r\\nNooelec LANA LNA \\r\\nNooelec rtlsdr clone - NESDR SMArTee v2', '[{\"antenna_type\": \"cross-yagi\", \"antenna_type_name\": \"Cross Yagi\", \"band\": \"UHF\", \"frequency\": 400000000, \"frequency_max\": 480000000}]'),\n",
       " (2501, 'CRD', 'UHF: Fixed 7 elements LFA Yagi Antenna\\r\\nVHF: LFA antenna', '[{\"antenna_type\": \"other direct\", \"antenna_type_name\": \"Other Directional\", \"band\": \"VHF\", \"frequency\": 135000000, \"frequency_max\": 148000000}]'),\n",
       " (2650, '9V1KG', 'Fixed 3/5 el Dual band Yagi beaming 210 deg (SW) 20 deg elevation', '[{\"antenna_type\": \"yagi\", \"antenna_type_name\": \"Yagi\", \"band\": \"VHF\", \"frequency\": 144000000, \"frequency_max\": 146000000}, {\"antenna_type\": \"yagi\", \"antenna_type_name\": \"Yagi\", \"band\": \"UHF\", \"frequency\": 430000000, \"frequency_max\": 440000000}]')]"
      ]
     },
     "execution_count": 7,
     "metadata": {},
     "output_type": "execute_result"
    }
   ],
   "source": [
    "%%sql\n",
    "-- Modify the rotator column to better reflect what the description claims\n",
    "SELECT DISTINCT\n",
    "    text.id,\n",
    "    text.name,\n",
    "    text.description,\n",
    "    stations.antenna\n",
    "FROM text, stations\n",
    "WHERE text.id = stations.id\n",
    "AND stations.rotator = 2\n",
    "AND text MATCH 'fixed'\n",
    "ORDER BY text.id;"
   ]
  },
  {
   "cell_type": "markdown",
   "id": "ed9a9068",
   "metadata": {},
   "source": [
    "It looks like all the stations matching the query have directional antennas but have them mounted in various fixed orientations.\n",
    "Eyeballing the descriptions, the antennas are at 20 to 45 degree elevation angles.\n",
    "\n",
    "Update the `stations` table with this new information."
   ]
  },
  {
   "cell_type": "code",
   "execution_count": 8,
   "id": "c752edfd",
   "metadata": {},
   "outputs": [
    {
     "name": "stdout",
     "output_type": "stream",
     "text": [
      " * sqlite:///../data/stations.db\n",
      "15 rows affected.\n"
     ]
    },
    {
     "data": {
      "text/plain": [
       "[]"
      ]
     },
     "execution_count": 8,
     "metadata": {},
     "output_type": "execute_result"
    }
   ],
   "source": [
    "%%sql\n",
    "UPDATE stations\n",
    "SET rotator = 0\n",
    "WHERE id IN (66, 212, 1351, 1787, 1810, 1868, 1950, 2080, 2107, 2246, 2263,     \n",
    "             2372, 2430, 2501, 2650);"
   ]
  },
  {
   "cell_type": "markdown",
   "id": "9c49d275",
   "metadata": {},
   "source": [
    "Now look for text that indicates a rotator model.\n",
    "Popular units are the Yaesu G-5500 and the Alfa SPID."
   ]
  },
  {
   "cell_type": "code",
   "execution_count": 9,
   "id": "ed5a51b8",
   "metadata": {},
   "outputs": [
    {
     "name": "stdout",
     "output_type": "stream",
     "text": [
      " * sqlite:///../data/stations.db\n",
      "Done.\n"
     ]
    },
    {
     "data": {
      "text/html": [
       "<table>\n",
       "    <thead>\n",
       "        <tr>\n",
       "            <th>id</th>\n",
       "            <th>name</th>\n",
       "            <th>description</th>\n",
       "            <th>antenna</th>\n",
       "            <th>rotator</th>\n",
       "        </tr>\n",
       "    </thead>\n",
       "    <tbody>\n",
       "        <tr>\n",
       "            <td>888</td>\n",
       "            <td>CCERES</td>\n",
       "            <td>Directionnal WIMO VHF 10 elements and WIMO UHF 18 elements crossed yagi antennas + circular polarization coupler + UHF MVV70cm LNA + Diplexer 2m/70cm + SDR Airspy R2. Rotator : Yaesu G-5500 + GS-232B.\r",
       "<br>\r",
       "<br>Actually no have LNA for VHF antenna.</td>\n",
       "            <td>[{&quot;antenna_type&quot;: &quot;quadrafilar&quot;, &quot;antenna_type_name&quot;: &quot;Quadrafilar&quot;, &quot;band&quot;: &quot;UHF&quot;, &quot;frequency&quot;: 430000000, &quot;frequency_max&quot;: 440000000}, {&quot;antenna_type&quot;: &quot;cross-yagi&quot;, &quot;antenna_type_name&quot;: &quot;Cross Yagi&quot;, &quot;band&quot;: &quot;VHF&quot;, &quot;frequency&quot;: 135000000, &quot;frequency_max&quot;: 150000000}]</td>\n",
       "            <td>0</td>\n",
       "        </tr>\n",
       "        <tr>\n",
       "            <td>2500</td>\n",
       "            <td>Wolfgang HB9RYZ</td>\n",
       "            <td>Swiss Amateur Radio Station (JN47FE). Building up a brand new Ground Station in Q1/2022 with two Wimo X-Quad Antennas for 2m and 70cm including pre-amps and a SPID-RAS rotor.\r",
       "<br>\r",
       "<br>Temp.: running a Diamond vertical X-50NA (2m/70cm) on top of my roof.\r",
       "<br>www.hb9ryz.ch</td>\n",
       "            <td>[{&quot;antenna_type&quot;: &quot;vertical&quot;, &quot;antenna_type_name&quot;: &quot;Vertical&quot;, &quot;band&quot;: &quot;VHF&quot;, &quot;frequency&quot;: 135000000, &quot;frequency_max&quot;: 148000000}, {&quot;antenna_type&quot;: &quot;vertical&quot;, &quot;antenna_type_name&quot;: &quot;Vertical&quot;, &quot;band&quot;: &quot;UHF&quot;, &quot;frequency&quot;: 430000000, &quot;frequency_max&quot;: 470000000}]</td>\n",
       "            <td>0</td>\n",
       "        </tr>\n",
       "    </tbody>\n",
       "</table>"
      ],
      "text/plain": [
       "[(888, 'CCERES', 'Directionnal WIMO VHF 10 elements and WIMO UHF 18 elements crossed yagi antennas + circular polarization coupler + UHF MVV70cm LNA + Diplexer 2m/70cm + SDR Airspy R2. Rotator : Yaesu G-5500 + GS-232B.\\r\\n\\r\\nActually no have LNA for VHF antenna.', '[{\"antenna_type\": \"quadrafilar\", \"antenna_type_name\": \"Quadrafilar\", \"band\": \"UHF\", \"frequency\": 430000000, \"frequency_max\": 440000000}, {\"antenna_type\": \"cross-yagi\", \"antenna_type_name\": \"Cross Yagi\", \"band\": \"VHF\", \"frequency\": 135000000, \"frequency_max\": 150000000}]', 0),\n",
       " (2500, 'Wolfgang HB9RYZ', 'Swiss Amateur Radio Station (JN47FE). Building up a brand new Ground Station in Q1/2022 with two Wimo X-Quad Antennas for 2m and 70cm including pre-amps and a SPID-RAS rotor.\\r\\n\\r\\nTemp.: running a Diamond vertical X-50NA (2m/70cm) on top of my roof.\\r\\nwww.hb9ryz.ch', '[{\"antenna_type\": \"vertical\", \"antenna_type_name\": \"Vertical\", \"band\": \"VHF\", \"frequency\": 135000000, \"frequency_max\": 148000000}, {\"antenna_type\": \"vertical\", \"antenna_type_name\": \"Vertical\", \"band\": \"UHF\", \"frequency\": 430000000, \"frequency_max\": 470000000}]', 0)]"
      ]
     },
     "execution_count": 9,
     "metadata": {},
     "output_type": "execute_result"
    }
   ],
   "source": [
    "%%sql\n",
    "-- Find another pattern that implies a rotator\n",
    "SELECT DISTINCT\n",
    "    text.id,\n",
    "    text.name,\n",
    "    text.description,\n",
    "    stations.antenna,\n",
    "    stations.rotator\n",
    "FROM text, stations\n",
    "WHERE text.id = stations.id\n",
    "AND text MATCH '5500 OR spid'\n",
    "AND rotator <> 2\n",
    "ORDER BY text.id;\n"
   ]
  },
  {
   "cell_type": "markdown",
   "id": "95dd498b",
   "metadata": {},
   "source": [
    "And update the `rotator` field.\n",
    "Note that this was tagged with `rotator = 0` since we only looked at the _first_ item in the `antenna` JSON array."
   ]
  },
  {
   "cell_type": "code",
   "execution_count": 10,
   "id": "4cbbd0d0",
   "metadata": {},
   "outputs": [
    {
     "name": "stdout",
     "output_type": "stream",
     "text": [
      " * sqlite:///../data/stations.db\n",
      "2 rows affected.\n"
     ]
    },
    {
     "data": {
      "text/plain": [
       "[]"
      ]
     },
     "execution_count": 10,
     "metadata": {},
     "output_type": "execute_result"
    }
   ],
   "source": [
    "%%sql\n",
    "UPDATE stations SET rotator = 2 WHERE id IN (888, 2500);"
   ]
  },
  {
   "cell_type": "markdown",
   "id": "58645d53",
   "metadata": {},
   "source": [
    "Keep searching for keywords in the descriptions."
   ]
  },
  {
   "cell_type": "code",
   "execution_count": 11,
   "id": "019a64d2",
   "metadata": {},
   "outputs": [
    {
     "name": "stdout",
     "output_type": "stream",
     "text": [
      " * sqlite:///../data/stations.db\n",
      "Done.\n"
     ]
    },
    {
     "data": {
      "text/html": [
       "<table>\n",
       "    <thead>\n",
       "        <tr>\n",
       "            <th>id</th>\n",
       "            <th>name</th>\n",
       "            <th>description</th>\n",
       "            <th>antenna</th>\n",
       "            <th>rotator</th>\n",
       "        </tr>\n",
       "    </thead>\n",
       "    <tbody>\n",
       "        <tr>\n",
       "            <td>357</td>\n",
       "            <td>ce3vna</td>\n",
       "            <td>estacion completa de radioaficionados con rotor de azimuth y elevacion</td>\n",
       "            <td>[{&quot;antenna_type&quot;: &quot;ground&quot;, &quot;antenna_type_name&quot;: &quot;Ground Plane&quot;, &quot;band&quot;: &quot;VHF&quot;, &quot;frequency&quot;: 135000000, &quot;frequency_max&quot;: 148000000}, {&quot;antenna_type&quot;: &quot;ground&quot;, &quot;antenna_type_name&quot;: &quot;Ground Plane&quot;, &quot;band&quot;: &quot;UHF&quot;, &quot;frequency&quot;: 430000000, &quot;frequency_max&quot;: 440000000}]</td>\n",
       "            <td>0</td>\n",
       "        </tr>\n",
       "        <tr>\n",
       "            <td>1146</td>\n",
       "            <td>Ham Radio Ground Station</td>\n",
       "            <td>Ground station project  specifically designed for communication with small satellites in Low Earth Orbit using VHF and UHF amateur radio frequencies and provide hands-on educational projects in the world\r",
       "<br>The ground station can autonomously track satellites by using these equipments :\r",
       "<br> VHF / UHF amateur radio transceiver (Amateur bands 144-16 MHZ and 430-440 MHZ)\r",
       "<br>Rotator Controller\r",
       "<br>Azimuth and elevation rotators \r",
       "<br>UHF and VHF Yagi antennas (Amateur bands 144-16 MHZ and 430-440 MHZ)\r",
       "<br>Modems...</td>\n",
       "            <td>[]</td>\n",
       "            <td>2</td>\n",
       "        </tr>\n",
       "        <tr>\n",
       "            <td>1775</td>\n",
       "            <td>Vi3w Roy4l</td>\n",
       "            <td>Dual-Band Log Periodic Antenna or LPDA  (log-periodic dipole array) VHF/UHF. 2 Meter gain is 6.8 dbd (8.9 dBi) and 440 Gain is 7 dBd (9 dBi). Set up on a 360° Rotator, Azimuth only with a set angle of 30°. The Azimuth changes from time to time when manually scheduling for Satellites on the Polar Plot. Rpi 3B+, RTL-SDR + RTL-LNA. Trying this all out and we&#x27;ll see what happens, 1st Station on the Island.\r",
       "<br>July: Added a Rotator Wifi controller on the LAN/WAN to control the Rotator on/off site.</td>\n",
       "            <td>[{&quot;antenna_type&quot;: &quot;other direct&quot;, &quot;antenna_type_name&quot;: &quot;Other Directional&quot;, &quot;band&quot;: &quot;VHF&quot;, &quot;frequency&quot;: 136000000, &quot;frequency_max&quot;: 148000000}, {&quot;antenna_type&quot;: &quot;other direct&quot;, &quot;antenna_type_name&quot;: &quot;Other Directional&quot;, &quot;band&quot;: &quot;UHF&quot;, &quot;frequency&quot;: 400000000, &quot;frequency_max&quot;: 429000000}, {&quot;antenna_type&quot;: &quot;other direct&quot;, &quot;antenna_type_name&quot;: &quot;Other Directional&quot;, &quot;band&quot;: &quot;UHF&quot;, &quot;frequency&quot;: 430000000, &quot;frequency_max&quot;: 470000000}]</td>\n",
       "            <td>2</td>\n",
       "        </tr>\n",
       "        <tr>\n",
       "            <td>2221</td>\n",
       "            <td>Francis Ground Station</td>\n",
       "            <td>Antenna array of 2 elements yagi for UHF \r",
       "<br>Antenna dish and  S-Band \r",
       "<br>The Antenna array is attached to the edge of the dish of the  S-Band Antenna \r",
       "<br>The Antenna has a servo motor that controls azimuth  and another for elevation</td>\n",
       "            <td>[]</td>\n",
       "            <td>2</td>\n",
       "        </tr>\n",
       "    </tbody>\n",
       "</table>"
      ],
      "text/plain": [
       "[(357, 'ce3vna', 'estacion completa de radioaficionados con rotor de azimuth y elevacion', '[{\"antenna_type\": \"ground\", \"antenna_type_name\": \"Ground Plane\", \"band\": \"VHF\", \"frequency\": 135000000, \"frequency_max\": 148000000}, {\"antenna_type\": \"ground\", \"antenna_type_name\": \"Ground Plane\", \"band\": \"UHF\", \"frequency\": 430000000, \"frequency_max\": 440000000}]', 0),\n",
       " (1146, 'Ham Radio Ground Station', 'Ground station project  specifically designed for communication with small satellites in Low Earth Orbit using VHF and UHF amateur radio frequencies  ... (214 characters truncated) ... 40 MHZ)\\r\\nRotator Controller\\r\\nAzimuth and elevation rotators \\r\\nUHF and VHF Yagi antennas (Amateur bands 144-16 MHZ and 430-440 MHZ)\\r\\nModems...', '[]', 2),\n",
       " (1775, 'Vi3w Roy4l', \"Dual-Band Log Periodic Antenna or LPDA  (log-periodic dipole array) VHF/UHF. 2 Meter gain is 6.8 dbd (8.9 dBi) and 440 Gain is 7 dBd (9 dBi). Set up  ... (199 characters truncated) ... ut and we'll see what happens, 1st Station on the Island.\\r\\nJuly: Added a Rotator Wifi controller on the LAN/WAN to control the Rotator on/off site.\", '[{\"antenna_type\": \"other direct\", \"antenna_type_name\": \"Other Directional\", \"band\": \"VHF\", \"frequency\": 136000000, \"frequency_max\": 148000000}, {\"ant ... (131 characters truncated) ... 0000}, {\"antenna_type\": \"other direct\", \"antenna_type_name\": \"Other Directional\", \"band\": \"UHF\", \"frequency\": 430000000, \"frequency_max\": 470000000}]', 2),\n",
       " (2221, 'Francis Ground Station', 'Antenna array of 2 elements yagi for UHF \\r\\nAntenna dish and  S-Band \\r\\nThe Antenna array is attached to the edge of the dish of the  S-Band Antenna \\r\\nThe Antenna has a servo motor that controls azimuth  and another for elevation', '[]', 2)]"
      ]
     },
     "execution_count": 11,
     "metadata": {},
     "output_type": "execute_result"
    }
   ],
   "source": [
    "%%sql\n",
    "SELECT DISTINCT\n",
    "    text.id,\n",
    "    text.name,\n",
    "    text.description,\n",
    "    stations.antenna,\n",
    "    stations.rotator\n",
    "FROM text, stations\n",
    "WHERE text.id = stations.id\n",
    "AND text MATCH 'azimuth'\n",
    "ORDER BY text.id;\n"
   ]
  },
  {
   "cell_type": "markdown",
   "id": "2666f73d",
   "metadata": {},
   "source": [
    "Two more stations with rotators.\n",
    "\n",
    "AND a station with an azimuth-only axis!"
   ]
  },
  {
   "cell_type": "code",
   "execution_count": 12,
   "id": "8c0aa3d4",
   "metadata": {},
   "outputs": [
    {
     "name": "stdout",
     "output_type": "stream",
     "text": [
      " * sqlite:///../data/stations.db\n",
      "3 rows affected.\n",
      "1 rows affected.\n"
     ]
    },
    {
     "data": {
      "text/plain": [
       "[]"
      ]
     },
     "execution_count": 12,
     "metadata": {},
     "output_type": "execute_result"
    }
   ],
   "source": [
    "%%sql\n",
    "UPDATE stations SET rotator = 2 WHERE id IN (357, 1146, 2221);\n",
    "\n",
    "-- And an azimuth-only station!\n",
    "UPDATE stations SET rotator = 1 WHERE id IN (1775);"
   ]
  },
  {
   "cell_type": "markdown",
   "id": "caa58de5",
   "metadata": {},
   "source": [
    "Keep looking.  Searching for \"azimuth\" yielded nice results, so search for \"elevation\" next."
   ]
  },
  {
   "cell_type": "code",
   "execution_count": 13,
   "id": "8272870e",
   "metadata": {},
   "outputs": [
    {
     "name": "stdout",
     "output_type": "stream",
     "text": [
      " * sqlite:///../data/stations.db\n",
      "Done.\n"
     ]
    },
    {
     "data": {
      "text/html": [
       "<table>\n",
       "    <thead>\n",
       "        <tr>\n",
       "            <th>id</th>\n",
       "            <th>name</th>\n",
       "            <th>description</th>\n",
       "            <th>antenna</th>\n",
       "            <th>rotator</th>\n",
       "        </tr>\n",
       "    </thead>\n",
       "    <tbody>\n",
       "        <tr>\n",
       "            <td>146</td>\n",
       "            <td>RIYADH2</td>\n",
       "            <td>31 Oct 2020 moved down street - 90 degree elevation crossed Yagi+LNA\r",
       "<br>13 feb 2021 - wire antenna back - UHF LNA\r",
       "<br>27 feb 2021 - short cross yagi looking up\r",
       "<br>25 Sep 2022 - new location down the road - just monopole and no LNA - 3 stories\r",
       "<br>22 Oct 2022 - UHF Yagi looking straight up with LNA</td>\n",
       "            <td>[{&quot;antenna_type&quot;: &quot;cross-yagi&quot;, &quot;antenna_type_name&quot;: &quot;Cross Yagi&quot;, &quot;band&quot;: &quot;UHF&quot;, &quot;frequency&quot;: 400000000, &quot;frequency_max&quot;: 470000000}]</td>\n",
       "            <td>2</td>\n",
       "        </tr>\n",
       "        <tr>\n",
       "            <td>484</td>\n",
       "            <td>DParabole</td>\n",
       "            <td>Paris La Villette.\r",
       "<br>Antenna is currently blocked at 90deg elevation</td>\n",
       "            <td>[{&quot;antenna_type&quot;: &quot;helical&quot;, &quot;antenna_type_name&quot;: &quot;Helical&quot;, &quot;band&quot;: &quot;L&quot;, &quot;frequency&quot;: 1500000000, &quot;frequency_max&quot;: 1750000000}]</td>\n",
       "            <td>2</td>\n",
       "        </tr>\n",
       "        <tr>\n",
       "            <td>1146</td>\n",
       "            <td>Ham Radio Ground Station</td>\n",
       "            <td>Ground station project  specifically designed for communication with small satellites in Low Earth Orbit using VHF and UHF amateur radio frequencies and provide hands-on educational projects in the world\r",
       "<br>The ground station can autonomously track satellites by using these equipments :\r",
       "<br> VHF / UHF amateur radio transceiver (Amateur bands 144-16 MHZ and 430-440 MHZ)\r",
       "<br>Rotator Controller\r",
       "<br>Azimuth and elevation rotators \r",
       "<br>UHF and VHF Yagi antennas (Amateur bands 144-16 MHZ and 430-440 MHZ)\r",
       "<br>Modems...</td>\n",
       "            <td>[]</td>\n",
       "            <td>2</td>\n",
       "        </tr>\n",
       "        <tr>\n",
       "            <td>1312</td>\n",
       "            <td>ESOC UHF</td>\n",
       "            <td>437MHz Wimo cross yagi, phasing cable combiner, NooElec NESDR SMArt SMA 100700 RTL-SDR. V3.01 Satnogs Rotator, 3D printed elevation shafts, Raspberry Pi 3b.  Radio Club + Cybernetics Club at ESA Space Operation Centre, Darmstadt.</td>\n",
       "            <td>[{&quot;antenna_type&quot;: &quot;cross-yagi&quot;, &quot;antenna_type_name&quot;: &quot;Cross Yagi&quot;, &quot;band&quot;: &quot;UHF&quot;, &quot;frequency&quot;: 430000000, &quot;frequency_max&quot;: 470000000}]</td>\n",
       "            <td>2</td>\n",
       "        </tr>\n",
       "        <tr>\n",
       "            <td>1423</td>\n",
       "            <td>OLIVIER F6OBT</td>\n",
       "            <td>Rpi 4 + 1 Yagis antenna VHF 3 elements direction N-E, 1 Yagis antenna VHF 3 elements direction N-W and 1 Yagis antenna UHF 5 elements direction N-W, 1 Yagis antenna UHF 5 elements direction N-E. All antennas have an elevation angle of 40°.</td>\n",
       "            <td>[{&quot;antenna_type&quot;: &quot;yagi&quot;, &quot;antenna_type_name&quot;: &quot;Yagi&quot;, &quot;band&quot;: &quot;VHF&quot;, &quot;frequency&quot;: 135000000, &quot;frequency_max&quot;: 152000000}, {&quot;antenna_type&quot;: &quot;yagi&quot;, &quot;antenna_type_name&quot;: &quot;Yagi&quot;, &quot;band&quot;: &quot;UHF&quot;, &quot;frequency&quot;: 400000000, &quot;frequency_max&quot;: 500000000}]</td>\n",
       "            <td>2</td>\n",
       "        </tr>\n",
       "        <tr>\n",
       "            <td>1466</td>\n",
       "            <td>PE0SAT-12</td>\n",
       "            <td>HP NC6400 Laptop, Intel T7200 | Debian Bullseye (amd64) | SDR RX: AirSPY R2 | Antenna: DK7ZB 9 Element Yagi Pointing bearing 315 / elevation 75.</td>\n",
       "            <td>[{&quot;antenna_type&quot;: &quot;yagi&quot;, &quot;antenna_type_name&quot;: &quot;Yagi&quot;, &quot;band&quot;: &quot;UHF&quot;, &quot;frequency&quot;: 400000000, &quot;frequency_max&quot;: 470000000}]</td>\n",
       "            <td>2</td>\n",
       "        </tr>\n",
       "        <tr>\n",
       "            <td>1640</td>\n",
       "            <td>VA7EEX - UHF</td>\n",
       "            <td>Log periodic antenna with a 60 degree elevation, pointed southwest.</td>\n",
       "            <td>[{&quot;antenna_type&quot;: &quot;other direct&quot;, &quot;antenna_type_name&quot;: &quot;Other Directional&quot;, &quot;band&quot;: &quot;UHF&quot;, &quot;frequency&quot;: 400000000, &quot;frequency_max&quot;: 512000000}]</td>\n",
       "            <td>2</td>\n",
       "        </tr>\n",
       "        <tr>\n",
       "            <td>1710</td>\n",
       "            <td>EU1AEM</td>\n",
       "            <td>In maintenance now!\r",
       "<br>3-element yagi, vertical polarization, directed to east (100°), elevation 25° -&gt; Uputronix 433-438 MHz filtred preamp -&gt; RTL-SDR v3 -&gt; Raspberry Pi 4.\r",
       "<br>\r",
       "<br>Please, do not use this station for west passes. Antenna is directed to east.\r",
       "<br>Use station #2029 for west passes.</td>\n",
       "            <td>[{&quot;antenna_type&quot;: &quot;yagi&quot;, &quot;antenna_type_name&quot;: &quot;Yagi&quot;, &quot;band&quot;: &quot;UHF&quot;, &quot;frequency&quot;: 433000000, &quot;frequency_max&quot;: 439000000}]</td>\n",
       "            <td>2</td>\n",
       "        </tr>\n",
       "        <tr>\n",
       "            <td>1789</td>\n",
       "            <td>jchem</td>\n",
       "            <td>RPi4 + preamp 20dB + sdrrtl-v3, with VHF-4el.-horizontal-yagi pointing NE at 35° elevation.\r",
       "<br>\r",
       "<br>(if UHF: )two UHF-Yagi_6-el, 180d apart at 40d elevation, di. NE-SW.</td>\n",
       "            <td>[{&quot;antenna_type&quot;: &quot;yagi&quot;, &quot;antenna_type_name&quot;: &quot;Yagi&quot;, &quot;band&quot;: &quot;VHF&quot;, &quot;frequency&quot;: 135000000, &quot;frequency_max&quot;: 148000000}]</td>\n",
       "            <td>2</td>\n",
       "        </tr>\n",
       "        <tr>\n",
       "            <td>2029</td>\n",
       "            <td>EU1AEM</td>\n",
       "            <td>In maintenance now!\r",
       "<br>3-element yagi, vertical polarization, directed to west (270°), elevation 30° -&gt; Uputronix 433-438 MHz filtred preamp -&gt; RTL-SDR v3 -&gt; Raspberry Pi 4.\r",
       "<br>\r",
       "<br>Please, do not use this station for east passes. Antenna is directed to west.\r",
       "<br>Use station #1710 for east passes.</td>\n",
       "            <td>[{&quot;antenna_type&quot;: &quot;yagi&quot;, &quot;antenna_type_name&quot;: &quot;Yagi&quot;, &quot;band&quot;: &quot;UHF&quot;, &quot;frequency&quot;: 433000000, &quot;frequency_max&quot;: 439000000}]</td>\n",
       "            <td>2</td>\n",
       "        </tr>\n",
       "        <tr>\n",
       "            <td>2221</td>\n",
       "            <td>Francis Ground Station</td>\n",
       "            <td>Antenna array of 2 elements yagi for UHF \r",
       "<br>Antenna dish and  S-Band \r",
       "<br>The Antenna array is attached to the edge of the dish of the  S-Band Antenna \r",
       "<br>The Antenna has a servo motor that controls azimuth  and another for elevation</td>\n",
       "            <td>[]</td>\n",
       "            <td>2</td>\n",
       "        </tr>\n",
       "    </tbody>\n",
       "</table>"
      ],
      "text/plain": [
       "[(146, 'RIYADH2', '31 Oct 2020 moved down street - 90 degree elevation crossed Yagi+LNA\\r\\n13 feb 2021 - wire antenna back - UHF LNA\\r\\n27 feb 2021 - short cross yagi looking up\\r\\n25 Sep 2022 - new location down the road - just monopole and no LNA - 3 stories\\r\\n22 Oct 2022 - UHF Yagi looking straight up with LNA', '[{\"antenna_type\": \"cross-yagi\", \"antenna_type_name\": \"Cross Yagi\", \"band\": \"UHF\", \"frequency\": 400000000, \"frequency_max\": 470000000}]', 2),\n",
       " (484, 'DParabole', 'Paris La Villette.\\r\\nAntenna is currently blocked at 90deg elevation', '[{\"antenna_type\": \"helical\", \"antenna_type_name\": \"Helical\", \"band\": \"L\", \"frequency\": 1500000000, \"frequency_max\": 1750000000}]', 2),\n",
       " (1146, 'Ham Radio Ground Station', 'Ground station project  specifically designed for communication with small satellites in Low Earth Orbit using VHF and UHF amateur radio frequencies  ... (214 characters truncated) ... 40 MHZ)\\r\\nRotator Controller\\r\\nAzimuth and elevation rotators \\r\\nUHF and VHF Yagi antennas (Amateur bands 144-16 MHZ and 430-440 MHZ)\\r\\nModems...', '[]', 2),\n",
       " (1312, 'ESOC UHF', '437MHz Wimo cross yagi, phasing cable combiner, NooElec NESDR SMArt SMA 100700 RTL-SDR. V3.01 Satnogs Rotator, 3D printed elevation shafts, Raspberry Pi 3b.  Radio Club + Cybernetics Club at ESA Space Operation Centre, Darmstadt.', '[{\"antenna_type\": \"cross-yagi\", \"antenna_type_name\": \"Cross Yagi\", \"band\": \"UHF\", \"frequency\": 430000000, \"frequency_max\": 470000000}]', 2),\n",
       " (1423, 'OLIVIER F6OBT', 'Rpi 4 + 1 Yagis antenna VHF 3 elements direction N-E, 1 Yagis antenna VHF 3 elements direction N-W and 1 Yagis antenna UHF 5 elements direction N-W, 1 Yagis antenna UHF 5 elements direction N-E. All antennas have an elevation angle of 40°.', '[{\"antenna_type\": \"yagi\", \"antenna_type_name\": \"Yagi\", \"band\": \"VHF\", \"frequency\": 135000000, \"frequency_max\": 152000000}, {\"antenna_type\": \"yagi\", \"antenna_type_name\": \"Yagi\", \"band\": \"UHF\", \"frequency\": 400000000, \"frequency_max\": 500000000}]', 2),\n",
       " (1466, 'PE0SAT-12', 'HP NC6400 Laptop, Intel T7200 | Debian Bullseye (amd64) | SDR RX: AirSPY R2 | Antenna: DK7ZB 9 Element Yagi Pointing bearing 315 / elevation 75.', '[{\"antenna_type\": \"yagi\", \"antenna_type_name\": \"Yagi\", \"band\": \"UHF\", \"frequency\": 400000000, \"frequency_max\": 470000000}]', 2),\n",
       " (1640, 'VA7EEX - UHF', 'Log periodic antenna with a 60 degree elevation, pointed southwest.', '[{\"antenna_type\": \"other direct\", \"antenna_type_name\": \"Other Directional\", \"band\": \"UHF\", \"frequency\": 400000000, \"frequency_max\": 512000000}]', 2),\n",
       " (1710, 'EU1AEM', 'In maintenance now!\\r\\n3-element yagi, vertical polarization, directed to east (100°), elevation 25° -> Uputronix 433-438 MHz filtred preamp -> RTL-SDR v3 -> Raspberry Pi 4.\\r\\n\\r\\nPlease, do not use this station for west passes. Antenna is directed to east.\\r\\nUse station #2029 for west passes.', '[{\"antenna_type\": \"yagi\", \"antenna_type_name\": \"Yagi\", \"band\": \"UHF\", \"frequency\": 433000000, \"frequency_max\": 439000000}]', 2),\n",
       " (1789, 'jchem', 'RPi4 + preamp 20dB + sdrrtl-v3, with VHF-4el.-horizontal-yagi pointing NE at 35° elevation.\\r\\n\\r\\n(if UHF: )two UHF-Yagi_6-el, 180d apart at 40d elevation, di. NE-SW.', '[{\"antenna_type\": \"yagi\", \"antenna_type_name\": \"Yagi\", \"band\": \"VHF\", \"frequency\": 135000000, \"frequency_max\": 148000000}]', 2),\n",
       " (2029, 'EU1AEM', 'In maintenance now!\\r\\n3-element yagi, vertical polarization, directed to west (270°), elevation 30° -> Uputronix 433-438 MHz filtred preamp -> RTL-SDR v3 -> Raspberry Pi 4.\\r\\n\\r\\nPlease, do not use this station for east passes. Antenna is directed to west.\\r\\nUse station #1710 for east passes.', '[{\"antenna_type\": \"yagi\", \"antenna_type_name\": \"Yagi\", \"band\": \"UHF\", \"frequency\": 433000000, \"frequency_max\": 439000000}]', 2),\n",
       " (2221, 'Francis Ground Station', 'Antenna array of 2 elements yagi for UHF \\r\\nAntenna dish and  S-Band \\r\\nThe Antenna array is attached to the edge of the dish of the  S-Band Antenna \\r\\nThe Antenna has a servo motor that controls azimuth  and another for elevation', '[]', 2)]"
      ]
     },
     "execution_count": 13,
     "metadata": {},
     "output_type": "execute_result"
    }
   ],
   "source": [
    "%%sql\n",
    "SELECT DISTINCT\n",
    "    text.id,\n",
    "    text.name,\n",
    "    text.description,\n",
    "    stations.antenna,\n",
    "    stations.rotator\n",
    "FROM text, stations\n",
    "WHERE text.id = stations.id\n",
    "AND text MATCH 'elevation'\n",
    "AND stations.rotator <> 0\n",
    "ORDER BY text.id;\n"
   ]
  },
  {
   "cell_type": "markdown",
   "id": "28982858",
   "metadata": {},
   "source": [
    "... and found some more stations with directional antennas but with fixed pointing."
   ]
  },
  {
   "cell_type": "code",
   "execution_count": 14,
   "id": "01c20a45",
   "metadata": {},
   "outputs": [
    {
     "name": "stdout",
     "output_type": "stream",
     "text": [
      " * sqlite:///../data/stations.db\n",
      "8 rows affected.\n"
     ]
    },
    {
     "data": {
      "text/plain": [
       "[]"
      ]
     },
     "execution_count": 14,
     "metadata": {},
     "output_type": "execute_result"
    }
   ],
   "source": [
    "%%sql\n",
    "-- More no-rotator stations\n",
    "UPDATE stations SET rotator = 0 WHERE id IN (146, 484, 1423, 1466, 1640, 1710, 1789, 2029)"
   ]
  },
  {
   "cell_type": "markdown",
   "id": "e734ca3f",
   "metadata": {},
   "source": [
    "It is interesting to note the stations with capabilites that are different than presumed.\n",
    "Such a diversity of setups!\n",
    "\n",
    "How about looking for a word meaning an exception such as \"only\"?"
   ]
  },
  {
   "cell_type": "code",
   "execution_count": 15,
   "id": "0e572622",
   "metadata": {},
   "outputs": [
    {
     "name": "stdout",
     "output_type": "stream",
     "text": [
      " * sqlite:///../data/stations.db\n",
      "Done.\n"
     ]
    },
    {
     "data": {
      "text/html": [
       "<table>\n",
       "    <thead>\n",
       "        <tr>\n",
       "            <th>id</th>\n",
       "            <th>name</th>\n",
       "            <th>description</th>\n",
       "            <th>antenna</th>\n",
       "            <th>rotator</th>\n",
       "        </tr>\n",
       "    </thead>\n",
       "    <tbody>\n",
       "        <tr>\n",
       "            <td>36</td>\n",
       "            <td>oe8rke</td>\n",
       "            <td>2022-04-03: station close being reopend after rotor replacement\r",
       "<br>2019-12-19: Still experiance issues with rotor - PLEASE ONLY EMERGENCY RECEPTIONS UNTIL ROTOR IS BACK, TNX!\r",
       "<br>2019-12-10: Shutdown to service rotor again (stall issue), \r",
       "<br>\r",
       "<br>offsite location in the alps with low noise, operating with pstrotator hamlib interface</td>\n",
       "            <td>[{&quot;antenna_type&quot;: &quot;yagi&quot;, &quot;antenna_type_name&quot;: &quot;Yagi&quot;, &quot;band&quot;: &quot;UHF&quot;, &quot;frequency&quot;: 430000000, &quot;frequency_max&quot;: 470000000}, {&quot;antenna_type&quot;: &quot;yagi&quot;, &quot;antenna_type_name&quot;: &quot;Yagi&quot;, &quot;band&quot;: &quot;VHF&quot;, &quot;frequency&quot;: 144000000, &quot;frequency_max&quot;: 146000000}, {&quot;antenna_type&quot;: &quot;helical&quot;, &quot;antenna_type_name&quot;: &quot;Helical&quot;, &quot;band&quot;: &quot;S&quot;, &quot;frequency&quot;: 2300000000, &quot;frequency_max&quot;: 2450000000}, {&quot;antenna_type&quot;: &quot;helical&quot;, &quot;antenna_type_name&quot;: &quot;Helical&quot;, &quot;band&quot;: &quot;L&quot;, &quot;frequency&quot;: 1230000000, &quot;frequency_max&quot;: 1290000000}]</td>\n",
       "            <td>2</td>\n",
       "        </tr>\n",
       "        <tr>\n",
       "            <td>87</td>\n",
       "            <td>M0IEB/M</td>\n",
       "            <td>15.04.2018, Testing software with temporary home rig location, 23.04.2018, Home rig set, added LNA and filter for 145M band. Enjoy! 26.04.2018, Rig won&#x27;t get 137M, 07.05.2018, Updated to 0.6.1, In case it was not clear, this station will not receive NOAA. 29.08.2018, now sitting in Surrey Space Centre temporarily. 14.12.2018: Tracking ESEO only on UHF, no tracking available for other sats. 08.02.2019: Added ISS for ARISS SSTV Event. 27.06.2019: Tracking ESA ESEO. From Nov 2019, tracking OPS-SAT.</td>\n",
       "            <td>[{&quot;antenna_type&quot;: &quot;yagi&quot;, &quot;antenna_type_name&quot;: &quot;Yagi&quot;, &quot;band&quot;: &quot;UHF&quot;, &quot;frequency&quot;: 430000000, &quot;frequency_max&quot;: 470000000}, {&quot;antenna_type&quot;: &quot;yagi&quot;, &quot;antenna_type_name&quot;: &quot;Yagi&quot;, &quot;band&quot;: &quot;VHF&quot;, &quot;frequency&quot;: 135000000, &quot;frequency_max&quot;: 146000000}]</td>\n",
       "            <td>2</td>\n",
       "        </tr>\n",
       "        <tr>\n",
       "            <td>254</td>\n",
       "            <td>SP2ZIE - 70cm</td>\n",
       "            <td>Rotator damaged. PW-SAT2 Satellite only. 435.275MHz+/-25kHz bandpass filter.\r",
       "<br>AZ-EL Wimo WX7036. High noise environment. 437-438MHz strong QRMs from LoRa like transmissions. Band limited to 435MHz-440MHz (bandpass filter). Test setup.</td>\n",
       "            <td>[{&quot;antenna_type&quot;: &quot;cross-yagi&quot;, &quot;antenna_type_name&quot;: &quot;Cross Yagi&quot;, &quot;band&quot;: &quot;UHF&quot;, &quot;frequency&quot;: 432000000, &quot;frequency_max&quot;: 439000000}]</td>\n",
       "            <td>2</td>\n",
       "        </tr>\n",
       "        <tr>\n",
       "            <td>527</td>\n",
       "            <td>Test1</td>\n",
       "            <td>This is only a test for a system later on</td>\n",
       "            <td>[{&quot;antenna_type&quot;: &quot;helical&quot;, &quot;antenna_type_name&quot;: &quot;Helical&quot;, &quot;band&quot;: &quot;L&quot;, &quot;frequency&quot;: 1600000000, &quot;frequency_max&quot;: 1800000000}, {&quot;antenna_type&quot;: &quot;helical&quot;, &quot;antenna_type_name&quot;: &quot;Helical&quot;, &quot;band&quot;: &quot;L&quot;, &quot;frequency&quot;: 1500000000, &quot;frequency_max&quot;: 1750000000}]</td>\n",
       "            <td>2</td>\n",
       "        </tr>\n",
       "        <tr>\n",
       "            <td>959</td>\n",
       "            <td>CE3VRT - VHF - UHF</td>\n",
       "            <td>Station on rural area (limited internet access). Please try to schedule Fox series sats only. \r",
       "<br>\r",
       "<br>Gear:\r",
       "<br>- VHF Turnstile\r",
       "<br>- FM Filter + LNA4ALL\r",
       "<br>- Nooelec RTLSDR</td>\n",
       "            <td>[{&quot;antenna_type&quot;: &quot;yagi&quot;, &quot;antenna_type_name&quot;: &quot;Yagi&quot;, &quot;band&quot;: &quot;UHF&quot;, &quot;frequency&quot;: 430000000, &quot;frequency_max&quot;: 470000000}]</td>\n",
       "            <td>2</td>\n",
       "        </tr>\n",
       "        <tr>\n",
       "            <td>1287</td>\n",
       "            <td>FOSSA-STATION</td>\n",
       "            <td>Test Tape Measure Yagi, Only North/West Passes</td>\n",
       "            <td>[{&quot;antenna_type&quot;: &quot;yagi&quot;, &quot;antenna_type_name&quot;: &quot;Yagi&quot;, &quot;band&quot;: &quot;UHF&quot;, &quot;frequency&quot;: 430000000, &quot;frequency_max&quot;: 470000000}]</td>\n",
       "            <td>2</td>\n",
       "        </tr>\n",
       "        <tr>\n",
       "            <td>1526</td>\n",
       "            <td>Budapest UHF (west only)</td>\n",
       "            <td>2*3el UHF cross yagi facing 270deg AZ 45deg EL. \r",
       "<br>\r",
       "<br>Setup:\r",
       "<br>Orange Pi Zero 256M, \r",
       "<br>LimeSDR Mini, \r",
       "<br>diy filter with ~2dB loss, \r",
       "<br>SPF5043Z ~0.6NF 20dB LNA, \r",
       "<br>diy antenna. \r",
       "<br>\r",
       "<br>Contact me on the community forms if you have any questions.</td>\n",
       "            <td>[{&quot;antenna_type&quot;: &quot;cross-yagi&quot;, &quot;antenna_type_name&quot;: &quot;Cross Yagi&quot;, &quot;band&quot;: &quot;UHF&quot;, &quot;frequency&quot;: 430000000, &quot;frequency_max&quot;: 440000000}]</td>\n",
       "            <td>2</td>\n",
       "        </tr>\n",
       "        <tr>\n",
       "            <td>1594</td>\n",
       "            <td>VK2PET #2 Trial Station</td>\n",
       "            <td>This station is a Trial to play around with antennas &amp; SDR&#x27;s. It will NOT be online all the time. Limited by myself entering the Satellite passes into PST-Rotator.  Back online for testing only as I&#x27;m having a lot of issues with this station. For all others please use my other station.</td>\n",
       "            <td>[{&quot;antenna_type&quot;: &quot;other direct&quot;, &quot;antenna_type_name&quot;: &quot;Other Directional&quot;, &quot;band&quot;: &quot;VHF&quot;, &quot;frequency&quot;: 135000000, &quot;frequency_max&quot;: 148000000}, {&quot;antenna_type&quot;: &quot;other direct&quot;, &quot;antenna_type_name&quot;: &quot;Other Directional&quot;, &quot;band&quot;: &quot;UHF&quot;, &quot;frequency&quot;: 430000000, &quot;frequency_max&quot;: 450000000}]</td>\n",
       "            <td>2</td>\n",
       "        </tr>\n",
       "        <tr>\n",
       "            <td>1687</td>\n",
       "            <td>DL6KBG-AZEL</td>\n",
       "            <td>SPID RAS Rotator with 1 degree resolution. Still on the ground and only for testing. Wimo X-Quad for 2M. No LNA so far.</td>\n",
       "            <td>[{&quot;antenna_type&quot;: &quot;cross-yagi&quot;, &quot;antenna_type_name&quot;: &quot;Cross Yagi&quot;, &quot;band&quot;: &quot;VHF&quot;, &quot;frequency&quot;: 130000000, &quot;frequency_max&quot;: 148000000}]</td>\n",
       "            <td>2</td>\n",
       "        </tr>\n",
       "        <tr>\n",
       "            <td>1775</td>\n",
       "            <td>Vi3w Roy4l</td>\n",
       "            <td>Dual-Band Log Periodic Antenna or LPDA  (log-periodic dipole array) VHF/UHF. 2 Meter gain is 6.8 dbd (8.9 dBi) and 440 Gain is 7 dBd (9 dBi). Set up on a 360° Rotator, Azimuth only with a set angle of 30°. The Azimuth changes from time to time when manually scheduling for Satellites on the Polar Plot. Rpi 3B+, RTL-SDR + RTL-LNA. Trying this all out and we&#x27;ll see what happens, 1st Station on the Island.\r",
       "<br>July: Added a Rotator Wifi controller on the LAN/WAN to control the Rotator on/off site.</td>\n",
       "            <td>[{&quot;antenna_type&quot;: &quot;other direct&quot;, &quot;antenna_type_name&quot;: &quot;Other Directional&quot;, &quot;band&quot;: &quot;VHF&quot;, &quot;frequency&quot;: 136000000, &quot;frequency_max&quot;: 148000000}, {&quot;antenna_type&quot;: &quot;other direct&quot;, &quot;antenna_type_name&quot;: &quot;Other Directional&quot;, &quot;band&quot;: &quot;UHF&quot;, &quot;frequency&quot;: 400000000, &quot;frequency_max&quot;: 429000000}, {&quot;antenna_type&quot;: &quot;other direct&quot;, &quot;antenna_type_name&quot;: &quot;Other Directional&quot;, &quot;band&quot;: &quot;UHF&quot;, &quot;frequency&quot;: 430000000, &quot;frequency_max&quot;: 470000000}]</td>\n",
       "            <td>1</td>\n",
       "        </tr>\n",
       "        <tr>\n",
       "            <td>1824</td>\n",
       "            <td>Budapest UHF2 (west only)</td>\n",
       "            <td>Test station running on a Nexus 5 Android phone, antenna: ATK-10.</td>\n",
       "            <td>[{&quot;antenna_type&quot;: &quot;yagi&quot;, &quot;antenna_type_name&quot;: &quot;Yagi&quot;, &quot;band&quot;: &quot;UHF&quot;, &quot;frequency&quot;: 430000000, &quot;frequency_max&quot;: 470000000}]</td>\n",
       "            <td>2</td>\n",
       "        </tr>\n",
       "        <tr>\n",
       "            <td>2153</td>\n",
       "            <td>Langhecke</td>\n",
       "            <td>ON TRIAL AND INTERMITTENT !\r",
       "<br>RPi3B, Adalm Pluto: currently testing rotator and S-band reception chain ... \r",
       "<br>Only passes between NE thru SE to SW - antenna has no sky view from west to north.</td>\n",
       "            <td>[{&quot;antenna_type&quot;: &quot;parabolic&quot;, &quot;antenna_type_name&quot;: &quot;Parabolic&quot;, &quot;band&quot;: &quot;S&quot;, &quot;frequency&quot;: 2200000000, &quot;frequency_max&quot;: 2435000000}]</td>\n",
       "            <td>2</td>\n",
       "        </tr>\n",
       "        <tr>\n",
       "            <td>2482</td>\n",
       "            <td>JO52-L</td>\n",
       "            <td>Helix pointing straight up | sawbird GOES with ~3m of coax between feed and LNA, free for the satnogs station when not in use for HRPT | only east passes</td>\n",
       "            <td>[{&quot;antenna_type&quot;: &quot;helical&quot;, &quot;antenna_type_name&quot;: &quot;Helical&quot;, &quot;band&quot;: &quot;L&quot;, &quot;frequency&quot;: 1650000000, &quot;frequency_max&quot;: 1720000000}]</td>\n",
       "            <td>2</td>\n",
       "        </tr>\n",
       "        <tr>\n",
       "            <td>2736</td>\n",
       "            <td>OH2AGS-1: Aalto Satellites</td>\n",
       "            <td>Aalto Satellites ground station is a station hosted and maintained by Aalto University&#x27;s small satellites team. The station is also used for small satellites operations and thus it is not always available for the SatNOGS network.\r",
       "<br>This station is a &quot;co-station&quot; of station #2708 (OH2AGS-0 - Aalto Satellites) meaning that they share the antenna and radio equipment. Both station can track simultaneously different satellites but only the primary station can turn the antenna rotator.</td>\n",
       "            <td>[{&quot;antenna_type&quot;: &quot;yagi&quot;, &quot;antenna_type_name&quot;: &quot;Yagi&quot;, &quot;band&quot;: &quot;UHF&quot;, &quot;frequency&quot;: 435000000, &quot;frequency_max&quot;: 438000000}]</td>\n",
       "            <td>2</td>\n",
       "        </tr>\n",
       "        <tr>\n",
       "            <td>2837</td>\n",
       "            <td>KB7KY-UHF-EXPERIMENTAL</td>\n",
       "            <td>Building first ground station - note AZ rotator only - EL set at about 30 degrees</td>\n",
       "            <td>[{&quot;antenna_type&quot;: &quot;yagi&quot;, &quot;antenna_type_name&quot;: &quot;Yagi&quot;, &quot;band&quot;: &quot;UHF&quot;, &quot;frequency&quot;: 430000000, &quot;frequency_max&quot;: 450000000}]</td>\n",
       "            <td>2</td>\n",
       "        </tr>\n",
       "    </tbody>\n",
       "</table>"
      ],
      "text/plain": [
       "[(36, 'oe8rke', '2022-04-03: station close being reopend after rotor replacement\\r\\n2019-12-19: Still experiance issues with rotor - PLEASE ONLY EMERGENCY RECEPTIONS  ... (34 characters truncated) ... 12-10: Shutdown to service rotor again (stall issue), \\r\\n\\r\\noffsite location in the alps with low noise, operating with pstrotator hamlib interface', '[{\"antenna_type\": \"yagi\", \"antenna_type_name\": \"Yagi\", \"band\": \"UHF\", \"frequency\": 430000000, \"frequency_max\": 470000000}, {\"antenna_type\": \"yagi\", \" ... (202 characters truncated) ... cy_max\": 2450000000}, {\"antenna_type\": \"helical\", \"antenna_type_name\": \"Helical\", \"band\": \"L\", \"frequency\": 1230000000, \"frequency_max\": 1290000000}]', 2),\n",
       " (87, 'M0IEB/M', \"15.04.2018, Testing software with temporary home rig location, 23.04.2018, Home rig set, added LNA and filter for 145M band. Enjoy! 26.04.2018, Rig w ... (202 characters truncated) ... HF, no tracking available for other sats. 08.02.2019: Added ISS for ARISS SSTV Event. 27.06.2019: Tracking ESA ESEO. From Nov 2019, tracking OPS-SAT.\", '[{\"antenna_type\": \"yagi\", \"antenna_type_name\": \"Yagi\", \"band\": \"UHF\", \"frequency\": 430000000, \"frequency_max\": 470000000}, {\"antenna_type\": \"yagi\", \"antenna_type_name\": \"Yagi\", \"band\": \"VHF\", \"frequency\": 135000000, \"frequency_max\": 146000000}]', 2),\n",
       " (254, 'SP2ZIE - 70cm', 'Rotator damaged. PW-SAT2 Satellite only. 435.275MHz+/-25kHz bandpass filter.\\r\\nAZ-EL Wimo WX7036. High noise environment. 437-438MHz strong QRMs from LoRa like transmissions. Band limited to 435MHz-440MHz (bandpass filter). Test setup.', '[{\"antenna_type\": \"cross-yagi\", \"antenna_type_name\": \"Cross Yagi\", \"band\": \"UHF\", \"frequency\": 432000000, \"frequency_max\": 439000000}]', 2),\n",
       " (527, 'Test1', 'This is only a test for a system later on', '[{\"antenna_type\": \"helical\", \"antenna_type_name\": \"Helical\", \"band\": \"L\", \"frequency\": 1600000000, \"frequency_max\": 1800000000}, {\"antenna_type\": \"helical\", \"antenna_type_name\": \"Helical\", \"band\": \"L\", \"frequency\": 1500000000, \"frequency_max\": 1750000000}]', 2),\n",
       " (959, 'CE3VRT - VHF - UHF', 'Station on rural area (limited internet access). Please try to schedule Fox series sats only. \\r\\n\\r\\nGear:\\r\\n- VHF Turnstile\\r\\n- FM Filter + LNA4ALL\\r\\n- Nooelec RTLSDR', '[{\"antenna_type\": \"yagi\", \"antenna_type_name\": \"Yagi\", \"band\": \"UHF\", \"frequency\": 430000000, \"frequency_max\": 470000000}]', 2),\n",
       " (1287, 'FOSSA-STATION', 'Test Tape Measure Yagi, Only North/West Passes', '[{\"antenna_type\": \"yagi\", \"antenna_type_name\": \"Yagi\", \"band\": \"UHF\", \"frequency\": 430000000, \"frequency_max\": 470000000}]', 2),\n",
       " (1526, 'Budapest UHF (west only)', '2*3el UHF cross yagi facing 270deg AZ 45deg EL. \\r\\n\\r\\nSetup:\\r\\nOrange Pi Zero 256M, \\r\\nLimeSDR Mini, \\r\\ndiy filter with ~2dB loss, \\r\\nSPF5043Z ~0.6NF 20dB LNA, \\r\\ndiy antenna. \\r\\n\\r\\nContact me on the community forms if you have any questions.', '[{\"antenna_type\": \"cross-yagi\", \"antenna_type_name\": \"Cross Yagi\", \"band\": \"UHF\", \"frequency\": 430000000, \"frequency_max\": 440000000}]', 2),\n",
       " (1594, 'VK2PET #2 Trial Station', \"This station is a Trial to play around with antennas & SDR's. It will NOT be online all the time. Limited by myself entering the Satellite passes into PST-Rotator.  Back online for testing only as I'm having a lot of issues with this station. For all others please use my other station.\", '[{\"antenna_type\": \"other direct\", \"antenna_type_name\": \"Other Directional\", \"band\": \"VHF\", \"frequency\": 135000000, \"frequency_max\": 148000000}, {\"antenna_type\": \"other direct\", \"antenna_type_name\": \"Other Directional\", \"band\": \"UHF\", \"frequency\": 430000000, \"frequency_max\": 450000000}]', 2),\n",
       " (1687, 'DL6KBG-AZEL', 'SPID RAS Rotator with 1 degree resolution. Still on the ground and only for testing. Wimo X-Quad for 2M. No LNA so far.', '[{\"antenna_type\": \"cross-yagi\", \"antenna_type_name\": \"Cross Yagi\", \"band\": \"VHF\", \"frequency\": 130000000, \"frequency_max\": 148000000}]', 2),\n",
       " (1775, 'Vi3w Roy4l', \"Dual-Band Log Periodic Antenna or LPDA  (log-periodic dipole array) VHF/UHF. 2 Meter gain is 6.8 dbd (8.9 dBi) and 440 Gain is 7 dBd (9 dBi). Set up  ... (199 characters truncated) ... ut and we'll see what happens, 1st Station on the Island.\\r\\nJuly: Added a Rotator Wifi controller on the LAN/WAN to control the Rotator on/off site.\", '[{\"antenna_type\": \"other direct\", \"antenna_type_name\": \"Other Directional\", \"band\": \"VHF\", \"frequency\": 136000000, \"frequency_max\": 148000000}, {\"ant ... (131 characters truncated) ... 0000}, {\"antenna_type\": \"other direct\", \"antenna_type_name\": \"Other Directional\", \"band\": \"UHF\", \"frequency\": 430000000, \"frequency_max\": 470000000}]', 1),\n",
       " (1824, 'Budapest UHF2 (west only)', 'Test station running on a Nexus 5 Android phone, antenna: ATK-10.', '[{\"antenna_type\": \"yagi\", \"antenna_type_name\": \"Yagi\", \"band\": \"UHF\", \"frequency\": 430000000, \"frequency_max\": 470000000}]', 2),\n",
       " (2153, 'Langhecke', 'ON TRIAL AND INTERMITTENT !\\r\\nRPi3B, Adalm Pluto: currently testing rotator and S-band reception chain ... \\r\\nOnly passes between NE thru SE to SW - antenna has no sky view from west to north.', '[{\"antenna_type\": \"parabolic\", \"antenna_type_name\": \"Parabolic\", \"band\": \"S\", \"frequency\": 2200000000, \"frequency_max\": 2435000000}]', 2),\n",
       " (2482, 'JO52-L', 'Helix pointing straight up | sawbird GOES with ~3m of coax between feed and LNA, free for the satnogs station when not in use for HRPT | only east passes', '[{\"antenna_type\": \"helical\", \"antenna_type_name\": \"Helical\", \"band\": \"L\", \"frequency\": 1650000000, \"frequency_max\": 1720000000}]', 2),\n",
       " (2736, 'OH2AGS-1: Aalto Satellites', 'Aalto Satellites ground station is a station hosted and maintained by Aalto University\\'s small satellites team. The station is also used for small s ... (188 characters truncated) ... he antenna and radio equipment. Both station can track simultaneously different satellites but only the primary station can turn the antenna rotator.', '[{\"antenna_type\": \"yagi\", \"antenna_type_name\": \"Yagi\", \"band\": \"UHF\", \"frequency\": 435000000, \"frequency_max\": 438000000}]', 2),\n",
       " (2837, 'KB7KY-UHF-EXPERIMENTAL', 'Building first ground station - note AZ rotator only - EL set at about 30 degrees', '[{\"antenna_type\": \"yagi\", \"antenna_type_name\": \"Yagi\", \"band\": \"UHF\", \"frequency\": 430000000, \"frequency_max\": 450000000}]', 2)]"
      ]
     },
     "execution_count": 15,
     "metadata": {},
     "output_type": "execute_result"
    }
   ],
   "source": [
    "%%sql\n",
    "SELECT DISTINCT\n",
    "    text.id,\n",
    "    text.name,\n",
    "    text.description,\n",
    "    stations.antenna,\n",
    "    stations.rotator\n",
    "FROM text, stations\n",
    "WHERE text.id = stations.id\n",
    "AND text MATCH 'only'\n",
    "AND stations.rotator <> 0\n",
    "ORDER BY text.id;\n"
   ]
  },
  {
   "cell_type": "markdown",
   "id": "e97b62bd",
   "metadata": {},
   "source": [
    "Jackpot!\n",
    "A few more stations with directional antennas but no rotation.\n",
    "\n",
    "And a bonus azimuth-only station!"
   ]
  },
  {
   "cell_type": "code",
   "execution_count": 16,
   "id": "4536e020",
   "metadata": {},
   "outputs": [
    {
     "name": "stdout",
     "output_type": "stream",
     "text": [
      " * sqlite:///../data/stations.db\n",
      "3 rows affected.\n",
      "1 rows affected.\n"
     ]
    },
    {
     "data": {
      "text/plain": [
       "[]"
      ]
     },
     "execution_count": 16,
     "metadata": {},
     "output_type": "execute_result"
    }
   ],
   "source": [
    "%%sql\n",
    "-- More no-rotator stations\n",
    "UPDATE stations SET rotator = 0 WHERE id IN (1526, 1824, 2482);\n",
    "\n",
    "-- And another azimuth-only station!\n",
    "UPDATE stations SET rotator = 1 WHERE id IN (2837);"
   ]
  },
  {
   "cell_type": "markdown",
   "id": "e425f804",
   "metadata": {},
   "source": [
    "That's good enough for now.\n",
    "Note to self to consider filing an issue against the ground station information endpoint to add a field to capture this number of axes directly from the owner.\n",
    "\n",
    "What about the stations with an empty `antenna` field?"
   ]
  },
  {
   "cell_type": "code",
   "execution_count": 17,
   "id": "3f4e0cb9",
   "metadata": {},
   "outputs": [
    {
     "name": "stdout",
     "output_type": "stream",
     "text": [
      " * sqlite:///../data/stations.db\n",
      "Done.\n"
     ]
    },
    {
     "data": {
      "text/html": [
       "<table>\n",
       "    <thead>\n",
       "        <tr>\n",
       "            <th>count(*)</th>\n",
       "            <th>sum(observations)</th>\n",
       "        </tr>\n",
       "    </thead>\n",
       "    <tbody>\n",
       "        <tr>\n",
       "            <td>205</td>\n",
       "            <td>47</td>\n",
       "        </tr>\n",
       "    </tbody>\n",
       "</table>"
      ],
      "text/plain": [
       "[(205, 47)]"
      ]
     },
     "execution_count": 17,
     "metadata": {},
     "output_type": "execute_result"
    }
   ],
   "source": [
    "%%sql\n",
    "SELECT\n",
    "    count(*),\n",
    "    sum(observations)\n",
    "FROM stations\n",
    "WHERE rotator NOT IN (0, 1, 2) or rotator IS NULL;"
   ]
  },
  {
   "cell_type": "markdown",
   "id": "38bab686",
   "metadata": {},
   "source": [
    "So there are 205 stations with a blank `antenna` field, which have scheduled a total of only 47 observations across them.\n",
    "It is not statistically useful to attempt to classify the number of rotation axes for these stations."
   ]
  },
  {
   "cell_type": "markdown",
   "id": "e42f4591",
   "metadata": {},
   "source": [
    "# Ground Stations Statistics"
   ]
  },
  {
   "cell_type": "markdown",
   "id": "57b40939",
   "metadata": {},
   "source": [
    "## Popular antenna types"
   ]
  },
  {
   "cell_type": "code",
   "execution_count": 18,
   "id": "4fc68883",
   "metadata": {},
   "outputs": [
    {
     "name": "stdout",
     "output_type": "stream",
     "text": [
      " * sqlite:///../data/stations.db\n",
      "Done.\n"
     ]
    },
    {
     "data": {
      "text/html": [
       "<table>\n",
       "    <thead>\n",
       "        <tr>\n",
       "            <th>type</th>\n",
       "            <th>num_type</th>\n",
       "        </tr>\n",
       "    </thead>\n",
       "    <tbody>\n",
       "        <tr>\n",
       "            <td>turnstile</td>\n",
       "            <td>358</td>\n",
       "        </tr>\n",
       "        <tr>\n",
       "            <td>yagi</td>\n",
       "            <td>315</td>\n",
       "        </tr>\n",
       "        <tr>\n",
       "            <td>quadrafilar</td>\n",
       "            <td>291</td>\n",
       "        </tr>\n",
       "        <tr>\n",
       "            <td>vertical</td>\n",
       "            <td>251</td>\n",
       "        </tr>\n",
       "        <tr>\n",
       "            <td>cross-yagi</td>\n",
       "            <td>229</td>\n",
       "        </tr>\n",
       "        <tr>\n",
       "            <td>None</td>\n",
       "            <td>207</td>\n",
       "        </tr>\n",
       "        <tr>\n",
       "            <td>dipole</td>\n",
       "            <td>181</td>\n",
       "        </tr>\n",
       "        <tr>\n",
       "            <td>v-dipole</td>\n",
       "            <td>153</td>\n",
       "        </tr>\n",
       "        <tr>\n",
       "            <td>eggbeater</td>\n",
       "            <td>140</td>\n",
       "        </tr>\n",
       "        <tr>\n",
       "            <td>discone</td>\n",
       "            <td>140</td>\n",
       "        </tr>\n",
       "        <tr>\n",
       "            <td>other omni</td>\n",
       "            <td>92</td>\n",
       "        </tr>\n",
       "        <tr>\n",
       "            <td>helical</td>\n",
       "            <td>80</td>\n",
       "        </tr>\n",
       "        <tr>\n",
       "            <td>ground</td>\n",
       "            <td>69</td>\n",
       "        </tr>\n",
       "        <tr>\n",
       "            <td>lindenblad</td>\n",
       "            <td>38</td>\n",
       "        </tr>\n",
       "        <tr>\n",
       "            <td>other direct</td>\n",
       "            <td>35</td>\n",
       "        </tr>\n",
       "        <tr>\n",
       "            <td>parabolic</td>\n",
       "            <td>18</td>\n",
       "        </tr>\n",
       "        <tr>\n",
       "            <td>patch</td>\n",
       "            <td>10</td>\n",
       "        </tr>\n",
       "        <tr>\n",
       "            <td>paralindy</td>\n",
       "            <td>5</td>\n",
       "        </tr>\n",
       "    </tbody>\n",
       "</table>"
      ],
      "text/plain": [
       "[('turnstile', 358),\n",
       " ('yagi', 315),\n",
       " ('quadrafilar', 291),\n",
       " ('vertical', 251),\n",
       " ('cross-yagi', 229),\n",
       " (None, 207),\n",
       " ('dipole', 181),\n",
       " ('v-dipole', 153),\n",
       " ('eggbeater', 140),\n",
       " ('discone', 140),\n",
       " ('other omni', 92),\n",
       " ('helical', 80),\n",
       " ('ground', 69),\n",
       " ('lindenblad', 38),\n",
       " ('other direct', 35),\n",
       " ('parabolic', 18),\n",
       " ('patch', 10),\n",
       " ('paralindy', 5)]"
      ]
     },
     "execution_count": 18,
     "metadata": {},
     "output_type": "execute_result"
    }
   ],
   "source": [
    "%%sql\n",
    "SELECT\n",
    "    json_extract(antenna, \"$[0].antenna_type\") as type,\n",
    "    count(antenna) as num_type\n",
    "FROM stations\n",
    "GROUP BY type\n",
    "ORDER BY num_type DESC;"
   ]
  },
  {
   "cell_type": "markdown",
   "id": "50cefef9",
   "metadata": {},
   "source": [
    "## Number of rotation axes"
   ]
  },
  {
   "cell_type": "code",
   "execution_count": 19,
   "id": "3273fb4b",
   "metadata": {},
   "outputs": [
    {
     "name": "stdout",
     "output_type": "stream",
     "text": [
      " * sqlite:///../data/stations.db\n",
      "Done.\n"
     ]
    },
    {
     "data": {
      "text/html": [
       "<table>\n",
       "    <thead>\n",
       "        <tr>\n",
       "            <th>rotator</th>\n",
       "            <th>num</th>\n",
       "            <th>percent</th>\n",
       "        </tr>\n",
       "    </thead>\n",
       "    <tbody>\n",
       "        <tr>\n",
       "            <td>None</td>\n",
       "            <td>0</td>\n",
       "            <td>0.0</td>\n",
       "        </tr>\n",
       "        <tr>\n",
       "            <td>0</td>\n",
       "            <td>1751</td>\n",
       "            <td>67.0</td>\n",
       "        </tr>\n",
       "        <tr>\n",
       "            <td>1</td>\n",
       "            <td>2</td>\n",
       "            <td>0.1</td>\n",
       "        </tr>\n",
       "        <tr>\n",
       "            <td>2</td>\n",
       "            <td>654</td>\n",
       "            <td>25.0</td>\n",
       "        </tr>\n",
       "    </tbody>\n",
       "</table>"
      ],
      "text/plain": [
       "[(None, 0, 0.0), (0, 1751, 67.0), (1, 2, 0.1), (2, 654, 25.0)]"
      ]
     },
     "execution_count": 19,
     "metadata": {},
     "output_type": "execute_result"
    }
   ],
   "source": [
    "%%sql\n",
    "-- Number of stations by motion axes\n",
    "SELECT\n",
    "    rotator,\n",
    "    count(rotator) as num,\n",
    "    round(100.0 * count(rotator) / (SELECT count(*) FROM stations), 1) as percent\n",
    "FROM stations\n",
    "GROUP BY rotator\n",
    "ORDER BY rotator;"
   ]
  },
  {
   "cell_type": "markdown",
   "id": "16d7c313",
   "metadata": {},
   "source": [
    "Of the registered ground stations, the ratio of locations with no rotator versus some rotator is about 70 % to 30 %.\n",
    "\n",
    "What if we restrict this to stations which are presently operating as either \"Online\" or \"Testing\"?"
   ]
  },
  {
   "cell_type": "code",
   "execution_count": 20,
   "id": "7085f65f",
   "metadata": {},
   "outputs": [
    {
     "name": "stdout",
     "output_type": "stream",
     "text": [
      " * sqlite:///../data/stations.db\n",
      "Done.\n"
     ]
    },
    {
     "data": {
      "text/html": [
       "<table>\n",
       "    <thead>\n",
       "        <tr>\n",
       "            <th>rotator</th>\n",
       "            <th>num</th>\n",
       "            <th>percent</th>\n",
       "        </tr>\n",
       "    </thead>\n",
       "    <tbody>\n",
       "        <tr>\n",
       "            <td>None</td>\n",
       "            <td>0</td>\n",
       "            <td>0.0</td>\n",
       "        </tr>\n",
       "        <tr>\n",
       "            <td>0</td>\n",
       "            <td>308</td>\n",
       "            <td>77.0</td>\n",
       "        </tr>\n",
       "        <tr>\n",
       "            <td>1</td>\n",
       "            <td>2</td>\n",
       "            <td>0.5</td>\n",
       "        </tr>\n",
       "        <tr>\n",
       "            <td>2</td>\n",
       "            <td>89</td>\n",
       "            <td>22.3</td>\n",
       "        </tr>\n",
       "    </tbody>\n",
       "</table>"
      ],
      "text/plain": [
       "[(None, 0, 0.0), (0, 308, 77.0), (1, 2, 0.5), (2, 89, 22.3)]"
      ]
     },
     "execution_count": 20,
     "metadata": {},
     "output_type": "execute_result"
    }
   ],
   "source": [
    "%%sql\n",
    "-- Number of stations by motion axes\n",
    "SELECT\n",
    "    rotator,\n",
    "    count(rotator) as num,\n",
    "    round(100.0 * count(rotator) / (select count(*) from stations WHERE status IN (\"Online\", \"Testing\")), 1) as percent\n",
    "    -- Can't figure out how to reuse the WHERE clause without just repeating it, please help!\n",
    "FROM stations\n",
    "WHERE status IN (\"Online\", \"Testing\") -- Only other option is \"Offline\"\n",
    "GROUP BY rotator\n",
    "ORDER BY rotator;\n"
   ]
  },
  {
   "cell_type": "markdown",
   "id": "de3295ac",
   "metadata": {},
   "source": [
    "The ratio increases in favor of no rotator for the antenna (or merely omni-directional)."
   ]
  },
  {
   "cell_type": "markdown",
   "id": "8ec0f9c2",
   "metadata": {},
   "source": [
    "## Online status"
   ]
  },
  {
   "cell_type": "code",
   "execution_count": 21,
   "id": "1152360a",
   "metadata": {},
   "outputs": [
    {
     "name": "stdout",
     "output_type": "stream",
     "text": [
      " * sqlite:///../data/stations.db\n",
      "Done.\n"
     ]
    },
    {
     "data": {
      "text/html": [
       "<table>\n",
       "    <thead>\n",
       "        <tr>\n",
       "            <th>status</th>\n",
       "            <th>num</th>\n",
       "            <th>percent</th>\n",
       "        </tr>\n",
       "    </thead>\n",
       "    <tbody>\n",
       "        <tr>\n",
       "            <td>Offline</td>\n",
       "            <td>2212</td>\n",
       "            <td>84.7</td>\n",
       "        </tr>\n",
       "        <tr>\n",
       "            <td>Online</td>\n",
       "            <td>266</td>\n",
       "            <td>10.2</td>\n",
       "        </tr>\n",
       "        <tr>\n",
       "            <td>Testing</td>\n",
       "            <td>134</td>\n",
       "            <td>5.1</td>\n",
       "        </tr>\n",
       "    </tbody>\n",
       "</table>"
      ],
      "text/plain": [
       "[('Offline', 2212, 84.7), ('Online', 266, 10.2), ('Testing', 134, 5.1)]"
      ]
     },
     "execution_count": 21,
     "metadata": {},
     "output_type": "execute_result"
    }
   ],
   "source": [
    "%%sql\n",
    "-- Number of stations by motion axes\n",
    "SELECT\n",
    "    status,\n",
    "    count(status) as num,\n",
    "    round(100.0 * count(status) / (select count(*) from stations), 1) as percent\n",
    "FROM stations\n",
    "GROUP BY status\n",
    "ORDER BY num DESC;"
   ]
  },
  {
   "cell_type": "markdown",
   "id": "c05c0223",
   "metadata": {},
   "source": [
    "About 15% of registered ground stations are presently operating and ready to accept observation jobs."
   ]
  },
  {
   "cell_type": "markdown",
   "id": "6a34436d",
   "metadata": {},
   "source": [
    "## Ground stations created by year"
   ]
  },
  {
   "cell_type": "code",
   "execution_count": 22,
   "id": "2a42e6d6",
   "metadata": {},
   "outputs": [
    {
     "name": "stdout",
     "output_type": "stream",
     "text": [
      " * sqlite:///../data/stations.db\n",
      "Done.\n"
     ]
    },
    {
     "data": {
      "text/html": [
       "<table>\n",
       "    <thead>\n",
       "        <tr>\n",
       "            <th>year</th>\n",
       "            <th>num_new</th>\n",
       "        </tr>\n",
       "    </thead>\n",
       "    <tbody>\n",
       "        <tr>\n",
       "            <td>2015</td>\n",
       "            <td>4</td>\n",
       "        </tr>\n",
       "        <tr>\n",
       "            <td>2016</td>\n",
       "            <td>1</td>\n",
       "        </tr>\n",
       "        <tr>\n",
       "            <td>2017</td>\n",
       "            <td>25</td>\n",
       "        </tr>\n",
       "        <tr>\n",
       "            <td>2018</td>\n",
       "            <td>349</td>\n",
       "        </tr>\n",
       "        <tr>\n",
       "            <td>2019</td>\n",
       "            <td>700</td>\n",
       "        </tr>\n",
       "        <tr>\n",
       "            <td>2020</td>\n",
       "            <td>608</td>\n",
       "        </tr>\n",
       "        <tr>\n",
       "            <td>2021</td>\n",
       "            <td>498</td>\n",
       "        </tr>\n",
       "        <tr>\n",
       "            <td>2022</td>\n",
       "            <td>426</td>\n",
       "        </tr>\n",
       "        <tr>\n",
       "            <td>2023</td>\n",
       "            <td>1</td>\n",
       "        </tr>\n",
       "    </tbody>\n",
       "</table>"
      ],
      "text/plain": [
       "[('2015', 4),\n",
       " ('2016', 1),\n",
       " ('2017', 25),\n",
       " ('2018', 349),\n",
       " ('2019', 700),\n",
       " ('2020', 608),\n",
       " ('2021', 498),\n",
       " ('2022', 426),\n",
       " ('2023', 1)]"
      ]
     },
     "execution_count": 22,
     "metadata": {},
     "output_type": "execute_result"
    }
   ],
   "source": [
    "%%sql\n",
    "SELECT\n",
    "    strftime(\"%Y\", created) as year,\n",
    "    count(id) as num_new\n",
    "FROM stations\n",
    "WHERE strftime(\"%s\", created) >= strftime(\"%s\", printf(\"%d-01-01\", year))\n",
    "  AND strftime(\"%s\", created) <  strftime(\"%s\", printf(\"%d-01-01\", year+1))\n",
    "GROUP BY year\n",
    "ORDER BY year;\n"
   ]
  },
  {
   "cell_type": "markdown",
   "id": "6bef3a31-da85-4317-998e-f53f6301fdb2",
   "metadata": {},
   "source": [
    "# Observations database setup"
   ]
  },
  {
   "cell_type": "markdown",
   "id": "0b664333-56f2-40e7-b2e8-1ee039d19124",
   "metadata": {},
   "source": [
    "I make a nightly mirror of the observations on Network and store in a SQlite database for fast local queries, like this.\n",
    "It can miss changes made to observations made many days afterwards, so this information is not 100% accurate."
   ]
  },
  {
   "cell_type": "code",
   "execution_count": 23,
   "id": "fa1e224f-f836-45d6-9e35-25e88770be4b",
   "metadata": {},
   "outputs": [
    {
     "data": {
      "text/plain": [
       "'Connected: @../data/observations.db'"
      ]
     },
     "execution_count": 23,
     "metadata": {},
     "output_type": "execute_result"
    }
   ],
   "source": [
    "%sql sqlite:///../data/observations.db"
   ]
  },
  {
   "cell_type": "markdown",
   "id": "1cc703e7-52f4-4804-bdd8-07fcf38207c4",
   "metadata": {},
   "source": [
    "In case we dropped the indexes for some reason, add them back."
   ]
  },
  {
   "cell_type": "code",
   "execution_count": 24,
   "id": "982929c8-1c54-4145-913d-281998512232",
   "metadata": {},
   "outputs": [
    {
     "name": "stdout",
     "output_type": "stream",
     "text": [
      " * sqlite:///../data/observations.db\n",
      "   sqlite:///../data/stations.db\n",
      "Done.\n",
      "Done.\n",
      "Done.\n",
      "Done.\n",
      "Done.\n",
      "Done.\n"
     ]
    },
    {
     "data": {
      "text/plain": [
       "[]"
      ]
     },
     "execution_count": 24,
     "metadata": {},
     "output_type": "execute_result"
    }
   ],
   "source": [
    "%%sql\n",
    "-- Indexes make the world go 'round ... faster.\n",
    "CREATE INDEX IF NOT EXISTS gs_norad_index\n",
    "ON observations(ground_station, norad_cat_id);\n",
    "\n",
    "CREATE INDEX IF NOT EXISTS gs_index\n",
    "ON observations(ground_station);\n",
    "\n",
    "CREATE INDEX IF NOT EXISTS norad_index\n",
    "ON observations(norad_cat_id);\n",
    "\n",
    "CREATE INDEX IF NOT EXISTS observer_index\n",
    "ON observations(observer);\n",
    "\n",
    "CREATE INDEX IF NOT EXISTS observer_gs_index\n",
    "ON observations(observer, ground_station);\n",
    "\n",
    "CREATE INDEX IF NOT EXISTS gs_observer_index\n",
    "ON observations(ground_station, observer);\n"
   ]
  },
  {
   "cell_type": "markdown",
   "id": "37605d8a-661a-4658-9ff5-9c3cdf0de130",
   "metadata": {},
   "source": [
    "We will also be doing lots of time range filtering, which will benefit from an R\\*tree.\n",
    "The \"`+`\" prefix is an auxiliary column to make many queries faster by avoiding an extra search of the huge `observations` table."
   ]
  },
  {
   "cell_type": "code",
   "execution_count": 25,
   "id": "9d191c9e-e77a-4f46-b31a-1f3106ecb105",
   "metadata": {},
   "outputs": [
    {
     "name": "stdout",
     "output_type": "stream",
     "text": [
      " * sqlite:///../data/observations.db\n",
      "   sqlite:///../data/stations.db\n",
      "Done.\n",
      "Done.\n"
     ]
    },
    {
     "data": {
      "text/plain": [
       "[]"
      ]
     },
     "execution_count": 25,
     "metadata": {},
     "output_type": "execute_result"
    }
   ],
   "source": [
    "%%sql\n",
    "-- Special index for speeding up time range queries.\n",
    "CREATE VIRTUAL TABLE IF NOT EXISTS times_index\n",
    "USING rtree(\n",
    "        id,\n",
    "        start,\n",
    "        end,\n",
    "        +ground_station INT,\n",
    "        +observer INT,\n",
    "        +norad_cat_id INT);\n",
    "\n",
    "-- (commented out since it takes a long time, and is only needed once anyway)\n",
    "-- (un-comment if this is your first time)\n",
    "-- INSERT OR REPLACE INTO times_index\n",
    "-- SELECT\n",
    "--     id,\n",
    "--     strftime(\"%s\", start),\n",
    "--     strftime(\"%s\", end),\n",
    "--     ground_station,\n",
    "--     observer,\n",
    "--     norad_cat_id\n",
    "-- FROM observations\n",
    "-- WHERE strftime(\"%s\", start) <= strftime(\"%s\", end);"
   ]
  },
  {
   "cell_type": "markdown",
   "id": "61931017-3f11-4a46-b0c2-1970984bcf64",
   "metadata": {},
   "source": [
    "Since this is a special table and not an index, we need to keep the table up to date when the main `observations` table changes.\n",
    "So, add some triggers for ADD, UPDATE, and DELETE events."
   ]
  },
  {
   "cell_type": "code",
   "execution_count": 26,
   "id": "70a6e514-67bd-4202-832f-b25049e825ff",
   "metadata": {},
   "outputs": [
    {
     "name": "stdout",
     "output_type": "stream",
     "text": [
      " * sqlite:///../data/observations.db\n",
      "   sqlite:///../data/stations.db\n",
      "(sqlite3.OperationalError) incomplete input\n",
      "[SQL: -- Add triggers to keep the times Rtree updated\n",
      "\n",
      "CREATE TRIGGER IF NOT EXISTS times_insert_trigger\n",
      "AFTER INSERT\n",
      "ON observations\n",
      "WHEN strftime(\"%s\", NEW.start) <= strftime(\"%s\", NEW.end)  -- sanity check\n",
      "BEGIN\n",
      "    INSERT OR REPLACE INTO times_index(\n",
      "            id,\n",
      "            start,\n",
      "            end,\n",
      "            ground_station,\n",
      "            observer,\n",
      "            norad_cat_id)\n",
      "    VALUES (NEW.id,\n",
      "            strftime(\"%s\", NEW.start),\n",
      "            strftime(\"%s\", NEW.end),\n",
      "            NEW.ground_station,\n",
      "            NEW.observer,\n",
      "            NEW.norad_cat_id);]\n",
      "(Background on this error at: https://sqlalche.me/e/14/e3q8)\n"
     ]
    }
   ],
   "source": [
    "%%sql\n",
    "-- Add triggers to keep the times Rtree updated\n",
    "\n",
    "CREATE TRIGGER IF NOT EXISTS times_insert_trigger\n",
    "AFTER INSERT\n",
    "ON observations\n",
    "WHEN strftime(\"%s\", NEW.start) <= strftime(\"%s\", NEW.end)  -- sanity check\n",
    "BEGIN\n",
    "    INSERT OR REPLACE INTO times_index(\n",
    "            id,\n",
    "            start,\n",
    "            end,\n",
    "            ground_station,\n",
    "            observer,\n",
    "            norad_cat_id)\n",
    "    VALUES (NEW.id,\n",
    "            strftime(\"%s\", NEW.start),\n",
    "            strftime(\"%s\", NEW.end),\n",
    "            NEW.ground_station,\n",
    "            NEW.observer,\n",
    "            NEW.norad_cat_id);\n",
    "END;\n",
    "\n",
    "\n",
    "CREATE TRIGGER IF NOT EXISTS times_update_trigger\n",
    "AFTER UPDATE\n",
    "ON observations\n",
    "WHEN strftime(\"%s\", NEW.start) <= strftime(\"%s\", NEW.end)\n",
    "BEGIN\n",
    "    INSERT OR REPLACE INTO times_index(\n",
    "            id,\n",
    "            start,\n",
    "            end,\n",
    "            ground_station,\n",
    "            observer,\n",
    "            norad_cat_id)\n",
    "    VALUES (NEW.id,\n",
    "            strftime(\"%s\", NEW.start),\n",
    "            strftime(\"%s\", NEW.end),\n",
    "            NEW.ground_station,\n",
    "            NEW.observer,\n",
    "            NEW.norad_cat_id);\n",
    "END;\n",
    "\n",
    "CREATE TRIGGER IF NOT EXISTS times_delete_trigger\n",
    "AFTER DELETE\n",
    "ON observations\n",
    "BEGIN\n",
    "    DELETE FROM times_index\n",
    "    WHERE id = OLD.id;\n",
    "END;"
   ]
  },
  {
   "cell_type": "markdown",
   "id": "2db289a9-194a-466b-8d00-1b28c9468164",
   "metadata": {},
   "source": [
    "^^^ So these statements were copied directly from my development version.\n",
    "Not sure what the error is, but for analysis, the triggers don't make a difference anyway.  #wontfix"
   ]
  },
  {
   "cell_type": "markdown",
   "id": "9174f6eb-1112-44bd-8370-f3a65086849d",
   "metadata": {},
   "source": [
    "# Observations Statistics"
   ]
  },
  {
   "cell_type": "markdown",
   "id": "2c77454b-d7d6-4a3f-b5e1-99d181052942",
   "metadata": {},
   "source": [
    "Let's cross-check a number against the official database for first three ground stations that I operate:\n",
    "https://network.satnogs.org/users/wiredlab/"
   ]
  },
  {
   "cell_type": "code",
   "execution_count": 27,
   "id": "a551d80c-5831-4f6c-8d6b-defd1022f041",
   "metadata": {},
   "outputs": [
    {
     "name": "stdout",
     "output_type": "stream",
     "text": [
      " * sqlite:///../data/observations.db\n",
      "   sqlite:///../data/stations.db\n",
      "Done.\n"
     ]
    },
    {
     "data": {
      "text/html": [
       "<table>\n",
       "    <thead>\n",
       "        <tr>\n",
       "            <th>ground_station</th>\n",
       "            <th>num</th>\n",
       "        </tr>\n",
       "    </thead>\n",
       "    <tbody>\n",
       "        <tr>\n",
       "            <td>834</td>\n",
       "            <td>14070</td>\n",
       "        </tr>\n",
       "        <tr>\n",
       "            <td>841</td>\n",
       "            <td>818</td>\n",
       "        </tr>\n",
       "        <tr>\n",
       "            <td>890</td>\n",
       "            <td>855</td>\n",
       "        </tr>\n",
       "    </tbody>\n",
       "</table>"
      ],
      "text/plain": [
       "[(834, 14070), (841, 818), (890, 855)]"
      ]
     },
     "execution_count": 27,
     "metadata": {},
     "output_type": "execute_result"
    }
   ],
   "source": [
    "%%sql\n",
    "SELECT\n",
    "    ground_station,\n",
    "    count(*) as num\n",
    "FROM observations\n",
    "WHERE ground_station IN (834, 841, 890)\n",
    "GROUP BY ground_station;"
   ]
  },
  {
   "cell_type": "markdown",
   "id": "bf4e3b24-6256-4447-ac3c-ff080b111404",
   "metadata": {},
   "source": [
    "The total for #834 is lower than the 14367 reported on the website, about 2% too low, while the other two match exactly.\n",
    "Is this a problem?  I do know that my SQlite version isn't an exact mirror.  Perhaps a bug in how I've pulled the observations list from the API.\n",
    "In any case, we'll make note of the discrepancy and proceed with caution."
   ]
  },
  {
   "cell_type": "markdown",
   "id": "75cb0bc6-d166-4076-9e20-67962573121f",
   "metadata": {},
   "source": [
    "## Most active Observers\n",
    "\n",
    "Which users have done the most scheduling across the Network?\n",
    "\n",
    "Shout out to @sfou for adding the observer to the API endpoint recently: https://gitlab.com/librespacefoundation/satnogs/satnogs-network/-/issues/868,\n",
    "or much of this analysis would not have been possible."
   ]
  },
  {
   "cell_type": "code",
   "execution_count": 28,
   "id": "f0432494-03b7-4040-8726-db9440e1d305",
   "metadata": {},
   "outputs": [
    {
     "name": "stdout",
     "output_type": "stream",
     "text": [
      " * sqlite:///../data/observations.db\n",
      "   sqlite:///../data/stations.db\n",
      "Done.\n"
     ]
    },
    {
     "data": {
      "text/html": [
       "<table>\n",
       "    <thead>\n",
       "        <tr>\n",
       "            <th>observer</th>\n",
       "            <th>num_gs</th>\n",
       "            <th>num_obs</th>\n",
       "            <th>ground_station</th>\n",
       "        </tr>\n",
       "    </thead>\n",
       "    <tbody>\n",
       "        <tr>\n",
       "            <td>172</td>\n",
       "            <td>492</td>\n",
       "            <td>114450</td>\n",
       "            <td>1650</td>\n",
       "        </tr>\n",
       "        <tr>\n",
       "            <td>2740</td>\n",
       "            <td>166</td>\n",
       "            <td>91709</td>\n",
       "            <td>2051</td>\n",
       "        </tr>\n",
       "        <tr>\n",
       "            <td>1394</td>\n",
       "            <td>2</td>\n",
       "            <td>88821</td>\n",
       "            <td>704</td>\n",
       "        </tr>\n",
       "        <tr>\n",
       "            <td>3000</td>\n",
       "            <td>212</td>\n",
       "            <td>74776</td>\n",
       "            <td>1864</td>\n",
       "        </tr>\n",
       "        <tr>\n",
       "            <td>326</td>\n",
       "            <td>1</td>\n",
       "            <td>58961</td>\n",
       "            <td>91</td>\n",
       "        </tr>\n",
       "        <tr>\n",
       "            <td>3345</td>\n",
       "            <td>37</td>\n",
       "            <td>57493</td>\n",
       "            <td>2380</td>\n",
       "        </tr>\n",
       "        <tr>\n",
       "            <td>1501</td>\n",
       "            <td>1</td>\n",
       "            <td>57393</td>\n",
       "            <td>766</td>\n",
       "        </tr>\n",
       "        <tr>\n",
       "            <td>968</td>\n",
       "            <td>21</td>\n",
       "            <td>53185</td>\n",
       "            <td>1466</td>\n",
       "        </tr>\n",
       "        <tr>\n",
       "            <td>3122</td>\n",
       "            <td>2</td>\n",
       "            <td>44933</td>\n",
       "            <td>1936</td>\n",
       "        </tr>\n",
       "        <tr>\n",
       "            <td>2727</td>\n",
       "            <td>2</td>\n",
       "            <td>40501</td>\n",
       "            <td>1667</td>\n",
       "        </tr>\n",
       "    </tbody>\n",
       "</table>"
      ],
      "text/plain": [
       "[(172, 492, 114450, 1650),\n",
       " (2740, 166, 91709, 2051),\n",
       " (1394, 2, 88821, 704),\n",
       " (3000, 212, 74776, 1864),\n",
       " (326, 1, 58961, 91),\n",
       " (3345, 37, 57493, 2380),\n",
       " (1501, 1, 57393, 766),\n",
       " (968, 21, 53185, 1466),\n",
       " (3122, 2, 44933, 1936),\n",
       " (2727, 2, 40501, 1667)]"
      ]
     },
     "execution_count": 28,
     "metadata": {},
     "output_type": "execute_result"
    }
   ],
   "source": [
    "%%sql\n",
    "-- EXPLAIN QUERY PLAN\n",
    "SELECT\n",
    "    observer,\n",
    "    count(distinct ground_station) AS num_gs,\n",
    "    count(id) AS num_obs,\n",
    "    ground_station\n",
    "FROM times_index\n",
    "WHERE start >= strftime(\"%s\", \"2022-01-01\")\n",
    "    AND start <  strftime(\"%s\", \"2023-01-01\")\n",
    "GROUP BY observer\n",
    "ORDER BY num_obs DESC\n",
    "LIMIT 10;"
   ]
  },
  {
   "cell_type": "code",
   "execution_count": 29,
   "id": "2f9cb2eb-bb9c-4c73-98ad-b5887a37fd9a",
   "metadata": {},
   "outputs": [],
   "source": [
    "result = _"
   ]
  },
  {
   "cell_type": "markdown",
   "id": "ccc6f608-4a81-4efe-a7cb-2c0c6cf736e0",
   "metadata": {},
   "source": [
    "Notice how that query only touches the R\\*tree `times_index` virtual table?\n",
    "This is why we added the auxiliary columns!\n",
    "The version that uses both `times_table` to find observations from only 2022 and then references `observations` for the rest of the information takes twice as long (15 versus 7 seconds).\n",
    "\n",
    "Even in the top 10 observers there is a nearly 3:1 span of numbers for the year.\n",
    "The handful of active observers are _really_ active.\n",
    "We'll look at the \"typical\" observer shortly."
   ]
  },
  {
   "cell_type": "markdown",
   "id": "f9e51bc5-f5b0-4060-9b62-3c79b5dafdf8",
   "metadata": {},
   "source": [
    "Before we get too deep into this analysis, I don't presently have the mapping between observer IDs and the name associated with the account.\n",
    "This information is available if you're willing to find an observation with the observer of interest, go to that observation's web page, then parse the page to see the observer's user name.\n",
    "Note to self: open an issue to expose the /users endpoint via the API so we can automate this lookup.\n",
    "Would then also be useful for stats like \"how many ground stations does a user own?\"\n",
    "Until then, we'll be content with not naming names and just looking at trends and such.\n",
    "\n",
    "Some IDs that I do know and are relevant:\n",
    "\n",
    "| ID | name | note\n",
    "|--|--|--|\n",
    "| 172 | BOCTOC-1 | The Human AutoScheduler :)\n",
    "| 173 | fredy | SatNOGS ops team lead\n",
    "| 1542 | wiredlab | me\n",
    "| 2735 | satnogs-auto | Auto Scheduler"
   ]
  },
  {
   "cell_type": "markdown",
   "id": "4ed9819d-42d3-4ae2-aa00-3458262faf49",
   "metadata": {},
   "source": [
    "The `num_gs` column from the last query shows that, even among the most active SatNOGS users scheduling observations, some people schedule on many ground stations while others schedule solely on (presumably) their own station.\n",
    "\n",
    "(the `ground_station` column is only useful when `num_gs == `)\n",
    "\n",
    "Observer 326 scheduled the most observations on a single station.\n",
    "A SatNOGS station can only observe one satellite at a time, so this number seems high?\n",
    "Really, we (I) don't have a good point of reference for this 59k number, so let's see what the average time between starts this represents."
   ]
  },
  {
   "cell_type": "code",
   "execution_count": 30,
   "id": "725203ec-b6a7-45d1-9f42-fd72db80b8ec",
   "metadata": {},
   "outputs": [
    {
     "data": {
      "text/plain": [
       "(326, 58961)"
      ]
     },
     "execution_count": 30,
     "metadata": {},
     "output_type": "execute_result"
    }
   ],
   "source": [
    "idx = [i for i, r in enumerate(result) if r[0] == 326][0]\n",
    "observer, num_obs = result[idx][0:3:2]\n",
    "observer, num_obs"
   ]
  },
  {
   "cell_type": "code",
   "execution_count": 31,
   "id": "451bb51e-9257-41eb-803c-876acfb6501e",
   "metadata": {},
   "outputs": [
    {
     "name": "stdout",
     "output_type": "stream",
     "text": [
      "8.9 minutes, average time between observation starts\n"
     ]
    }
   ],
   "source": [
    "min_in_year = 60 * 24 * 365\n",
    "\n",
    "avg = min_in_year / num_obs\n",
    "print(f\"{avg:.1f} minutes, average time between observation starts\")"
   ]
  },
  {
   "cell_type": "markdown",
   "id": "21879b6b-0861-4a01-bdf5-0b099bfb7c52",
   "metadata": {},
   "source": [
    "Ok, so there were an average of about 9 minutes between observations on this particular ground station"
   ]
  },
  {
   "cell_type": "code",
   "execution_count": 32,
   "id": "a5de53da-0184-44fd-9ccf-265fc1639592",
   "metadata": {},
   "outputs": [
    {
     "name": "stdout",
     "output_type": "stream",
     "text": [
      " * sqlite:///../data/observations.db\n",
      "   sqlite:///../data/stations.db\n",
      "Done.\n"
     ]
    },
    {
     "data": {
      "text/html": [
       "<table>\n",
       "    <thead>\n",
       "        <tr>\n",
       "            <th>ground_station</th>\n",
       "            <th>num_obs</th>\n",
       "            <th>obs_min</th>\n",
       "        </tr>\n",
       "    </thead>\n",
       "    <tbody>\n",
       "        <tr>\n",
       "            <td>91</td>\n",
       "            <td>59955</td>\n",
       "            <td>565239.47</td>\n",
       "        </tr>\n",
       "    </tbody>\n",
       "</table>"
      ],
      "text/plain": [
       "[(91, 59955, 565239.47)]"
      ]
     },
     "execution_count": 32,
     "metadata": {},
     "output_type": "execute_result"
    }
   ],
   "source": [
    "%%sql\n",
    "-- obs time for one station\n",
    "SELECT\n",
    "    ground_station,\n",
    "    count(id) AS num_obs,\n",
    "    round(sum(end - start)/60.0, 2) AS obs_min\n",
    "FROM times_index\n",
    "WHERE ground_station = 91\n",
    "    AND start >= strftime(\"%s\", \"2022-01-01\")\n",
    "    AND start <  strftime(\"%s\", \"2023-01-01\")\n",
    ";"
   ]
  },
  {
   "cell_type": "code",
   "execution_count": 33,
   "id": "b14a065e-1f7a-4853-98a9-9022f68ff515",
   "metadata": {},
   "outputs": [],
   "source": [
    "result = _"
   ]
  },
  {
   "cell_type": "code",
   "execution_count": 34,
   "id": "83a92082-3fc1-477a-88d4-0328207cbbce",
   "metadata": {},
   "outputs": [
    {
     "name": "stdout",
     "output_type": "stream",
     "text": [
      "565239.5 minutes in observations\n",
      "525600.0 minutes in a year\n",
      "107.5 % utilization\n"
     ]
    }
   ],
   "source": [
    "obs_min = result.dict()['obs_min'][0]\n",
    "\n",
    "print(f'{obs_min:7.1f} minutes in observations')\n",
    "print(f'{min_in_year:7.1f} minutes in a year')\n",
    "utilization = (obs_min / min_in_year) * 100\n",
    "print(f'{utilization:.1f} % utilization')"
   ]
  },
  {
   "cell_type": "markdown",
   "id": "884bc5b3-dca3-43fc-b244-83d95d8cf145",
   "metadata": {},
   "source": [
    "??? This means the station had more minutes of observation time during the year than there are minutes in a year???\n",
    "\n",
    "100 % utilization seems to be the best anyone can do, so it's not obvious what the problem is.\n",
    "Perhaps many of these observations were not finished?\n",
    "Or the query or my database is incorrect in some way?\n",
    "Or maybe the API for scheduling an observation has a bug that would allow this?\n",
    "\n",
    "Seems worth investigation to see what observations overlap."
   ]
  },
  {
   "cell_type": "markdown",
   "id": "e71df00b-2b63-45b6-ba37-0e9f51f4ff1f",
   "metadata": {},
   "source": [
    "## High utilization and large averages"
   ]
  },
  {
   "cell_type": "markdown",
   "id": "039f15f3-277a-4025-a6b5-ec35a17fa7de",
   "metadata": {},
   "source": [
    "I know enough number theory to know that a brute force search across all the observations to find overlaps is **59955 choose 2** comparisons.\n",
    "A better algorithm can vastly reduce this computation, but that will be _left as an exercise for the reader_.&star;\n",
    "\n",
    "&star; &ndash; I hated this phrase as a student, now that I'm \"on the other side,\" I still don't like it.  The issue will probably bug me until I _do_ that exercise :)"
   ]
  },
  {
   "attachments": {
    "51c5e298-b437-4576-afff-07eefebd5947.png": {
     "image/png": "[encoded data removed]"
    }
   },
   "cell_type": "markdown",
   "id": "56780376-1558-4361-a9bf-ccd3c3ca225f",
   "metadata": {},
   "source": [
    "To get a sense of this, take a look at the summary plot for this ground station (91) from the notebook that I periodically update: [scheduling-status.ipynb](https://github.com/wiredlab/scheduling-bazaar/blob/master/notebooks/observations-status.ipynb).\n",
    "Scroll way down to the bottom for the plots for individual stations.\n",
    "\n",
    "Here is a screenshot of the station's activity:\n",
    "\n",
    "![gs-91.png](attachment:51c5e298-b437-4576-afff-07eefebd5947.png)\n",
    "\n",
    "Pretty much full-tilt since the start of Q4, 2019.\n",
    "We'll round this to 100% utilization and be comfortable with the result."
   ]
  },
  {
   "cell_type": "markdown",
   "id": "546932fd-cc38-4dc8-911c-de5c20290d0c",
   "metadata": {},
   "source": [
    "---\n",
    "\n",
    "Since we are considering stations with a whole bunch of observations during the year, let's just ask the database."
   ]
  },
  {
   "cell_type": "code",
   "execution_count": 35,
   "id": "5b89346d-5071-4333-9f7b-30fc0a5b5bb5",
   "metadata": {},
   "outputs": [
    {
     "name": "stdout",
     "output_type": "stream",
     "text": [
      " * sqlite:///../data/observations.db\n",
      "   sqlite:///../data/stations.db\n",
      "Done.\n"
     ]
    },
    {
     "data": {
      "text/html": [
       "<table>\n",
       "    <thead>\n",
       "        <tr>\n",
       "            <th>ground_station</th>\n",
       "            <th>num_obs</th>\n",
       "        </tr>\n",
       "    </thead>\n",
       "    <tbody>\n",
       "        <tr>\n",
       "            <td>6</td>\n",
       "            <td>67427</td>\n",
       "        </tr>\n",
       "        <tr>\n",
       "            <td>91</td>\n",
       "            <td>59955</td>\n",
       "        </tr>\n",
       "        <tr>\n",
       "            <td>766</td>\n",
       "            <td>58606</td>\n",
       "        </tr>\n",
       "        <tr>\n",
       "            <td>1864</td>\n",
       "            <td>54180</td>\n",
       "        </tr>\n",
       "        <tr>\n",
       "            <td>1936</td>\n",
       "            <td>45809</td>\n",
       "        </tr>\n",
       "        <tr>\n",
       "            <td>1126</td>\n",
       "            <td>44917</td>\n",
       "        </tr>\n",
       "        <tr>\n",
       "            <td>704</td>\n",
       "            <td>43908</td>\n",
       "        </tr>\n",
       "        <tr>\n",
       "            <td>2015</td>\n",
       "            <td>38615</td>\n",
       "        </tr>\n",
       "        <tr>\n",
       "            <td>901</td>\n",
       "            <td>37771</td>\n",
       "        </tr>\n",
       "        <tr>\n",
       "            <td>2029</td>\n",
       "            <td>33410</td>\n",
       "        </tr>\n",
       "    </tbody>\n",
       "</table>"
      ],
      "text/plain": [
       "[(6, 67427),\n",
       " (91, 59955),\n",
       " (766, 58606),\n",
       " (1864, 54180),\n",
       " (1936, 45809),\n",
       " (1126, 44917),\n",
       " (704, 43908),\n",
       " (2015, 38615),\n",
       " (901, 37771),\n",
       " (2029, 33410)]"
      ]
     },
     "execution_count": 35,
     "metadata": {},
     "output_type": "execute_result"
    }
   ],
   "source": [
    "%%sql\n",
    "SELECT\n",
    "    ground_station,\n",
    "    count(id) AS num_obs\n",
    "FROM times_index\n",
    "WHERE start >= strftime(\"%s\", \"2022-01-01\")\n",
    "    AND start <  strftime(\"%s\", \"2023-01-01\")\n",
    "GROUP BY ground_station\n",
    "ORDER BY num_obs DESC\n",
    "LIMIT 10;"
   ]
  },
  {
   "cell_type": "markdown",
   "id": "e2e7e60f-7e4e-415d-a64e-58401a375e35",
   "metadata": {},
   "source": [
    "#91 is _only_ in second place, station #6 has 12% more observations!\n",
    "\n",
    "Definitely need to see what the utilization was for these stations.\n",
    "Fold the utilization calculation into the SQL while we're at it (just figured out common table expressions :)."
   ]
  },
  {
   "cell_type": "code",
   "execution_count": 36,
   "id": "464df345-a891-4555-abb8-c224404cfc53",
   "metadata": {},
   "outputs": [
    {
     "name": "stdout",
     "output_type": "stream",
     "text": [
      " * sqlite:///../data/observations.db\n",
      "   sqlite:///../data/stations.db\n",
      "Done.\n"
     ]
    },
    {
     "data": {
      "text/html": [
       "<table>\n",
       "    <thead>\n",
       "        <tr>\n",
       "            <th>ground_station</th>\n",
       "            <th>num_obs</th>\n",
       "            <th>minutes</th>\n",
       "            <th>%</th>\n",
       "            <th>min_per_obs</th>\n",
       "        </tr>\n",
       "    </thead>\n",
       "    <tbody>\n",
       "        <tr>\n",
       "            <td>766</td>\n",
       "            <td>58606</td>\n",
       "            <td>599340.8</td>\n",
       "            <td>114.0</td>\n",
       "            <td>10.2</td>\n",
       "        </tr>\n",
       "        <tr>\n",
       "            <td>91</td>\n",
       "            <td>59955</td>\n",
       "            <td>565239.5</td>\n",
       "            <td>107.5</td>\n",
       "            <td>9.4</td>\n",
       "        </tr>\n",
       "        <tr>\n",
       "            <td>1864</td>\n",
       "            <td>54180</td>\n",
       "            <td>557499.7</td>\n",
       "            <td>106.1</td>\n",
       "            <td>10.3</td>\n",
       "        </tr>\n",
       "        <tr>\n",
       "            <td>6</td>\n",
       "            <td>67427</td>\n",
       "            <td>554060.8</td>\n",
       "            <td>105.4</td>\n",
       "            <td>8.2</td>\n",
       "        </tr>\n",
       "        <tr>\n",
       "            <td>2015</td>\n",
       "            <td>38615</td>\n",
       "            <td>470562.1</td>\n",
       "            <td>89.5</td>\n",
       "            <td>12.2</td>\n",
       "        </tr>\n",
       "        <tr>\n",
       "            <td>1404</td>\n",
       "            <td>26768</td>\n",
       "            <td>448625.1</td>\n",
       "            <td>85.4</td>\n",
       "            <td>16.8</td>\n",
       "        </tr>\n",
       "        <tr>\n",
       "            <td>1936</td>\n",
       "            <td>45809</td>\n",
       "            <td>434865.1</td>\n",
       "            <td>82.7</td>\n",
       "            <td>9.5</td>\n",
       "        </tr>\n",
       "        <tr>\n",
       "            <td>2410</td>\n",
       "            <td>26278</td>\n",
       "            <td>434056.5</td>\n",
       "            <td>82.6</td>\n",
       "            <td>16.5</td>\n",
       "        </tr>\n",
       "        <tr>\n",
       "            <td>1126</td>\n",
       "            <td>44917</td>\n",
       "            <td>414250.7</td>\n",
       "            <td>78.8</td>\n",
       "            <td>9.2</td>\n",
       "        </tr>\n",
       "        <tr>\n",
       "            <td>704</td>\n",
       "            <td>43908</td>\n",
       "            <td>406346.7</td>\n",
       "            <td>77.3</td>\n",
       "            <td>9.3</td>\n",
       "        </tr>\n",
       "    </tbody>\n",
       "</table>"
      ],
      "text/plain": [
       "[(766, 58606, 599340.8, 114.0, 10.2),\n",
       " (91, 59955, 565239.5, 107.5, 9.4),\n",
       " (1864, 54180, 557499.7, 106.1, 10.3),\n",
       " (6, 67427, 554060.8, 105.4, 8.2),\n",
       " (2015, 38615, 470562.1, 89.5, 12.2),\n",
       " (1404, 26768, 448625.1, 85.4, 16.8),\n",
       " (1936, 45809, 434865.1, 82.7, 9.5),\n",
       " (2410, 26278, 434056.5, 82.6, 16.5),\n",
       " (1126, 44917, 414250.7, 78.8, 9.2),\n",
       " (704, 43908, 406346.7, 77.3, 9.3)]"
      ]
     },
     "execution_count": 36,
     "metadata": {},
     "output_type": "execute_result"
    }
   ],
   "source": [
    "%%sql\n",
    "-- obs time for one station\n",
    "\n",
    "WITH topten as (\n",
    "    SELECT\n",
    "        ground_station,\n",
    "        count(id) AS num_obs,\n",
    "        sum(end - start)/60.0 AS obs_min\n",
    "    FROM times_index\n",
    "    WHERE start >= strftime(\"%s\", \"2022-01-01\")\n",
    "        AND start <  strftime(\"%s\", \"2023-01-01\")\n",
    "    GROUP BY ground_station\n",
    "    ORDER BY num_obs DESC\n",
    "    )\n",
    "SELECT\n",
    "    ground_station,\n",
    "    num_obs,\n",
    "    round(obs_min, 1) as minutes,\n",
    "    round(obs_min / (60*24*365) * 100, 1) AS \"%\", \n",
    "    round(obs_min / num_obs, 1) AS min_per_obs\n",
    "FROM topten\n",
    "ORDER BY minutes DESC\n",
    "LIMIT 10;"
   ]
  },
  {
   "cell_type": "markdown",
   "id": "63118310-1568-44c5-bcfc-7767d734d854",
   "metadata": {},
   "source": [
    "So there are _four_ stations with better-than-perfect utilization?\n",
    "The plot thickens and my curiosity on what the overlaps look like intensifies.\n",
    "\n",
    "Another observation (LOL) is that the average duration of observations is not ordered in an obvious way.\n",
    "Sorting by `min_per_obs` in the above query gives some stations with average durations of more than 15 minutes &mdash; which is odd because this is pushing the maximum time a satellite in LEO (around ISS altitude) is over a ground station."
   ]
  },
  {
   "cell_type": "markdown",
   "id": "7de30b7b-9c4b-4687-aaf5-2c9c808fe52e",
   "metadata": {},
   "source": [
    "Investigate a little more, station #2490 has the largest (by 2&times;) average observation time of 41 minutes.\n",
    "What satellite is this?\n",
    "Just query for all of the 16 observations and compute each duration."
   ]
  },
  {
   "cell_type": "code",
   "execution_count": 37,
   "id": "278b4e6e-c5d3-47f6-909f-73ee8e00464e",
   "metadata": {},
   "outputs": [
    {
     "name": "stdout",
     "output_type": "stream",
     "text": [
      " * sqlite:///../data/observations.db\n",
      "   sqlite:///../data/stations.db\n",
      "Done.\n"
     ]
    },
    {
     "data": {
      "text/html": [
       "<table>\n",
       "    <thead>\n",
       "        <tr>\n",
       "            <th>id</th>\n",
       "            <th>ground_station</th>\n",
       "            <th>minutes</th>\n",
       "        </tr>\n",
       "    </thead>\n",
       "    <tbody>\n",
       "        <tr>\n",
       "            <td>5263869</td>\n",
       "            <td>2490</td>\n",
       "            <td>12.8</td>\n",
       "        </tr>\n",
       "        <tr>\n",
       "            <td>5263130</td>\n",
       "            <td>2490</td>\n",
       "            <td>8.5</td>\n",
       "        </tr>\n",
       "        <tr>\n",
       "            <td>5263357</td>\n",
       "            <td>2490</td>\n",
       "            <td>14.9</td>\n",
       "        </tr>\n",
       "        <tr>\n",
       "            <td>5263682</td>\n",
       "            <td>2490</td>\n",
       "            <td>8.5</td>\n",
       "        </tr>\n",
       "        <tr>\n",
       "            <td>5262843</td>\n",
       "            <td>2490</td>\n",
       "            <td>12.8</td>\n",
       "        </tr>\n",
       "        <tr>\n",
       "            <td>5263731</td>\n",
       "            <td>2490</td>\n",
       "            <td>12.8</td>\n",
       "        </tr>\n",
       "        <tr>\n",
       "            <td>5264184</td>\n",
       "            <td>2490</td>\n",
       "            <td>14.9</td>\n",
       "        </tr>\n",
       "        <tr>\n",
       "            <td>5263101</td>\n",
       "            <td>2490</td>\n",
       "            <td>12.8</td>\n",
       "        </tr>\n",
       "        <tr>\n",
       "            <td>5261803</td>\n",
       "            <td>2490</td>\n",
       "            <td>264.5</td>\n",
       "        </tr>\n",
       "        <tr>\n",
       "            <td>5254255</td>\n",
       "            <td>2490</td>\n",
       "            <td>14.9</td>\n",
       "        </tr>\n",
       "        <tr>\n",
       "            <td>5261802</td>\n",
       "            <td>2490</td>\n",
       "            <td>228.3</td>\n",
       "        </tr>\n",
       "        <tr>\n",
       "            <td>5261801</td>\n",
       "            <td>2490</td>\n",
       "            <td>10.7</td>\n",
       "        </tr>\n",
       "        <tr>\n",
       "            <td>5261800</td>\n",
       "            <td>2490</td>\n",
       "            <td>8.5</td>\n",
       "        </tr>\n",
       "        <tr>\n",
       "            <td>5261799</td>\n",
       "            <td>2490</td>\n",
       "            <td>12.8</td>\n",
       "        </tr>\n",
       "        <tr>\n",
       "            <td>5261742</td>\n",
       "            <td>2490</td>\n",
       "            <td>6.4</td>\n",
       "        </tr>\n",
       "        <tr>\n",
       "            <td>5261741</td>\n",
       "            <td>2490</td>\n",
       "            <td>12.8</td>\n",
       "        </tr>\n",
       "    </tbody>\n",
       "</table>"
      ],
      "text/plain": [
       "[(5263869, 2490, 12.8),\n",
       " (5263130, 2490, 8.5),\n",
       " (5263357, 2490, 14.9),\n",
       " (5263682, 2490, 8.5),\n",
       " (5262843, 2490, 12.8),\n",
       " (5263731, 2490, 12.8),\n",
       " (5264184, 2490, 14.9),\n",
       " (5263101, 2490, 12.8),\n",
       " (5261803, 2490, 264.5),\n",
       " (5254255, 2490, 14.9),\n",
       " (5261802, 2490, 228.3),\n",
       " (5261801, 2490, 10.7),\n",
       " (5261800, 2490, 8.5),\n",
       " (5261799, 2490, 12.8),\n",
       " (5261742, 2490, 6.4),\n",
       " (5261741, 2490, 12.8)]"
      ]
     },
     "execution_count": 37,
     "metadata": {},
     "output_type": "execute_result"
    }
   ],
   "source": [
    "%%sql\n",
    "-- obs time for one station\n",
    "\n",
    "SELECT\n",
    "    id,\n",
    "    ground_station,\n",
    "    round((end - start)/60.0, 1) AS minutes\n",
    "FROM times_index\n",
    "WHERE ground_station = 2490\n",
    "    AND start >= strftime(\"%s\", \"2022-01-01\")\n",
    "    AND start <  strftime(\"%s\", \"2023-01-01\")\n",
    "-- observation IDs are assigned when *scheduled*\n",
    "-- NOT when the pass itself starts\n",
    "ORDER BY start DESC;"
   ]
  },
  {
   "cell_type": "markdown",
   "id": "ae31f5ff-b938-4f8d-adf2-5190f434be70",
   "metadata": {},
   "source": [
    "Found them!\n",
    "These specific observations of about 4 hours each are for Phase 3-B or AO-10, which is in a highly-elliptical orbit.\n",
    "\n",
    "Other long duration (around 19 minutes) observations from other high-average stations was for situations where the GS did a small number of observations overall and were listening for satellites in high orbits (800+ km)."
   ]
  },
  {
   "cell_type": "markdown",
   "id": "fb771552-8d20-4f13-9778-8d0e3910c284",
   "metadata": {},
   "source": [
    "## Popular ground stations"
   ]
  },
  {
   "cell_type": "markdown",
   "id": "19756741-ef1e-4642-bf78-b3f025b4a902",
   "metadata": {},
   "source": [
    "Next is to explore the ground stations that were most popular according to users.\n",
    "Popular in the sense that a diversity of people scheduled observations on the station.\n",
    "\n",
    "We'll order by the most diversity and by number of observations, since the results are different."
   ]
  },
  {
   "cell_type": "code",
   "execution_count": 38,
   "id": "d98050d7-1833-451b-a22c-763631ff3d0f",
   "metadata": {},
   "outputs": [
    {
     "name": "stdout",
     "output_type": "stream",
     "text": [
      " * sqlite:///../data/observations.db\n",
      "   sqlite:///../data/stations.db\n",
      "Done.\n"
     ]
    },
    {
     "data": {
      "text/html": [
       "<table>\n",
       "    <thead>\n",
       "        <tr>\n",
       "            <th>ground_station</th>\n",
       "            <th>num_observers</th>\n",
       "            <th>num_obs</th>\n",
       "        </tr>\n",
       "    </thead>\n",
       "    <tbody>\n",
       "        <tr>\n",
       "            <td>None</td>\n",
       "            <td>54</td>\n",
       "            <td>8105</td>\n",
       "        </tr>\n",
       "        <tr>\n",
       "            <td>858</td>\n",
       "            <td>44</td>\n",
       "            <td>2364</td>\n",
       "        </tr>\n",
       "        <tr>\n",
       "            <td>183</td>\n",
       "            <td>41</td>\n",
       "            <td>1227</td>\n",
       "        </tr>\n",
       "        <tr>\n",
       "            <td>47</td>\n",
       "            <td>41</td>\n",
       "            <td>1706</td>\n",
       "        </tr>\n",
       "        <tr>\n",
       "            <td>2</td>\n",
       "            <td>40</td>\n",
       "            <td>2271</td>\n",
       "        </tr>\n",
       "        <tr>\n",
       "            <td>37</td>\n",
       "            <td>38</td>\n",
       "            <td>1506</td>\n",
       "        </tr>\n",
       "        <tr>\n",
       "            <td>1562</td>\n",
       "            <td>37</td>\n",
       "            <td>1190</td>\n",
       "        </tr>\n",
       "        <tr>\n",
       "            <td>657</td>\n",
       "            <td>37</td>\n",
       "            <td>6799</td>\n",
       "        </tr>\n",
       "        <tr>\n",
       "            <td>1698</td>\n",
       "            <td>36</td>\n",
       "            <td>1396</td>\n",
       "        </tr>\n",
       "        <tr>\n",
       "            <td>1663</td>\n",
       "            <td>36</td>\n",
       "            <td>2750</td>\n",
       "        </tr>\n",
       "    </tbody>\n",
       "</table>"
      ],
      "text/plain": [
       "[(None, 54, 8105),\n",
       " (858, 44, 2364),\n",
       " (183, 41, 1227),\n",
       " (47, 41, 1706),\n",
       " (2, 40, 2271),\n",
       " (37, 38, 1506),\n",
       " (1562, 37, 1190),\n",
       " (657, 37, 6799),\n",
       " (1698, 36, 1396),\n",
       " (1663, 36, 2750)]"
      ]
     },
     "execution_count": 38,
     "metadata": {},
     "output_type": "execute_result"
    }
   ],
   "source": [
    "%%sql\n",
    "-- How many different observers have scheduled on each GS?\n",
    "SELECT\n",
    "    ground_station,\n",
    "    count(distinct observer) as num_observers,\n",
    "    count(id) AS num_obs\n",
    "FROM times_index\n",
    "WHERE start >= strftime(\"%s\", \"2022-01-01\")\n",
    "    AND start < strftime(\"%s\", \"2023-01-01\")\n",
    "GROUP BY ground_station\n",
    "ORDER BY num_observers DESC\n",
    "LIMIT 10;"
   ]
  },
  {
   "cell_type": "markdown",
   "id": "464bccf3-1da8-447a-be93-9fce67c8e7eb",
   "metadata": {},
   "source": [
    "And the \"winner\" is `None`, or the totality of stations that had observations but where subsequently deleted from the Network.\n",
    "Individual observations are archived, but any information about the station itself (such as position) is gone.\n",
    "\n",
    "The next most popular station is [#858](https://network.satnogs.org/stations/858/) in Sweden, then a very \"fat tail\" of a distribution from then.\n",
    "It isn't until about 250 stations down the list to drop below 10 different observers on a station.\n",
    "\n",
    "Much of this is, I think, an effect of how one of the two web-based methods of scheduling on the Network works.\n",
    "Clicking the \"+ Schedule Observations\" button takes you to https://network.satnogs.org/observations/new/ where the filtering is satellite-centric.\n",
    "I.e. you first select a satellite and then select the stations to listen.\n",
    "Selecting _all_ of the Online stations will then naturally create observations from one observer across many stations."
   ]
  },
  {
   "cell_type": "markdown",
   "id": "9b76f351-368a-4a71-9ff9-84595ad276da",
   "metadata": {},
   "source": [
    "## Observer diversity\n",
    "\n",
    "(don't have a good name for this)\n",
    "\n",
    "Let's reverse the search to find the observers who have scheduled on the greatest number of stations."
   ]
  },
  {
   "cell_type": "code",
   "execution_count": 39,
   "id": "9f3b2e11-fb20-4ea1-a625-cddd51521013",
   "metadata": {},
   "outputs": [
    {
     "name": "stdout",
     "output_type": "stream",
     "text": [
      " * sqlite:///../data/observations.db\n",
      "   sqlite:///../data/stations.db\n",
      "Done.\n"
     ]
    },
    {
     "data": {
      "text/html": [
       "<table>\n",
       "    <thead>\n",
       "        <tr>\n",
       "            <th>observer</th>\n",
       "            <th>num_gs</th>\n",
       "            <th>num_obs</th>\n",
       "        </tr>\n",
       "    </thead>\n",
       "    <tbody>\n",
       "        <tr>\n",
       "            <td>172</td>\n",
       "            <td>492</td>\n",
       "            <td>114450</td>\n",
       "        </tr>\n",
       "        <tr>\n",
       "            <td>173</td>\n",
       "            <td>450</td>\n",
       "            <td>35905</td>\n",
       "        </tr>\n",
       "        <tr>\n",
       "            <td>1996</td>\n",
       "            <td>323</td>\n",
       "            <td>20634</td>\n",
       "        </tr>\n",
       "        <tr>\n",
       "            <td>837</td>\n",
       "            <td>320</td>\n",
       "            <td>12871</td>\n",
       "        </tr>\n",
       "        <tr>\n",
       "            <td>1220</td>\n",
       "            <td>234</td>\n",
       "            <td>13455</td>\n",
       "        </tr>\n",
       "        <tr>\n",
       "            <td>3800</td>\n",
       "            <td>221</td>\n",
       "            <td>4467</td>\n",
       "        </tr>\n",
       "        <tr>\n",
       "            <td>2649</td>\n",
       "            <td>220</td>\n",
       "            <td>1798</td>\n",
       "        </tr>\n",
       "        <tr>\n",
       "            <td>3000</td>\n",
       "            <td>212</td>\n",
       "            <td>74776</td>\n",
       "        </tr>\n",
       "        <tr>\n",
       "            <td>2492</td>\n",
       "            <td>200</td>\n",
       "            <td>9178</td>\n",
       "        </tr>\n",
       "        <tr>\n",
       "            <td>2735</td>\n",
       "            <td>195</td>\n",
       "            <td>24612</td>\n",
       "        </tr>\n",
       "        <tr>\n",
       "            <td>1600</td>\n",
       "            <td>195</td>\n",
       "            <td>2193</td>\n",
       "        </tr>\n",
       "        <tr>\n",
       "            <td>2740</td>\n",
       "            <td>166</td>\n",
       "            <td>91709</td>\n",
       "        </tr>\n",
       "        <tr>\n",
       "            <td>4307</td>\n",
       "            <td>145</td>\n",
       "            <td>6801</td>\n",
       "        </tr>\n",
       "        <tr>\n",
       "            <td>4183</td>\n",
       "            <td>142</td>\n",
       "            <td>1136</td>\n",
       "        </tr>\n",
       "        <tr>\n",
       "            <td>3307</td>\n",
       "            <td>134</td>\n",
       "            <td>2565</td>\n",
       "        </tr>\n",
       "        <tr>\n",
       "            <td>3308</td>\n",
       "            <td>132</td>\n",
       "            <td>1004</td>\n",
       "        </tr>\n",
       "        <tr>\n",
       "            <td>3602</td>\n",
       "            <td>118</td>\n",
       "            <td>9157</td>\n",
       "        </tr>\n",
       "        <tr>\n",
       "            <td>1542</td>\n",
       "            <td>107</td>\n",
       "            <td>1672</td>\n",
       "        </tr>\n",
       "        <tr>\n",
       "            <td>3002</td>\n",
       "            <td>106</td>\n",
       "            <td>3947</td>\n",
       "        </tr>\n",
       "        <tr>\n",
       "            <td>1227</td>\n",
       "            <td>101</td>\n",
       "            <td>856</td>\n",
       "        </tr>\n",
       "    </tbody>\n",
       "</table>"
      ],
      "text/plain": [
       "[(172, 492, 114450),\n",
       " (173, 450, 35905),\n",
       " (1996, 323, 20634),\n",
       " (837, 320, 12871),\n",
       " (1220, 234, 13455),\n",
       " (3800, 221, 4467),\n",
       " (2649, 220, 1798),\n",
       " (3000, 212, 74776),\n",
       " (2492, 200, 9178),\n",
       " (2735, 195, 24612),\n",
       " (1600, 195, 2193),\n",
       " (2740, 166, 91709),\n",
       " (4307, 145, 6801),\n",
       " (4183, 142, 1136),\n",
       " (3307, 134, 2565),\n",
       " (3308, 132, 1004),\n",
       " (3602, 118, 9157),\n",
       " (1542, 107, 1672),\n",
       " (3002, 106, 3947),\n",
       " (1227, 101, 856)]"
      ]
     },
     "execution_count": 39,
     "metadata": {},
     "output_type": "execute_result"
    }
   ],
   "source": [
    "%%sql\n",
    "-- How many different GS have observers scheduled on?\n",
    "SELECT\n",
    "    observer,\n",
    "    count(distinct ground_station) as num_gs,\n",
    "    count(id) AS num_obs\n",
    "FROM times_index\n",
    "WHERE start >= strftime(\"%s\", \"2022-01-01\")\n",
    "    AND start < strftime(\"%s\", \"2023-01-01\")\n",
    "GROUP BY observer\n",
    "ORDER BY num_gs DESC\n",
    "LIMIT 20;"
   ]
  },
  {
   "cell_type": "markdown",
   "id": "af3e69ae-f903-46c8-ade0-cab2a96edbbe",
   "metadata": {},
   "source": [
    "Again, this is partially an effect of the \"+ Schedule Observations\" page behavior.\n",
    "\n",
    "Since this query is somewhat a proxy for _user_ activity, we can see that there are a few handfulls of people who regularly schedule in a satellite-centric manner.\n",
    "\n",
    "I think I show up on this list (1542) because I have re-started the intentional capturing of ARISS school contact downlinks, and therefore also occasionally do sat-focused scheduling across many ground stations."
   ]
  },
  {
   "cell_type": "markdown",
   "id": "e4897414-bcaa-407b-b36c-b4d50a8855dc",
   "metadata": {},
   "source": [
    "## Popular satellites this year"
   ]
  },
  {
   "cell_type": "code",
   "execution_count": 40,
   "id": "fc61cf1a-9a8a-46b2-bd40-bb205c2a82bd",
   "metadata": {},
   "outputs": [
    {
     "name": "stdout",
     "output_type": "stream",
     "text": [
      " * sqlite:///../data/observations.db\n",
      "   sqlite:///../data/stations.db\n",
      "Done.\n"
     ]
    },
    {
     "data": {
      "text/html": [
       "<table>\n",
       "    <thead>\n",
       "        <tr>\n",
       "            <th>norad</th>\n",
       "            <th>num_gs</th>\n",
       "            <th>num_obs</th>\n",
       "        </tr>\n",
       "    </thead>\n",
       "    <tbody>\n",
       "        <tr>\n",
       "            <td>33591</td>\n",
       "            <td>439</td>\n",
       "            <td>30233</td>\n",
       "        </tr>\n",
       "        <tr>\n",
       "            <td>28654</td>\n",
       "            <td>447</td>\n",
       "            <td>28435</td>\n",
       "        </tr>\n",
       "        <tr>\n",
       "            <td>25544</td>\n",
       "            <td>494</td>\n",
       "            <td>27271</td>\n",
       "        </tr>\n",
       "        <tr>\n",
       "            <td>40379</td>\n",
       "            <td>353</td>\n",
       "            <td>24944</td>\n",
       "        </tr>\n",
       "        <tr>\n",
       "            <td>25338</td>\n",
       "            <td>405</td>\n",
       "            <td>24515</td>\n",
       "        </tr>\n",
       "        <tr>\n",
       "            <td>48850</td>\n",
       "            <td>335</td>\n",
       "            <td>20859</td>\n",
       "        </tr>\n",
       "        <tr>\n",
       "            <td>40069</td>\n",
       "            <td>359</td>\n",
       "            <td>19534</td>\n",
       "        </tr>\n",
       "        <tr>\n",
       "            <td>40014</td>\n",
       "            <td>351</td>\n",
       "            <td>18594</td>\n",
       "        </tr>\n",
       "        <tr>\n",
       "            <td>47701</td>\n",
       "            <td>294</td>\n",
       "            <td>18010</td>\n",
       "        </tr>\n",
       "        <tr>\n",
       "            <td>48943</td>\n",
       "            <td>259</td>\n",
       "            <td>17506</td>\n",
       "        </tr>\n",
       "        <tr>\n",
       "            <td>47959</td>\n",
       "            <td>302</td>\n",
       "            <td>16118</td>\n",
       "        </tr>\n",
       "        <tr>\n",
       "            <td>43199</td>\n",
       "            <td>323</td>\n",
       "            <td>15671</td>\n",
       "        </tr>\n",
       "        <tr>\n",
       "            <td>20442</td>\n",
       "            <td>367</td>\n",
       "            <td>15398</td>\n",
       "        </tr>\n",
       "        <tr>\n",
       "            <td>47438</td>\n",
       "            <td>301</td>\n",
       "            <td>15267</td>\n",
       "        </tr>\n",
       "        <tr>\n",
       "            <td>40043</td>\n",
       "            <td>349</td>\n",
       "            <td>13825</td>\n",
       "        </tr>\n",
       "        <tr>\n",
       "            <td>39090</td>\n",
       "            <td>244</td>\n",
       "            <td>13263</td>\n",
       "        </tr>\n",
       "        <tr>\n",
       "            <td>51085</td>\n",
       "            <td>323</td>\n",
       "            <td>13031</td>\n",
       "        </tr>\n",
       "        <tr>\n",
       "            <td>40968</td>\n",
       "            <td>334</td>\n",
       "            <td>12735</td>\n",
       "        </tr>\n",
       "        <tr>\n",
       "            <td>39444</td>\n",
       "            <td>347</td>\n",
       "            <td>12708</td>\n",
       "        </tr>\n",
       "        <tr>\n",
       "            <td>39469</td>\n",
       "            <td>318</td>\n",
       "            <td>12437</td>\n",
       "        </tr>\n",
       "    </tbody>\n",
       "</table>"
      ],
      "text/plain": [
       "[(33591, 439, 30233),\n",
       " (28654, 447, 28435),\n",
       " (25544, 494, 27271),\n",
       " (40379, 353, 24944),\n",
       " (25338, 405, 24515),\n",
       " (48850, 335, 20859),\n",
       " (40069, 359, 19534),\n",
       " (40014, 351, 18594),\n",
       " (47701, 294, 18010),\n",
       " (48943, 259, 17506),\n",
       " (47959, 302, 16118),\n",
       " (43199, 323, 15671),\n",
       " (20442, 367, 15398),\n",
       " (47438, 301, 15267),\n",
       " (40043, 349, 13825),\n",
       " (39090, 244, 13263),\n",
       " (51085, 323, 13031),\n",
       " (40968, 334, 12735),\n",
       " (39444, 347, 12708),\n",
       " (39469, 318, 12437)]"
      ]
     },
     "execution_count": 40,
     "metadata": {},
     "output_type": "execute_result"
    }
   ],
   "source": [
    "%%sql\n",
    "-- Which satellites are listened to by which GS?\n",
    "--explain query plan\n",
    "SELECT\n",
    "    norad_cat_id as norad,\n",
    "    count(distinct ground_station) as num_gs,\n",
    "    count(id) AS num_obs\n",
    "FROM times_index\n",
    "WHERE start >= strftime(\"%s\", \"2022-01-01\")\n",
    "    AND start < strftime(\"%s\", \"2023-01-01\")\n",
    "GROUP BY norad\n",
    "ORDER BY num_obs DESC\n",
    "LIMIT 20;"
   ]
  },
  {
   "cell_type": "markdown",
   "id": "77520c86-4de8-42ed-bebc-78d91d5ceb80",
   "metadata": {},
   "source": [
    "> Dev note: the above query originally implicitly JOINed the `times_index` and `observations` tables to extract the `norad_cat_id` field from each observation.\n",
    "That query took so long that I left it to run and went to bed, to find in the morning that it failed with an out-of-space (???) error.\n",
    "So, I added `norad_cat_id` to the `times_index` R\\* tree virtual table as an auxiliary column.\n",
    "Now the query is back down to a few seconds.\n",
    "\n"
   ]
  },
  {
   "cell_type": "markdown",
   "id": "47f93312-fda8-41d2-8a20-8f82e1e5e87c",
   "metadata": {},
   "source": [
    "This is a situation where we _do_ care about the names attached to the NORAD ID, since the only one I recognize easily is 25544 (ISS).\n",
    "&rarr; Hit up the API for SatNOGS DB to pull this information.\n",
    "\n",
    "Also fetch the launch date, so we can possibly handle popular satellites that launched in 2022 and not earlier.  This would affect the totals since it's a bit of a trick to observe a satellite before it launches :)"
   ]
  },
  {
   "cell_type": "code",
   "execution_count": 41,
   "id": "ac3c735e-a3bc-483c-9486-3d8ae6b06849",
   "metadata": {},
   "outputs": [],
   "source": [
    "result = _"
   ]
  },
  {
   "cell_type": "code",
   "execution_count": 42,
   "id": "ec1e703e-8d9c-44c0-bf79-7dfe279412c0",
   "metadata": {},
   "outputs": [
    {
     "name": "stdout",
     "output_type": "stream",
     "text": [
      "NORAD days name\n",
      "33591 365 NOAA 19 \n",
      "28654 365 NOAA 18 \n",
      "25544 365 ISS \n",
      "40379 365 GRIFEX \n",
      "25338 365 NOAA 15 \n",
      "48850 365 RamSat \n",
      "40069 365 METEOR M-2 \n",
      "40014 365 BUGSAT-1 \n",
      "47701 365 Nanoconnect-2 \n",
      "48943 365 QMR-KWT \n",
      "47959 365 GRBAlpha *\n",
      "43199 365 SHAONIAN XING \n",
      "20442 365 LUSAT \n",
      "47438 365 UVSQ-SAT \n",
      "40043 365 TIGRISAT \n",
      "39090 365 STRAND-1 *\n",
      "51085 352 VZLUSAT-2 \n",
      "40968 365 BISONSAT \n",
      "39444 365 FUNCUBE-1 *\n",
      "39469 365 MCUBED-2 *\n"
     ]
    }
   ],
   "source": [
    "import requests\n",
    "import requests_cache\n",
    "from datetime import datetime, timedelta\n",
    "\n",
    "# SatNOGS servers are >100 ms away from me,\n",
    "# so this is as much for me as for them :)\n",
    "requests_cache.install_cache(expire_after=60*60)\n",
    "\n",
    "print('NORAD days name')\n",
    "for norad, num_gs, num_obs in result:\n",
    "    json = requests.get(f'https://db.satnogs.org/api/satellites/?norad_cat_id={norad}').json()\n",
    "    name = json[0]['name']\n",
    "    \n",
    "    fakedate = ''\n",
    "    if json[0]['launched'] is not None:\n",
    "        launched = datetime.strptime(json[0]['launched'], \"%Y-%m-%dT%H:%M:%SZ\")\n",
    "    else:\n",
    "        # fake it\n",
    "        launched = datetime(2022, 1, 1)\n",
    "        fakedate = '*'\n",
    "\n",
    "    time_operational = datetime(2023, 1, 1) - launched\n",
    "    days_thisyear = min(timedelta(days=365), time_operational).days\n",
    "    \n",
    "    print(f'{norad} {days_thisyear} {name} {fakedate}')"
   ]
  },
  {
   "cell_type": "markdown",
   "id": "7e64a990-b68b-499d-896c-6f7c1eb2b15f",
   "metadata": {},
   "source": [
    "NOAA weather satellites and the mighty International Space Station head the list, both categories are indeed perennially interesting to receive and very active.\n",
    "Only one was launched this year.\n",
    "No analysis to normalize to observations/day for other satellites launched this year in the query; a task for later. (i.e. &star;)\n",
    "\n",
    "Another interesting note is that there are two satellites from the [Michigan eXploration Laboratory](https://exploration.engin.umich.edu/) (GRIFEX and MCUBED-2), started by Dr. James Cutler who can also be credited with one of the first loosely-coupled ground station networks.\n",
    "The beginning of [this blog post by Bryan Klofas](https://www.klofas.com/blog/2020/satnogs-station-and-minicircuits-lna-modifications/) gives a nice overview of the \"pre-SatNOGS era.\"\n",
    "\n",
    "Speaking of MCubed, the one on this list is the re-flight of the original, which has an interesting story https://doi.org/10.1109/AERO.2013.6497127 (sorry, IEEE paywalled), also https://exploration.engin.umich.edu/blog/?p=1626 .\n"
   ]
  },
  {
   "cell_type": "markdown",
   "id": "4139a315-e6b4-41b5-b86c-3e26a964bed4",
   "metadata": {},
   "source": [
    "## Observers with satellite fever"
   ]
  },
  {
   "cell_type": "markdown",
   "id": "917afd97-9c64-450e-83aa-5f027f2c073e",
   "metadata": {},
   "source": [
    "The SatNOGS Network has enough of a geographic distribution of stations (lattitude specifically) that there is always a station to capture satellites in any orbit, not considering frequency capabilities.\n",
    "Therefore, a user could potentially request observations for every satellite (with known orbital parameters) on some rotating basis.\n",
    "In a way, this is the very goal of SatNOGS: to listen to all<sup>&dagger;</sup> satellites all the time.\n",
    "\n",
    "<sup>&dagger;</sup> see https://wiki.satnogs.org/Spectrum_Management for our policy on what the resources of SatNOGS are intended to be primarily used for."
   ]
  },
  {
   "cell_type": "markdown",
   "id": "d571fd50-27ae-4c18-a1d3-911b715ded95",
   "metadata": {},
   "source": [
    "It mostly makes sense to listen to satellites which have `status == \"alive\"`.\n",
    "How many are there in the DB?\n",
    "This gives us the maximum number expected from the following query."
   ]
  },
  {
   "cell_type": "code",
   "execution_count": 43,
   "id": "ebca774f-3481-4b37-9076-5b4f275432db",
   "metadata": {},
   "outputs": [
    {
     "name": "stdout",
     "output_type": "stream",
     "text": [
      "847\r\n"
     ]
    }
   ],
   "source": [
    "!curl --silent 'https://db.satnogs.org/api/satellites/?status=alive' | jq -c '.[]' | wc -l"
   ]
  },
  {
   "cell_type": "code",
   "execution_count": 44,
   "id": "a288d79d-75ea-47ba-bacc-50613193ca3a",
   "metadata": {},
   "outputs": [
    {
     "name": "stdout",
     "output_type": "stream",
     "text": [
      " * sqlite:///../data/observations.db\n",
      "   sqlite:///../data/stations.db\n",
      "Done.\n"
     ]
    },
    {
     "data": {
      "text/html": [
       "<table>\n",
       "    <thead>\n",
       "        <tr>\n",
       "            <th>observer</th>\n",
       "            <th>num_sat</th>\n",
       "            <th>num_obs</th>\n",
       "            <th>diversity</th>\n",
       "        </tr>\n",
       "    </thead>\n",
       "    <tbody>\n",
       "        <tr>\n",
       "            <td>172</td>\n",
       "            <td>658</td>\n",
       "            <td>114450</td>\n",
       "            <td>5.7</td>\n",
       "        </tr>\n",
       "        <tr>\n",
       "            <td>2012</td>\n",
       "            <td>576</td>\n",
       "            <td>19035</td>\n",
       "            <td>30.3</td>\n",
       "        </tr>\n",
       "        <tr>\n",
       "            <td>2533</td>\n",
       "            <td>540</td>\n",
       "            <td>11825</td>\n",
       "            <td>45.7</td>\n",
       "        </tr>\n",
       "        <tr>\n",
       "            <td>2740</td>\n",
       "            <td>528</td>\n",
       "            <td>91709</td>\n",
       "            <td>5.8</td>\n",
       "        </tr>\n",
       "        <tr>\n",
       "            <td>3462</td>\n",
       "            <td>527</td>\n",
       "            <td>31484</td>\n",
       "            <td>16.7</td>\n",
       "        </tr>\n",
       "        <tr>\n",
       "            <td>3000</td>\n",
       "            <td>513</td>\n",
       "            <td>74776</td>\n",
       "            <td>6.9</td>\n",
       "        </tr>\n",
       "        <tr>\n",
       "            <td>326</td>\n",
       "            <td>484</td>\n",
       "            <td>58961</td>\n",
       "            <td>8.2</td>\n",
       "        </tr>\n",
       "        <tr>\n",
       "            <td>969</td>\n",
       "            <td>453</td>\n",
       "            <td>1173</td>\n",
       "            <td>386.2</td>\n",
       "        </tr>\n",
       "        <tr>\n",
       "            <td>2401</td>\n",
       "            <td>448</td>\n",
       "            <td>24139</td>\n",
       "            <td>18.6</td>\n",
       "        </tr>\n",
       "        <tr>\n",
       "            <td>3223</td>\n",
       "            <td>441</td>\n",
       "            <td>37198</td>\n",
       "            <td>11.9</td>\n",
       "        </tr>\n",
       "    </tbody>\n",
       "</table>"
      ],
      "text/plain": [
       "[(172, 658, 114450, 5.7),\n",
       " (2012, 576, 19035, 30.3),\n",
       " (2533, 540, 11825, 45.7),\n",
       " (2740, 528, 91709, 5.8),\n",
       " (3462, 527, 31484, 16.7),\n",
       " (3000, 513, 74776, 6.9),\n",
       " (326, 484, 58961, 8.2),\n",
       " (969, 453, 1173, 386.2),\n",
       " (2401, 448, 24139, 18.6),\n",
       " (3223, 441, 37198, 11.9)]"
      ]
     },
     "execution_count": 44,
     "metadata": {},
     "output_type": "execute_result"
    }
   ],
   "source": [
    "%%sql\n",
    "-- Which satellites are listened to by which GS?\n",
    "--explain query plan\n",
    "SELECT\n",
    "    observer,\n",
    "    count(distinct norad_cat_id) as num_sat,\n",
    "    count(id) AS num_obs,\n",
    "    round(1000.0*count(distinct norad_cat_id) / count(id), 1) as diversity\n",
    "FROM times_index\n",
    "WHERE start >= strftime(\"%s\", \"2022-01-01\")\n",
    "    AND start < strftime(\"%s\", \"2023-01-01\")\n",
    "GROUP BY observer\n",
    "ORDER BY num_sat DESC\n",
    "LIMIT 10;"
   ]
  },
  {
   "cell_type": "markdown",
   "id": "24ced115-9dd5-41e2-abf5-ba46d4e7d1cf",
   "metadata": {},
   "source": [
    "The `diversity` result column is the ratio of satellites to number of observations by the observer.\n",
    "A larger number measures how consistently the observer listens to a variety of satellites.\n",
    "A maximum diversity score of 1000 corresponds to a single observation per satellite.\n",
    "\n",
    "For example, observer 969 scheduled relatively few observations in total, but were widely spread among satellites, to the tune of an average of less than 3 observations per satellite."
   ]
  },
  {
   "cell_type": "markdown",
   "id": "07789760-56a6-462b-b8b9-6b5f929357e9",
   "metadata": {},
   "source": [
    "---\n",
    "\n",
    "Next, let's take the same query but sort by the smallst `diversity` values.\n",
    "This would be the observers that are focused on a single or small number of satelltes over many observations.\n",
    "Note that this will also catch observers who simply schedule a _ton_ of observations."
   ]
  },
  {
   "cell_type": "code",
   "execution_count": 45,
   "id": "1fab3e3a-e142-4fea-b822-f798e347ee30",
   "metadata": {},
   "outputs": [
    {
     "name": "stdout",
     "output_type": "stream",
     "text": [
      " * sqlite:///../data/observations.db\n",
      "   sqlite:///../data/stations.db\n",
      "Done.\n"
     ]
    },
    {
     "data": {
      "text/html": [
       "<table>\n",
       "    <thead>\n",
       "        <tr>\n",
       "            <th>observer</th>\n",
       "            <th>num_sat</th>\n",
       "            <th>num_gs</th>\n",
       "            <th>num_obs</th>\n",
       "            <th>diversity</th>\n",
       "        </tr>\n",
       "    </thead>\n",
       "    <tbody>\n",
       "        <tr>\n",
       "            <td>3002</td>\n",
       "            <td>1</td>\n",
       "            <td>106</td>\n",
       "            <td>3947</td>\n",
       "            <td>0.3</td>\n",
       "        </tr>\n",
       "        <tr>\n",
       "            <td>750</td>\n",
       "            <td>11</td>\n",
       "            <td>1</td>\n",
       "            <td>6159</td>\n",
       "            <td>1.8</td>\n",
       "        </tr>\n",
       "        <tr>\n",
       "            <td>1984</td>\n",
       "            <td>1</td>\n",
       "            <td>2</td>\n",
       "            <td>447</td>\n",
       "            <td>2.2</td>\n",
       "        </tr>\n",
       "        <tr>\n",
       "            <td>3228</td>\n",
       "            <td>8</td>\n",
       "            <td>2</td>\n",
       "            <td>3717</td>\n",
       "            <td>2.2</td>\n",
       "        </tr>\n",
       "        <tr>\n",
       "            <td>792</td>\n",
       "            <td>11</td>\n",
       "            <td>3</td>\n",
       "            <td>4829</td>\n",
       "            <td>2.3</td>\n",
       "        </tr>\n",
       "        <tr>\n",
       "            <td>1891</td>\n",
       "            <td>2</td>\n",
       "            <td>1</td>\n",
       "            <td>830</td>\n",
       "            <td>2.4</td>\n",
       "        </tr>\n",
       "        <tr>\n",
       "            <td>1535</td>\n",
       "            <td>4</td>\n",
       "            <td>1</td>\n",
       "            <td>1592</td>\n",
       "            <td>2.5</td>\n",
       "        </tr>\n",
       "        <tr>\n",
       "            <td>2408</td>\n",
       "            <td>99</td>\n",
       "            <td>25</td>\n",
       "            <td>39978</td>\n",
       "            <td>2.5</td>\n",
       "        </tr>\n",
       "        <tr>\n",
       "            <td>1394</td>\n",
       "            <td>272</td>\n",
       "            <td>2</td>\n",
       "            <td>88821</td>\n",
       "            <td>3.1</td>\n",
       "        </tr>\n",
       "        <tr>\n",
       "            <td>1600</td>\n",
       "            <td>7</td>\n",
       "            <td>195</td>\n",
       "            <td>2193</td>\n",
       "            <td>3.2</td>\n",
       "        </tr>\n",
       "        <tr>\n",
       "            <td>3417</td>\n",
       "            <td>33</td>\n",
       "            <td>2</td>\n",
       "            <td>10172</td>\n",
       "            <td>3.2</td>\n",
       "        </tr>\n",
       "        <tr>\n",
       "            <td>3430</td>\n",
       "            <td>17</td>\n",
       "            <td>1</td>\n",
       "            <td>5373</td>\n",
       "            <td>3.2</td>\n",
       "        </tr>\n",
       "        <tr>\n",
       "            <td>1731</td>\n",
       "            <td>5</td>\n",
       "            <td>1</td>\n",
       "            <td>1524</td>\n",
       "            <td>3.3</td>\n",
       "        </tr>\n",
       "        <tr>\n",
       "            <td>180</td>\n",
       "            <td>7</td>\n",
       "            <td>1</td>\n",
       "            <td>2045</td>\n",
       "            <td>3.4</td>\n",
       "        </tr>\n",
       "        <tr>\n",
       "            <td>1093</td>\n",
       "            <td>6</td>\n",
       "            <td>1</td>\n",
       "            <td>1656</td>\n",
       "            <td>3.6</td>\n",
       "        </tr>\n",
       "        <tr>\n",
       "            <td>3433</td>\n",
       "            <td>9</td>\n",
       "            <td>1</td>\n",
       "            <td>2411</td>\n",
       "            <td>3.7</td>\n",
       "        </tr>\n",
       "        <tr>\n",
       "            <td>3525</td>\n",
       "            <td>54</td>\n",
       "            <td>1</td>\n",
       "            <td>13710</td>\n",
       "            <td>3.9</td>\n",
       "        </tr>\n",
       "        <tr>\n",
       "            <td>430</td>\n",
       "            <td>4</td>\n",
       "            <td>4</td>\n",
       "            <td>992</td>\n",
       "            <td>4.0</td>\n",
       "        </tr>\n",
       "        <tr>\n",
       "            <td>2302</td>\n",
       "            <td>8</td>\n",
       "            <td>1</td>\n",
       "            <td>1990</td>\n",
       "            <td>4.0</td>\n",
       "        </tr>\n",
       "        <tr>\n",
       "            <td>173</td>\n",
       "            <td>158</td>\n",
       "            <td>450</td>\n",
       "            <td>35905</td>\n",
       "            <td>4.4</td>\n",
       "        </tr>\n",
       "        <tr>\n",
       "            <td>3467</td>\n",
       "            <td>31</td>\n",
       "            <td>79</td>\n",
       "            <td>7096</td>\n",
       "            <td>4.4</td>\n",
       "        </tr>\n",
       "        <tr>\n",
       "            <td>1073</td>\n",
       "            <td>7</td>\n",
       "            <td>1</td>\n",
       "            <td>1491</td>\n",
       "            <td>4.7</td>\n",
       "        </tr>\n",
       "        <tr>\n",
       "            <td>3903</td>\n",
       "            <td>58</td>\n",
       "            <td>5</td>\n",
       "            <td>11165</td>\n",
       "            <td>5.2</td>\n",
       "        </tr>\n",
       "        <tr>\n",
       "            <td>172</td>\n",
       "            <td>658</td>\n",
       "            <td>492</td>\n",
       "            <td>114450</td>\n",
       "            <td>5.7</td>\n",
       "        </tr>\n",
       "        <tr>\n",
       "            <td>2740</td>\n",
       "            <td>528</td>\n",
       "            <td>166</td>\n",
       "            <td>91709</td>\n",
       "            <td>5.8</td>\n",
       "        </tr>\n",
       "    </tbody>\n",
       "</table>"
      ],
      "text/plain": [
       "[(3002, 1, 106, 3947, 0.3),\n",
       " (750, 11, 1, 6159, 1.8),\n",
       " (1984, 1, 2, 447, 2.2),\n",
       " (3228, 8, 2, 3717, 2.2),\n",
       " (792, 11, 3, 4829, 2.3),\n",
       " (1891, 2, 1, 830, 2.4),\n",
       " (1535, 4, 1, 1592, 2.5),\n",
       " (2408, 99, 25, 39978, 2.5),\n",
       " (1394, 272, 2, 88821, 3.1),\n",
       " (1600, 7, 195, 2193, 3.2),\n",
       " (3417, 33, 2, 10172, 3.2),\n",
       " (3430, 17, 1, 5373, 3.2),\n",
       " (1731, 5, 1, 1524, 3.3),\n",
       " (180, 7, 1, 2045, 3.4),\n",
       " (1093, 6, 1, 1656, 3.6),\n",
       " (3433, 9, 1, 2411, 3.7),\n",
       " (3525, 54, 1, 13710, 3.9),\n",
       " (430, 4, 4, 992, 4.0),\n",
       " (2302, 8, 1, 1990, 4.0),\n",
       " (173, 158, 450, 35905, 4.4),\n",
       " (3467, 31, 79, 7096, 4.4),\n",
       " (1073, 7, 1, 1491, 4.7),\n",
       " (3903, 58, 5, 11165, 5.2),\n",
       " (172, 658, 492, 114450, 5.7),\n",
       " (2740, 528, 166, 91709, 5.8)]"
      ]
     },
     "execution_count": 45,
     "metadata": {},
     "output_type": "execute_result"
    }
   ],
   "source": [
    "%%sql\n",
    "-- Which satellites are listened to by which GS?\n",
    "--explain query plan\n",
    "SELECT\n",
    "    observer,\n",
    "    count(distinct norad_cat_id) as num_sat,\n",
    "    count(distinct ground_station) as num_gs,\n",
    "    count(id) AS num_obs,\n",
    "    round(1000.0*count(distinct norad_cat_id) / count(id), 1) as diversity\n",
    "FROM times_index\n",
    "WHERE start >= strftime(\"%s\", \"2022-01-01\")\n",
    "    AND start < strftime(\"%s\", \"2023-01-01\")\n",
    "GROUP BY observer\n",
    "ORDER BY diversity ASC\n",
    "LIMIT 25;"
   ]
  },
  {
   "cell_type": "markdown",
   "id": "3cacf709-920a-4bf9-8e5e-bb2550227f6e",
   "metadata": {},
   "source": [
    "A brief commentary on the \"winners\" of this query.\n",
    "\n",
    "* Is it _bad_ to observe only one, or a small number of satellites?\n",
    "\n",
    "A user can certainly be mostly interested in one or a few specific satellites!\n",
    "We could ask who mostly is insterested in the NOAA weather satellites and little else, for example.\n",
    "What observations to schedule on your own or others' station is entirely your perogative.\n",
    "\n",
    "The questions splits into two considerations:\n",
    "\n",
    "1. Observations on your own ground station.\n",
    "2. Observations on others' ground stations.\n",
    "\n",
    "(1) &mdash; it's your station, do with it as you wish.\n",
    "\n",
    "(2) &mdash; Part of the **feature** of a network like SatNOGS, allowing free access to ground stations all over the world.\n",
    "In the spirit of sharing, it is good to then also open your station up to scheduling by others as a contribution back to the community.  Indeed this is policy as codified in the [Network Permissions Matrix](https://wiki.satnogs.org/Operation#Network_Permissions_Matrix)\n",
    "\n",
    "One grey area may be keeping your station in Testing mode continuously and scheduling many observations.\n",
    "This incurs non-zero infrastructure cost for archiving the CC-BY-SA licensed results of these observations while not allowing others to schedule on the station.\n",
    "Allowed behavior, but is debatible whether this is in the spirit of being part of a federated network.\n",
    "_Note that this case is not captured in the above query_.\n",
    "\n",
    "Another issue could be operating a low capability ground station maintained in Online status such that the user would then have unlimited ability, via the Permissions Matrix, to schedule many (many) observations on many ground stations.\n",
    "Thus, having a relatively large ratio of capabilities used to capabilities donated.\n",
    "For the most part, this has not been a problem across the Network and most users are hesitant to do massive amounts of scheduling.\n",
    "Practically, this most affects stations with metered or limited Internet access and bandwidth.\n",
    "There isn't really a good solution for this situation (start the conversation [in the forum](https://community.libre.space/) if you have ideas or have a station with these sorts of limitations).\n"
   ]
  },
  {
   "cell_type": "markdown",
   "id": "cda915fe-080d-4c4d-8850-2e4240b32ab6",
   "metadata": {},
   "source": [
    "## Stations watching all-the-sats"
   ]
  },
  {
   "cell_type": "markdown",
   "id": "3be09c95-a0c9-426d-b1dc-47fa3b3b9a19",
   "metadata": {},
   "source": [
    "In the last section, there were no _observers_ who have listened for _every_ active satellite (847 in total).\n",
    "What about ground stations?"
   ]
  },
  {
   "cell_type": "code",
   "execution_count": 46,
   "id": "78cadfe8-9658-4756-bad7-c3defa1f75ca",
   "metadata": {},
   "outputs": [
    {
     "name": "stdout",
     "output_type": "stream",
     "text": [
      " * sqlite:///../data/observations.db\n",
      "   sqlite:///../data/stations.db\n",
      "Done.\n"
     ]
    },
    {
     "data": {
      "text/html": [
       "<table>\n",
       "    <thead>\n",
       "        <tr>\n",
       "            <th>ground_station</th>\n",
       "            <th>num_sat</th>\n",
       "            <th>num_obs</th>\n",
       "        </tr>\n",
       "    </thead>\n",
       "    <tbody>\n",
       "        <tr>\n",
       "            <td>6</td>\n",
       "            <td>597</td>\n",
       "            <td>67427</td>\n",
       "        </tr>\n",
       "        <tr>\n",
       "            <td>91</td>\n",
       "            <td>559</td>\n",
       "            <td>59955</td>\n",
       "        </tr>\n",
       "        <tr>\n",
       "            <td>1534</td>\n",
       "            <td>547</td>\n",
       "            <td>7503</td>\n",
       "        </tr>\n",
       "        <tr>\n",
       "            <td>2733</td>\n",
       "            <td>541</td>\n",
       "            <td>8838</td>\n",
       "        </tr>\n",
       "        <tr>\n",
       "            <td>1864</td>\n",
       "            <td>532</td>\n",
       "            <td>54180</td>\n",
       "        </tr>\n",
       "        <tr>\n",
       "            <td>432</td>\n",
       "            <td>525</td>\n",
       "            <td>2162</td>\n",
       "        </tr>\n",
       "        <tr>\n",
       "            <td>1133</td>\n",
       "            <td>517</td>\n",
       "            <td>7492</td>\n",
       "        </tr>\n",
       "        <tr>\n",
       "            <td>1667</td>\n",
       "            <td>510</td>\n",
       "            <td>20448</td>\n",
       "        </tr>\n",
       "        <tr>\n",
       "            <td>2134</td>\n",
       "            <td>490</td>\n",
       "            <td>32137</td>\n",
       "        </tr>\n",
       "        <tr>\n",
       "            <td>2015</td>\n",
       "            <td>488</td>\n",
       "            <td>38615</td>\n",
       "        </tr>\n",
       "    </tbody>\n",
       "</table>"
      ],
      "text/plain": [
       "[(6, 597, 67427),\n",
       " (91, 559, 59955),\n",
       " (1534, 547, 7503),\n",
       " (2733, 541, 8838),\n",
       " (1864, 532, 54180),\n",
       " (432, 525, 2162),\n",
       " (1133, 517, 7492),\n",
       " (1667, 510, 20448),\n",
       " (2134, 490, 32137),\n",
       " (2015, 488, 38615)]"
      ]
     },
     "execution_count": 46,
     "metadata": {},
     "output_type": "execute_result"
    }
   ],
   "source": [
    "%%sql\n",
    "-- Which satellites are listened to by which GS?\n",
    "--explain query plan\n",
    "SELECT\n",
    "    ground_station,\n",
    "    count(distinct norad_cat_id) as num_sat,\n",
    "    count(id) AS num_obs\n",
    "FROM times_index\n",
    "WHERE start >= strftime(\"%s\", \"2022-01-01\")\n",
    "    AND start < strftime(\"%s\", \"2023-01-01\")\n",
    "GROUP BY ground_station\n",
    "ORDER BY num_sat DESC\n",
    "LIMIT 10;"
   ]
  },
  {
   "cell_type": "markdown",
   "id": "12aace97-b9ca-4d5e-a163-92b0012734c6",
   "metadata": {},
   "source": [
    "No surprise that [station #6](https://network.satnogs.org/stations/6/) leads this list &mdash; it is owned by famous and prolific observer #172!"
   ]
  },
  {
   "cell_type": "markdown",
   "id": "0b1392ff-4b87-452f-99d1-f2ef364c04d4",
   "metadata": {},
   "source": [
    "# More stats\n",
    "\n",
    "I'm running out of steam, and time available to keep poking at this information with more questions.\n",
    "Thus far we've not done any work looking at the **results** of observations for measures of real performance and efficiency.\n",
    "\n",
    "Here's a list of other questions:\n",
    "\n",
    "* Number of packets received from no-rotator vs. with-rotator stations.\n",
    "* Density of packets received vs. local azimuth/elevation.\n",
    "* Number of Good vs. Bad vetting results for no/with-rotator stations.\n",
    "* Observations and success rates by frequency band.\n",
    "* Packets decoded by declared `antenna_type`\n",
    "* What about the stations with directional antennas in fixed orientations (no-rotator)?"
   ]
  },
  {
   "cell_type": "markdown",
   "id": "1b4ec576-942d-46de-a85f-1073e7616033",
   "metadata": {},
   "source": [
    "## Your turn!\n",
    "\n",
    "Want to tackle some of these questions or ask your own of the data?\n",
    "\n",
    "Hopefully this notebook is self-contained enough that you can get started relatively quickly.\n",
    "You'll just need a copy of the database of observations (`observations.db`) and perhaps the `stations.db` from the first section.\n",
    "\n",
    "Contact me if you'd like a copy: dan.white at libre.space, it is about 17GB, and compresses down to 1.8GB (gzip) or 790MB (xz)."
   ]
  },
  {
   "cell_type": "markdown",
   "id": "6e4f227f-8ce4-46f6-8626-3afab924c58c",
   "metadata": {},
   "source": [
    "## Housekeeping"
   ]
  },
  {
   "cell_type": "code",
   "execution_count": 47,
   "id": "71f29c05-d85f-4c75-8a38-c70ff00167fd",
   "metadata": {},
   "outputs": [
    {
     "name": "stdout",
     "output_type": "stream",
     "text": [
      " * sqlite:///../data/observations.db\n",
      "   sqlite:///../data/stations.db\n",
      "Done.\n"
     ]
    },
    {
     "data": {
      "text/html": [
       "<table>\n",
       "    <thead>\n",
       "        <tr>\n",
       "            <th>optimize</th>\n",
       "        </tr>\n",
       "    </thead>\n",
       "    <tbody>\n",
       "    </tbody>\n",
       "</table>"
      ],
      "text/plain": [
       "[]"
      ]
     },
     "execution_count": 47,
     "metadata": {},
     "output_type": "execute_result"
    }
   ],
   "source": [
    "%%sql\n",
    "PRAGMA optimize;"
   ]
  },
  {
   "cell_type": "code",
   "execution_count": null,
   "id": "1835aa14-f2c2-4e39-9787-9ef4680c82db",
   "metadata": {},
   "outputs": [],
   "source": []
  }
 ],
 "metadata": {
  "authors": [
   {
    "name": "Dan White"
   }
  ],
  "hide_input": false,
  "kernelspec": {
   "display_name": "Python 3 (ipykernel)",
   "language": "python",
   "name": "python3"
  },
  "language_info": {
   "codemirror_mode": {
    "name": "ipython",
    "version": 3
   },
   "file_extension": ".py",
   "mimetype": "text/x-python",
   "name": "python",
   "nbconvert_exporter": "python",
   "pygments_lexer": "ipython3",
   "version": "3.10.12"
  },
  "title": "SatNOGS year-in-review 2022",
  "toc": {
   "base_numbering": 1,
   "nav_menu": {
    "height": "250px",
    "width": "283px"
   },
   "number_sections": true,
   "sideBar": false,
   "skip_h1_title": false,
   "title_cell": "Table of Contents",
   "title_sidebar": "Contents",
   "toc_cell": true,
   "toc_position": {
    "height": "calc(100% - 180px)",
    "left": "10px",
    "top": "150px",
    "width": "329px"
   },
   "toc_section_display": true,
   "toc_window_display": true
  },
  "toc-autonumbering": true,
  "toc-showcode": false,
  "toc-showmarkdowntxt": false,
  "toc-showtags": false
 },
 "nbformat": 4,
 "nbformat_minor": 5
}
