{
 "cells": [
  {
   "cell_type": "code",
   "execution_count": 1,
   "metadata": {},
   "outputs": [],
   "source": [
    "%load_ext autoreload\n",
    "%autoreload 2"
   ]
  },
  {
   "cell_type": "code",
   "execution_count": 2,
   "metadata": {},
   "outputs": [],
   "source": [
    "import numpy as np\n",
    "\n",
    "import matplotlib as mpl\n",
    "import matplotlib.pyplot as plt\n",
    "\n",
    "from datetime import datetime, timedelta\n",
    "from iso8601 import parse_date\n",
    "\n",
    "import pprint\n",
    "pp = pprint.PrettyPrinter().pprint\n",
    "\n",
    "import sys\n",
    "\n",
    "mpl.rcParams['figure.dpi'] = 80\n",
    "mpl.rcParams['font.size'] = 18"
   ]
  },
  {
   "cell_type": "code",
   "execution_count": 3,
   "metadata": {},
   "outputs": [],
   "source": [
    "from satbazaar import db\n",
    "from satbazaar import schedulers\n",
    "from satbazaar import client"
   ]
  },
  {
   "cell_type": "code",
   "execution_count": 4,
   "metadata": {},
   "outputs": [],
   "source": [
    "# script 'get-stations.py' creates this file\n",
    "stations = db.load_stations()\n",
    "\n",
    "# script 'get-satellites.py' creates both files\n",
    "satellites = db.load_satellites()"
   ]
  },
  {
   "cell_type": "code",
   "execution_count": 5,
   "metadata": {},
   "outputs": [
    {
     "name": "stdout",
     "output_type": "stream",
     "text": [
      "duration:        14317.008\n",
      "total pass time: 14061.390\n"
     ]
    }
   ],
   "source": [
    "gs = stations['KB9JHU']\n",
    "\n",
    "# script 'generate-allpasses.py' generates the database of sat-gs pass predictions\n",
    "passes = db.getpasses(gs=gs['name'], start='2018-07-11', end='2018-07-11 04:00')\n",
    "duration = (passes.end() - passes.begin()).total_seconds()\n",
    "print('duration:        {:.3f}'.format(duration))\n",
    "\n",
    "maxtree = passes.copy()\n",
    "maxtree.merge_overlaps()\n",
    "total = 0.0\n",
    "for i in maxtree:\n",
    "    total += (i.end - i.begin).total_seconds()\n",
    "print('total pass time: {:.3f}'.format(total))"
   ]
  },
  {
   "cell_type": "code",
   "execution_count": 6,
   "metadata": {},
   "outputs": [],
   "source": [
    "def do_plot():\n",
    "    fig, ax = plt.subplots(figsize=(8, 4))\n",
    "\n",
    "    ax.bar(names, busys)\n",
    "\n",
    "    labels = ax.get_xticklabels()\n",
    "    plt.setp(labels, rotation=20)\n",
    "    \n",
    "    print('{:30s} {:>5s}  {:>5s}'.format('Scheduler', 'busy', 'eff'))\n",
    "    for n, b in zip(names, busys):\n",
    "        print('{:30s} {:5.1f}  {:5.1f}'.format(n, 100*b/duration, 100*b/total))"
   ]
  },
  {
   "cell_type": "code",
   "execution_count": 8,
   "metadata": {},
   "outputs": [],
   "source": [
    "def plot_result(c, name):\n",
    "    # collect satellite names\n",
    "    sats = set([p.data['job']['tle0'] for p in c.calendar])\n",
    "    sats = list(sats)\n",
    "    sats.sort()\n",
    "    sats.reverse()\n",
    "    #index is used as y-offset\n",
    "\n",
    "\n",
    "    # sats simultaneously overhead\n",
    "    start = c.calendar.begin()  #parse_date('2018-07-11')\n",
    "    end = c.calendar.end()  #parse_date('2018-07-11 04:00')\n",
    "\n",
    "    total_minutes = (end - start).total_seconds()/60\n",
    "    steps = [start + timedelta(minutes=x) for x in range(int(total_minutes))]\n",
    "    num = []\n",
    "    for t in steps:\n",
    "        passes = c.calendar[t]\n",
    "        num.append(len(passes))\n",
    "\n",
    "        \n",
    "    #plt.close('all')\n",
    "    fig = plt.figure(figsize=(15, 6))\n",
    "    ax = plt.subplot()\n",
    "\n",
    "    ax.xaxis_date()\n",
    "    ax.set_ylim((0.9, 2.0))\n",
    "\n",
    "    from itertools import cycle, islice\n",
    "    colors = ['r', 'g', 'b', 'c', 'm', 'y', 'k']\n",
    "\n",
    "    for p in c.calendar:\n",
    "        sat = p.data['job']['tle0']\n",
    "        idx = sats.index(sat)\n",
    "        ax.plot(\n",
    "            (p.begin, p.end),\n",
    "            2*[1],\n",
    "            '-|',\n",
    "            color=colors[idx%len(colors)],\n",
    "        )\n",
    "        ax.text(\n",
    "            p.begin + (p.end - p.begin)/2,\n",
    "            1.0,\n",
    "            ' ' + sat,\n",
    "            rotation=90,\n",
    "            ha='center',\n",
    "            va='bottom',\n",
    "            fontsize=18,\n",
    "        )\n",
    "\n",
    "    #ax.set_yticks(range(len(sats)))\n",
    "    #ax.set_yticklabels(sats)\n",
    "    ax.set_title('{}\\n{}'.format(name, c))\n",
    "    ax.grid(True, axis='x')\n",
    "\n",
    "    plt.tight_layout()\n",
    "    fig.autofmt_xdate()\n",
    "\n",
    "    plt.savefig('kb9jhu-sched.png', dpi=300, bbox_inches='tight')"
   ]
  },
  {
   "cell_type": "code",
   "execution_count": 9,
   "metadata": {
    "scrolled": false
   },
   "outputs": [
    {
     "ename": "AttributeError",
     "evalue": "'IntervalTree' object has no attribute 'search'",
     "output_type": "error",
     "traceback": [
      "\u001b[0;31m---------------------------------------------------------------------------\u001b[0m",
      "\u001b[0;31mAttributeError\u001b[0m                            Traceback (most recent call last)",
      "Input \u001b[0;32mIn [9]\u001b[0m, in \u001b[0;36m<cell line: 21>\u001b[0;34m()\u001b[0m\n\u001b[1;32m     27\u001b[0m \u001b[38;5;28;01melse\u001b[39;00m:\n\u001b[1;32m     28\u001b[0m     s \u001b[38;5;241m=\u001b[39m sch(clients, satellites)\n\u001b[0;32m---> 30\u001b[0m \u001b[43ms\u001b[49m\u001b[43m(\u001b[49m\u001b[43mpasses\u001b[49m\u001b[43m)\u001b[49m\n\u001b[1;32m     32\u001b[0m plot_result(c, sch\u001b[38;5;241m.\u001b[39m\u001b[38;5;18m__name__\u001b[39m)\n\u001b[1;32m     34\u001b[0m busys\u001b[38;5;241m.\u001b[39mappend(c\u001b[38;5;241m.\u001b[39mbusy_time())\n",
      "File \u001b[0;32m~/ed/scheduling-bazaar/notebooks/satbazaar/schedulers.py:50\u001b[0m, in \u001b[0;36mFirstScheduler.__call__\u001b[0;34m(self, passes)\u001b[0m\n\u001b[1;32m     48\u001b[0m \u001b[38;5;28;01mdef\u001b[39;00m \u001b[38;5;21m__call__\u001b[39m(\u001b[38;5;28mself\u001b[39m, passes):\n\u001b[1;32m     49\u001b[0m     \u001b[38;5;28;01mfor\u001b[39;00m pd \u001b[38;5;129;01min\u001b[39;00m \u001b[38;5;28msorted\u001b[39m(passes, key\u001b[38;5;241m=\u001b[39m\u001b[38;5;28;01mlambda\u001b[39;00m p: p\u001b[38;5;241m.\u001b[39mbegin):\n\u001b[0;32m---> 50\u001b[0m         \u001b[38;5;28;43mself\u001b[39;49m\u001b[38;5;241;43m.\u001b[39;49m\u001b[43mdo_request\u001b[49m\u001b[43m(\u001b[49m\u001b[43mpd\u001b[49m\u001b[43m)\u001b[49m\n",
      "File \u001b[0;32m~/ed/scheduling-bazaar/notebooks/satbazaar/schedulers.py:28\u001b[0m, in \u001b[0;36mScheduler.do_request\u001b[0;34m(self, pd)\u001b[0m\n\u001b[1;32m     26\u001b[0m \u001b[38;5;124;03m\"\"\"Helper to take a PassTuple and make a request to the relevant client.\"\"\"\u001b[39;00m\n\u001b[1;32m     27\u001b[0m r \u001b[38;5;241m=\u001b[39m pass2request(pd, \u001b[38;5;28mself\u001b[39m\u001b[38;5;241m.\u001b[39msatellites)\n\u001b[0;32m---> 28\u001b[0m offer \u001b[38;5;241m=\u001b[39m \u001b[38;5;28;43mself\u001b[39;49m\u001b[38;5;241;43m.\u001b[39;49m\u001b[43mclients\u001b[49m\u001b[43m[\u001b[49m\u001b[43mpd\u001b[49m\u001b[38;5;241;43m.\u001b[39;49m\u001b[43mdata\u001b[49m\u001b[38;5;241;43m.\u001b[39;49m\u001b[43mgs\u001b[49m\u001b[43m]\u001b[49m\u001b[38;5;241;43m.\u001b[39;49m\u001b[43mrequest\u001b[49m\u001b[43m(\u001b[49m\u001b[43mr\u001b[49m\u001b[43m)\u001b[49m\n\u001b[1;32m     29\u001b[0m \u001b[38;5;28;01mif\u001b[39;00m \u001b[38;5;28mself\u001b[39m\u001b[38;5;241m.\u001b[39mdebug:\n\u001b[1;32m     30\u001b[0m     \u001b[38;5;28;01mif\u001b[39;00m offer[\u001b[38;5;124m'\u001b[39m\u001b[38;5;124mstatus\u001b[39m\u001b[38;5;124m'\u001b[39m] \u001b[38;5;241m==\u001b[39m \u001b[38;5;124m'\u001b[39m\u001b[38;5;124maccept\u001b[39m\u001b[38;5;124m'\u001b[39m:\n",
      "File \u001b[0;32m~/ed/scheduling-bazaar/notebooks/satbazaar/client.py:174\u001b[0m, in \u001b[0;36mYesClient.request\u001b[0;34m(self, r)\u001b[0m\n\u001b[1;32m    170\u001b[0m end \u001b[38;5;241m=\u001b[39m parse_date(job[\u001b[38;5;124m'\u001b[39m\u001b[38;5;124mend\u001b[39m\u001b[38;5;124m'\u001b[39m])\n\u001b[1;32m    172\u001b[0m ri \u001b[38;5;241m=\u001b[39m Interval(start, end, r)\n\u001b[0;32m--> 174\u001b[0m overlaps \u001b[38;5;241m=\u001b[39m \u001b[38;5;28;43mself\u001b[39;49m\u001b[38;5;241;43m.\u001b[39;49m\u001b[43mcalendar\u001b[49m\u001b[38;5;241;43m.\u001b[39;49m\u001b[43msearch\u001b[49m(ri)\n\u001b[1;32m    176\u001b[0m \u001b[38;5;28;01mif\u001b[39;00m \u001b[38;5;28mlen\u001b[39m(overlaps) \u001b[38;5;241m==\u001b[39m \u001b[38;5;241m0\u001b[39m:\n\u001b[1;32m    177\u001b[0m     \u001b[38;5;28mself\u001b[39m\u001b[38;5;241m.\u001b[39mcalendar\u001b[38;5;241m.\u001b[39madd(ri)\n",
      "\u001b[0;31mAttributeError\u001b[0m: 'IntervalTree' object has no attribute 'search'"
     ]
    }
   ],
   "source": [
    "options = (\n",
    "    #schedulers.RandomScheduler,\n",
    "    schedulers.FirstScheduler,\n",
    "    schedulers.LastScheduler,\n",
    "    schedulers.DurationScheduler,\n",
    "    #schedulers.EndStartScheduler,\n",
    "    schedulers.OwnerPreferenceScheduler,\n",
    ")\n",
    "\n",
    "priority = {\n",
    "    'KB9JHU':(\n",
    "        39092,  # UNIBRITE\n",
    "        28654,  # NOAA 18\n",
    "        40903,  # XW-2A\n",
    "    ),\n",
    "}\n",
    "\n",
    "\n",
    "names = []\n",
    "busys = []\n",
    "for sch in options:\n",
    "    c = client.YesClient(gs)\n",
    "    clients={gs['name']:c}\n",
    "\n",
    "    if sch == schedulers.OwnerPreferenceScheduler:\n",
    "        s = sch(clients, satellites, priority=priority)\n",
    "    else:\n",
    "        s = sch(clients, satellites)\n",
    "\n",
    "    s(passes)\n",
    "    \n",
    "    plot_result(c, sch.__name__)\n",
    "\n",
    "    busys.append(c.busy_time())\n",
    "    names.append(sch.__name__)\n",
    "\n",
    "\n",
    "\n",
    "\n",
    "do_plot()\n"
   ]
  },
  {
   "cell_type": "code",
   "execution_count": 9,
   "metadata": {},
   "outputs": [],
   "source": []
  }
 ],
 "metadata": {
  "kernelspec": {
   "display_name": "Python 3 (ipykernel)",
   "language": "python",
   "name": "python3"
  },
  "language_info": {
   "codemirror_mode": {
    "name": "ipython",
    "version": 3
   },
   "file_extension": ".py",
   "mimetype": "text/x-python",
   "name": "python",
   "nbconvert_exporter": "python",
   "pygments_lexer": "ipython3",
   "version": "3.10.4"
  }
 },
 "nbformat": 4,
 "nbformat_minor": 2
}
